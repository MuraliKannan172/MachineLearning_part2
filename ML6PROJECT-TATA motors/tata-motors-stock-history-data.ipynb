{
 "cells": [
  {
   "cell_type": "code",
   "execution_count": 1,
   "metadata": {
    "_cell_guid": "b1076dfc-b9ad-4769-8c92-a6c4dae69d19",
    "_uuid": "8f2839f25d086af736a60e9eeb907d3b93b6e0e5",
    "execution": {
     "iopub.execute_input": "2023-09-03T11:09:26.076711Z",
     "iopub.status.busy": "2023-09-03T11:09:26.076180Z",
     "iopub.status.idle": "2023-09-03T11:09:26.087273Z",
     "shell.execute_reply": "2023-09-03T11:09:26.086249Z",
     "shell.execute_reply.started": "2023-09-03T11:09:26.076671Z"
    }
   },
   "outputs": [],
   "source": [
    "# This Python 3 environment comes with many helpful analytics libraries installed\n",
    "# It is defined by the kaggle/python Docker image: https://github.com/kaggle/docker-python\n",
    "# For example, here's several helpful packages to load\n",
    "\n",
    "import numpy as np # linear algebra\n",
    "import pandas as pd # data processing, CSV file I/O (e.g. pd.read_csv)\n",
    "\n",
    "# Input data files are available in the read-only \"../input/\" directory\n",
    "# For example, running this (by clicking run or pressing Shift+Enter) will list all files under the input directory\n",
    "\n",
    "import os\n",
    "for dirname, _, filenames in os.walk('/kaggle/input'):\n",
    "    for filename in filenames:\n",
    "        print(os.path.join(dirname, filename))\n",
    "\n",
    "# You can write up to 20GB to the current directory (/kaggle/working/) that gets preserved as output when you create a version using \"Save & Run All\" \n",
    "# You can also write temporary files to /kaggle/temp/, but they won't be saved outside of the current session"
   ]
  },
  {
   "cell_type": "code",
   "execution_count": 2,
   "metadata": {
    "execution": {
     "iopub.execute_input": "2023-09-03T11:09:26.092529Z",
     "iopub.status.busy": "2023-09-03T11:09:26.091638Z",
     "iopub.status.idle": "2023-09-03T11:09:26.139538Z",
     "shell.execute_reply": "2023-09-03T11:09:26.137704Z",
     "shell.execute_reply.started": "2023-09-03T11:09:26.092488Z"
    }
   },
   "outputs": [
    {
     "ename": "FileNotFoundError",
     "evalue": "[Errno 2] No such file or directory: '/kaggle/input/tata-motors-stock-history/Tata_Motors_Ltd._historical_data.csv'",
     "output_type": "error",
     "traceback": [
      "\u001b[1;31m---------------------------------------------------------------------------\u001b[0m",
      "\u001b[1;31mFileNotFoundError\u001b[0m                         Traceback (most recent call last)",
      "Cell \u001b[1;32mIn[2], line 1\u001b[0m\n\u001b[1;32m----> 1\u001b[0m tata\u001b[38;5;241m=\u001b[39m\u001b[43mpd\u001b[49m\u001b[38;5;241;43m.\u001b[39;49m\u001b[43mread_csv\u001b[49m\u001b[43m(\u001b[49m\u001b[38;5;124;43m\"\u001b[39;49m\u001b[38;5;124;43m/kaggle/input/tata-motors-stock-history/Tata_Motors_Ltd._historical_data.csv\u001b[39;49m\u001b[38;5;124;43m\"\u001b[39;49m\u001b[43m)\u001b[49m\n\u001b[0;32m      2\u001b[0m tata\n",
      "File \u001b[1;32m~\\.conda\\envs\\new_environment_name\\lib\\site-packages\\pandas\\io\\parsers\\readers.py:912\u001b[0m, in \u001b[0;36mread_csv\u001b[1;34m(filepath_or_buffer, sep, delimiter, header, names, index_col, usecols, dtype, engine, converters, true_values, false_values, skipinitialspace, skiprows, skipfooter, nrows, na_values, keep_default_na, na_filter, verbose, skip_blank_lines, parse_dates, infer_datetime_format, keep_date_col, date_parser, date_format, dayfirst, cache_dates, iterator, chunksize, compression, thousands, decimal, lineterminator, quotechar, quoting, doublequote, escapechar, comment, encoding, encoding_errors, dialect, on_bad_lines, delim_whitespace, low_memory, memory_map, float_precision, storage_options, dtype_backend)\u001b[0m\n\u001b[0;32m    899\u001b[0m kwds_defaults \u001b[38;5;241m=\u001b[39m _refine_defaults_read(\n\u001b[0;32m    900\u001b[0m     dialect,\n\u001b[0;32m    901\u001b[0m     delimiter,\n\u001b[1;32m   (...)\u001b[0m\n\u001b[0;32m    908\u001b[0m     dtype_backend\u001b[38;5;241m=\u001b[39mdtype_backend,\n\u001b[0;32m    909\u001b[0m )\n\u001b[0;32m    910\u001b[0m kwds\u001b[38;5;241m.\u001b[39mupdate(kwds_defaults)\n\u001b[1;32m--> 912\u001b[0m \u001b[38;5;28;01mreturn\u001b[39;00m \u001b[43m_read\u001b[49m\u001b[43m(\u001b[49m\u001b[43mfilepath_or_buffer\u001b[49m\u001b[43m,\u001b[49m\u001b[43m \u001b[49m\u001b[43mkwds\u001b[49m\u001b[43m)\u001b[49m\n",
      "File \u001b[1;32m~\\.conda\\envs\\new_environment_name\\lib\\site-packages\\pandas\\io\\parsers\\readers.py:577\u001b[0m, in \u001b[0;36m_read\u001b[1;34m(filepath_or_buffer, kwds)\u001b[0m\n\u001b[0;32m    574\u001b[0m _validate_names(kwds\u001b[38;5;241m.\u001b[39mget(\u001b[38;5;124m\"\u001b[39m\u001b[38;5;124mnames\u001b[39m\u001b[38;5;124m\"\u001b[39m, \u001b[38;5;28;01mNone\u001b[39;00m))\n\u001b[0;32m    576\u001b[0m \u001b[38;5;66;03m# Create the parser.\u001b[39;00m\n\u001b[1;32m--> 577\u001b[0m parser \u001b[38;5;241m=\u001b[39m TextFileReader(filepath_or_buffer, \u001b[38;5;241m*\u001b[39m\u001b[38;5;241m*\u001b[39mkwds)\n\u001b[0;32m    579\u001b[0m \u001b[38;5;28;01mif\u001b[39;00m chunksize \u001b[38;5;129;01mor\u001b[39;00m iterator:\n\u001b[0;32m    580\u001b[0m     \u001b[38;5;28;01mreturn\u001b[39;00m parser\n",
      "File \u001b[1;32m~\\.conda\\envs\\new_environment_name\\lib\\site-packages\\pandas\\io\\parsers\\readers.py:1407\u001b[0m, in \u001b[0;36mTextFileReader.__init__\u001b[1;34m(self, f, engine, **kwds)\u001b[0m\n\u001b[0;32m   1404\u001b[0m     \u001b[38;5;28mself\u001b[39m\u001b[38;5;241m.\u001b[39moptions[\u001b[38;5;124m\"\u001b[39m\u001b[38;5;124mhas_index_names\u001b[39m\u001b[38;5;124m\"\u001b[39m] \u001b[38;5;241m=\u001b[39m kwds[\u001b[38;5;124m\"\u001b[39m\u001b[38;5;124mhas_index_names\u001b[39m\u001b[38;5;124m\"\u001b[39m]\n\u001b[0;32m   1406\u001b[0m \u001b[38;5;28mself\u001b[39m\u001b[38;5;241m.\u001b[39mhandles: IOHandles \u001b[38;5;241m|\u001b[39m \u001b[38;5;28;01mNone\u001b[39;00m \u001b[38;5;241m=\u001b[39m \u001b[38;5;28;01mNone\u001b[39;00m\n\u001b[1;32m-> 1407\u001b[0m \u001b[38;5;28mself\u001b[39m\u001b[38;5;241m.\u001b[39m_engine \u001b[38;5;241m=\u001b[39m \u001b[38;5;28;43mself\u001b[39;49m\u001b[38;5;241;43m.\u001b[39;49m\u001b[43m_make_engine\u001b[49m\u001b[43m(\u001b[49m\u001b[43mf\u001b[49m\u001b[43m,\u001b[49m\u001b[43m \u001b[49m\u001b[38;5;28;43mself\u001b[39;49m\u001b[38;5;241;43m.\u001b[39;49m\u001b[43mengine\u001b[49m\u001b[43m)\u001b[49m\n",
      "File \u001b[1;32m~\\.conda\\envs\\new_environment_name\\lib\\site-packages\\pandas\\io\\parsers\\readers.py:1661\u001b[0m, in \u001b[0;36mTextFileReader._make_engine\u001b[1;34m(self, f, engine)\u001b[0m\n\u001b[0;32m   1659\u001b[0m     \u001b[38;5;28;01mif\u001b[39;00m \u001b[38;5;124m\"\u001b[39m\u001b[38;5;124mb\u001b[39m\u001b[38;5;124m\"\u001b[39m \u001b[38;5;129;01mnot\u001b[39;00m \u001b[38;5;129;01min\u001b[39;00m mode:\n\u001b[0;32m   1660\u001b[0m         mode \u001b[38;5;241m+\u001b[39m\u001b[38;5;241m=\u001b[39m \u001b[38;5;124m\"\u001b[39m\u001b[38;5;124mb\u001b[39m\u001b[38;5;124m\"\u001b[39m\n\u001b[1;32m-> 1661\u001b[0m \u001b[38;5;28mself\u001b[39m\u001b[38;5;241m.\u001b[39mhandles \u001b[38;5;241m=\u001b[39m \u001b[43mget_handle\u001b[49m\u001b[43m(\u001b[49m\n\u001b[0;32m   1662\u001b[0m \u001b[43m    \u001b[49m\u001b[43mf\u001b[49m\u001b[43m,\u001b[49m\n\u001b[0;32m   1663\u001b[0m \u001b[43m    \u001b[49m\u001b[43mmode\u001b[49m\u001b[43m,\u001b[49m\n\u001b[0;32m   1664\u001b[0m \u001b[43m    \u001b[49m\u001b[43mencoding\u001b[49m\u001b[38;5;241;43m=\u001b[39;49m\u001b[38;5;28;43mself\u001b[39;49m\u001b[38;5;241;43m.\u001b[39;49m\u001b[43moptions\u001b[49m\u001b[38;5;241;43m.\u001b[39;49m\u001b[43mget\u001b[49m\u001b[43m(\u001b[49m\u001b[38;5;124;43m\"\u001b[39;49m\u001b[38;5;124;43mencoding\u001b[39;49m\u001b[38;5;124;43m\"\u001b[39;49m\u001b[43m,\u001b[49m\u001b[43m \u001b[49m\u001b[38;5;28;43;01mNone\u001b[39;49;00m\u001b[43m)\u001b[49m\u001b[43m,\u001b[49m\n\u001b[0;32m   1665\u001b[0m \u001b[43m    \u001b[49m\u001b[43mcompression\u001b[49m\u001b[38;5;241;43m=\u001b[39;49m\u001b[38;5;28;43mself\u001b[39;49m\u001b[38;5;241;43m.\u001b[39;49m\u001b[43moptions\u001b[49m\u001b[38;5;241;43m.\u001b[39;49m\u001b[43mget\u001b[49m\u001b[43m(\u001b[49m\u001b[38;5;124;43m\"\u001b[39;49m\u001b[38;5;124;43mcompression\u001b[39;49m\u001b[38;5;124;43m\"\u001b[39;49m\u001b[43m,\u001b[49m\u001b[43m \u001b[49m\u001b[38;5;28;43;01mNone\u001b[39;49;00m\u001b[43m)\u001b[49m\u001b[43m,\u001b[49m\n\u001b[0;32m   1666\u001b[0m \u001b[43m    \u001b[49m\u001b[43mmemory_map\u001b[49m\u001b[38;5;241;43m=\u001b[39;49m\u001b[38;5;28;43mself\u001b[39;49m\u001b[38;5;241;43m.\u001b[39;49m\u001b[43moptions\u001b[49m\u001b[38;5;241;43m.\u001b[39;49m\u001b[43mget\u001b[49m\u001b[43m(\u001b[49m\u001b[38;5;124;43m\"\u001b[39;49m\u001b[38;5;124;43mmemory_map\u001b[39;49m\u001b[38;5;124;43m\"\u001b[39;49m\u001b[43m,\u001b[49m\u001b[43m \u001b[49m\u001b[38;5;28;43;01mFalse\u001b[39;49;00m\u001b[43m)\u001b[49m\u001b[43m,\u001b[49m\n\u001b[0;32m   1667\u001b[0m \u001b[43m    \u001b[49m\u001b[43mis_text\u001b[49m\u001b[38;5;241;43m=\u001b[39;49m\u001b[43mis_text\u001b[49m\u001b[43m,\u001b[49m\n\u001b[0;32m   1668\u001b[0m \u001b[43m    \u001b[49m\u001b[43merrors\u001b[49m\u001b[38;5;241;43m=\u001b[39;49m\u001b[38;5;28;43mself\u001b[39;49m\u001b[38;5;241;43m.\u001b[39;49m\u001b[43moptions\u001b[49m\u001b[38;5;241;43m.\u001b[39;49m\u001b[43mget\u001b[49m\u001b[43m(\u001b[49m\u001b[38;5;124;43m\"\u001b[39;49m\u001b[38;5;124;43mencoding_errors\u001b[39;49m\u001b[38;5;124;43m\"\u001b[39;49m\u001b[43m,\u001b[49m\u001b[43m \u001b[49m\u001b[38;5;124;43m\"\u001b[39;49m\u001b[38;5;124;43mstrict\u001b[39;49m\u001b[38;5;124;43m\"\u001b[39;49m\u001b[43m)\u001b[49m\u001b[43m,\u001b[49m\n\u001b[0;32m   1669\u001b[0m \u001b[43m    \u001b[49m\u001b[43mstorage_options\u001b[49m\u001b[38;5;241;43m=\u001b[39;49m\u001b[38;5;28;43mself\u001b[39;49m\u001b[38;5;241;43m.\u001b[39;49m\u001b[43moptions\u001b[49m\u001b[38;5;241;43m.\u001b[39;49m\u001b[43mget\u001b[49m\u001b[43m(\u001b[49m\u001b[38;5;124;43m\"\u001b[39;49m\u001b[38;5;124;43mstorage_options\u001b[39;49m\u001b[38;5;124;43m\"\u001b[39;49m\u001b[43m,\u001b[49m\u001b[43m \u001b[49m\u001b[38;5;28;43;01mNone\u001b[39;49;00m\u001b[43m)\u001b[49m\u001b[43m,\u001b[49m\n\u001b[0;32m   1670\u001b[0m \u001b[43m\u001b[49m\u001b[43m)\u001b[49m\n\u001b[0;32m   1671\u001b[0m \u001b[38;5;28;01massert\u001b[39;00m \u001b[38;5;28mself\u001b[39m\u001b[38;5;241m.\u001b[39mhandles \u001b[38;5;129;01mis\u001b[39;00m \u001b[38;5;129;01mnot\u001b[39;00m \u001b[38;5;28;01mNone\u001b[39;00m\n\u001b[0;32m   1672\u001b[0m f \u001b[38;5;241m=\u001b[39m \u001b[38;5;28mself\u001b[39m\u001b[38;5;241m.\u001b[39mhandles\u001b[38;5;241m.\u001b[39mhandle\n",
      "File \u001b[1;32m~\\.conda\\envs\\new_environment_name\\lib\\site-packages\\pandas\\io\\common.py:859\u001b[0m, in \u001b[0;36mget_handle\u001b[1;34m(path_or_buf, mode, encoding, compression, memory_map, is_text, errors, storage_options)\u001b[0m\n\u001b[0;32m    854\u001b[0m \u001b[38;5;28;01melif\u001b[39;00m \u001b[38;5;28misinstance\u001b[39m(handle, \u001b[38;5;28mstr\u001b[39m):\n\u001b[0;32m    855\u001b[0m     \u001b[38;5;66;03m# Check whether the filename is to be opened in binary mode.\u001b[39;00m\n\u001b[0;32m    856\u001b[0m     \u001b[38;5;66;03m# Binary mode does not support 'encoding' and 'newline'.\u001b[39;00m\n\u001b[0;32m    857\u001b[0m     \u001b[38;5;28;01mif\u001b[39;00m ioargs\u001b[38;5;241m.\u001b[39mencoding \u001b[38;5;129;01mand\u001b[39;00m \u001b[38;5;124m\"\u001b[39m\u001b[38;5;124mb\u001b[39m\u001b[38;5;124m\"\u001b[39m \u001b[38;5;129;01mnot\u001b[39;00m \u001b[38;5;129;01min\u001b[39;00m ioargs\u001b[38;5;241m.\u001b[39mmode:\n\u001b[0;32m    858\u001b[0m         \u001b[38;5;66;03m# Encoding\u001b[39;00m\n\u001b[1;32m--> 859\u001b[0m         handle \u001b[38;5;241m=\u001b[39m \u001b[38;5;28;43mopen\u001b[39;49m\u001b[43m(\u001b[49m\n\u001b[0;32m    860\u001b[0m \u001b[43m            \u001b[49m\u001b[43mhandle\u001b[49m\u001b[43m,\u001b[49m\n\u001b[0;32m    861\u001b[0m \u001b[43m            \u001b[49m\u001b[43mioargs\u001b[49m\u001b[38;5;241;43m.\u001b[39;49m\u001b[43mmode\u001b[49m\u001b[43m,\u001b[49m\n\u001b[0;32m    862\u001b[0m \u001b[43m            \u001b[49m\u001b[43mencoding\u001b[49m\u001b[38;5;241;43m=\u001b[39;49m\u001b[43mioargs\u001b[49m\u001b[38;5;241;43m.\u001b[39;49m\u001b[43mencoding\u001b[49m\u001b[43m,\u001b[49m\n\u001b[0;32m    863\u001b[0m \u001b[43m            \u001b[49m\u001b[43merrors\u001b[49m\u001b[38;5;241;43m=\u001b[39;49m\u001b[43merrors\u001b[49m\u001b[43m,\u001b[49m\n\u001b[0;32m    864\u001b[0m \u001b[43m            \u001b[49m\u001b[43mnewline\u001b[49m\u001b[38;5;241;43m=\u001b[39;49m\u001b[38;5;124;43m\"\u001b[39;49m\u001b[38;5;124;43m\"\u001b[39;49m\u001b[43m,\u001b[49m\n\u001b[0;32m    865\u001b[0m \u001b[43m        \u001b[49m\u001b[43m)\u001b[49m\n\u001b[0;32m    866\u001b[0m     \u001b[38;5;28;01melse\u001b[39;00m:\n\u001b[0;32m    867\u001b[0m         \u001b[38;5;66;03m# Binary mode\u001b[39;00m\n\u001b[0;32m    868\u001b[0m         handle \u001b[38;5;241m=\u001b[39m \u001b[38;5;28mopen\u001b[39m(handle, ioargs\u001b[38;5;241m.\u001b[39mmode)\n",
      "\u001b[1;31mFileNotFoundError\u001b[0m: [Errno 2] No such file or directory: '/kaggle/input/tata-motors-stock-history/Tata_Motors_Ltd._historical_data.csv'"
     ]
    }
   ],
   "source": [
    "tata=pd.read_csv(\"/kaggle/input/tata-motors-stock-history/Tata_Motors_Ltd._historical_data.csv\")\n",
    "tata"
   ]
  },
  {
   "cell_type": "code",
   "execution_count": null,
   "metadata": {
    "execution": {
     "iopub.execute_input": "2023-09-03T11:09:26.143118Z",
     "iopub.status.busy": "2023-09-03T11:09:26.142298Z",
     "iopub.status.idle": "2023-09-03T11:09:26.902496Z",
     "shell.execute_reply": "2023-09-03T11:09:26.901269Z",
     "shell.execute_reply.started": "2023-09-03T11:09:26.143072Z"
    }
   },
   "outputs": [],
   "source": [
    "# checking missing values\n",
    "import missingno as msno\n",
    "msno.matrix(tata)"
   ]
  },
  {
   "cell_type": "markdown",
   "metadata": {},
   "source": [
    "# **EDA**"
   ]
  },
  {
   "cell_type": "code",
   "execution_count": null,
   "metadata": {
    "execution": {
     "iopub.execute_input": "2023-09-03T11:09:26.904498Z",
     "iopub.status.busy": "2023-09-03T11:09:26.904135Z",
     "iopub.status.idle": "2023-09-03T11:09:26.915403Z",
     "shell.execute_reply": "2023-09-03T11:09:26.914013Z",
     "shell.execute_reply.started": "2023-09-03T11:09:26.904467Z"
    }
   },
   "outputs": [],
   "source": [
    "# Display the first few rows of the dataset\n",
    "print(tata.head())\n",
    "\n"
   ]
  },
  {
   "cell_type": "code",
   "execution_count": null,
   "metadata": {
    "execution": {
     "iopub.execute_input": "2023-09-03T11:09:26.919328Z",
     "iopub.status.busy": "2023-09-03T11:09:26.918946Z",
     "iopub.status.idle": "2023-09-03T11:09:26.938478Z",
     "shell.execute_reply": "2023-09-03T11:09:26.936871Z",
     "shell.execute_reply.started": "2023-09-03T11:09:26.919287Z"
    }
   },
   "outputs": [],
   "source": [
    "# Basic dataset information\n",
    "print(tata.info())\n",
    "\n"
   ]
  },
  {
   "cell_type": "code",
   "execution_count": null,
   "metadata": {
    "execution": {
     "iopub.execute_input": "2023-09-03T11:09:26.941916Z",
     "iopub.status.busy": "2023-09-03T11:09:26.940075Z",
     "iopub.status.idle": "2023-09-03T11:09:26.971711Z",
     "shell.execute_reply": "2023-09-03T11:09:26.970562Z",
     "shell.execute_reply.started": "2023-09-03T11:09:26.941882Z"
    }
   },
   "outputs": [],
   "source": [
    "# Summary statistics for numerical columns\n",
    "print(tata.describe())\n"
   ]
  },
  {
   "cell_type": "markdown",
   "metadata": {},
   "source": [
    "# **Plot the time series of 'Close' prices**"
   ]
  },
  {
   "cell_type": "code",
   "execution_count": null,
   "metadata": {
    "execution": {
     "iopub.execute_input": "2023-09-03T11:09:26.973379Z",
     "iopub.status.busy": "2023-09-03T11:09:26.973013Z",
     "iopub.status.idle": "2023-09-03T11:10:28.652335Z",
     "shell.execute_reply": "2023-09-03T11:10:28.651203Z",
     "shell.execute_reply.started": "2023-09-03T11:09:26.973348Z"
    }
   },
   "outputs": [],
   "source": [
    "import matplotlib.pyplot as plt\n",
    "\n",
    "# Plot the time series of 'Close' prices\n",
    "plt.figure(figsize=(12, 6))\n",
    "plt.plot(tata['Date'], tata['Close'], label='Close Price', color='b')\n",
    "plt.title('TATA Motors Close Price Over Time')\n",
    "plt.xlabel('Date')\n",
    "plt.ylabel('Close Price')\n",
    "plt.legend()\n",
    "plt.grid(True)\n",
    "plt.show()\n",
    "\n"
   ]
  },
  {
   "cell_type": "markdown",
   "metadata": {},
   "source": [
    "# **Rolling mean and standard deviation of 'Close' prices**"
   ]
  },
  {
   "cell_type": "code",
   "execution_count": null,
   "metadata": {
    "execution": {
     "iopub.execute_input": "2023-09-03T11:10:28.653979Z",
     "iopub.status.busy": "2023-09-03T11:10:28.653588Z",
     "iopub.status.idle": "2023-09-03T11:11:30.028630Z",
     "shell.execute_reply": "2023-09-03T11:11:30.027482Z",
     "shell.execute_reply.started": "2023-09-03T11:10:28.653945Z"
    }
   },
   "outputs": [],
   "source": [
    "# Calculate and visualize rolling mean and standard deviation of 'Close' prices\n",
    "rolling_window = 50  # Adjust the window size as needed\n",
    "tata['RollingMean'] = tata['Close'].rolling(window=rolling_window).mean()\n",
    "tata['RollingStd'] = tata['Close'].rolling(window=rolling_window).std()\n",
    "\n",
    "plt.figure(figsize=(12, 6))\n",
    "plt.plot(tata['Date'], tata['Close'], label='Close Price', color='b', alpha=0.7)\n",
    "plt.plot(tata['Date'], tata['RollingMean'], label=f'{rolling_window}-Day Rolling Mean', color='r')\n",
    "plt.plot(tata['Date'], tata['RollingStd'], label=f'{rolling_window}-Day Rolling Std Dev', color='g')\n",
    "plt.title(f'TATA Motors Close Price with {rolling_window}-Day Rolling Statistics')\n",
    "plt.xlabel('Date')\n",
    "plt.ylabel('Close Price / Rolling Statistics')\n",
    "plt.legend()\n",
    "plt.grid(True)\n",
    "plt.show()"
   ]
  },
  {
   "cell_type": "markdown",
   "metadata": {},
   "source": [
    "# **Monthly Mean closing Price Time series**"
   ]
  },
  {
   "cell_type": "code",
   "execution_count": null,
   "metadata": {
    "execution": {
     "iopub.execute_input": "2023-09-03T11:11:30.030630Z",
     "iopub.status.busy": "2023-09-03T11:11:30.030198Z",
     "iopub.status.idle": "2023-09-03T11:11:30.506916Z",
     "shell.execute_reply": "2023-09-03T11:11:30.505852Z",
     "shell.execute_reply.started": "2023-09-03T11:11:30.030593Z"
    }
   },
   "outputs": [],
   "source": [
    "# Convert the 'Date' column to a datetime object\n",
    "tata['Date'] = pd.to_datetime(tata['Date'])\n",
    "\n",
    "# Set 'Date' as the index\n",
    "tata.set_index('Date', inplace=True)\n",
    "\n",
    "# Resample data on a monthly basis and calculate the mean closing price\n",
    "monthly_mean_close = tata['Close'].resample('M').mean()\n",
    "\n",
    "# Plotting the monthly mean closing price\n",
    "plt.figure(figsize=(12, 6))\n",
    "plt.plot(monthly_mean_close.index, monthly_mean_close.values, label='Monthly Mean Closing Price', color='green')\n",
    "plt.title('Monthly Mean Closing Price of Tata Motors Ltd.')\n",
    "plt.xlabel('Date')\n",
    "plt.ylabel('Price (INR)')\n",
    "plt.xticks(rotation=45)\n",
    "plt.legend()\n",
    "plt.show()\n"
   ]
  },
  {
   "cell_type": "markdown",
   "metadata": {},
   "source": [
    "# **Moving Averages**"
   ]
  },
  {
   "cell_type": "code",
   "execution_count": null,
   "metadata": {
    "execution": {
     "iopub.execute_input": "2023-09-03T11:11:30.508505Z",
     "iopub.status.busy": "2023-09-03T11:11:30.508192Z",
     "iopub.status.idle": "2023-09-03T11:11:31.014909Z",
     "shell.execute_reply": "2023-09-03T11:11:31.013915Z",
     "shell.execute_reply.started": "2023-09-03T11:11:30.508478Z"
    }
   },
   "outputs": [],
   "source": [
    "# Calculate the 30-day and 60-day moving averages\n",
    "tata['30_Day_MA'] = tata['Close'].rolling(window=30).mean()\n",
    "tata['60_Day_MA'] = tata['Close'].rolling(window=60).mean()\n",
    "\n",
    "# Plotting the moving averages\n",
    "plt.figure(figsize=(12, 6))\n",
    "plt.plot(tata.index, tata['Close'], label='Tata Motors Ltd. Close Price', color='blue')\n",
    "plt.plot(tata.index, tata['30_Day_MA'], label='30-Day Avg', color='orange')\n",
    "plt.plot(tata.index, tata['60_Day_MA'], label='60-Day Avg', color='green')\n",
    "plt.title('Tata Motors Ltd. Closing Price and Moving Averages')\n",
    "plt.xlabel('Date')\n",
    "plt.ylabel('Price (INR)')\n",
    "plt.xticks(rotation=45)\n",
    "plt.legend()\n",
    "plt.show()\n"
   ]
  },
  {
   "cell_type": "markdown",
   "metadata": {},
   "source": [
    "# **Returns Calculation**"
   ]
  },
  {
   "cell_type": "code",
   "execution_count": null,
   "metadata": {
    "execution": {
     "iopub.execute_input": "2023-09-03T11:11:31.019018Z",
     "iopub.status.busy": "2023-09-03T11:11:31.018153Z",
     "iopub.status.idle": "2023-09-03T11:11:31.484240Z",
     "shell.execute_reply": "2023-09-03T11:11:31.483067Z",
     "shell.execute_reply.started": "2023-09-03T11:11:31.018985Z"
    }
   },
   "outputs": [],
   "source": [
    "# Calculate daily returns\n",
    "tata['Daily_Return'] = tata['Close'].pct_change()\n",
    "\n",
    "# Plotting the daily returns\n",
    "plt.figure(figsize=(12, 6))\n",
    "plt.plot(tata.index, tata['Daily_Return'], label='Daily Returns', color='purple')\n",
    "plt.title('Tata Motors Ltd. Daily Returns')\n",
    "plt.xlabel('Date')\n",
    "plt.ylabel('Return')\n",
    "plt.xticks(rotation=45)\n",
    "plt.legend()\n",
    "plt.show()\n"
   ]
  },
  {
   "cell_type": "markdown",
   "metadata": {},
   "source": [
    "# **Volatility Analysis**"
   ]
  },
  {
   "cell_type": "code",
   "execution_count": null,
   "metadata": {
    "execution": {
     "iopub.execute_input": "2023-09-03T11:11:31.486354Z",
     "iopub.status.busy": "2023-09-03T11:11:31.485891Z",
     "iopub.status.idle": "2023-09-03T11:11:31.973104Z",
     "shell.execute_reply": "2023-09-03T11:11:31.971954Z",
     "shell.execute_reply.started": "2023-09-03T11:11:31.486313Z"
    }
   },
   "outputs": [],
   "source": [
    "# Calculate rolling standard deviation for volatility\n",
    "tata['Volatility'] = tata['Daily_Return'].rolling(window=30).std()\n",
    "\n",
    "# Plotting the volatility\n",
    "plt.figure(figsize=(12, 6))\n",
    "plt.plot(tata.index, tata['Volatility'], label='Volatility', color='red')\n",
    "plt.title('Tata Motors Ltd. Volatility Analysis')\n",
    "plt.xlabel('Date')\n",
    "plt.ylabel('Volatility')\n",
    "plt.xticks(rotation=45)\n",
    "plt.legend()\n",
    "plt.show()\n"
   ]
  },
  {
   "cell_type": "code",
   "execution_count": null,
   "metadata": {
    "execution": {
     "iopub.execute_input": "2023-09-03T11:11:31.974645Z",
     "iopub.status.busy": "2023-09-03T11:11:31.974323Z",
     "iopub.status.idle": "2023-09-03T11:11:46.281083Z",
     "shell.execute_reply": "2023-09-03T11:11:46.279550Z",
     "shell.execute_reply.started": "2023-09-03T11:11:31.974617Z"
    }
   },
   "outputs": [],
   "source": [
    "pip install yfinance"
   ]
  },
  {
   "cell_type": "markdown",
   "metadata": {},
   "source": [
    "# **Correlation with Other Stocks**"
   ]
  },
  {
   "cell_type": "code",
   "execution_count": null,
   "metadata": {
    "execution": {
     "iopub.execute_input": "2023-09-03T11:11:46.284356Z",
     "iopub.status.busy": "2023-09-03T11:11:46.283920Z",
     "iopub.status.idle": "2023-09-03T11:11:46.483128Z",
     "shell.execute_reply": "2023-09-03T11:11:46.481869Z",
     "shell.execute_reply.started": "2023-09-03T11:11:46.284321Z"
    }
   },
   "outputs": [],
   "source": [
    "import yfinance as yf\n",
    "\n",
    "# Example: Correlation with Nifty 50\n",
    "nifty = yf.download('^NSEI', start='2000-01-01', end='2023-09-02')  # Download Nifty 50 data\n",
    "nifty['TATA_MOTORS'] = tata['Close']  # Add Tata Motors data\n",
    "correlation = tata['Close'].corr(nifty['Close'])  # Calculate correlation\n",
    "\n",
    "print(f\"Correlation between Tata Motors and Nifty 50: {correlation:.2f}\")\n"
   ]
  },
  {
   "cell_type": "code",
   "execution_count": null,
   "metadata": {
    "execution": {
     "iopub.execute_input": "2023-09-03T11:11:46.485201Z",
     "iopub.status.busy": "2023-09-03T11:11:46.484823Z",
     "iopub.status.idle": "2023-09-03T11:11:46.510578Z",
     "shell.execute_reply": "2023-09-03T11:11:46.509451Z",
     "shell.execute_reply.started": "2023-09-03T11:11:46.485169Z"
    }
   },
   "outputs": [],
   "source": [
    "tata.head()"
   ]
  },
  {
   "cell_type": "markdown",
   "metadata": {},
   "source": [
    "# **Implement a use case with machine learning models from scikit-learn (sklearn) for predicting the opening and closing prices of Tata Motors stock for the next 10 days and calculate the difference in price.**"
   ]
  },
  {
   "cell_type": "code",
   "execution_count": null,
   "metadata": {
    "execution": {
     "iopub.execute_input": "2023-09-03T11:11:46.512726Z",
     "iopub.status.busy": "2023-09-03T11:11:46.512315Z",
     "iopub.status.idle": "2023-09-03T11:11:47.371291Z",
     "shell.execute_reply": "2023-09-03T11:11:47.370449Z",
     "shell.execute_reply.started": "2023-09-03T11:11:46.512692Z"
    }
   },
   "outputs": [],
   "source": [
    "import pandas as pd\n",
    "import numpy as np\n",
    "from sklearn.model_selection import train_test_split\n",
    "from sklearn.linear_model import LinearRegression\n",
    "from sklearn.tree import DecisionTreeRegressor\n",
    "from sklearn.ensemble import RandomForestRegressor\n",
    "import matplotlib.pyplot as plt\n",
    "\n",
    "tata=pd.read_csv(\"/kaggle/input/tata-motors-stock-history/Tata_Motors_Ltd._historical_data.csv\")\n",
    "\n",
    "tata['Date'] = pd.to_datetime(tata['Date'])\n",
    "tata.set_index('Date', inplace=True)\n",
    "\n",
    "# Prepare the features and target variables\n",
    "X = np.arange(len(tata)).reshape(-1, 1)  # Use the index as a feature\n",
    "y_open = tata['Open']\n",
    "y_close = tata['Close']\n",
    "\n",
    "# Split the data into training and testing sets\n",
    "X_train, X_test, y_open_train, y_open_test, y_close_train, y_close_test = train_test_split(\n",
    "    X, y_open, y_close, test_size=0.2, shuffle=False\n",
    ")\n",
    "\n",
    "# Train regression models\n",
    "lr_open = LinearRegression()\n",
    "lr_open.fit(X_train, y_open_train)\n",
    "\n",
    "lr_close = LinearRegression()\n",
    "lr_close.fit(X_train, y_close_train)\n",
    "\n",
    "# Make predictions for the next 10 days\n",
    "next_10_days = np.arange(len(tata), len(tata) + 10).reshape(-1, 1)\n",
    "predicted_open = lr_open.predict(next_10_days)\n",
    "predicted_close = lr_close.predict(next_10_days)\n",
    "\n",
    "# Calculate price differences\n",
    "price_diff_open = predicted_open[-1] - tata['Open'].iloc[-1]\n",
    "price_diff_close = predicted_close[-1] - tata['Close'].iloc[-1]\n",
    "\n",
    "# Suggest whether buying is sensible\n",
    "suggestion_open = \"Buy\" if price_diff_open > 0 else \"Sell\"\n",
    "suggestion_close = \"Buy\" if price_diff_close > 0 else \"Sell\"\n",
    "\n",
    "# Plot the predictions\n",
    "plt.figure(figsize=(12, 6))\n",
    "plt.subplot(1, 2, 1)\n",
    "plt.plot(X, y_open, label=\"Actual Opening Price\")\n",
    "plt.plot(next_10_days, predicted_open, label=\"Predicted Opening Price\")\n",
    "plt.title(\"Opening Price Prediction\")\n",
    "plt.xlabel(\"Days\")\n",
    "plt.ylabel(\"Price\")\n",
    "plt.legend()\n",
    "\n",
    "plt.subplot(1, 2, 2)\n",
    "plt.plot(X, y_close, label=\"Actual Closing Price\")\n",
    "plt.plot(next_10_days, predicted_close, label=\"Predicted Closing Price\")\n",
    "plt.title(\"Closing Price Prediction\")\n",
    "plt.xlabel(\"Days\")\n",
    "plt.ylabel(\"Price\")\n",
    "plt.legend()\n",
    "\n",
    "plt.tight_layout()\n",
    "plt.show()\n",
    "\n",
    "print(f\"Predicted opening price change for the next 10 days: {price_diff_open:.2f} INR ({suggestion_open})\")\n",
    "print(f\"Predicted closing price change for the next 10 days: {price_diff_close:.2f} INR ({suggestion_close})\")\n"
   ]
  },
  {
   "cell_type": "markdown",
   "metadata": {},
   "source": [
    "# **Regression models from scikit-learn (sklearn) for predicting the opening and closing prices of Tata Motors stock and calculate the difference in prices for the next 10 days.**"
   ]
  },
  {
   "cell_type": "code",
   "execution_count": null,
   "metadata": {
    "execution": {
     "iopub.execute_input": "2023-09-03T11:11:47.373294Z",
     "iopub.status.busy": "2023-09-03T11:11:47.372779Z",
     "iopub.status.idle": "2023-09-03T11:11:58.319259Z",
     "shell.execute_reply": "2023-09-03T11:11:58.318333Z",
     "shell.execute_reply.started": "2023-09-03T11:11:47.373264Z"
    }
   },
   "outputs": [],
   "source": [
    "import pandas as pd\n",
    "import numpy as np\n",
    "from sklearn.model_selection import train_test_split\n",
    "from sklearn.linear_model import LinearRegression\n",
    "from sklearn.tree import DecisionTreeRegressor\n",
    "from sklearn.ensemble import RandomForestRegressor, GradientBoostingRegressor\n",
    "from sklearn.svm import SVR\n",
    "import matplotlib.pyplot as plt\n",
    "\n",
    "# Load the dataset\n",
    "tata=pd.read_csv(\"/kaggle/input/tata-motors-stock-history/Tata_Motors_Ltd._historical_data.csv\")\n",
    "tata['Date'] = pd.to_datetime(tata['Date'])\n",
    "tata.set_index('Date', inplace=True)\n",
    "\n",
    "# Prepare the features and target variables\n",
    "X = np.arange(len(tata)).reshape(-1, 1)  # Use the index as a feature\n",
    "y_open = tata['Open']\n",
    "y_close = tata['Close']\n",
    "\n",
    "# Split the data into training and testing sets\n",
    "X_train, X_test, y_open_train, y_open_test, y_close_train, y_close_test = train_test_split(\n",
    "    X, y_open, y_close, test_size=0.2, shuffle=False\n",
    ")\n",
    "\n",
    "# Initialize regression models\n",
    "models = {\n",
    "    \"Linear Regression\": LinearRegression(),\n",
    "    \"Decision Tree Regression\": DecisionTreeRegressor(),\n",
    "    \"Random Forest Regression\": RandomForestRegressor(),\n",
    "    \"Support Vector Regression\": SVR(),\n",
    "    \"Gradient Boosting Regression\": GradientBoostingRegressor(),\n",
    "}\n",
    "\n",
    "predictions_open = {}\n",
    "predictions_close = {}\n",
    "\n",
    "# Train and predict for each model\n",
    "for model_name, model in models.items():\n",
    "    # Fit the model for opening prices\n",
    "    model.fit(X_train, y_open_train)\n",
    "    predicted_open = model.predict(X_test)\n",
    "    predictions_open[model_name] = predicted_open\n",
    "\n",
    "    # Fit the model for closing prices\n",
    "    model.fit(X_train, y_close_train)\n",
    "    predicted_close = model.predict(X_test)\n",
    "    predictions_close[model_name] = predicted_close\n",
    "\n",
    "# Predict for the next 10 days\n",
    "next_10_days = np.arange(len(tata), len(tata) + 10).reshape(-1, 1)\n",
    "\n",
    "predicted_open_10_days = {}\n",
    "predicted_close_10_days = {}\n",
    "\n",
    "for model_name, model in models.items():\n",
    "    # Predict opening prices for the next 10 days\n",
    "    model.fit(X, y_open)\n",
    "    predicted_open_10 = model.predict(next_10_days)\n",
    "    predicted_open_10_days[model_name] = predicted_open_10\n",
    "\n",
    "    # Predict closing prices for the next 10 days\n",
    "    model.fit(X, y_close)\n",
    "    predicted_close_10 = model.predict(next_10_days)\n",
    "    predicted_close_10_days[model_name] = predicted_close_10\n",
    "\n",
    "# Calculate price differences for the last day of testing\n",
    "actual_open_last_day = y_open_test.iloc[-1]\n",
    "actual_close_last_day = y_close_test.iloc[-1]\n",
    "\n",
    "price_diff_open = {model_name: predicted_open_10_days[model_name][-1] - actual_open_last_day for model_name in models}\n",
    "price_diff_close = {model_name: predicted_close_10_days[model_name][-1] - actual_close_last_day for model_name in models}\n",
    "\n",
    "# Suggest whether buying is sensible based on the predicted price changes\n",
    "suggestions_open = {model_name: \"Buy\" if price_diff > 0 else \"Sell\" for model_name, price_diff in price_diff_open.items()}\n",
    "suggestions_close = {model_name: \"Buy\" if price_diff > 0 else \"Sell\" for model_name, price_diff in price_diff_close.items()}\n",
    "\n",
    "# Print the price differences and suggestions\n",
    "print(\"Predicted opening price changes for the next 10 days:\")\n",
    "for model_name, price_diff in price_diff_open.items():\n",
    "    print(f\"{model_name}: {price_diff:.2f} INR ({suggestions_open[model_name]})\")\n",
    "\n",
    "print(\"\\nPredicted closing price changes for the next 10 days:\")\n",
    "for model_name, price_diff in price_diff_close.items():\n",
    "    print(f\"{model_name}: {price_diff:.2f} INR ({suggestions_close[model_name]})\")\n",
    "\n",
    "# Plot the predictions for opening and closing prices\n",
    "plt.figure(figsize=(12, 6))\n",
    "plt.subplot(1, 2, 1)\n",
    "plt.plot(X_test, y_open_test, label=\"Actual Opening Price\", color='blue')\n",
    "for model_name, predicted_open in predictions_open.items():\n",
    "    plt.plot(X_test, predicted_open, label=f\"Predicted Open ({model_name})\")\n",
    "plt.title(\"Opening Price Predictions\")\n",
    "plt.xlabel(\"Days\")\n",
    "plt.ylabel(\"Price\")\n",
    "plt.legend()\n",
    "\n",
    "plt.subplot(1, 2, 2)\n",
    "plt.plot(X_test, y_close_test, label=\"Actual Closing Price\", color='blue')\n",
    "for model_name, predicted_close in predictions_close.items():\n",
    "    plt.plot(X_test, predicted_close, label=f\"Predicted Close ({model_name})\")\n",
    "plt.title(\"Closing Price Predictions\")\n",
    "plt.xlabel(\"Days\")\n",
    "plt.ylabel(\"Price\")\n",
    "plt.legend()\n",
    "\n",
    "plt.tight_layout()\n",
    "plt.show()\n"
   ]
  }
 ],
 "metadata": {
  "kernelspec": {
   "display_name": "cv2",
   "language": "python",
   "name": "cv"
  },
  "language_info": {
   "codemirror_mode": {
    "name": "ipython",
    "version": 3
   },
   "file_extension": ".py",
   "mimetype": "text/x-python",
   "name": "python",
   "nbconvert_exporter": "python",
   "pygments_lexer": "ipython3",
   "version": "3.10.13"
  }
 },
 "nbformat": 4,
 "nbformat_minor": 4
}
