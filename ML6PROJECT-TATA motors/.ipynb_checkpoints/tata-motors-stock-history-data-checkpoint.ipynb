{
 "cells": [
  {
   "cell_type": "code",
   "execution_count": null,
   "metadata": {
    "_cell_guid": "b1076dfc-b9ad-4769-8c92-a6c4dae69d19",
    "_uuid": "8f2839f25d086af736a60e9eeb907d3b93b6e0e5",
    "execution": {
     "iopub.execute_input": "2023-09-03T11:09:26.076711Z",
     "iopub.status.busy": "2023-09-03T11:09:26.076180Z",
     "iopub.status.idle": "2023-09-03T11:09:26.087273Z",
     "shell.execute_reply": "2023-09-03T11:09:26.086249Z",
     "shell.execute_reply.started": "2023-09-03T11:09:26.076671Z"
    }
   },
   "outputs": [],
   "source": [
    "# This Python 3 environment comes with many helpful analytics libraries installed\n",
    "# It is defined by the kaggle/python Docker image: https://github.com/kaggle/docker-python\n",
    "# For example, here's several helpful packages to load\n",
    "\n",
    "import numpy as np # linear algebra\n",
    "import pandas as pd # data processing, CSV file I/O (e.g. pd.read_csv)\n",
    "\n",
    "# Input data files are available in the read-only \"../input/\" directory\n",
    "# For example, running this (by clicking run or pressing Shift+Enter) will list all files under the input directory\n",
    "\n",
    "import os\n",
    "for dirname, _, filenames in os.walk('/kaggle/input'):\n",
    "    for filename in filenames:\n",
    "        print(os.path.join(dirname, filename))\n",
    "\n",
    "# You can write up to 20GB to the current directory (/kaggle/working/) that gets preserved as output when you create a version using \"Save & Run All\" \n",
    "# You can also write temporary files to /kaggle/temp/, but they won't be saved outside of the current session"
   ]
  },
  {
   "cell_type": "code",
   "execution_count": null,
   "metadata": {
    "execution": {
     "iopub.execute_input": "2023-09-03T11:09:26.092529Z",
     "iopub.status.busy": "2023-09-03T11:09:26.091638Z",
     "iopub.status.idle": "2023-09-03T11:09:26.139538Z",
     "shell.execute_reply": "2023-09-03T11:09:26.137704Z",
     "shell.execute_reply.started": "2023-09-03T11:09:26.092488Z"
    }
   },
   "outputs": [],
   "source": [
    "tata=pd.read_csv(\"/kaggle/input/tata-motors-stock-history/Tata_Motors_Ltd._historical_data.csv\")\n",
    "tata"
   ]
  },
  {
   "cell_type": "code",
   "execution_count": null,
   "metadata": {
    "execution": {
     "iopub.execute_input": "2023-09-03T11:09:26.143118Z",
     "iopub.status.busy": "2023-09-03T11:09:26.142298Z",
     "iopub.status.idle": "2023-09-03T11:09:26.902496Z",
     "shell.execute_reply": "2023-09-03T11:09:26.901269Z",
     "shell.execute_reply.started": "2023-09-03T11:09:26.143072Z"
    }
   },
   "outputs": [],
   "source": [
    "# checking missing values\n",
    "import missingno as msno\n",
    "msno.matrix(tata)"
   ]
  },
  {
   "cell_type": "markdown",
   "metadata": {},
   "source": [
    "# **EDA**"
   ]
  },
  {
   "cell_type": "code",
   "execution_count": null,
   "metadata": {
    "execution": {
     "iopub.execute_input": "2023-09-03T11:09:26.904498Z",
     "iopub.status.busy": "2023-09-03T11:09:26.904135Z",
     "iopub.status.idle": "2023-09-03T11:09:26.915403Z",
     "shell.execute_reply": "2023-09-03T11:09:26.914013Z",
     "shell.execute_reply.started": "2023-09-03T11:09:26.904467Z"
    }
   },
   "outputs": [],
   "source": [
    "# Display the first few rows of the dataset\n",
    "print(tata.head())\n",
    "\n"
   ]
  },
  {
   "cell_type": "code",
   "execution_count": null,
   "metadata": {
    "execution": {
     "iopub.execute_input": "2023-09-03T11:09:26.919328Z",
     "iopub.status.busy": "2023-09-03T11:09:26.918946Z",
     "iopub.status.idle": "2023-09-03T11:09:26.938478Z",
     "shell.execute_reply": "2023-09-03T11:09:26.936871Z",
     "shell.execute_reply.started": "2023-09-03T11:09:26.919287Z"
    }
   },
   "outputs": [],
   "source": [
    "# Basic dataset information\n",
    "print(tata.info())\n",
    "\n"
   ]
  },
  {
   "cell_type": "code",
   "execution_count": null,
   "metadata": {
    "execution": {
     "iopub.execute_input": "2023-09-03T11:09:26.941916Z",
     "iopub.status.busy": "2023-09-03T11:09:26.940075Z",
     "iopub.status.idle": "2023-09-03T11:09:26.971711Z",
     "shell.execute_reply": "2023-09-03T11:09:26.970562Z",
     "shell.execute_reply.started": "2023-09-03T11:09:26.941882Z"
    }
   },
   "outputs": [],
   "source": [
    "# Summary statistics for numerical columns\n",
    "print(tata.describe())\n"
   ]
  },
  {
   "cell_type": "markdown",
   "metadata": {},
   "source": [
    "# **Plot the time series of 'Close' prices**"
   ]
  },
  {
   "cell_type": "code",
   "execution_count": null,
   "metadata": {
    "execution": {
     "iopub.execute_input": "2023-09-03T11:09:26.973379Z",
     "iopub.status.busy": "2023-09-03T11:09:26.973013Z",
     "iopub.status.idle": "2023-09-03T11:10:28.652335Z",
     "shell.execute_reply": "2023-09-03T11:10:28.651203Z",
     "shell.execute_reply.started": "2023-09-03T11:09:26.973348Z"
    }
   },
   "outputs": [],
   "source": [
    "import matplotlib.pyplot as plt\n",
    "\n",
    "# Plot the time series of 'Close' prices\n",
    "plt.figure(figsize=(12, 6))\n",
    "plt.plot(tata['Date'], tata['Close'], label='Close Price', color='b')\n",
    "plt.title('TATA Motors Close Price Over Time')\n",
    "plt.xlabel('Date')\n",
    "plt.ylabel('Close Price')\n",
    "plt.legend()\n",
    "plt.grid(True)\n",
    "plt.show()\n",
    "\n"
   ]
  },
  {
   "cell_type": "markdown",
   "metadata": {},
   "source": [
    "# **Rolling mean and standard deviation of 'Close' prices**"
   ]
  },
  {
   "cell_type": "code",
   "execution_count": null,
   "metadata": {
    "execution": {
     "iopub.execute_input": "2023-09-03T11:10:28.653979Z",
     "iopub.status.busy": "2023-09-03T11:10:28.653588Z",
     "iopub.status.idle": "2023-09-03T11:11:30.028630Z",
     "shell.execute_reply": "2023-09-03T11:11:30.027482Z",
     "shell.execute_reply.started": "2023-09-03T11:10:28.653945Z"
    }
   },
   "outputs": [],
   "source": [
    "# Calculate and visualize rolling mean and standard deviation of 'Close' prices\n",
    "rolling_window = 50  # Adjust the window size as needed\n",
    "tata['RollingMean'] = tata['Close'].rolling(window=rolling_window).mean()\n",
    "tata['RollingStd'] = tata['Close'].rolling(window=rolling_window).std()\n",
    "\n",
    "plt.figure(figsize=(12, 6))\n",
    "plt.plot(tata['Date'], tata['Close'], label='Close Price', color='b', alpha=0.7)\n",
    "plt.plot(tata['Date'], tata['RollingMean'], label=f'{rolling_window}-Day Rolling Mean', color='r')\n",
    "plt.plot(tata['Date'], tata['RollingStd'], label=f'{rolling_window}-Day Rolling Std Dev', color='g')\n",
    "plt.title(f'TATA Motors Close Price with {rolling_window}-Day Rolling Statistics')\n",
    "plt.xlabel('Date')\n",
    "plt.ylabel('Close Price / Rolling Statistics')\n",
    "plt.legend()\n",
    "plt.grid(True)\n",
    "plt.show()"
   ]
  },
  {
   "cell_type": "markdown",
   "metadata": {},
   "source": [
    "# **Monthly Mean closing Price Time series**"
   ]
  },
  {
   "cell_type": "code",
   "execution_count": null,
   "metadata": {
    "execution": {
     "iopub.execute_input": "2023-09-03T11:11:30.030630Z",
     "iopub.status.busy": "2023-09-03T11:11:30.030198Z",
     "iopub.status.idle": "2023-09-03T11:11:30.506916Z",
     "shell.execute_reply": "2023-09-03T11:11:30.505852Z",
     "shell.execute_reply.started": "2023-09-03T11:11:30.030593Z"
    }
   },
   "outputs": [],
   "source": [
    "# Convert the 'Date' column to a datetime object\n",
    "tata['Date'] = pd.to_datetime(tata['Date'])\n",
    "\n",
    "# Set 'Date' as the index\n",
    "tata.set_index('Date', inplace=True)\n",
    "\n",
    "# Resample data on a monthly basis and calculate the mean closing price\n",
    "monthly_mean_close = tata['Close'].resample('M').mean()\n",
    "\n",
    "# Plotting the monthly mean closing price\n",
    "plt.figure(figsize=(12, 6))\n",
    "plt.plot(monthly_mean_close.index, monthly_mean_close.values, label='Monthly Mean Closing Price', color='green')\n",
    "plt.title('Monthly Mean Closing Price of Tata Motors Ltd.')\n",
    "plt.xlabel('Date')\n",
    "plt.ylabel('Price (INR)')\n",
    "plt.xticks(rotation=45)\n",
    "plt.legend()\n",
    "plt.show()\n"
   ]
  },
  {
   "cell_type": "markdown",
   "metadata": {},
   "source": [
    "# **Moving Averages**"
   ]
  },
  {
   "cell_type": "code",
   "execution_count": null,
   "metadata": {
    "execution": {
     "iopub.execute_input": "2023-09-03T11:11:30.508505Z",
     "iopub.status.busy": "2023-09-03T11:11:30.508192Z",
     "iopub.status.idle": "2023-09-03T11:11:31.014909Z",
     "shell.execute_reply": "2023-09-03T11:11:31.013915Z",
     "shell.execute_reply.started": "2023-09-03T11:11:30.508478Z"
    }
   },
   "outputs": [],
   "source": [
    "# Calculate the 30-day and 60-day moving averages\n",
    "tata['30_Day_MA'] = tata['Close'].rolling(window=30).mean()\n",
    "tata['60_Day_MA'] = tata['Close'].rolling(window=60).mean()\n",
    "\n",
    "# Plotting the moving averages\n",
    "plt.figure(figsize=(12, 6))\n",
    "plt.plot(tata.index, tata['Close'], label='Tata Motors Ltd. Close Price', color='blue')\n",
    "plt.plot(tata.index, tata['30_Day_MA'], label='30-Day Avg', color='orange')\n",
    "plt.plot(tata.index, tata['60_Day_MA'], label='60-Day Avg', color='green')\n",
    "plt.title('Tata Motors Ltd. Closing Price and Moving Averages')\n",
    "plt.xlabel('Date')\n",
    "plt.ylabel('Price (INR)')\n",
    "plt.xticks(rotation=45)\n",
    "plt.legend()\n",
    "plt.show()\n"
   ]
  },
  {
   "cell_type": "markdown",
   "metadata": {},
   "source": [
    "# **Returns Calculation**"
   ]
  },
  {
   "cell_type": "code",
   "execution_count": null,
   "metadata": {
    "execution": {
     "iopub.execute_input": "2023-09-03T11:11:31.019018Z",
     "iopub.status.busy": "2023-09-03T11:11:31.018153Z",
     "iopub.status.idle": "2023-09-03T11:11:31.484240Z",
     "shell.execute_reply": "2023-09-03T11:11:31.483067Z",
     "shell.execute_reply.started": "2023-09-03T11:11:31.018985Z"
    }
   },
   "outputs": [],
   "source": [
    "# Calculate daily returns\n",
    "tata['Daily_Return'] = tata['Close'].pct_change()\n",
    "\n",
    "# Plotting the daily returns\n",
    "plt.figure(figsize=(12, 6))\n",
    "plt.plot(tata.index, tata['Daily_Return'], label='Daily Returns', color='purple')\n",
    "plt.title('Tata Motors Ltd. Daily Returns')\n",
    "plt.xlabel('Date')\n",
    "plt.ylabel('Return')\n",
    "plt.xticks(rotation=45)\n",
    "plt.legend()\n",
    "plt.show()\n"
   ]
  },
  {
   "cell_type": "markdown",
   "metadata": {},
   "source": [
    "# **Volatility Analysis**"
   ]
  },
  {
   "cell_type": "code",
   "execution_count": null,
   "metadata": {
    "execution": {
     "iopub.execute_input": "2023-09-03T11:11:31.486354Z",
     "iopub.status.busy": "2023-09-03T11:11:31.485891Z",
     "iopub.status.idle": "2023-09-03T11:11:31.973104Z",
     "shell.execute_reply": "2023-09-03T11:11:31.971954Z",
     "shell.execute_reply.started": "2023-09-03T11:11:31.486313Z"
    }
   },
   "outputs": [],
   "source": [
    "# Calculate rolling standard deviation for volatility\n",
    "tata['Volatility'] = tata['Daily_Return'].rolling(window=30).std()\n",
    "\n",
    "# Plotting the volatility\n",
    "plt.figure(figsize=(12, 6))\n",
    "plt.plot(tata.index, tata['Volatility'], label='Volatility', color='red')\n",
    "plt.title('Tata Motors Ltd. Volatility Analysis')\n",
    "plt.xlabel('Date')\n",
    "plt.ylabel('Volatility')\n",
    "plt.xticks(rotation=45)\n",
    "plt.legend()\n",
    "plt.show()\n"
   ]
  },
  {
   "cell_type": "code",
   "execution_count": null,
   "metadata": {
    "execution": {
     "iopub.execute_input": "2023-09-03T11:11:31.974645Z",
     "iopub.status.busy": "2023-09-03T11:11:31.974323Z",
     "iopub.status.idle": "2023-09-03T11:11:46.281083Z",
     "shell.execute_reply": "2023-09-03T11:11:46.279550Z",
     "shell.execute_reply.started": "2023-09-03T11:11:31.974617Z"
    }
   },
   "outputs": [],
   "source": [
    "pip install yfinance"
   ]
  },
  {
   "cell_type": "markdown",
   "metadata": {},
   "source": [
    "# **Correlation with Other Stocks**"
   ]
  },
  {
   "cell_type": "code",
   "execution_count": null,
   "metadata": {
    "execution": {
     "iopub.execute_input": "2023-09-03T11:11:46.284356Z",
     "iopub.status.busy": "2023-09-03T11:11:46.283920Z",
     "iopub.status.idle": "2023-09-03T11:11:46.483128Z",
     "shell.execute_reply": "2023-09-03T11:11:46.481869Z",
     "shell.execute_reply.started": "2023-09-03T11:11:46.284321Z"
    }
   },
   "outputs": [],
   "source": [
    "import yfinance as yf\n",
    "\n",
    "# Example: Correlation with Nifty 50\n",
    "nifty = yf.download('^NSEI', start='2000-01-01', end='2023-09-02')  # Download Nifty 50 data\n",
    "nifty['TATA_MOTORS'] = tata['Close']  # Add Tata Motors data\n",
    "correlation = tata['Close'].corr(nifty['Close'])  # Calculate correlation\n",
    "\n",
    "print(f\"Correlation between Tata Motors and Nifty 50: {correlation:.2f}\")\n"
   ]
  },
  {
   "cell_type": "code",
   "execution_count": null,
   "metadata": {
    "execution": {
     "iopub.execute_input": "2023-09-03T11:11:46.485201Z",
     "iopub.status.busy": "2023-09-03T11:11:46.484823Z",
     "iopub.status.idle": "2023-09-03T11:11:46.510578Z",
     "shell.execute_reply": "2023-09-03T11:11:46.509451Z",
     "shell.execute_reply.started": "2023-09-03T11:11:46.485169Z"
    }
   },
   "outputs": [],
   "source": [
    "tata.head()"
   ]
  },
  {
   "cell_type": "markdown",
   "metadata": {},
   "source": [
    "# **Implement a use case with machine learning models from scikit-learn (sklearn) for predicting the opening and closing prices of Tata Motors stock for the next 10 days and calculate the difference in price.**"
   ]
  },
  {
   "cell_type": "code",
   "execution_count": null,
   "metadata": {
    "execution": {
     "iopub.execute_input": "2023-09-03T11:11:46.512726Z",
     "iopub.status.busy": "2023-09-03T11:11:46.512315Z",
     "iopub.status.idle": "2023-09-03T11:11:47.371291Z",
     "shell.execute_reply": "2023-09-03T11:11:47.370449Z",
     "shell.execute_reply.started": "2023-09-03T11:11:46.512692Z"
    }
   },
   "outputs": [],
   "source": [
    "import pandas as pd\n",
    "import numpy as np\n",
    "from sklearn.model_selection import train_test_split\n",
    "from sklearn.linear_model import LinearRegression\n",
    "from sklearn.tree import DecisionTreeRegressor\n",
    "from sklearn.ensemble import RandomForestRegressor\n",
    "import matplotlib.pyplot as plt\n",
    "\n",
    "tata=pd.read_csv(\"/kaggle/input/tata-motors-stock-history/Tata_Motors_Ltd._historical_data.csv\")\n",
    "\n",
    "tata['Date'] = pd.to_datetime(tata['Date'])\n",
    "tata.set_index('Date', inplace=True)\n",
    "\n",
    "# Prepare the features and target variables\n",
    "X = np.arange(len(tata)).reshape(-1, 1)  # Use the index as a feature\n",
    "y_open = tata['Open']\n",
    "y_close = tata['Close']\n",
    "\n",
    "# Split the data into training and testing sets\n",
    "X_train, X_test, y_open_train, y_open_test, y_close_train, y_close_test = train_test_split(\n",
    "    X, y_open, y_close, test_size=0.2, shuffle=False\n",
    ")\n",
    "\n",
    "# Train regression models\n",
    "lr_open = LinearRegression()\n",
    "lr_open.fit(X_train, y_open_train)\n",
    "\n",
    "lr_close = LinearRegression()\n",
    "lr_close.fit(X_train, y_close_train)\n",
    "\n",
    "# Make predictions for the next 10 days\n",
    "next_10_days = np.arange(len(tata), len(tata) + 10).reshape(-1, 1)\n",
    "predicted_open = lr_open.predict(next_10_days)\n",
    "predicted_close = lr_close.predict(next_10_days)\n",
    "\n",
    "# Calculate price differences\n",
    "price_diff_open = predicted_open[-1] - tata['Open'].iloc[-1]\n",
    "price_diff_close = predicted_close[-1] - tata['Close'].iloc[-1]\n",
    "\n",
    "# Suggest whether buying is sensible\n",
    "suggestion_open = \"Buy\" if price_diff_open > 0 else \"Sell\"\n",
    "suggestion_close = \"Buy\" if price_diff_close > 0 else \"Sell\"\n",
    "\n",
    "# Plot the predictions\n",
    "plt.figure(figsize=(12, 6))\n",
    "plt.subplot(1, 2, 1)\n",
    "plt.plot(X, y_open, label=\"Actual Opening Price\")\n",
    "plt.plot(next_10_days, predicted_open, label=\"Predicted Opening Price\")\n",
    "plt.title(\"Opening Price Prediction\")\n",
    "plt.xlabel(\"Days\")\n",
    "plt.ylabel(\"Price\")\n",
    "plt.legend()\n",
    "\n",
    "plt.subplot(1, 2, 2)\n",
    "plt.plot(X, y_close, label=\"Actual Closing Price\")\n",
    "plt.plot(next_10_days, predicted_close, label=\"Predicted Closing Price\")\n",
    "plt.title(\"Closing Price Prediction\")\n",
    "plt.xlabel(\"Days\")\n",
    "plt.ylabel(\"Price\")\n",
    "plt.legend()\n",
    "\n",
    "plt.tight_layout()\n",
    "plt.show()\n",
    "\n",
    "print(f\"Predicted opening price change for the next 10 days: {price_diff_open:.2f} INR ({suggestion_open})\")\n",
    "print(f\"Predicted closing price change for the next 10 days: {price_diff_close:.2f} INR ({suggestion_close})\")\n"
   ]
  },
  {
   "cell_type": "markdown",
   "metadata": {},
   "source": [
    "# **Regression models from scikit-learn (sklearn) for predicting the opening and closing prices of Tata Motors stock and calculate the difference in prices for the next 10 days.**"
   ]
  },
  {
   "cell_type": "code",
   "execution_count": null,
   "metadata": {
    "execution": {
     "iopub.execute_input": "2023-09-03T11:11:47.373294Z",
     "iopub.status.busy": "2023-09-03T11:11:47.372779Z",
     "iopub.status.idle": "2023-09-03T11:11:58.319259Z",
     "shell.execute_reply": "2023-09-03T11:11:58.318333Z",
     "shell.execute_reply.started": "2023-09-03T11:11:47.373264Z"
    }
   },
   "outputs": [],
   "source": [
    "import pandas as pd\n",
    "import numpy as np\n",
    "from sklearn.model_selection import train_test_split\n",
    "from sklearn.linear_model import LinearRegression\n",
    "from sklearn.tree import DecisionTreeRegressor\n",
    "from sklearn.ensemble import RandomForestRegressor, GradientBoostingRegressor\n",
    "from sklearn.svm import SVR\n",
    "import matplotlib.pyplot as plt\n",
    "\n",
    "# Load the dataset\n",
    "tata=pd.read_csv(\"/kaggle/input/tata-motors-stock-history/Tata_Motors_Ltd._historical_data.csv\")\n",
    "tata['Date'] = pd.to_datetime(tata['Date'])\n",
    "tata.set_index('Date', inplace=True)\n",
    "\n",
    "# Prepare the features and target variables\n",
    "X = np.arange(len(tata)).reshape(-1, 1)  # Use the index as a feature\n",
    "y_open = tata['Open']\n",
    "y_close = tata['Close']\n",
    "\n",
    "# Split the data into training and testing sets\n",
    "X_train, X_test, y_open_train, y_open_test, y_close_train, y_close_test = train_test_split(\n",
    "    X, y_open, y_close, test_size=0.2, shuffle=False\n",
    ")\n",
    "\n",
    "# Initialize regression models\n",
    "models = {\n",
    "    \"Linear Regression\": LinearRegression(),\n",
    "    \"Decision Tree Regression\": DecisionTreeRegressor(),\n",
    "    \"Random Forest Regression\": RandomForestRegressor(),\n",
    "    \"Support Vector Regression\": SVR(),\n",
    "    \"Gradient Boosting Regression\": GradientBoostingRegressor(),\n",
    "}\n",
    "\n",
    "predictions_open = {}\n",
    "predictions_close = {}\n",
    "\n",
    "# Train and predict for each model\n",
    "for model_name, model in models.items():\n",
    "    # Fit the model for opening prices\n",
    "    model.fit(X_train, y_open_train)\n",
    "    predicted_open = model.predict(X_test)\n",
    "    predictions_open[model_name] = predicted_open\n",
    "\n",
    "    # Fit the model for closing prices\n",
    "    model.fit(X_train, y_close_train)\n",
    "    predicted_close = model.predict(X_test)\n",
    "    predictions_close[model_name] = predicted_close\n",
    "\n",
    "# Predict for the next 10 days\n",
    "next_10_days = np.arange(len(tata), len(tata) + 10).reshape(-1, 1)\n",
    "\n",
    "predicted_open_10_days = {}\n",
    "predicted_close_10_days = {}\n",
    "\n",
    "for model_name, model in models.items():\n",
    "    # Predict opening prices for the next 10 days\n",
    "    model.fit(X, y_open)\n",
    "    predicted_open_10 = model.predict(next_10_days)\n",
    "    predicted_open_10_days[model_name] = predicted_open_10\n",
    "\n",
    "    # Predict closing prices for the next 10 days\n",
    "    model.fit(X, y_close)\n",
    "    predicted_close_10 = model.predict(next_10_days)\n",
    "    predicted_close_10_days[model_name] = predicted_close_10\n",
    "\n",
    "# Calculate price differences for the last day of testing\n",
    "actual_open_last_day = y_open_test.iloc[-1]\n",
    "actual_close_last_day = y_close_test.iloc[-1]\n",
    "\n",
    "price_diff_open = {model_name: predicted_open_10_days[model_name][-1] - actual_open_last_day for model_name in models}\n",
    "price_diff_close = {model_name: predicted_close_10_days[model_name][-1] - actual_close_last_day for model_name in models}\n",
    "\n",
    "# Suggest whether buying is sensible based on the predicted price changes\n",
    "suggestions_open = {model_name: \"Buy\" if price_diff > 0 else \"Sell\" for model_name, price_diff in price_diff_open.items()}\n",
    "suggestions_close = {model_name: \"Buy\" if price_diff > 0 else \"Sell\" for model_name, price_diff in price_diff_close.items()}\n",
    "\n",
    "# Print the price differences and suggestions\n",
    "print(\"Predicted opening price changes for the next 10 days:\")\n",
    "for model_name, price_diff in price_diff_open.items():\n",
    "    print(f\"{model_name}: {price_diff:.2f} INR ({suggestions_open[model_name]})\")\n",
    "\n",
    "print(\"\\nPredicted closing price changes for the next 10 days:\")\n",
    "for model_name, price_diff in price_diff_close.items():\n",
    "    print(f\"{model_name}: {price_diff:.2f} INR ({suggestions_close[model_name]})\")\n",
    "\n",
    "# Plot the predictions for opening and closing prices\n",
    "plt.figure(figsize=(12, 6))\n",
    "plt.subplot(1, 2, 1)\n",
    "plt.plot(X_test, y_open_test, label=\"Actual Opening Price\", color='blue')\n",
    "for model_name, predicted_open in predictions_open.items():\n",
    "    plt.plot(X_test, predicted_open, label=f\"Predicted Open ({model_name})\")\n",
    "plt.title(\"Opening Price Predictions\")\n",
    "plt.xlabel(\"Days\")\n",
    "plt.ylabel(\"Price\")\n",
    "plt.legend()\n",
    "\n",
    "plt.subplot(1, 2, 2)\n",
    "plt.plot(X_test, y_close_test, label=\"Actual Closing Price\", color='blue')\n",
    "for model_name, predicted_close in predictions_close.items():\n",
    "    plt.plot(X_test, predicted_close, label=f\"Predicted Close ({model_name})\")\n",
    "plt.title(\"Closing Price Predictions\")\n",
    "plt.xlabel(\"Days\")\n",
    "plt.ylabel(\"Price\")\n",
    "plt.legend()\n",
    "\n",
    "plt.tight_layout()\n",
    "plt.show()\n"
   ]
  }
 ],
 "metadata": {
  "kernelspec": {
   "display_name": "Python 3 (ipykernel)",
   "language": "python",
   "name": "python3"
  },
  "language_info": {
   "codemirror_mode": {
    "name": "ipython",
    "version": 3
   },
   "file_extension": ".py",
   "mimetype": "text/x-python",
   "name": "python",
   "nbconvert_exporter": "python",
   "pygments_lexer": "ipython3",
   "version": "3.11.4"
  }
 },
 "nbformat": 4,
 "nbformat_minor": 4
}
