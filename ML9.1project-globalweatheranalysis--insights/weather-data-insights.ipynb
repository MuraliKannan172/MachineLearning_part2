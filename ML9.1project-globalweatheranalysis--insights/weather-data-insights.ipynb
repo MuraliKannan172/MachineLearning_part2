{
 "cells": [
  {
   "cell_type": "code",
   "execution_count": 1,
   "id": "b888eb17",
   "metadata": {
    "_cell_guid": "b1076dfc-b9ad-4769-8c92-a6c4dae69d19",
    "_uuid": "8f2839f25d086af736a60e9eeb907d3b93b6e0e5",
    "execution": {
     "iopub.execute_input": "2023-09-14T15:47:12.422911Z",
     "iopub.status.busy": "2023-09-14T15:47:12.422257Z",
     "iopub.status.idle": "2023-09-14T15:47:12.836800Z",
     "shell.execute_reply": "2023-09-14T15:47:12.835723Z"
    },
    "papermill": {
     "duration": 0.429654,
     "end_time": "2023-09-14T15:47:12.839317",
     "exception": false,
     "start_time": "2023-09-14T15:47:12.409663",
     "status": "completed"
    },
    "tags": []
   },
   "outputs": [],
   "source": [
    "# This Python 3 environment comes with many helpful analytics libraries installed\n",
    "# It is defined by the kaggle/python Docker image: https://github.com/kaggle/docker-python\n",
    "# For example, here's several helpful packages to load\n",
    "\n",
    "import numpy as np # linear algebra\n",
    "import pandas as pd # data processing, CSV file I/O (e.g. pd.read_csv)\n",
    "\n",
    "# Input data files are available in the read-only \"../input/\" directory\n",
    "# For example, running this (by clicking run or pressing Shift+Enter) will list all files under the input directory\n",
    "\n",
    "import os\n",
    "for dirname, _, filenames in os.walk('/kaggle/input'):\n",
    "    for filename in filenames:\n",
    "        print(os.path.join(dirname, filename))\n",
    "\n",
    "# You can write up to 20GB to the current directory (/kaggle/working/) that gets preserved as output when you create a version using \"Save & Run All\" \n",
    "# You can also write temporary files to /kaggle/temp/, but they won't be saved outside of the current session"
   ]
  },
  {
   "cell_type": "code",
   "execution_count": 2,
   "id": "6bfbe8cd",
   "metadata": {
    "execution": {
     "iopub.execute_input": "2023-09-14T15:47:12.862049Z",
     "iopub.status.busy": "2023-09-14T15:47:12.861227Z",
     "iopub.status.idle": "2023-09-14T15:47:12.948986Z",
     "shell.execute_reply": "2023-09-14T15:47:12.947849Z"
    },
    "papermill": {
     "duration": 0.102095,
     "end_time": "2023-09-14T15:47:12.951721",
     "exception": false,
     "start_time": "2023-09-14T15:47:12.849626",
     "status": "completed"
    },
    "tags": []
   },
   "outputs": [
    {
     "ename": "FileNotFoundError",
     "evalue": "[Errno 2] No such file or directory: '/kaggle/input/global-weather-repository/GlobalWeatherRepository.csv'",
     "output_type": "error",
     "traceback": [
      "\u001b[1;31m---------------------------------------------------------------------------\u001b[0m",
      "\u001b[1;31mFileNotFoundError\u001b[0m                         Traceback (most recent call last)",
      "Cell \u001b[1;32mIn[2], line 4\u001b[0m\n\u001b[0;32m      1\u001b[0m \u001b[38;5;28;01mimport\u001b[39;00m \u001b[38;5;21;01mpandas\u001b[39;00m \u001b[38;5;28;01mas\u001b[39;00m \u001b[38;5;21;01mpd\u001b[39;00m\n\u001b[0;32m      3\u001b[0m \u001b[38;5;66;03m# Load the dataset\u001b[39;00m\n\u001b[1;32m----> 4\u001b[0m data \u001b[38;5;241m=\u001b[39m pd\u001b[38;5;241m.\u001b[39mread_csv(\u001b[38;5;124m'\u001b[39m\u001b[38;5;124m/kaggle/input/global-weather-repository/GlobalWeatherRepository.csv\u001b[39m\u001b[38;5;124m'\u001b[39m)\n\u001b[0;32m      6\u001b[0m \u001b[38;5;66;03m# Check the first few rows to ensure data loading was successful\u001b[39;00m\n\u001b[0;32m      7\u001b[0m data\u001b[38;5;241m.\u001b[39mhead()\n",
      "File \u001b[1;32mC:\\ProgramData\\anaconda3\\Lib\\site-packages\\pandas\\util\\_decorators.py:211\u001b[0m, in \u001b[0;36mdeprecate_kwarg.<locals>._deprecate_kwarg.<locals>.wrapper\u001b[1;34m(*args, **kwargs)\u001b[0m\n\u001b[0;32m    209\u001b[0m     \u001b[38;5;28;01melse\u001b[39;00m:\n\u001b[0;32m    210\u001b[0m         kwargs[new_arg_name] \u001b[38;5;241m=\u001b[39m new_arg_value\n\u001b[1;32m--> 211\u001b[0m \u001b[38;5;28;01mreturn\u001b[39;00m func(\u001b[38;5;241m*\u001b[39margs, \u001b[38;5;241m*\u001b[39m\u001b[38;5;241m*\u001b[39mkwargs)\n",
      "File \u001b[1;32mC:\\ProgramData\\anaconda3\\Lib\\site-packages\\pandas\\util\\_decorators.py:331\u001b[0m, in \u001b[0;36mdeprecate_nonkeyword_arguments.<locals>.decorate.<locals>.wrapper\u001b[1;34m(*args, **kwargs)\u001b[0m\n\u001b[0;32m    325\u001b[0m \u001b[38;5;28;01mif\u001b[39;00m \u001b[38;5;28mlen\u001b[39m(args) \u001b[38;5;241m>\u001b[39m num_allow_args:\n\u001b[0;32m    326\u001b[0m     warnings\u001b[38;5;241m.\u001b[39mwarn(\n\u001b[0;32m    327\u001b[0m         msg\u001b[38;5;241m.\u001b[39mformat(arguments\u001b[38;5;241m=\u001b[39m_format_argument_list(allow_args)),\n\u001b[0;32m    328\u001b[0m         \u001b[38;5;167;01mFutureWarning\u001b[39;00m,\n\u001b[0;32m    329\u001b[0m         stacklevel\u001b[38;5;241m=\u001b[39mfind_stack_level(),\n\u001b[0;32m    330\u001b[0m     )\n\u001b[1;32m--> 331\u001b[0m \u001b[38;5;28;01mreturn\u001b[39;00m func(\u001b[38;5;241m*\u001b[39margs, \u001b[38;5;241m*\u001b[39m\u001b[38;5;241m*\u001b[39mkwargs)\n",
      "File \u001b[1;32mC:\\ProgramData\\anaconda3\\Lib\\site-packages\\pandas\\io\\parsers\\readers.py:950\u001b[0m, in \u001b[0;36mread_csv\u001b[1;34m(filepath_or_buffer, sep, delimiter, header, names, index_col, usecols, squeeze, prefix, mangle_dupe_cols, dtype, engine, converters, true_values, false_values, skipinitialspace, skiprows, skipfooter, nrows, na_values, keep_default_na, na_filter, verbose, skip_blank_lines, parse_dates, infer_datetime_format, keep_date_col, date_parser, dayfirst, cache_dates, iterator, chunksize, compression, thousands, decimal, lineterminator, quotechar, quoting, doublequote, escapechar, comment, encoding, encoding_errors, dialect, error_bad_lines, warn_bad_lines, on_bad_lines, delim_whitespace, low_memory, memory_map, float_precision, storage_options)\u001b[0m\n\u001b[0;32m    935\u001b[0m kwds_defaults \u001b[38;5;241m=\u001b[39m _refine_defaults_read(\n\u001b[0;32m    936\u001b[0m     dialect,\n\u001b[0;32m    937\u001b[0m     delimiter,\n\u001b[1;32m   (...)\u001b[0m\n\u001b[0;32m    946\u001b[0m     defaults\u001b[38;5;241m=\u001b[39m{\u001b[38;5;124m\"\u001b[39m\u001b[38;5;124mdelimiter\u001b[39m\u001b[38;5;124m\"\u001b[39m: \u001b[38;5;124m\"\u001b[39m\u001b[38;5;124m,\u001b[39m\u001b[38;5;124m\"\u001b[39m},\n\u001b[0;32m    947\u001b[0m )\n\u001b[0;32m    948\u001b[0m kwds\u001b[38;5;241m.\u001b[39mupdate(kwds_defaults)\n\u001b[1;32m--> 950\u001b[0m \u001b[38;5;28;01mreturn\u001b[39;00m _read(filepath_or_buffer, kwds)\n",
      "File \u001b[1;32mC:\\ProgramData\\anaconda3\\Lib\\site-packages\\pandas\\io\\parsers\\readers.py:605\u001b[0m, in \u001b[0;36m_read\u001b[1;34m(filepath_or_buffer, kwds)\u001b[0m\n\u001b[0;32m    602\u001b[0m _validate_names(kwds\u001b[38;5;241m.\u001b[39mget(\u001b[38;5;124m\"\u001b[39m\u001b[38;5;124mnames\u001b[39m\u001b[38;5;124m\"\u001b[39m, \u001b[38;5;28;01mNone\u001b[39;00m))\n\u001b[0;32m    604\u001b[0m \u001b[38;5;66;03m# Create the parser.\u001b[39;00m\n\u001b[1;32m--> 605\u001b[0m parser \u001b[38;5;241m=\u001b[39m TextFileReader(filepath_or_buffer, \u001b[38;5;241m*\u001b[39m\u001b[38;5;241m*\u001b[39mkwds)\n\u001b[0;32m    607\u001b[0m \u001b[38;5;28;01mif\u001b[39;00m chunksize \u001b[38;5;129;01mor\u001b[39;00m iterator:\n\u001b[0;32m    608\u001b[0m     \u001b[38;5;28;01mreturn\u001b[39;00m parser\n",
      "File \u001b[1;32mC:\\ProgramData\\anaconda3\\Lib\\site-packages\\pandas\\io\\parsers\\readers.py:1442\u001b[0m, in \u001b[0;36mTextFileReader.__init__\u001b[1;34m(self, f, engine, **kwds)\u001b[0m\n\u001b[0;32m   1439\u001b[0m     \u001b[38;5;28mself\u001b[39m\u001b[38;5;241m.\u001b[39moptions[\u001b[38;5;124m\"\u001b[39m\u001b[38;5;124mhas_index_names\u001b[39m\u001b[38;5;124m\"\u001b[39m] \u001b[38;5;241m=\u001b[39m kwds[\u001b[38;5;124m\"\u001b[39m\u001b[38;5;124mhas_index_names\u001b[39m\u001b[38;5;124m\"\u001b[39m]\n\u001b[0;32m   1441\u001b[0m \u001b[38;5;28mself\u001b[39m\u001b[38;5;241m.\u001b[39mhandles: IOHandles \u001b[38;5;241m|\u001b[39m \u001b[38;5;28;01mNone\u001b[39;00m \u001b[38;5;241m=\u001b[39m \u001b[38;5;28;01mNone\u001b[39;00m\n\u001b[1;32m-> 1442\u001b[0m \u001b[38;5;28mself\u001b[39m\u001b[38;5;241m.\u001b[39m_engine \u001b[38;5;241m=\u001b[39m \u001b[38;5;28mself\u001b[39m\u001b[38;5;241m.\u001b[39m_make_engine(f, \u001b[38;5;28mself\u001b[39m\u001b[38;5;241m.\u001b[39mengine)\n",
      "File \u001b[1;32mC:\\ProgramData\\anaconda3\\Lib\\site-packages\\pandas\\io\\parsers\\readers.py:1735\u001b[0m, in \u001b[0;36mTextFileReader._make_engine\u001b[1;34m(self, f, engine)\u001b[0m\n\u001b[0;32m   1733\u001b[0m     \u001b[38;5;28;01mif\u001b[39;00m \u001b[38;5;124m\"\u001b[39m\u001b[38;5;124mb\u001b[39m\u001b[38;5;124m\"\u001b[39m \u001b[38;5;129;01mnot\u001b[39;00m \u001b[38;5;129;01min\u001b[39;00m mode:\n\u001b[0;32m   1734\u001b[0m         mode \u001b[38;5;241m+\u001b[39m\u001b[38;5;241m=\u001b[39m \u001b[38;5;124m\"\u001b[39m\u001b[38;5;124mb\u001b[39m\u001b[38;5;124m\"\u001b[39m\n\u001b[1;32m-> 1735\u001b[0m \u001b[38;5;28mself\u001b[39m\u001b[38;5;241m.\u001b[39mhandles \u001b[38;5;241m=\u001b[39m get_handle(\n\u001b[0;32m   1736\u001b[0m     f,\n\u001b[0;32m   1737\u001b[0m     mode,\n\u001b[0;32m   1738\u001b[0m     encoding\u001b[38;5;241m=\u001b[39m\u001b[38;5;28mself\u001b[39m\u001b[38;5;241m.\u001b[39moptions\u001b[38;5;241m.\u001b[39mget(\u001b[38;5;124m\"\u001b[39m\u001b[38;5;124mencoding\u001b[39m\u001b[38;5;124m\"\u001b[39m, \u001b[38;5;28;01mNone\u001b[39;00m),\n\u001b[0;32m   1739\u001b[0m     compression\u001b[38;5;241m=\u001b[39m\u001b[38;5;28mself\u001b[39m\u001b[38;5;241m.\u001b[39moptions\u001b[38;5;241m.\u001b[39mget(\u001b[38;5;124m\"\u001b[39m\u001b[38;5;124mcompression\u001b[39m\u001b[38;5;124m\"\u001b[39m, \u001b[38;5;28;01mNone\u001b[39;00m),\n\u001b[0;32m   1740\u001b[0m     memory_map\u001b[38;5;241m=\u001b[39m\u001b[38;5;28mself\u001b[39m\u001b[38;5;241m.\u001b[39moptions\u001b[38;5;241m.\u001b[39mget(\u001b[38;5;124m\"\u001b[39m\u001b[38;5;124mmemory_map\u001b[39m\u001b[38;5;124m\"\u001b[39m, \u001b[38;5;28;01mFalse\u001b[39;00m),\n\u001b[0;32m   1741\u001b[0m     is_text\u001b[38;5;241m=\u001b[39mis_text,\n\u001b[0;32m   1742\u001b[0m     errors\u001b[38;5;241m=\u001b[39m\u001b[38;5;28mself\u001b[39m\u001b[38;5;241m.\u001b[39moptions\u001b[38;5;241m.\u001b[39mget(\u001b[38;5;124m\"\u001b[39m\u001b[38;5;124mencoding_errors\u001b[39m\u001b[38;5;124m\"\u001b[39m, \u001b[38;5;124m\"\u001b[39m\u001b[38;5;124mstrict\u001b[39m\u001b[38;5;124m\"\u001b[39m),\n\u001b[0;32m   1743\u001b[0m     storage_options\u001b[38;5;241m=\u001b[39m\u001b[38;5;28mself\u001b[39m\u001b[38;5;241m.\u001b[39moptions\u001b[38;5;241m.\u001b[39mget(\u001b[38;5;124m\"\u001b[39m\u001b[38;5;124mstorage_options\u001b[39m\u001b[38;5;124m\"\u001b[39m, \u001b[38;5;28;01mNone\u001b[39;00m),\n\u001b[0;32m   1744\u001b[0m )\n\u001b[0;32m   1745\u001b[0m \u001b[38;5;28;01massert\u001b[39;00m \u001b[38;5;28mself\u001b[39m\u001b[38;5;241m.\u001b[39mhandles \u001b[38;5;129;01mis\u001b[39;00m \u001b[38;5;129;01mnot\u001b[39;00m \u001b[38;5;28;01mNone\u001b[39;00m\n\u001b[0;32m   1746\u001b[0m f \u001b[38;5;241m=\u001b[39m \u001b[38;5;28mself\u001b[39m\u001b[38;5;241m.\u001b[39mhandles\u001b[38;5;241m.\u001b[39mhandle\n",
      "File \u001b[1;32mC:\\ProgramData\\anaconda3\\Lib\\site-packages\\pandas\\io\\common.py:856\u001b[0m, in \u001b[0;36mget_handle\u001b[1;34m(path_or_buf, mode, encoding, compression, memory_map, is_text, errors, storage_options)\u001b[0m\n\u001b[0;32m    851\u001b[0m \u001b[38;5;28;01melif\u001b[39;00m \u001b[38;5;28misinstance\u001b[39m(handle, \u001b[38;5;28mstr\u001b[39m):\n\u001b[0;32m    852\u001b[0m     \u001b[38;5;66;03m# Check whether the filename is to be opened in binary mode.\u001b[39;00m\n\u001b[0;32m    853\u001b[0m     \u001b[38;5;66;03m# Binary mode does not support 'encoding' and 'newline'.\u001b[39;00m\n\u001b[0;32m    854\u001b[0m     \u001b[38;5;28;01mif\u001b[39;00m ioargs\u001b[38;5;241m.\u001b[39mencoding \u001b[38;5;129;01mand\u001b[39;00m \u001b[38;5;124m\"\u001b[39m\u001b[38;5;124mb\u001b[39m\u001b[38;5;124m\"\u001b[39m \u001b[38;5;129;01mnot\u001b[39;00m \u001b[38;5;129;01min\u001b[39;00m ioargs\u001b[38;5;241m.\u001b[39mmode:\n\u001b[0;32m    855\u001b[0m         \u001b[38;5;66;03m# Encoding\u001b[39;00m\n\u001b[1;32m--> 856\u001b[0m         handle \u001b[38;5;241m=\u001b[39m \u001b[38;5;28mopen\u001b[39m(\n\u001b[0;32m    857\u001b[0m             handle,\n\u001b[0;32m    858\u001b[0m             ioargs\u001b[38;5;241m.\u001b[39mmode,\n\u001b[0;32m    859\u001b[0m             encoding\u001b[38;5;241m=\u001b[39mioargs\u001b[38;5;241m.\u001b[39mencoding,\n\u001b[0;32m    860\u001b[0m             errors\u001b[38;5;241m=\u001b[39merrors,\n\u001b[0;32m    861\u001b[0m             newline\u001b[38;5;241m=\u001b[39m\u001b[38;5;124m\"\u001b[39m\u001b[38;5;124m\"\u001b[39m,\n\u001b[0;32m    862\u001b[0m         )\n\u001b[0;32m    863\u001b[0m     \u001b[38;5;28;01melse\u001b[39;00m:\n\u001b[0;32m    864\u001b[0m         \u001b[38;5;66;03m# Binary mode\u001b[39;00m\n\u001b[0;32m    865\u001b[0m         handle \u001b[38;5;241m=\u001b[39m \u001b[38;5;28mopen\u001b[39m(handle, ioargs\u001b[38;5;241m.\u001b[39mmode)\n",
      "\u001b[1;31mFileNotFoundError\u001b[0m: [Errno 2] No such file or directory: '/kaggle/input/global-weather-repository/GlobalWeatherRepository.csv'"
     ]
    }
   ],
   "source": [
    "import pandas as pd\n",
    "\n",
    "# Load the dataset\n",
    "data = pd.read_csv('/kaggle/input/global-weather-repository/GlobalWeatherRepository.csv')\n",
    "\n",
    "# Check the first few rows to ensure data loading was successful\n",
    "data.head()\n"
   ]
  },
  {
   "cell_type": "code",
   "execution_count": null,
   "id": "fa253405",
   "metadata": {
    "execution": {
     "iopub.execute_input": "2023-09-14T15:47:12.974574Z",
     "iopub.status.busy": "2023-09-14T15:47:12.973838Z",
     "iopub.status.idle": "2023-09-14T15:47:13.067972Z",
     "shell.execute_reply": "2023-09-14T15:47:13.065918Z"
    },
    "papermill": {
     "duration": 0.108544,
     "end_time": "2023-09-14T15:47:13.070618",
     "exception": false,
     "start_time": "2023-09-14T15:47:12.962074",
     "status": "completed"
    },
    "tags": []
   },
   "outputs": [],
   "source": [
    "# Check column names\n",
    "print(data.columns)\n",
    "\n",
    "# Check data types\n",
    "print(data.dtypes)\n",
    "\n",
    "# Get summary statistics\n",
    "print(data.describe())\n"
   ]
  },
  {
   "cell_type": "code",
   "execution_count": null,
   "id": "0782172e",
   "metadata": {
    "execution": {
     "iopub.execute_input": "2023-09-14T15:47:13.095063Z",
     "iopub.status.busy": "2023-09-14T15:47:13.093909Z",
     "iopub.status.idle": "2023-09-14T15:47:13.124321Z",
     "shell.execute_reply": "2023-09-14T15:47:13.123137Z"
    },
    "papermill": {
     "duration": 0.045523,
     "end_time": "2023-09-14T15:47:13.127253",
     "exception": false,
     "start_time": "2023-09-14T15:47:13.081730",
     "status": "completed"
    },
    "tags": []
   },
   "outputs": [],
   "source": [
    "data.info()"
   ]
  },
  {
   "cell_type": "markdown",
   "id": "3b43521f",
   "metadata": {
    "papermill": {
     "duration": 0.010937,
     "end_time": "2023-09-14T15:47:13.149246",
     "exception": false,
     "start_time": "2023-09-14T15:47:13.138309",
     "status": "completed"
    },
    "tags": []
   },
   "source": [
    "# 1.Temperature Trends"
   ]
  },
  {
   "cell_type": "code",
   "execution_count": null,
   "id": "edaa889a",
   "metadata": {
    "execution": {
     "iopub.execute_input": "2023-09-14T15:47:13.173493Z",
     "iopub.status.busy": "2023-09-14T15:47:13.172689Z",
     "iopub.status.idle": "2023-09-14T15:47:16.139051Z",
     "shell.execute_reply": "2023-09-14T15:47:16.137785Z"
    },
    "papermill": {
     "duration": 2.981666,
     "end_time": "2023-09-14T15:47:16.141819",
     "exception": false,
     "start_time": "2023-09-14T15:47:13.160153",
     "status": "completed"
    },
    "tags": []
   },
   "outputs": [],
   "source": [
    "import pandas as pd\n",
    "import plotly.express as px\n",
    "from plotly.subplots import make_subplots\n",
    "import plotly.graph_objects as go\n",
    "\n",
    "# Assuming 'data' is your DataFrame containing the weather data\n",
    "\n",
    "# Create a list of all unique city names\n",
    "cities = data['location_name'].unique()\n",
    "\n",
    "# Initialize dictionaries to store the maximum and minimum temperatures for each city\n",
    "max_temperatures = {}\n",
    "min_temperatures = {}\n",
    "\n",
    "# Iterate through the cities and calculate the maximum and minimum temperatures\n",
    "for city in cities:\n",
    "    city_data = data[data['location_name'] == city]\n",
    "    max_temp = city_data['temperature_celsius'].max()\n",
    "    min_temp = city_data['temperature_celsius'].min()\n",
    "    max_temperatures[city] = max_temp\n",
    "    min_temperatures[city] = min_temp\n",
    "\n",
    "# Sort the cities by maximum and minimum temperatures\n",
    "top_10_max = sorted(max_temperatures.items(), key=lambda x: x[1], reverse=True)[:10]\n",
    "bottom_10_min = sorted(min_temperatures.items(), key=lambda x: x[1])[:10]\n",
    "\n",
    "# Create dynamic visualizations using Plotly\n",
    "def create_bar_chart(data, title, color):\n",
    "    fig = px.bar(data, x='City', y='Temperature (°C)', title=title)\n",
    "    fig.update_traces(marker_color=color, marker_line_color='black', marker_line_width=1)\n",
    "    fig.update_xaxes(categoryorder='total ascending')\n",
    "    return fig\n",
    "\n",
    "# Define custom colors for the bars\n",
    "top_chart_color = 'rgb(75, 136, 230)'  # Blue\n",
    "bottom_chart_color = 'rgb(255, 87, 51)'  # Red\n",
    "\n",
    "# Create interactive bar charts for the top 10 and bottom 10 cities with custom colors\n",
    "top_10_max_df = pd.DataFrame(top_10_max, columns=['City', 'Temperature (°C)'])\n",
    "bottom_10_min_df = pd.DataFrame(bottom_10_min, columns=['City', 'Temperature (°C)'])\n",
    "\n",
    "top_chart = create_bar_chart(top_10_max_df, 'Top 10 Cities by Maximum Temperature', top_chart_color)\n",
    "bottom_chart = create_bar_chart(bottom_10_min_df, 'Bottom 10 Cities by Minimum Temperature', bottom_chart_color)\n",
    "\n",
    "# Display the interactive charts side by side\n",
    "fig = make_subplots(rows=1, cols=2, subplot_titles=('Top 10 Cities', 'Bottom 10 Cities'))\n",
    "fig.add_trace(top_chart.data[0], row=1, col=1)\n",
    "fig.add_trace(bottom_chart.data[0], row=1, col=2)\n",
    "\n",
    "fig.update_layout(showlegend=False)\n",
    "fig.show()\n"
   ]
  },
  {
   "cell_type": "code",
   "execution_count": null,
   "id": "0cbf809b",
   "metadata": {
    "execution": {
     "iopub.execute_input": "2023-09-14T15:47:16.167329Z",
     "iopub.status.busy": "2023-09-14T15:47:16.166688Z",
     "iopub.status.idle": "2023-09-14T15:47:16.730574Z",
     "shell.execute_reply": "2023-09-14T15:47:16.729460Z"
    },
    "papermill": {
     "duration": 0.58009,
     "end_time": "2023-09-14T15:47:16.733535",
     "exception": false,
     "start_time": "2023-09-14T15:47:16.153445",
     "status": "completed"
    },
    "tags": []
   },
   "outputs": [],
   "source": [
    "import pandas as pd\n",
    "import plotly.express as px\n",
    "from plotly.subplots import make_subplots\n",
    "import plotly.graph_objects as go\n",
    "\n",
    "# Assuming 'data' is your DataFrame containing the weather data\n",
    "\n",
    "# Create a list of all unique city names\n",
    "cities = data['location_name'].unique()\n",
    "\n",
    "# Create a color mapping for each city\n",
    "city_colors = {}\n",
    "color_palette = px.colors.qualitative.Plotly  # Use Plotly's qualitative color palette\n",
    "for i, city in enumerate(cities):\n",
    "    city_colors[city] = color_palette[i % len(color_palette)]\n",
    "\n",
    "# Initialize dictionaries to store the maximum and minimum temperatures for each city\n",
    "max_temperatures = {}\n",
    "min_temperatures = {}\n",
    "\n",
    "# Iterate through the cities and calculate the maximum and minimum temperatures\n",
    "for city in cities:\n",
    "    city_data = data[data['location_name'] == city]\n",
    "    max_temp = city_data['temperature_celsius'].max()\n",
    "    min_temp = city_data['temperature_celsius'].min()\n",
    "    max_temperatures[city] = max_temp\n",
    "    min_temperatures[city] = min_temp\n",
    "\n",
    "# Sort the cities by maximum and minimum temperatures\n",
    "top_10_max = sorted(max_temperatures.items(), key=lambda x: x[1], reverse=True)[:10]\n",
    "bottom_10_min = sorted(min_temperatures.items(), key=lambda x: x[1])[:10]\n",
    "\n",
    "# Create dynamic visualizations using Plotly\n",
    "def create_bar_chart(data, title, colors):\n",
    "    fig = px.bar(data, x='City', y='Temperature (°C)', title=title, color='City', color_discrete_map=colors)\n",
    "    fig.update_traces(marker_line_color='black', marker_line_width=1)\n",
    "    fig.update_xaxes(categoryorder='total ascending')\n",
    "    return fig\n",
    "\n",
    "# Create interactive bar charts for the top 10 and bottom 10 cities with unique colors\n",
    "top_10_max_df = pd.DataFrame(top_10_max, columns=['City', 'Temperature (°C)'])\n",
    "bottom_10_min_df = pd.DataFrame(bottom_10_min, columns=['City', 'Temperature (°C)'])\n",
    "\n",
    "top_chart = create_bar_chart(top_10_max_df, 'Top 10 Cities by Maximum Temperature', city_colors)\n",
    "bottom_chart = create_bar_chart(bottom_10_min_df, 'Bottom 10 Cities by Minimum Temperature', city_colors)\n",
    "\n",
    "# Display the interactive charts side by side\n",
    "fig = make_subplots(rows=1, cols=2, subplot_titles=('Top 10 Cities', 'Bottom 10 Cities'))\n",
    "fig.add_trace(top_chart.data[0], row=1, col=1)\n",
    "fig.add_trace(bottom_chart.data[0], row=1, col=2)\n",
    "\n",
    "fig.update_layout(showlegend=False)\n",
    "fig.show()\n"
   ]
  },
  {
   "cell_type": "code",
   "execution_count": null,
   "id": "c80262c8",
   "metadata": {
    "execution": {
     "iopub.execute_input": "2023-09-14T15:47:16.759453Z",
     "iopub.status.busy": "2023-09-14T15:47:16.758700Z",
     "iopub.status.idle": "2023-09-14T15:47:16.969898Z",
     "shell.execute_reply": "2023-09-14T15:47:16.968892Z"
    },
    "papermill": {
     "duration": 0.227538,
     "end_time": "2023-09-14T15:47:16.972823",
     "exception": false,
     "start_time": "2023-09-14T15:47:16.745285",
     "status": "completed"
    },
    "tags": []
   },
   "outputs": [],
   "source": [
    "import pandas as pd\n",
    "import plotly.express as px\n",
    "import ipywidgets as widgets\n",
    "from ipywidgets import interactive\n",
    "\n",
    "# Assuming 'data' is your DataFrame containing the weather data\n",
    "cities = data['location_name'].unique()\n",
    "city_selector = widgets.Dropdown(options=cities, description='Select a City:')\n",
    "def plot_temperature_trend(city_name):\n",
    "    city_data = data[data['location_name'] == city_name]\n",
    "    fig = px.line(city_data, x='last_updated', y='temperature_celsius', title=f'Temperature Trend in {city_name}')\n",
    "    fig.update_xaxes(title='Date')\n",
    "    fig.update_yaxes(title='Temperature (°C)')\n",
    "    fig.show()\n",
    "def update_plot(change):\n",
    "    city_name = change.new\n",
    "    plot_temperature_trend(city_name)\n",
    "city_selector.observe(update_plot, names='value')\n",
    "display(city_selector)\n",
    "plot_temperature_trend(cities[0])\n"
   ]
  },
  {
   "cell_type": "markdown",
   "id": "cd4cde58",
   "metadata": {
    "papermill": {
     "duration": 0.012095,
     "end_time": "2023-09-14T15:47:16.997317",
     "exception": false,
     "start_time": "2023-09-14T15:47:16.985222",
     "status": "completed"
    },
    "tags": []
   },
   "source": [
    "# 2.Multivariate Time Series Plot"
   ]
  },
  {
   "cell_type": "code",
   "execution_count": null,
   "id": "45c9e5f0",
   "metadata": {
    "execution": {
     "iopub.execute_input": "2023-09-14T15:47:17.024373Z",
     "iopub.status.busy": "2023-09-14T15:47:17.023345Z",
     "iopub.status.idle": "2023-09-14T15:47:18.901688Z",
     "shell.execute_reply": "2023-09-14T15:47:18.900651Z"
    },
    "papermill": {
     "duration": 1.894982,
     "end_time": "2023-09-14T15:47:18.904596",
     "exception": false,
     "start_time": "2023-09-14T15:47:17.009614",
     "status": "completed"
    },
    "tags": []
   },
   "outputs": [],
   "source": [
    "import pandas as pd\n",
    "import matplotlib.pyplot as plt\n",
    "\n",
    "\n",
    "\n",
    "# Decide whether to use all cities, top 10, or last 10 cities based on your criteria\n",
    "# Example: Select the top 10 cities with the highest temperature variation\n",
    "top_10_cities = data.groupby('location_name')['temperature_celsius'].std().nlargest(10).index\n",
    "\n",
    "# Create a multivariate time series plot for temperature, humidity, and wind speed\n",
    "plt.figure(figsize=(12, 8))\n",
    "for city in top_10_cities:\n",
    "    city_data = data[data['location_name'] == city]\n",
    "    plt.plot(city_data['last_updated'], city_data['temperature_celsius'], label=f'Temperature - {city}')\n",
    "    plt.plot(city_data['last_updated'], city_data['humidity'], label=f'Humidity - {city}')\n",
    "    plt.plot(city_data['last_updated'], city_data['wind_kph'], label=f'Wind Speed - {city}')\n",
    "\n",
    "plt.xlabel('Date')\n",
    "plt.ylabel('Values')\n",
    "plt.title('Temperature, Humidity, and Wind Speed Trends for Top 10 Cities')\n",
    "plt.legend()\n",
    "plt.grid(True)\n",
    "plt.xticks(rotation=45)\n",
    "plt.tight_layout()\n",
    "plt.show()\n"
   ]
  },
  {
   "cell_type": "code",
   "execution_count": null,
   "id": "33c5fd99",
   "metadata": {
    "execution": {
     "iopub.execute_input": "2023-09-14T15:47:18.945537Z",
     "iopub.status.busy": "2023-09-14T15:47:18.944416Z",
     "iopub.status.idle": "2023-09-14T15:47:19.181390Z",
     "shell.execute_reply": "2023-09-14T15:47:19.178494Z"
    },
    "papermill": {
     "duration": 0.260975,
     "end_time": "2023-09-14T15:47:19.184476",
     "exception": false,
     "start_time": "2023-09-14T15:47:18.923501",
     "status": "completed"
    },
    "tags": []
   },
   "outputs": [],
   "source": [
    "import pandas as pd\n",
    "import plotly.express as px\n",
    "\n",
    "\n",
    "\n",
    "# Decide whether to use all cities, top 10, or last 10 cities based on your criteria\n",
    "# Example: Select the top 10 cities with the highest temperature variation\n",
    "top_10_cities = data.groupby('location_name')['temperature_celsius'].std().nlargest(10).index\n",
    "\n",
    "# Create a dynamic multivariate time series plot using Plotly\n",
    "fig = px.line(data_frame=data[data['location_name'].isin(top_10_cities)],\n",
    "              x='last_updated',\n",
    "              y=['temperature_celsius', 'humidity', 'wind_kph'],\n",
    "              color='location_name',\n",
    "              labels={'temperature_celsius': 'Temperature (°C)', 'humidity': 'Humidity (%)', 'wind_kph': 'Wind Speed (kph)'},\n",
    "              title='Temperature, Humidity, and Wind Speed Trends for Top 10 Cities')\n",
    "fig.update_xaxes(title_text='Date')\n",
    "fig.update_yaxes(title_text='Values')\n",
    "fig.update_layout(legend_title_text='City')\n",
    "fig.show()\n"
   ]
  },
  {
   "cell_type": "markdown",
   "id": "bf17fceb",
   "metadata": {
    "papermill": {
     "duration": 0.020795,
     "end_time": "2023-09-14T15:47:19.228379",
     "exception": false,
     "start_time": "2023-09-14T15:47:19.207584",
     "status": "completed"
    },
    "tags": []
   },
   "source": [
    "# 3.Basemap toolkit for static maps"
   ]
  },
  {
   "cell_type": "code",
   "execution_count": null,
   "id": "67c7c394",
   "metadata": {
    "execution": {
     "iopub.execute_input": "2023-09-14T15:47:19.269830Z",
     "iopub.status.busy": "2023-09-14T15:47:19.269453Z",
     "iopub.status.idle": "2023-09-14T15:47:19.938002Z",
     "shell.execute_reply": "2023-09-14T15:47:19.936680Z"
    },
    "papermill": {
     "duration": 0.69246,
     "end_time": "2023-09-14T15:47:19.940916",
     "exception": false,
     "start_time": "2023-09-14T15:47:19.248456",
     "status": "completed"
    },
    "tags": []
   },
   "outputs": [],
   "source": [
    "import folium\n",
    "import pandas as pd\n",
    "from folium.plugins import HeatMap\n",
    "from IPython.display import display\n",
    "\n",
    "# Load the dataset (replace 'data.csv' with your dataset path)\n",
    "data = pd.read_csv('/kaggle/input/global-weather-repository/GlobalWeatherRepository.csv')\n",
    "\n",
    "# Create a Folium map centered at a specific latitude and longitude\n",
    "m = folium.Map(location=[0, 0], zoom_start=2)  # You can adjust the coordinates and zoom level\n",
    "\n",
    "# Create a list of coordinates and corresponding values (e.g., temperature)\n",
    "locations = data[['latitude', 'longitude']].values\n",
    "values = data['temperature_celsius'].values\n",
    "\n",
    "# Normalize the values for the heatmap (adjust as needed)\n",
    "max_value = max(values)\n",
    "normalized_values = [v / max_value for v in values]\n",
    "\n",
    "# Create a HeatMap layer on the map\n",
    "HeatMap(list(zip(locations[:, 0], locations[:, 1], normalized_values))).add_to(m)\n",
    "\n",
    "# Display the map in the Kaggle notebook\n",
    "display(m)\n"
   ]
  },
  {
   "cell_type": "code",
   "execution_count": null,
   "id": "f4aacb64",
   "metadata": {
    "execution": {
     "iopub.execute_input": "2023-09-14T15:47:19.989061Z",
     "iopub.status.busy": "2023-09-14T15:47:19.988053Z",
     "iopub.status.idle": "2023-09-14T15:47:20.176273Z",
     "shell.execute_reply": "2023-09-14T15:47:20.174988Z"
    },
    "papermill": {
     "duration": 0.215514,
     "end_time": "2023-09-14T15:47:20.179520",
     "exception": false,
     "start_time": "2023-09-14T15:47:19.964006",
     "status": "completed"
    },
    "tags": []
   },
   "outputs": [],
   "source": [
    "import pandas as pd\n",
    "import plotly.express as px\n",
    "\n",
    "# Load the dataset (replace 'data.csv' with your dataset path)\n",
    "data = pd.read_csv('/kaggle/input/global-weather-repository/GlobalWeatherRepository.csv')\n",
    "\n",
    "# Create an interactive temperature heatmap using Plotly Express\n",
    "fig = px.scatter_geo(\n",
    "    data,\n",
    "    lat='latitude',\n",
    "    lon='longitude',\n",
    "    color='temperature_celsius',\n",
    "    hover_name='location_name',\n",
    "    projection='natural earth',  # Adjust the projection as needed\n",
    "    title='Interactive Global Temperature Heatmap',\n",
    ")\n",
    "\n",
    "fig.update_geos(showcoastlines=True, coastlinecolor=\"Black\", showland=True, landcolor=\"white\")\n",
    "\n",
    "# Show the interactive map\n",
    "fig.show()\n"
   ]
  },
  {
   "cell_type": "code",
   "execution_count": null,
   "id": "1a75c4a5",
   "metadata": {
    "execution": {
     "iopub.execute_input": "2023-09-14T15:47:20.229083Z",
     "iopub.status.busy": "2023-09-14T15:47:20.228646Z",
     "iopub.status.idle": "2023-09-14T15:47:20.354716Z",
     "shell.execute_reply": "2023-09-14T15:47:20.353531Z"
    },
    "papermill": {
     "duration": 0.15425,
     "end_time": "2023-09-14T15:47:20.357147",
     "exception": false,
     "start_time": "2023-09-14T15:47:20.202897",
     "status": "completed"
    },
    "tags": []
   },
   "outputs": [],
   "source": [
    "import pandas as pd\n",
    "import plotly.express as px\n",
    "\n",
    "\n",
    "\n",
    "# Create a 3D scatter plot using Plotly Express\n",
    "fig = px.scatter_3d(\n",
    "    data,\n",
    "    x='temperature_celsius',\n",
    "    y='humidity',\n",
    "    z='wind_kph',\n",
    "    color='temperature_celsius',  # You can adjust the color scale based on a variable\n",
    "    size_max=10,  # Adjust the maximum marker size\n",
    "    labels={'temperature_celsius': 'Temperature (°C)', 'humidity': 'Humidity (%)', 'wind_kph': 'Wind Speed (kph)'},\n",
    "    title='3D Scatter Plot of Temperature, Humidity, and Wind Speed'\n",
    ")\n",
    "\n",
    "# Show the interactive 3D scatter plot\n",
    "fig.show()\n"
   ]
  },
  {
   "cell_type": "code",
   "execution_count": null,
   "id": "186bc93f",
   "metadata": {
    "execution": {
     "iopub.execute_input": "2023-09-14T15:47:20.408326Z",
     "iopub.status.busy": "2023-09-14T15:47:20.407870Z",
     "iopub.status.idle": "2023-09-14T15:47:20.545928Z",
     "shell.execute_reply": "2023-09-14T15:47:20.544829Z"
    },
    "papermill": {
     "duration": 0.167043,
     "end_time": "2023-09-14T15:47:20.548488",
     "exception": false,
     "start_time": "2023-09-14T15:47:20.381445",
     "status": "completed"
    },
    "tags": []
   },
   "outputs": [],
   "source": [
    "import pandas as pd\n",
    "import plotly.express as px\n",
    "\n",
    "# Create a 3D scatter plot using Plotly Express\n",
    "fig = px.scatter_3d(\n",
    "    data,\n",
    "    x='temperature_celsius',\n",
    "    y='humidity',\n",
    "    z='wind_kph',\n",
    "    color='humidity',  # Using humidity for color mapping\n",
    "    size='wind_kph',  # Using wind speed for marker size\n",
    "    labels={'temperature_celsius': 'Temperature (°C)', 'humidity': 'Humidity (%)', 'wind_kph': 'Wind Speed (kph)'},\n",
    "    title='Creative 3D Scatter Plot of Temperature, Humidity, and Wind Speed'\n",
    ")\n",
    "\n",
    "# Customizations\n",
    "fig.update_traces(marker=dict(symbol='diamond', opacity=0.7), selector=dict(mode='markers+text'))\n",
    "fig.update_layout(scene=dict(bgcolor='lightgray'))\n",
    "fig.update_xaxes(title_font=dict(size=16), title_text='Temperature (°C)')\n",
    "fig.update_yaxes(title_font=dict(size=16), title_text='Humidity (%)')\n",
    "fig.update_layout(scene=dict(zaxis_title_text='Wind Speed (kph)', zaxis_title_font=dict(size=16)))\n",
    "fig.update_layout(title_font=dict(size=20), title_x=0.5)\n",
    "\n",
    "# Show the interactive 3D scatter plot\n",
    "fig.show()\n"
   ]
  },
  {
   "cell_type": "markdown",
   "id": "a5cd8d6a",
   "metadata": {
    "papermill": {
     "duration": 0.025043,
     "end_time": "2023-09-14T15:47:20.598359",
     "exception": false,
     "start_time": "2023-09-14T15:47:20.573316",
     "status": "completed"
    },
    "tags": []
   },
   "source": [
    "# 4.UV Index Analysis"
   ]
  },
  {
   "cell_type": "code",
   "execution_count": null,
   "id": "18046f6e",
   "metadata": {
    "execution": {
     "iopub.execute_input": "2023-09-14T15:47:20.651397Z",
     "iopub.status.busy": "2023-09-14T15:47:20.650619Z",
     "iopub.status.idle": "2023-09-14T15:47:35.568599Z",
     "shell.execute_reply": "2023-09-14T15:47:35.567497Z"
    },
    "papermill": {
     "duration": 14.947373,
     "end_time": "2023-09-14T15:47:35.571341",
     "exception": false,
     "start_time": "2023-09-14T15:47:20.623968",
     "status": "completed"
    },
    "tags": []
   },
   "outputs": [],
   "source": [
    "import pandas as pd\n",
    "import matplotlib.pyplot as plt\n",
    "import seaborn as sns\n",
    "\n",
    "# Assuming you have a DataFrame named 'data' with columns 'uv_index' and 'last_updated'\n",
    "# Make sure 'last_updated' is in datetime format\n",
    "data['last_updated'] = pd.to_datetime(data['last_updated'])\n",
    "\n",
    "# Extract month and year for seasonal analysis\n",
    "data['month'] = data['last_updated'].dt.month\n",
    "data['year'] = data['last_updated'].dt.year\n",
    "\n",
    "# Line chart for UV index variations over time\n",
    "plt.figure(figsize=(12, 6))\n",
    "sns.lineplot(data=data, x='last_updated', y='uv_index')\n",
    "plt.title('UV Index Variations Over Time')\n",
    "plt.xlabel('Date')\n",
    "plt.ylabel('UV Index')\n",
    "plt.xticks(rotation=45)\n",
    "plt.tight_layout()\n",
    "plt.show()\n",
    "\n",
    "# Heatmap to visualize UV index variations by month and year\n",
    "uv_index_heatmap = data.pivot_table(values='uv_index', index='year', columns='month', aggfunc='mean')\n",
    "plt.figure(figsize=(12, 6))\n",
    "sns.heatmap(uv_index_heatmap, cmap='YlGnBu', annot=True, fmt='.1f', linewidths=0.5)\n",
    "plt.title('UV Index Variations by Month and Year')\n",
    "plt.xlabel('Month')\n",
    "plt.ylabel('Year')\n",
    "plt.show()\n"
   ]
  },
  {
   "cell_type": "code",
   "execution_count": null,
   "id": "4aaa6801",
   "metadata": {
    "execution": {
     "iopub.execute_input": "2023-09-14T15:47:35.629777Z",
     "iopub.status.busy": "2023-09-14T15:47:35.629349Z",
     "iopub.status.idle": "2023-09-14T15:47:35.839991Z",
     "shell.execute_reply": "2023-09-14T15:47:35.839010Z"
    },
    "papermill": {
     "duration": 0.244404,
     "end_time": "2023-09-14T15:47:35.843761",
     "exception": false,
     "start_time": "2023-09-14T15:47:35.599357",
     "status": "completed"
    },
    "tags": []
   },
   "outputs": [],
   "source": [
    "import pandas as pd\n",
    "import plotly.express as px\n",
    "import plotly.graph_objects as go\n",
    "\n",
    "# Assuming you have a DataFrame named 'data' with columns 'uv_index' and 'last_updated'\n",
    "# Make sure 'last_updated' is in datetime format\n",
    "data['last_updated'] = pd.to_datetime(data['last_updated'])\n",
    "\n",
    "# Create a line chart for UV index variations over time\n",
    "line_chart = px.line(data, x='last_updated', y='uv_index', title='UV Index Variations Over Time')\n",
    "line_chart.update_xaxes(title_text='Date')\n",
    "line_chart.update_yaxes(title_text='UV Index')\n",
    "\n",
    "# Create a heatmap to visualize UV index variations by month and year\n",
    "uv_index_heatmap = data.pivot_table(values='uv_index', index=data['last_updated'].dt.year, columns=data['last_updated'].dt.month, aggfunc='mean')\n",
    "heatmap = go.Figure(data=go.Heatmap(\n",
    "    z=uv_index_heatmap.values,\n",
    "    x=uv_index_heatmap.columns,\n",
    "    y=uv_index_heatmap.index,\n",
    "    colorscale='YlGnBu',\n",
    "    zmin=data['uv_index'].min(),\n",
    "    zmax=data['uv_index'].max(),\n",
    "    colorbar=dict(title='UV Index')\n",
    "))\n",
    "heatmap.update_layout(\n",
    "    title='UV Index Variations by Month and Year',\n",
    "    xaxis_title='Month',\n",
    "    yaxis_title='Year'\n",
    ")\n",
    "\n",
    "# Show the interactive plots\n",
    "line_chart.show()\n",
    "heatmap.show()\n"
   ]
  },
  {
   "cell_type": "markdown",
   "id": "da80bfc2",
   "metadata": {
    "papermill": {
     "duration": 0.030112,
     "end_time": "2023-09-14T15:47:35.902885",
     "exception": false,
     "start_time": "2023-09-14T15:47:35.872773",
     "status": "completed"
    },
    "tags": []
   },
   "source": [
    "# 5.Gust Speed Variation"
   ]
  },
  {
   "cell_type": "code",
   "execution_count": null,
   "id": "e3df06cf",
   "metadata": {
    "execution": {
     "iopub.execute_input": "2023-09-14T15:47:35.965283Z",
     "iopub.status.busy": "2023-09-14T15:47:35.964836Z",
     "iopub.status.idle": "2023-09-14T15:47:45.309158Z",
     "shell.execute_reply": "2023-09-14T15:47:45.308006Z"
    },
    "papermill": {
     "duration": 9.38133,
     "end_time": "2023-09-14T15:47:45.313964",
     "exception": false,
     "start_time": "2023-09-14T15:47:35.932634",
     "status": "completed"
    },
    "tags": []
   },
   "outputs": [],
   "source": [
    "# Box plot for gust speed variation across different locations\n",
    "plt.figure(figsize=(12, 6))\n",
    "sns.boxplot(data=data, x='location_name', y='gust_mph')\n",
    "plt.title('Gust Speed Variation Across Locations')\n",
    "plt.xlabel('Location Name')\n",
    "plt.ylabel('Gust Speed (mph)')\n",
    "plt.xticks(rotation=90)\n",
    "plt.tight_layout()\n",
    "plt.show()\n",
    "\n",
    "# Violin plot for gust speed distribution across different locations\n",
    "plt.figure(figsize=(12, 6))\n",
    "sns.violinplot(data=data, x='location_name', y='gust_mph')\n",
    "plt.title('Gust Speed Distribution Across Locations')\n",
    "plt.xlabel('Location Name')\n",
    "plt.ylabel('Gust Speed (mph)')\n",
    "plt.xticks(rotation=90)\n",
    "plt.tight_layout()\n",
    "plt.show()\n"
   ]
  },
  {
   "cell_type": "code",
   "execution_count": null,
   "id": "2e37f1c3",
   "metadata": {
    "execution": {
     "iopub.execute_input": "2023-09-14T15:47:45.394041Z",
     "iopub.status.busy": "2023-09-14T15:47:45.393190Z",
     "iopub.status.idle": "2023-09-14T15:47:45.937479Z",
     "shell.execute_reply": "2023-09-14T15:47:45.936403Z"
    },
    "papermill": {
     "duration": 0.58696,
     "end_time": "2023-09-14T15:47:45.940180",
     "exception": false,
     "start_time": "2023-09-14T15:47:45.353220",
     "status": "completed"
    },
    "tags": []
   },
   "outputs": [],
   "source": [
    "import pandas as pd\n",
    "import plotly.express as px\n",
    "import plotly.graph_objects as go\n",
    "\n",
    "# Assuming you have a DataFrame named 'data' with columns 'location_name' and 'gust_mph'\n",
    "\n",
    "# Box plot for gust speed variation across different locations\n",
    "box_plot = px.box(data, x='location_name', y='gust_mph', title='Gust Speed Variation Across Locations')\n",
    "box_plot.update_xaxes(title_text='Location Name')\n",
    "box_plot.update_yaxes(title_text='Gust Speed (mph)')\n",
    "box_plot.update_xaxes(categoryorder='total ascending')  # Order categories by total value\n",
    "\n",
    "# Violin plot for gust speed distribution across different locations\n",
    "violin_plot = px.violin(data, x='location_name', y='gust_mph', title='Gust Speed Distribution Across Locations')\n",
    "violin_plot.update_xaxes(title_text='Location Name')\n",
    "violin_plot.update_yaxes(title_text='Gust Speed (mph)')\n",
    "violin_plot.update_xaxes(categoryorder='total ascending')  # Order categories by total value\n",
    "\n",
    "# Show the interactive plots\n",
    "box_plot.show()\n",
    "violin_plot.show()\n"
   ]
  },
  {
   "cell_type": "markdown",
   "id": "1df8a829",
   "metadata": {
    "papermill": {
     "duration": 0.037897,
     "end_time": "2023-09-14T15:47:46.018719",
     "exception": false,
     "start_time": "2023-09-14T15:47:45.980822",
     "status": "completed"
    },
    "tags": []
   },
   "source": [
    "#########################################\n",
    "#                                     #\n",
    "#   Thank You for Your Assistance!    #\n",
    "#        Please Consider Upvoting     #\n",
    "#            If This Was Helpful.     #\n",
    "#                                     #\n",
    "#########################################"
   ]
  },
  {
   "cell_type": "code",
   "execution_count": null,
   "id": "1d62b2c0",
   "metadata": {
    "papermill": {
     "duration": 0.037767,
     "end_time": "2023-09-14T15:47:46.094721",
     "exception": false,
     "start_time": "2023-09-14T15:47:46.056954",
     "status": "completed"
    },
    "tags": []
   },
   "outputs": [],
   "source": []
  }
 ],
 "metadata": {
  "kernelspec": {
   "display_name": "Python 3 (ipykernel)",
   "language": "python",
   "name": "python3"
  },
  "language_info": {
   "codemirror_mode": {
    "name": "ipython",
    "version": 3
   },
   "file_extension": ".py",
   "mimetype": "text/x-python",
   "name": "python",
   "nbconvert_exporter": "python",
   "pygments_lexer": "ipython3",
   "version": "3.11.4"
  },
  "papermill": {
   "default_parameters": {},
   "duration": 37.956581,
   "end_time": "2023-09-14T15:47:46.855547",
   "environment_variables": {},
   "exception": null,
   "input_path": "__notebook__.ipynb",
   "output_path": "__notebook__.ipynb",
   "parameters": {},
   "start_time": "2023-09-14T15:47:08.898966",
   "version": "2.4.0"
  },
  "widgets": {
   "application/vnd.jupyter.widget-state+json": {
    "state": {
     "34d8cd11573c4a10841408df5795b916": {
      "model_module": "@jupyter-widgets/controls",
      "model_module_version": "1.5.0",
      "model_name": "DescriptionStyleModel",
      "state": {
       "_model_module": "@jupyter-widgets/controls",
       "_model_module_version": "1.5.0",
       "_model_name": "DescriptionStyleModel",
       "_view_count": null,
       "_view_module": "@jupyter-widgets/base",
       "_view_module_version": "1.2.0",
       "_view_name": "StyleView",
       "description_width": ""
      }
     },
     "885416aa334848c1bf16ba8b68829009": {
      "model_module": "@jupyter-widgets/controls",
      "model_module_version": "1.5.0",
      "model_name": "DropdownModel",
      "state": {
       "_dom_classes": [],
       "_model_module": "@jupyter-widgets/controls",
       "_model_module_version": "1.5.0",
       "_model_name": "DropdownModel",
       "_options_labels": [
        "Kabul",
        "Tirana",
        "Algiers",
        "Andorra La Vella",
        "Luanda",
        "Saint John's",
        "Buenos Aires",
        "Yerevan",
        "Canberra",
        "Vienna",
        "Baku",
        "Nassau",
        "Manama",
        "Dhaka",
        "Bridgetown",
        "Minsk",
        "Brussels",
        "Belmopan",
        "Porto-Novo",
        "Thimphu",
        "Sucre",
        "Sarajevo",
        "Gaborone",
        "Bras",
        "Bandar Seri Begawan",
        "Sofia",
        "Ouagadougou",
        "Bujumbura",
        "Ivory",
        "Praia",
        "Phnom Penh",
        "Bafoussam",
        "Ottawa",
        "Bangui",
        "N'djamena",
        "Santiago",
        "Beijing",
        "Bogot",
        "Moroni",
        "Brazzaville",
        "San Juan",
        "Zagreb",
        "Havana",
        "Nicosia",
        "Prague",
        "Kinshasa",
        "Copenhagen",
        "Djibouti",
        "Roseau",
        "Santo Domingo",
        "Quito",
        "Cairo",
        "San Salvador",
        "Malabo",
        "Asmara",
        "Tallinn",
        "Mbabane",
        "Addis Ababa",
        "Suva",
        "Helsinki",
        "Paris",
        "Libreville",
        "Banjul",
        "Tbilisi",
        "Berlin",
        "Accra",
        "Athens",
        "Saint George's",
        "Guatemala City",
        "Conakry",
        "Bissau",
        "Georgetown",
        "Port-Au-Prince",
        "Vatican City",
        "Tegucigalpa",
        "Budapest",
        "Hella",
        "New Delhi",
        "Jakarta",
        "Tehran",
        "Baghdad",
        "Dublin",
        "Jerusalem",
        "Rome",
        "Norman Gardens",
        "Tokyo",
        "Amman",
        "Astana",
        "Nairobi",
        "Tarawa",
        "Kuwait City",
        "Bishkek",
        "Laos",
        "Riga",
        "Beirut",
        "Maseru",
        "Monrovia",
        "Nan",
        "Vaduz",
        "Vilnius",
        "Luxembourg",
        "Antananarivo",
        "Lilongwe",
        "Kuala Lumpur",
        "Farukolhufunadhoo",
        "Bamako",
        "Valletta",
        "Majuro",
        "Nouakchott",
        "Port Louis",
        "Mexico City",
        "Palikir",
        "Chi-Chi-Erh",
        "Monaco",
        "Ulaanbaatar",
        "Podgorica",
        "Rabat",
        "Maputo",
        "Pathein",
        "Windhoek",
        "Yaren",
        "Kathmandu",
        "Amsterdam",
        "Wellington",
        "Managua",
        "Niamey",
        "Abuja",
        "Pyongyang",
        "Skopje",
        "Oslo",
        "Muscat",
        "Islamabad",
        "Adkip",
        "National",
        "Panama City",
        "Port Moresby",
        "Carreria",
        "Lima",
        "Manila",
        "Warsaw",
        "Lisbon",
        "Doha",
        "Bucharest",
        "Moscow",
        "Kigali",
        "Basseterre",
        "Castries",
        "Kingstown",
        "Apia",
        "San Marino",
        "'S-Gravenwezel",
        "Riyadh",
        "Dakar",
        "Belgrade",
        "Victoria",
        "Freetown",
        "Singapore",
        "Bratislava",
        "Ljubljana",
        "Honiara",
        "Mogadishu",
        "Pretoria",
        "Seoul",
        "Juba",
        "Madrid",
        "Colombo",
        "Khartoum",
        "Paramaribo",
        "Stockholm",
        "Bern",
        "Damascus",
        "Dushanbe",
        "Dodoma",
        "Bangkok",
        "Murong Timor",
        "Lom",
        "Nuku`Aloia",
        "Port Of Spain",
        "Tunis",
        "Ankara",
        "Ashgabat",
        "Funafuti",
        "Kampala",
        "Lviv",
        "Abu Dhabi",
        "London",
        "Washington Park",
        "Montevideo",
        "Tashkent",
        "Port Vila",
        "Caracas",
        "Hanoi",
        "Sanaa",
        "Lusaka",
        "Harare",
        "Kyiv",
        "Dili"
       ],
       "_view_count": null,
       "_view_module": "@jupyter-widgets/controls",
       "_view_module_version": "1.5.0",
       "_view_name": "DropdownView",
       "description": "Select a City:",
       "description_tooltip": null,
       "disabled": false,
       "index": 0,
       "layout": "IPY_MODEL_a144a03b88d047aaadd44943877fae11",
       "style": "IPY_MODEL_34d8cd11573c4a10841408df5795b916"
      }
     },
     "a144a03b88d047aaadd44943877fae11": {
      "model_module": "@jupyter-widgets/base",
      "model_module_version": "1.2.0",
      "model_name": "LayoutModel",
      "state": {
       "_model_module": "@jupyter-widgets/base",
       "_model_module_version": "1.2.0",
       "_model_name": "LayoutModel",
       "_view_count": null,
       "_view_module": "@jupyter-widgets/base",
       "_view_module_version": "1.2.0",
       "_view_name": "LayoutView",
       "align_content": null,
       "align_items": null,
       "align_self": null,
       "border": null,
       "bottom": null,
       "display": null,
       "flex": null,
       "flex_flow": null,
       "grid_area": null,
       "grid_auto_columns": null,
       "grid_auto_flow": null,
       "grid_auto_rows": null,
       "grid_column": null,
       "grid_gap": null,
       "grid_row": null,
       "grid_template_areas": null,
       "grid_template_columns": null,
       "grid_template_rows": null,
       "height": null,
       "justify_content": null,
       "justify_items": null,
       "left": null,
       "margin": null,
       "max_height": null,
       "max_width": null,
       "min_height": null,
       "min_width": null,
       "object_fit": null,
       "object_position": null,
       "order": null,
       "overflow": null,
       "overflow_x": null,
       "overflow_y": null,
       "padding": null,
       "right": null,
       "top": null,
       "visibility": null,
       "width": null
      }
     }
    },
    "version_major": 2,
    "version_minor": 0
   }
  }
 },
 "nbformat": 4,
 "nbformat_minor": 5
}
