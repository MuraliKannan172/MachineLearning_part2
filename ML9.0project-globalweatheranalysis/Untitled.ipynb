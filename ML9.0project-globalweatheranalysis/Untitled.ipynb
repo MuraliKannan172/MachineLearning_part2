{
 "cells": [
  {
   "cell_type": "code",
   "execution_count": null,
   "id": "489ac5de",
   "metadata": {},
   "outputs": [],
   "source": [
    "import plotly.express as px\n",
    "import plotly.graph_objects as go\n",
    "import pandas as pd"
   ]
  },
  {
   "cell_type": "code",
   "execution_count": null,
   "id": "73c137b9",
   "metadata": {},
   "outputs": [],
   "source": [
    "df = pd.read_csv(\"GlobalWeatherRepository.csv\")"
   ]
  },
  {
   "cell_type": "code",
   "execution_count": null,
   "id": "f0dd878d",
   "metadata": {},
   "outputs": [],
   "source": [
    "gauge_chart = go.Figure(go.Indicator(\n",
    "    domain = {'x': [0, 1], 'y': [0, 1]},\n",
    "    value = df['temperature_celsius'].iloc[0],\n",
    "    mode = \"gauge+number\",\n",
    "    title = {'text': 'Temperature (Celsius)'},\n",
    "    gauge = {'axis': {'range': [None, 40]},\n",
    "             'bar': {'color': \"darkblue\"},\n",
    "             'steps' : [\n",
    "                 {'range': [0, 10], 'color': \"lightgray\"},\n",
    "                 {'range': [10, 20], 'color': \"gray\"}],\n",
    "             }))\n",
    "gauge_chart.show()"
   ]
  },
  {
   "cell_type": "markdown",
   "id": "8236da9c",
   "metadata": {},
   "source": [
    "# Temperature Map"
   ]
  },
  {
   "cell_type": "code",
   "execution_count": null,
   "id": "d662c0ed",
   "metadata": {},
   "outputs": [],
   "source": [
    "mapbox_plot = px.scatter_mapbox(df, lat='latitude', lon='longitude', hover_name='location_name', color='temperature_celsius', title='Temperature Map')\n",
    "mapbox_plot.update_layout(mapbox_style='open-street-map')\n",
    "mapbox_plot.show()\n"
   ]
  },
  {
   "cell_type": "markdown",
   "id": "4c28ac66",
   "metadata": {},
   "source": [
    "# Average Temperature by Country"
   ]
  },
  {
   "cell_type": "code",
   "execution_count": null,
   "id": "34e28e4a",
   "metadata": {},
   "outputs": [],
   "source": [
    "bar_chart = px.bar(df, x='country', y='temperature_celsius', title='Average Temperature by Country')\n",
    "bar_chart.show()"
   ]
  },
  {
   "cell_type": "markdown",
   "id": "49be5912",
   "metadata": {},
   "source": [
    "# Temperature vs Humidity"
   ]
  },
  {
   "cell_type": "code",
   "execution_count": null,
   "id": "723e194c",
   "metadata": {},
   "outputs": [],
   "source": [
    "scatter_plot = px.scatter(df, x='temperature_celsius', y='humidity', color='country', title='Temperature vs Humidity')\n",
    "scatter_plot.show()"
   ]
  },
  {
   "cell_type": "markdown",
   "id": "67e20362",
   "metadata": {},
   "source": [
    "# Temperature Distribution"
   ]
  },
  {
   "cell_type": "code",
   "execution_count": null,
   "id": "b084f092",
   "metadata": {},
   "outputs": [],
   "source": [
    "histogram = px.histogram(df, x='temperature_celsius', nbins=20, title='Temperature Distribution')\n",
    "histogram.show()\n"
   ]
  },
  {
   "cell_type": "markdown",
   "id": "00ff668f",
   "metadata": {},
   "source": [
    "# 3D Scatter Plot"
   ]
  },
  {
   "cell_type": "code",
   "execution_count": null,
   "id": "ed923a8b",
   "metadata": {},
   "outputs": [],
   "source": [
    "scatter_3d = px.scatter_3d(df, x='temperature_celsius', y='humidity', z='wind_mph', color='country', title='3D Scatter Plot')\n",
    "scatter_3d.show()"
   ]
  },
  {
   "cell_type": "markdown",
   "id": "2ca50a32",
   "metadata": {},
   "source": [
    "# Wind Speed by Direction"
   ]
  },
  {
   "cell_type": "code",
   "execution_count": null,
   "id": "821dafc3",
   "metadata": {},
   "outputs": [],
   "source": [
    "polar_scatter = px.scatter_polar(df, r='wind_mph', theta='wind_direction', color='country', title='Wind Speed by Direction')\n",
    "polar_scatter.show()\n"
   ]
  },
  {
   "cell_type": "markdown",
   "id": "7b708b7f",
   "metadata": {},
   "source": [
    "# Calendar Heatmap"
   ]
  },
  {
   "cell_type": "code",
   "execution_count": null,
   "id": "56a10d4c",
   "metadata": {},
   "outputs": [],
   "source": [
    "calendar_heatmap = px.density_heatmap(df, x='last_updated', y='location_name', z='temperature_celsius', title='Calendar Heatmap')\n",
    "calendar_heatmap.show()"
   ]
  },
  {
   "cell_type": "markdown",
   "id": "f15134a5",
   "metadata": {},
   "source": [
    "# Temperature by Wind Direction (Polar Bar)"
   ]
  },
  {
   "cell_type": "code",
   "execution_count": null,
   "id": "c6b99810",
   "metadata": {},
   "outputs": [],
   "source": [
    "polar_bar = px.bar_polar(df, r='temperature_celsius', theta='wind_direction', color='country', title='Temperature by Wind Direction (Polar Bar)')\n",
    "polar_bar.show()"
   ]
  },
  {
   "cell_type": "code",
   "execution_count": null,
   "id": "293d891e",
   "metadata": {},
   "outputs": [],
   "source": []
  }
 ],
 "metadata": {
  "kernelspec": {
   "display_name": "cv2",
   "language": "python",
   "name": "cv"
  },
  "language_info": {
   "codemirror_mode": {
    "name": "ipython",
    "version": 3
   },
   "file_extension": ".py",
   "mimetype": "text/x-python",
   "name": "python",
   "nbconvert_exporter": "python",
   "pygments_lexer": "ipython3",
   "version": "3.10.13"
  }
 },
 "nbformat": 4,
 "nbformat_minor": 5
}
