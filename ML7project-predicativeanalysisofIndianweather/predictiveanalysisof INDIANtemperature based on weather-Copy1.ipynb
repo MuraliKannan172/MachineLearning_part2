{
 "cells": [
  {
   "cell_type": "code",
   "execution_count": null,
   "id": "61eea517",
   "metadata": {},
   "outputs": [],
   "source": [
    "import numpy as np\n",
    "import pandas as pd\n",
    "import matplotlib.pyplot as plt\n",
    "import seaborn as sns"
   ]
  },
  {
   "cell_type": "code",
   "execution_count": null,
   "id": "02e4a17c",
   "metadata": {},
   "outputs": [],
   "source": [
    "weather_data = pd.read_csv(\"IndianWeatherRepository.csv\")"
   ]
  },
  {
   "cell_type": "code",
   "execution_count": null,
   "id": "0f679b1e",
   "metadata": {},
   "outputs": [],
   "source": [
    "weather_data.describe()"
   ]
  },
  {
   "cell_type": "code",
   "execution_count": null,
   "id": "3eabe92b",
   "metadata": {},
   "outputs": [],
   "source": [
    "# Creating separate dataset for data containing numeric data for analysis\n",
    "\n",
    "weather_df= weather_data.select_dtypes(include = 'number')\n",
    "cols = weather_df.columns.values\n",
    "cols"
   ]
  },
  {
   "cell_type": "code",
   "execution_count": null,
   "id": "057a9e26",
   "metadata": {},
   "outputs": [],
   "source": [
    "#Removing redundant columns [such as temperature in celsius & fahrenheit]\n",
    "\n",
    "weather_df.drop(['temperature_fahrenheit','wind_mph','pressure_in','precip_mm','feels_like_fahrenheit','visibility_km','gust_mph'], \n",
    "                axis=1,inplace=True)\n",
    "weather_df.columns"
   ]
  },
  {
   "cell_type": "code",
   "execution_count": null,
   "id": "036b54aa",
   "metadata": {},
   "outputs": [],
   "source": [
    "weather_df.hist(bins=16, figsize=(20,15));"
   ]
  },
  {
   "cell_type": "code",
   "execution_count": null,
   "id": "8c05d948",
   "metadata": {},
   "outputs": [],
   "source": [
    "#Creating a correlation matrix\n",
    "sns.set(font_scale=0.9)\n",
    "\n",
    "corr_matrix = weather_df.corr(method=\"kendall\")\n",
    "\n",
    "plt.figure(figsize=(14, 14))\n",
    "heatmap= sns.heatmap(corr_matrix, vmin=-1, vmax=1, annot=True,cmap='BrBG',annot_kws={\"fontsize\":4},linewidths=0.1)\n",
    "heatmap.set_title('Correlation Heatmap', fontdict={'fontsize':2}, pad=12);\n"
   ]
  },
  {
   "cell_type": "code",
   "execution_count": null,
   "id": "e8b58cdf",
   "metadata": {},
   "outputs": [],
   "source": [
    "sorted_corr_mat = corr_matrix.abs().unstack().sort_values()\n",
    "sorted_corr_mat = sorted_corr_mat.to_frame(name=\"Correlation\")\n",
    "\n",
    "# Removing highly/ least correlated data (correlation>0.90 && <0.05)\n",
    "sorted_corr_mat=sorted_corr_mat.drop(sorted_corr_mat[sorted_corr_mat['Correlation']>0.95].index)\n",
    "sorted_corr_mat=sorted_corr_mat.drop(sorted_corr_mat[sorted_corr_mat['Correlation']<0.05].index)\n",
    "print(\"Fields with max correlation are:\\n\")\n",
    "\n",
    "sorted_corr_mat[sorted_corr_mat['Correlation']>0.80]"
   ]
  },
  {
   "cell_type": "code",
   "execution_count": null,
   "id": "c6da1800",
   "metadata": {},
   "outputs": [],
   "source": [
    "import plotly.express as px"
   ]
  },
  {
   "cell_type": "code",
   "execution_count": null,
   "id": "5aa2219b",
   "metadata": {
    "scrolled": false
   },
   "outputs": [],
   "source": [
    "# Average PM2.5 exposure\n",
    "\n",
    "fig1=px.bar(weather_data.groupby('region')['air_quality_PM2.5'].mean().reset_index(),\n",
    "           x='region', y='air_quality_PM2.5', \n",
    "           title='Average PM2.5 by State')\n",
    "fig1.show()"
   ]
  },
  {
   "cell_type": "code",
   "execution_count": null,
   "id": "6bfdfe5e",
   "metadata": {},
   "outputs": [],
   "source": [
    "# Average UV exposure\n",
    "\n",
    "fig2=px.bar(weather_data.groupby('region')['uv_index'].mean().reset_index(), x='region', y='uv_index', \n",
    "            title='Average uv_index exposure by State')\n",
    "fig2.show()"
   ]
  },
  {
   "cell_type": "code",
   "execution_count": null,
   "id": "f468556b",
   "metadata": {},
   "outputs": [],
   "source": [
    "# UV index scatterplot\n",
    "fig3 = px.scatter(weather_data, x='uv_index', y='temperature_celsius', color='region',\n",
    "                 title='Correlation Between UV Index and Temperature by Region',\n",
    "                 labels={'uv_index': 'UV Index', 'temperature_celsius': 'Temperature (Celsius)'})\n",
    "\n",
    "fig3.update_layout(xaxis_title='UV Index', yaxis_title='Temperature (Celsius)')\n",
    "\n",
    "fig3.show()"
   ]
  },
  {
   "cell_type": "code",
   "execution_count": null,
   "id": "0bfc67ff",
   "metadata": {},
   "outputs": [],
   "source": [
    "# Temperature \n",
    "fig4=px.bar(weather_data.groupby('region')['temperature_celsius'].mean().reset_index(), x='region', y='temperature_celsius', \n",
    "            title='Average temperature exposure by State')\n",
    "fig4.show()"
   ]
  },
  {
   "cell_type": "code",
   "execution_count": null,
   "id": "20e5b739",
   "metadata": {},
   "outputs": [],
   "source": [
    "# Temperature range\n",
    "plt.figure(figsize=(10, 10))\n",
    "temp_range=sns.boxplot(data=weather_data, y='region', x='temperature_celsius', \n",
    "                       flierprops={'marker': '*', 'markersize': 2, 'markerfacecolor': 'blue'})\n",
    "temp_range.set_title(\"Temperature range\")\n",
    "\n",
    "plt.show()"
   ]
  },
  {
   "cell_type": "markdown",
   "id": "abe81e9a",
   "metadata": {},
   "source": [
    "# Ploting Temperature vs various air quality metrices (Scaled)"
   ]
  },
  {
   "cell_type": "code",
   "execution_count": null,
   "id": "3f782437",
   "metadata": {},
   "outputs": [],
   "source": [
    "from sklearn import linear_model\n",
    "from sklearn.preprocessing import StandardScaler\n",
    "scale = StandardScaler()\n",
    "\n",
    "temp_weather=weather_data\n",
    "\n",
    "\n",
    "# Scatter Plots for Air Quality Metrics vs Temperature\n",
    "air_quality_metrics = ['air_quality_Carbon_Monoxide', 'air_quality_Ozone', 'air_quality_Nitrogen_dioxide', \n",
    "                       'air_quality_Sulphur_dioxide']\n",
    "\n",
    "plt.figure(figsize=(16, 16))\n",
    "plt.subplot(2, 2, 1)\n",
    "plt.plot( \"temperature_celsius\",\"air_quality_Carbon_Monoxide\", data=temp_weather,color=\"lightblue\",marker='o',ms=\"5\",ls = '',label=\"CO\")\n",
    "plt.xlabel(\"Temperature\")\n",
    "plt.ylabel(\"CO\")\n",
    "\n",
    "plt.subplot(2, 2, 2)\n",
    "plt.plot( \"temperature_celsius\",\"air_quality_Ozone\", data=temp_weather,color=\"r\",marker='*',ms=\"5\",ls = '',label=\"Ozone\")\n",
    "plt.xlabel(\"Temperature\")\n",
    "plt.ylabel(\"Ozone\")\n",
    "\n",
    "plt.subplot(2, 2, 3)\n",
    "plt.plot( \"temperature_celsius\",\"air_quality_Nitrogen_dioxide\", data=temp_weather,color=\"green\",marker='s',ms=\"5\",ls = '',label=\"NO2\")\n",
    "plt.xlabel(\"Temperature\")\n",
    "plt.ylabel(\"NO2\")\n",
    "\n",
    "plt.subplot(2, 2, 4)\n",
    "plt.plot( \"temperature_celsius\",\"air_quality_Sulphur_dioxide\", data=temp_weather,color=\"m\",marker='^',ms=\"5\",ls = '',label=\"SO2\")\n",
    "plt.xlabel(\"Temperature\")\n",
    "plt.ylabel(\"SO2\")\n",
    "\n",
    "plt.show()"
   ]
  },
  {
   "cell_type": "code",
   "execution_count": null,
   "id": "45746365",
   "metadata": {},
   "outputs": [],
   "source": [
    "weather_df.columns"
   ]
  },
  {
   "cell_type": "markdown",
   "id": "0a204efd",
   "metadata": {},
   "source": [
    "# Comparing various models that can be used to predict temparature"
   ]
  },
  {
   "cell_type": "code",
   "execution_count": null,
   "id": "f477a07b",
   "metadata": {},
   "outputs": [],
   "source": [
    "temperature_data = weather_df['temperature_celsius']\n",
    "temperature_factors = weather_df[['latitude','longitude','wind_kph','wind_degree','pressure_mb','precip_in','humidity','cloud']]"
   ]
  },
  {
   "cell_type": "code",
   "execution_count": null,
   "id": "d8093f25",
   "metadata": {},
   "outputs": [],
   "source": [
    "from sklearn.model_selection import train_test_split\n",
    "from sklearn.metrics import r2_score\n",
    "\n",
    "x_train, x_test, y_train, y_test = train_test_split(temperature_factors, temperature_data, test_size = 0.3, random_state = 0)"
   ]
  },
  {
   "cell_type": "code",
   "execution_count": null,
   "id": "d0dfc946",
   "metadata": {},
   "outputs": [],
   "source": [
    "#shapes of splitted data\n",
    "print(\"X_train:\",x_train.shape)\n",
    "print(\"X_test:\",x_test.shape)\n",
    "print(\"Y_train:\",y_train.shape)\n",
    "print(\"Y_test:\",y_test.shape)"
   ]
  },
  {
   "cell_type": "markdown",
   "id": "c40694b7",
   "metadata": {},
   "source": [
    "# Model 1 : MultiLinear Regression"
   ]
  },
  {
   "cell_type": "code",
   "execution_count": null,
   "id": "c656ba1e",
   "metadata": {},
   "outputs": [],
   "source": [
    "from sklearn.linear_model import LinearRegression\n",
    "\n",
    "linreg=LinearRegression()\n",
    "linreg.fit(x_train,y_train)\n",
    "\n",
    "y_pred=linreg.predict(x_test)\n",
    "\n",
    "model_accuracy=r2_score(y_test,y_pred)*100\n",
    "print(\" Accuracy of the model is %.2f\" %model_accuracy)"
   ]
  },
  {
   "cell_type": "markdown",
   "id": "8ff1602d",
   "metadata": {},
   "source": [
    "# Model 2 : LASSO Regression"
   ]
  },
  {
   "cell_type": "code",
   "execution_count": null,
   "id": "3742e25f",
   "metadata": {},
   "outputs": [],
   "source": [
    "from sklearn.linear_model import Lasso\n",
    "\n",
    "lasso = Lasso()\n",
    "lasso.fit(x_train, y_train)\n",
    "\n",
    "y_pred=lasso.predict(x_test)\n",
    "\n",
    "model_accuracy=r2_score(y_test,y_pred)*100\n",
    "print(\" Accuracy of the model is %.2f\" %model_accuracy)"
   ]
  },
  {
   "cell_type": "markdown",
   "id": "07298626",
   "metadata": {},
   "source": [
    "# Model 3: Decision Tree Based Regression"
   ]
  },
  {
   "cell_type": "code",
   "execution_count": null,
   "id": "4e2225f3",
   "metadata": {},
   "outputs": [],
   "source": [
    "from sklearn.tree import DecisionTreeRegressor\n",
    "regressor = DecisionTreeRegressor(random_state=0)\n",
    "regressor.fit(x_train,y_train)\n",
    "\n",
    "y_pred=regressor.predict(x_test)\n",
    "\n",
    "model_accuracy=r2_score(y_test,y_pred)*100\n",
    "print(\" Accuracy of the model is %.2f\" %model_accuracy)"
   ]
  },
  {
   "cell_type": "markdown",
   "id": "7754987b",
   "metadata": {},
   "source": [
    "# Model 4: Random Forest"
   ]
  },
  {
   "cell_type": "code",
   "execution_count": null,
   "id": "3c6c1f15",
   "metadata": {},
   "outputs": [],
   "source": [
    "from sklearn.ensemble import RandomForestRegressor\n",
    "regressor = RandomForestRegressor(n_estimators=100,random_state=0)\n",
    "\n",
    "regressor.fit(x_train,y_train)\n",
    "y_pred=regressor.predict(x_test)\n",
    "\n",
    "model_accuracy=r2_score(y_test,y_pred)*100\n",
    "print(\" Accuracy of the model is %.2f\" %model_accuracy)"
   ]
  },
  {
   "cell_type": "markdown",
   "id": "2db17d74",
   "metadata": {},
   "source": [
    "# Model 5: SGD"
   ]
  },
  {
   "cell_type": "code",
   "execution_count": null,
   "id": "7b14e873",
   "metadata": {},
   "outputs": [],
   "source": [
    "from sklearn.ensemble import GradientBoostingRegressor\n",
    "gradient_booster = GradientBoostingRegressor(\n",
    "    n_estimators=500,learning_rate=0.1,random_state=100,\n",
    "    max_features=5,loss='squared_error',)\n",
    "gradient_booster.fit(x_train, y_train)\n",
    "\n",
    "y_pred=gradient_booster.predict(x_test)\n",
    "\n",
    "model_accuracy=r2_score(y_test,y_pred)*100\n",
    "print(\" Accuracy of the model is %.2f\" %model_accuracy)"
   ]
  },
  {
   "cell_type": "code",
   "execution_count": null,
   "id": "7684011e",
   "metadata": {},
   "outputs": [],
   "source": []
  }
 ],
 "metadata": {
  "kernelspec": {
   "display_name": "cv2",
   "language": "python",
   "name": "cv"
  },
  "language_info": {
   "codemirror_mode": {
    "name": "ipython",
    "version": 3
   },
   "file_extension": ".py",
   "mimetype": "text/x-python",
   "name": "python",
   "nbconvert_exporter": "python",
   "pygments_lexer": "ipython3",
   "version": "3.10.13"
  }
 },
 "nbformat": 4,
 "nbformat_minor": 5
}
