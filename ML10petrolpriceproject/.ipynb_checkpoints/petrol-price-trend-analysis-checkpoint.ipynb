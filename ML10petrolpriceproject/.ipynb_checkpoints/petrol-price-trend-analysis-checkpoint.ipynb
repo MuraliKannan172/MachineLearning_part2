{
 "cells": [
  {
   "cell_type": "markdown",
   "id": "4a42eee9",
   "metadata": {
    "papermill": {
     "duration": 0.006759,
     "end_time": "2024-01-08T05:39:38.403904",
     "exception": false,
     "start_time": "2024-01-08T05:39:38.397145",
     "status": "completed"
    },
    "tags": []
   },
   "source": [
    "<div style=\"background-image: url('https://www.semana.com/resizer/nGgx6guzYcV1U7tLC5oAC4kl3wY=/1280x720/smart/filters:format(jpg):quality(80)/cloudfront-us-east-1.images.arcpublishing.com/semana/YDT5DSVK7FCHLLTFKH42V3KICQ.jpg'); background-size: cover; background-position: bottom; padding: 20px; border-radius: 10px; box-shadow: 0 4px 6px rgba(0, 0, 0, 0.1);\">\n",
    "    <h1 style=\"text-align: center; font-size: 38px; color: black; text-shadow: 2px 2px 4px rgba(0, 0, 0, 0.3); margin-bottom: 10px;\"> ⛽Petrol Price Analysis ⛽📈</h1>\n",
    "    <p style=\"text-align: center; font-size: 20px; color: black;\">Explore data, discover insights, and unleash the power of analysis.</p>\n",
    "</div>\n"
   ]
  },
  {
   "cell_type": "markdown",
   "id": "8ee92c3f",
   "metadata": {
    "papermill": {
     "duration": 0.005679,
     "end_time": "2024-01-08T05:39:38.415922",
     "exception": false,
     "start_time": "2024-01-08T05:39:38.410243",
     "status": "completed"
    },
    "tags": []
   },
   "source": [
    "<div style=\"background-color: white; padding: 20px; color: #11aeec; border-radius: 10px; box-shadow: 0 4px 6px rgba(0, 0, 0, 0.1);\">\n",
    "    <h1 style=\"font-family: comic sans MS; font-size: 28px;\"> <strong>What is Petroleum ?</strong></h1>\n",
    "    <p style=\"text-align: left; font-size: 18px; color: #11aeec;\">1. Petroleum is a natural liquid formed from ancient plankton under heat and pressure in Earth's crust.<br>\n",
    "2. Its use dates back over 5000 years, for fires and warfare in early history.<br>\n",
    "3. While initially irrelevant to the world economy, its importance grew in the 19th century.<br>\n",
    "4. Whale oil and wood remained dominant for lighting and heating until kerosene, derived from crude oil, became popular.<br>\n",
    "5. By the 20th century, petroleum became the most valuable commodity traded globally.</p>\n",
    "</div>\n"
   ]
  },
  {
   "cell_type": "markdown",
   "id": "a89dc31c",
   "metadata": {
    "papermill": {
     "duration": 0.005553,
     "end_time": "2024-01-08T05:39:38.427381",
     "exception": false,
     "start_time": "2024-01-08T05:39:38.421828",
     "status": "completed"
    },
    "tags": []
   },
   "source": [
    "<img src=\"https://www.smfmotor.com/wp-content/uploads/2020/06/woman-fills-petrol-into-the-car-at-a-gas-station-PSQ8JYV-smaller-.jpg\" alt=\"Petrol Image\" style=\"box-shadow: 5px 5px 5px grey;\">\n"
   ]
  },
  {
   "cell_type": "code",
   "execution_count": 1,
   "id": "2d338a0d",
   "metadata": {
    "execution": {
     "iopub.execute_input": "2024-01-08T05:39:38.441328Z",
     "iopub.status.busy": "2024-01-08T05:39:38.440928Z",
     "iopub.status.idle": "2024-01-08T05:39:40.089335Z",
     "shell.execute_reply": "2024-01-08T05:39:40.088285Z"
    },
    "papermill": {
     "duration": 1.658544,
     "end_time": "2024-01-08T05:39:40.091892",
     "exception": false,
     "start_time": "2024-01-08T05:39:38.433348",
     "status": "completed"
    },
    "tags": []
   },
   "outputs": [],
   "source": [
    "import pandas as pd \n",
    "import plotly.express as px"
   ]
  },
  {
   "cell_type": "code",
   "execution_count": 2,
   "id": "2851867b",
   "metadata": {
    "execution": {
     "iopub.execute_input": "2024-01-08T05:39:40.106535Z",
     "iopub.status.busy": "2024-01-08T05:39:40.105371Z",
     "iopub.status.idle": "2024-01-08T05:39:40.127996Z",
     "shell.execute_reply": "2024-01-08T05:39:40.126828Z"
    },
    "papermill": {
     "duration": 0.032875,
     "end_time": "2024-01-08T05:39:40.130869",
     "exception": false,
     "start_time": "2024-01-08T05:39:40.097994",
     "status": "completed"
    },
    "tags": []
   },
   "outputs": [],
   "source": [
    "df = pd.read_csv('/kaggle/input/top-15-indian-states-petrol-prices-2017-2022/petrol_price.csv')"
   ]
  },
  {
   "cell_type": "code",
   "execution_count": 3,
   "id": "d0cf2955",
   "metadata": {
    "execution": {
     "iopub.execute_input": "2024-01-08T05:39:40.145133Z",
     "iopub.status.busy": "2024-01-08T05:39:40.144689Z",
     "iopub.status.idle": "2024-01-08T05:39:40.187826Z",
     "shell.execute_reply": "2024-01-08T05:39:40.186631Z"
    },
    "papermill": {
     "duration": 0.053357,
     "end_time": "2024-01-08T05:39:40.190550",
     "exception": false,
     "start_time": "2024-01-08T05:39:40.137193",
     "status": "completed"
    },
    "tags": []
   },
   "outputs": [
    {
     "data": {
      "text/html": [
       "<div>\n",
       "<style scoped>\n",
       "    .dataframe tbody tr th:only-of-type {\n",
       "        vertical-align: middle;\n",
       "    }\n",
       "\n",
       "    .dataframe tbody tr th {\n",
       "        vertical-align: top;\n",
       "    }\n",
       "\n",
       "    .dataframe thead th {\n",
       "        text-align: right;\n",
       "    }\n",
       "</style>\n",
       "<table border=\"1\" class=\"dataframe\">\n",
       "  <thead>\n",
       "    <tr style=\"text-align: right;\">\n",
       "      <th></th>\n",
       "      <th>date</th>\n",
       "      <th>Maharashtra</th>\n",
       "      <th>Haryana</th>\n",
       "      <th>Delhi</th>\n",
       "      <th>Gujarat</th>\n",
       "      <th>Karnataka</th>\n",
       "      <th>Telangana</th>\n",
       "      <th>Rajasthan</th>\n",
       "      <th>Punjab</th>\n",
       "      <th>West_bengal</th>\n",
       "      <th>Tamil Nadu</th>\n",
       "      <th>Uttar Pradesh</th>\n",
       "      <th>Madhya Pradesh</th>\n",
       "      <th>Kerala</th>\n",
       "      <th>Assam</th>\n",
       "      <th>Bihar</th>\n",
       "    </tr>\n",
       "  </thead>\n",
       "  <tbody>\n",
       "    <tr>\n",
       "      <th>66</th>\n",
       "      <td>2022_Sep</td>\n",
       "      <td>106.31</td>\n",
       "      <td>97.43</td>\n",
       "      <td>96.72</td>\n",
       "      <td>96.63</td>\n",
       "      <td>101.94</td>\n",
       "      <td>109.66</td>\n",
       "      <td>108.48</td>\n",
       "      <td>96.18</td>\n",
       "      <td>106.03</td>\n",
       "      <td>102.63</td>\n",
       "      <td>96.57</td>\n",
       "      <td>108.65</td>\n",
       "      <td>107.71</td>\n",
       "      <td>96.01</td>\n",
       "      <td>107.24</td>\n",
       "    </tr>\n",
       "    <tr>\n",
       "      <th>7</th>\n",
       "      <td>2017_Sep</td>\n",
       "      <td>78.38</td>\n",
       "      <td>68.82</td>\n",
       "      <td>69.26</td>\n",
       "      <td>71.05</td>\n",
       "      <td>70.34</td>\n",
       "      <td>73.34</td>\n",
       "      <td>71.88</td>\n",
       "      <td>74.25</td>\n",
       "      <td>72.02</td>\n",
       "      <td>71.78</td>\n",
       "      <td>71.61</td>\n",
       "      <td>75.63</td>\n",
       "      <td>73.07</td>\n",
       "      <td>71.17</td>\n",
       "      <td>73.61</td>\n",
       "    </tr>\n",
       "    <tr>\n",
       "      <th>4</th>\n",
       "      <td>2017_May</td>\n",
       "      <td>77.46</td>\n",
       "      <td>67.84</td>\n",
       "      <td>68.09</td>\n",
       "      <td>71.15</td>\n",
       "      <td>73.01</td>\n",
       "      <td>72.68</td>\n",
       "      <td>71.12</td>\n",
       "      <td>73.41</td>\n",
       "      <td>70.68</td>\n",
       "      <td>71.17</td>\n",
       "      <td>70.74</td>\n",
       "      <td>75.87</td>\n",
       "      <td>72.43</td>\n",
       "      <td>71.41</td>\n",
       "      <td>71.16</td>\n",
       "    </tr>\n",
       "    <tr>\n",
       "      <th>55</th>\n",
       "      <td>2021_Sep</td>\n",
       "      <td>107.39</td>\n",
       "      <td>98.48</td>\n",
       "      <td>101.34</td>\n",
       "      <td>98.39</td>\n",
       "      <td>104.84</td>\n",
       "      <td>105.40</td>\n",
       "      <td>108.27</td>\n",
       "      <td>102.40</td>\n",
       "      <td>101.72</td>\n",
       "      <td>99.08</td>\n",
       "      <td>98.43</td>\n",
       "      <td>109.77</td>\n",
       "      <td>103.56</td>\n",
       "      <td>97.18</td>\n",
       "      <td>103.89</td>\n",
       "    </tr>\n",
       "    <tr>\n",
       "      <th>20</th>\n",
       "      <td>2019_Apr</td>\n",
       "      <td>78.43</td>\n",
       "      <td>72.36</td>\n",
       "      <td>72.86</td>\n",
       "      <td>70.39</td>\n",
       "      <td>75.23</td>\n",
       "      <td>77.26</td>\n",
       "      <td>73.56</td>\n",
       "      <td>72.68</td>\n",
       "      <td>74.88</td>\n",
       "      <td>75.62</td>\n",
       "      <td>72.05</td>\n",
       "      <td>75.91</td>\n",
       "      <td>76.13</td>\n",
       "      <td>72.39</td>\n",
       "      <td>76.82</td>\n",
       "    </tr>\n",
       "  </tbody>\n",
       "</table>\n",
       "</div>"
      ],
      "text/plain": [
       "        date  Maharashtra   Haryana   Delhi  Gujarat  Karnataka  Telangana  \\\n",
       "66  2022_Sep       106.31     97.43   96.72    96.63     101.94     109.66   \n",
       "7   2017_Sep        78.38     68.82   69.26    71.05      70.34      73.34   \n",
       "4   2017_May        77.46     67.84   68.09    71.15      73.01      72.68   \n",
       "55  2021_Sep       107.39     98.48  101.34    98.39     104.84     105.40   \n",
       "20  2019_Apr        78.43     72.36   72.86    70.39      75.23      77.26   \n",
       "\n",
       "    Rajasthan  Punjab  West_bengal  Tamil Nadu   Uttar Pradesh  \\\n",
       "66     108.48   96.18       106.03      102.63           96.57   \n",
       "7       71.88   74.25        72.02       71.78           71.61   \n",
       "4       71.12   73.41        70.68       71.17           70.74   \n",
       "55     108.27  102.40       101.72       99.08           98.43   \n",
       "20      73.56   72.68        74.88       75.62           72.05   \n",
       "\n",
       "    Madhya Pradesh  Kerala  Assam   Bihar  \n",
       "66          108.65  107.71  96.01  107.24  \n",
       "7            75.63   73.07  71.17   73.61  \n",
       "4            75.87   72.43  71.41   71.16  \n",
       "55          109.77  103.56  97.18  103.89  \n",
       "20           75.91   76.13  72.39   76.82  "
      ]
     },
     "execution_count": 3,
     "metadata": {},
     "output_type": "execute_result"
    }
   ],
   "source": [
    "df.sample(5)"
   ]
  },
  {
   "cell_type": "code",
   "execution_count": 4,
   "id": "0ea75224",
   "metadata": {
    "execution": {
     "iopub.execute_input": "2024-01-08T05:39:40.205917Z",
     "iopub.status.busy": "2024-01-08T05:39:40.204840Z",
     "iopub.status.idle": "2024-01-08T05:39:40.230300Z",
     "shell.execute_reply": "2024-01-08T05:39:40.228970Z"
    },
    "papermill": {
     "duration": 0.036199,
     "end_time": "2024-01-08T05:39:40.233280",
     "exception": false,
     "start_time": "2024-01-08T05:39:40.197081",
     "status": "completed"
    },
    "tags": []
   },
   "outputs": [
    {
     "name": "stdout",
     "output_type": "stream",
     "text": [
      "<class 'pandas.core.frame.DataFrame'>\n",
      "RangeIndex: 67 entries, 0 to 66\n",
      "Data columns (total 16 columns):\n",
      " #   Column          Non-Null Count  Dtype  \n",
      "---  ------          --------------  -----  \n",
      " 0   date            67 non-null     object \n",
      " 1   Maharashtra     67 non-null     float64\n",
      " 2    Haryana        67 non-null     float64\n",
      " 3   Delhi           67 non-null     float64\n",
      " 4   Gujarat         67 non-null     float64\n",
      " 5   Karnataka       67 non-null     float64\n",
      " 6   Telangana       67 non-null     float64\n",
      " 7   Rajasthan       67 non-null     float64\n",
      " 8   Punjab          67 non-null     float64\n",
      " 9   West_bengal     67 non-null     float64\n",
      " 10  Tamil Nadu      67 non-null     float64\n",
      " 11   Uttar Pradesh  67 non-null     float64\n",
      " 12  Madhya Pradesh  67 non-null     float64\n",
      " 13  Kerala          67 non-null     float64\n",
      " 14  Assam           67 non-null     float64\n",
      " 15  Bihar           67 non-null     float64\n",
      "dtypes: float64(15), object(1)\n",
      "memory usage: 8.5+ KB\n"
     ]
    }
   ],
   "source": [
    "df.info()"
   ]
  },
  {
   "cell_type": "code",
   "execution_count": 5,
   "id": "13258038",
   "metadata": {
    "execution": {
     "iopub.execute_input": "2024-01-08T05:39:40.249224Z",
     "iopub.status.busy": "2024-01-08T05:39:40.248171Z",
     "iopub.status.idle": "2024-01-08T05:39:40.302152Z",
     "shell.execute_reply": "2024-01-08T05:39:40.301340Z"
    },
    "papermill": {
     "duration": 0.064075,
     "end_time": "2024-01-08T05:39:40.304393",
     "exception": false,
     "start_time": "2024-01-08T05:39:40.240318",
     "status": "completed"
    },
    "tags": []
   },
   "outputs": [
    {
     "data": {
      "text/html": [
       "<div>\n",
       "<style scoped>\n",
       "    .dataframe tbody tr th:only-of-type {\n",
       "        vertical-align: middle;\n",
       "    }\n",
       "\n",
       "    .dataframe tbody tr th {\n",
       "        vertical-align: top;\n",
       "    }\n",
       "\n",
       "    .dataframe thead th {\n",
       "        text-align: right;\n",
       "    }\n",
       "</style>\n",
       "<table border=\"1\" class=\"dataframe\">\n",
       "  <thead>\n",
       "    <tr style=\"text-align: right;\">\n",
       "      <th></th>\n",
       "      <th>Maharashtra</th>\n",
       "      <th>Haryana</th>\n",
       "      <th>Delhi</th>\n",
       "      <th>Gujarat</th>\n",
       "      <th>Karnataka</th>\n",
       "      <th>Telangana</th>\n",
       "      <th>Rajasthan</th>\n",
       "      <th>Punjab</th>\n",
       "      <th>West_bengal</th>\n",
       "      <th>Tamil Nadu</th>\n",
       "      <th>Uttar Pradesh</th>\n",
       "      <th>Madhya Pradesh</th>\n",
       "      <th>Kerala</th>\n",
       "      <th>Assam</th>\n",
       "      <th>Bihar</th>\n",
       "    </tr>\n",
       "  </thead>\n",
       "  <tbody>\n",
       "    <tr>\n",
       "      <th>count</th>\n",
       "      <td>67.000000</td>\n",
       "      <td>67.000000</td>\n",
       "      <td>67.000000</td>\n",
       "      <td>67.000000</td>\n",
       "      <td>67.000000</td>\n",
       "      <td>67.000000</td>\n",
       "      <td>67.000000</td>\n",
       "      <td>67.000000</td>\n",
       "      <td>67.000000</td>\n",
       "      <td>67.000000</td>\n",
       "      <td>67.000000</td>\n",
       "      <td>67.000000</td>\n",
       "      <td>67.000000</td>\n",
       "      <td>67.000000</td>\n",
       "      <td>67.000000</td>\n",
       "    </tr>\n",
       "    <tr>\n",
       "      <th>mean</th>\n",
       "      <td>89.094030</td>\n",
       "      <td>80.561343</td>\n",
       "      <td>81.278209</td>\n",
       "      <td>79.951343</td>\n",
       "      <td>84.020597</td>\n",
       "      <td>86.935672</td>\n",
       "      <td>86.625373</td>\n",
       "      <td>83.088955</td>\n",
       "      <td>84.542836</td>\n",
       "      <td>84.281940</td>\n",
       "      <td>81.551045</td>\n",
       "      <td>88.570597</td>\n",
       "      <td>85.668657</td>\n",
       "      <td>82.019254</td>\n",
       "      <td>86.291343</td>\n",
       "    </tr>\n",
       "    <tr>\n",
       "      <th>std</th>\n",
       "      <td>13.338161</td>\n",
       "      <td>11.747156</td>\n",
       "      <td>12.036261</td>\n",
       "      <td>11.988457</td>\n",
       "      <td>13.031010</td>\n",
       "      <td>14.264798</td>\n",
       "      <td>15.036667</td>\n",
       "      <td>11.015556</td>\n",
       "      <td>13.359466</td>\n",
       "      <td>12.260133</td>\n",
       "      <td>10.898700</td>\n",
       "      <td>14.080720</td>\n",
       "      <td>13.778086</td>\n",
       "      <td>10.526686</td>\n",
       "      <td>13.352867</td>\n",
       "    </tr>\n",
       "    <tr>\n",
       "      <th>min</th>\n",
       "      <td>74.300000</td>\n",
       "      <td>62.680000</td>\n",
       "      <td>63.090000</td>\n",
       "      <td>64.770000</td>\n",
       "      <td>64.240000</td>\n",
       "      <td>67.020000</td>\n",
       "      <td>65.770000</td>\n",
       "      <td>67.930000</td>\n",
       "      <td>66.140000</td>\n",
       "      <td>65.460000</td>\n",
       "      <td>66.530000</td>\n",
       "      <td>69.620000</td>\n",
       "      <td>66.930000</td>\n",
       "      <td>65.830000</td>\n",
       "      <td>65.930000</td>\n",
       "    </tr>\n",
       "    <tr>\n",
       "      <th>25%</th>\n",
       "      <td>78.350000</td>\n",
       "      <td>71.390000</td>\n",
       "      <td>71.595000</td>\n",
       "      <td>70.210000</td>\n",
       "      <td>73.745000</td>\n",
       "      <td>76.020000</td>\n",
       "      <td>74.170000</td>\n",
       "      <td>73.510000</td>\n",
       "      <td>74.030000</td>\n",
       "      <td>74.480000</td>\n",
       "      <td>72.150000</td>\n",
       "      <td>77.070000</td>\n",
       "      <td>75.025000</td>\n",
       "      <td>72.530000</td>\n",
       "      <td>75.995000</td>\n",
       "    </tr>\n",
       "    <tr>\n",
       "      <th>50%</th>\n",
       "      <td>83.760000</td>\n",
       "      <td>76.520000</td>\n",
       "      <td>76.310000</td>\n",
       "      <td>75.680000</td>\n",
       "      <td>78.770000</td>\n",
       "      <td>80.900000</td>\n",
       "      <td>79.260000</td>\n",
       "      <td>81.490000</td>\n",
       "      <td>79.200000</td>\n",
       "      <td>79.260000</td>\n",
       "      <td>77.110000</td>\n",
       "      <td>83.220000</td>\n",
       "      <td>79.470000</td>\n",
       "      <td>78.510000</td>\n",
       "      <td>82.050000</td>\n",
       "    </tr>\n",
       "    <tr>\n",
       "      <th>75%</th>\n",
       "      <td>99.145000</td>\n",
       "      <td>91.025000</td>\n",
       "      <td>92.830000</td>\n",
       "      <td>92.030000</td>\n",
       "      <td>95.930000</td>\n",
       "      <td>98.010000</td>\n",
       "      <td>99.370000</td>\n",
       "      <td>93.540000</td>\n",
       "      <td>93.630000</td>\n",
       "      <td>95.115000</td>\n",
       "      <td>90.705000</td>\n",
       "      <td>100.910000</td>\n",
       "      <td>96.495000</td>\n",
       "      <td>89.600000</td>\n",
       "      <td>95.340000</td>\n",
       "    </tr>\n",
       "    <tr>\n",
       "      <th>max</th>\n",
       "      <td>120.510000</td>\n",
       "      <td>106.620000</td>\n",
       "      <td>109.690000</td>\n",
       "      <td>106.530000</td>\n",
       "      <td>113.560000</td>\n",
       "      <td>119.490000</td>\n",
       "      <td>118.030000</td>\n",
       "      <td>110.610000</td>\n",
       "      <td>115.120000</td>\n",
       "      <td>110.850000</td>\n",
       "      <td>106.610000</td>\n",
       "      <td>118.460000</td>\n",
       "      <td>117.190000</td>\n",
       "      <td>105.740000</td>\n",
       "      <td>116.230000</td>\n",
       "    </tr>\n",
       "  </tbody>\n",
       "</table>\n",
       "</div>"
      ],
      "text/plain": [
       "       Maharashtra     Haryana       Delhi     Gujarat   Karnataka  \\\n",
       "count    67.000000   67.000000   67.000000   67.000000   67.000000   \n",
       "mean     89.094030   80.561343   81.278209   79.951343   84.020597   \n",
       "std      13.338161   11.747156   12.036261   11.988457   13.031010   \n",
       "min      74.300000   62.680000   63.090000   64.770000   64.240000   \n",
       "25%      78.350000   71.390000   71.595000   70.210000   73.745000   \n",
       "50%      83.760000   76.520000   76.310000   75.680000   78.770000   \n",
       "75%      99.145000   91.025000   92.830000   92.030000   95.930000   \n",
       "max     120.510000  106.620000  109.690000  106.530000  113.560000   \n",
       "\n",
       "        Telangana   Rajasthan      Punjab  West_bengal  Tamil Nadu  \\\n",
       "count   67.000000   67.000000   67.000000    67.000000   67.000000   \n",
       "mean    86.935672   86.625373   83.088955    84.542836   84.281940   \n",
       "std     14.264798   15.036667   11.015556    13.359466   12.260133   \n",
       "min     67.020000   65.770000   67.930000    66.140000   65.460000   \n",
       "25%     76.020000   74.170000   73.510000    74.030000   74.480000   \n",
       "50%     80.900000   79.260000   81.490000    79.200000   79.260000   \n",
       "75%     98.010000   99.370000   93.540000    93.630000   95.115000   \n",
       "max    119.490000  118.030000  110.610000   115.120000  110.850000   \n",
       "\n",
       "        Uttar Pradesh  Madhya Pradesh      Kerala       Assam       Bihar  \n",
       "count       67.000000       67.000000   67.000000   67.000000   67.000000  \n",
       "mean        81.551045       88.570597   85.668657   82.019254   86.291343  \n",
       "std         10.898700       14.080720   13.778086   10.526686   13.352867  \n",
       "min         66.530000       69.620000   66.930000   65.830000   65.930000  \n",
       "25%         72.150000       77.070000   75.025000   72.530000   75.995000  \n",
       "50%         77.110000       83.220000   79.470000   78.510000   82.050000  \n",
       "75%         90.705000      100.910000   96.495000   89.600000   95.340000  \n",
       "max        106.610000      118.460000  117.190000  105.740000  116.230000  "
      ]
     },
     "execution_count": 5,
     "metadata": {},
     "output_type": "execute_result"
    }
   ],
   "source": [
    "df.describe()"
   ]
  },
  {
   "cell_type": "code",
   "execution_count": 6,
   "id": "4b059967",
   "metadata": {
    "execution": {
     "iopub.execute_input": "2024-01-08T05:39:40.320685Z",
     "iopub.status.busy": "2024-01-08T05:39:40.320094Z",
     "iopub.status.idle": "2024-01-08T05:39:42.205565Z",
     "shell.execute_reply": "2024-01-08T05:39:42.204581Z"
    },
    "papermill": {
     "duration": 1.896617,
     "end_time": "2024-01-08T05:39:42.208059",
     "exception": false,
     "start_time": "2024-01-08T05:39:40.311442",
     "status": "completed"
    },
    "tags": []
   },
   "outputs": [
    {
     "data": {
      "text/html": [
       "        <script type=\"text/javascript\">\n",
       "        window.PlotlyConfig = {MathJaxConfig: 'local'};\n",
       "        if (window.MathJax && window.MathJax.Hub && window.MathJax.Hub.Config) {window.MathJax.Hub.Config({SVG: {font: \"STIX-Web\"}});}\n",
       "        if (typeof require !== 'undefined') {\n",
       "        require.undef(\"plotly\");\n",
       "        requirejs.config({\n",
       "            paths: {\n",
       "                'plotly': ['https://cdn.plot.ly/plotly-2.25.2.min']\n",
       "            }\n",
       "        });\n",
       "        require(['plotly'], function(Plotly) {\n",
       "            window._Plotly = Plotly;\n",
       "        });\n",
       "        }\n",
       "        </script>\n",
       "        "
      ]
     },
     "metadata": {},
     "output_type": "display_data"
    },
    {
     "data": {
      "text/html": [
       "<div>                            <div id=\"569f2bae-9839-4394-934b-f553616aabf3\" class=\"plotly-graph-div\" style=\"height:525px; width:100%;\"></div>            <script type=\"text/javascript\">                require([\"plotly\"], function(Plotly) {                    window.PLOTLYENV=window.PLOTLYENV || {};                                    if (document.getElementById(\"569f2bae-9839-4394-934b-f553616aabf3\")) {                    Plotly.newPlot(                        \"569f2bae-9839-4394-934b-f553616aabf3\",                        [{\"alignmentgroup\":\"True\",\"hovertemplate\":\"State=%{x}\\u003cbr\\u003eAverage Petrol Price (INR)=%{y}\\u003cextra\\u003e\\u003c\\u002fextra\\u003e\",\"legendgroup\":\"\",\"marker\":{\"color\":\"#636efa\",\"pattern\":{\"shape\":\"\"}},\"name\":\"\",\"offsetgroup\":\"\",\"orientation\":\"v\",\"showlegend\":false,\"textposition\":\"auto\",\"x\":[\"Maharashtra\",\" Haryana\",\"Delhi\",\"Gujarat\",\"Karnataka\",\"Telangana\",\"Rajasthan\",\"Punjab\",\"West_bengal\",\"Tamil Nadu\",\" Uttar Pradesh\",\"Madhya Pradesh\",\"Kerala\",\"Assam\",\"Bihar\"],\"xaxis\":\"x\",\"y\":[89.09402985074628,80.5613432835821,81.2782089552239,79.9513432835821,84.02059701492536,86.93567164179103,86.62537313432834,83.08895522388063,84.54283582089552,84.28194029850748,81.5510447761194,88.57059701492535,85.6686567164179,82.0192537313433,86.29134328358207],\"yaxis\":\"y\",\"type\":\"bar\"}],                        {\"template\":{\"data\":{\"histogram2dcontour\":[{\"type\":\"histogram2dcontour\",\"colorbar\":{\"outlinewidth\":0,\"ticks\":\"\"},\"colorscale\":[[0.0,\"#0d0887\"],[0.1111111111111111,\"#46039f\"],[0.2222222222222222,\"#7201a8\"],[0.3333333333333333,\"#9c179e\"],[0.4444444444444444,\"#bd3786\"],[0.5555555555555556,\"#d8576b\"],[0.6666666666666666,\"#ed7953\"],[0.7777777777777778,\"#fb9f3a\"],[0.8888888888888888,\"#fdca26\"],[1.0,\"#f0f921\"]]}],\"choropleth\":[{\"type\":\"choropleth\",\"colorbar\":{\"outlinewidth\":0,\"ticks\":\"\"}}],\"histogram2d\":[{\"type\":\"histogram2d\",\"colorbar\":{\"outlinewidth\":0,\"ticks\":\"\"},\"colorscale\":[[0.0,\"#0d0887\"],[0.1111111111111111,\"#46039f\"],[0.2222222222222222,\"#7201a8\"],[0.3333333333333333,\"#9c179e\"],[0.4444444444444444,\"#bd3786\"],[0.5555555555555556,\"#d8576b\"],[0.6666666666666666,\"#ed7953\"],[0.7777777777777778,\"#fb9f3a\"],[0.8888888888888888,\"#fdca26\"],[1.0,\"#f0f921\"]]}],\"heatmap\":[{\"type\":\"heatmap\",\"colorbar\":{\"outlinewidth\":0,\"ticks\":\"\"},\"colorscale\":[[0.0,\"#0d0887\"],[0.1111111111111111,\"#46039f\"],[0.2222222222222222,\"#7201a8\"],[0.3333333333333333,\"#9c179e\"],[0.4444444444444444,\"#bd3786\"],[0.5555555555555556,\"#d8576b\"],[0.6666666666666666,\"#ed7953\"],[0.7777777777777778,\"#fb9f3a\"],[0.8888888888888888,\"#fdca26\"],[1.0,\"#f0f921\"]]}],\"heatmapgl\":[{\"type\":\"heatmapgl\",\"colorbar\":{\"outlinewidth\":0,\"ticks\":\"\"},\"colorscale\":[[0.0,\"#0d0887\"],[0.1111111111111111,\"#46039f\"],[0.2222222222222222,\"#7201a8\"],[0.3333333333333333,\"#9c179e\"],[0.4444444444444444,\"#bd3786\"],[0.5555555555555556,\"#d8576b\"],[0.6666666666666666,\"#ed7953\"],[0.7777777777777778,\"#fb9f3a\"],[0.8888888888888888,\"#fdca26\"],[1.0,\"#f0f921\"]]}],\"contourcarpet\":[{\"type\":\"contourcarpet\",\"colorbar\":{\"outlinewidth\":0,\"ticks\":\"\"}}],\"contour\":[{\"type\":\"contour\",\"colorbar\":{\"outlinewidth\":0,\"ticks\":\"\"},\"colorscale\":[[0.0,\"#0d0887\"],[0.1111111111111111,\"#46039f\"],[0.2222222222222222,\"#7201a8\"],[0.3333333333333333,\"#9c179e\"],[0.4444444444444444,\"#bd3786\"],[0.5555555555555556,\"#d8576b\"],[0.6666666666666666,\"#ed7953\"],[0.7777777777777778,\"#fb9f3a\"],[0.8888888888888888,\"#fdca26\"],[1.0,\"#f0f921\"]]}],\"surface\":[{\"type\":\"surface\",\"colorbar\":{\"outlinewidth\":0,\"ticks\":\"\"},\"colorscale\":[[0.0,\"#0d0887\"],[0.1111111111111111,\"#46039f\"],[0.2222222222222222,\"#7201a8\"],[0.3333333333333333,\"#9c179e\"],[0.4444444444444444,\"#bd3786\"],[0.5555555555555556,\"#d8576b\"],[0.6666666666666666,\"#ed7953\"],[0.7777777777777778,\"#fb9f3a\"],[0.8888888888888888,\"#fdca26\"],[1.0,\"#f0f921\"]]}],\"mesh3d\":[{\"type\":\"mesh3d\",\"colorbar\":{\"outlinewidth\":0,\"ticks\":\"\"}}],\"scatter\":[{\"fillpattern\":{\"fillmode\":\"overlay\",\"size\":10,\"solidity\":0.2},\"type\":\"scatter\"}],\"parcoords\":[{\"type\":\"parcoords\",\"line\":{\"colorbar\":{\"outlinewidth\":0,\"ticks\":\"\"}}}],\"scatterpolargl\":[{\"type\":\"scatterpolargl\",\"marker\":{\"colorbar\":{\"outlinewidth\":0,\"ticks\":\"\"}}}],\"bar\":[{\"error_x\":{\"color\":\"#2a3f5f\"},\"error_y\":{\"color\":\"#2a3f5f\"},\"marker\":{\"line\":{\"color\":\"#E5ECF6\",\"width\":0.5},\"pattern\":{\"fillmode\":\"overlay\",\"size\":10,\"solidity\":0.2}},\"type\":\"bar\"}],\"scattergeo\":[{\"type\":\"scattergeo\",\"marker\":{\"colorbar\":{\"outlinewidth\":0,\"ticks\":\"\"}}}],\"scatterpolar\":[{\"type\":\"scatterpolar\",\"marker\":{\"colorbar\":{\"outlinewidth\":0,\"ticks\":\"\"}}}],\"histogram\":[{\"marker\":{\"pattern\":{\"fillmode\":\"overlay\",\"size\":10,\"solidity\":0.2}},\"type\":\"histogram\"}],\"scattergl\":[{\"type\":\"scattergl\",\"marker\":{\"colorbar\":{\"outlinewidth\":0,\"ticks\":\"\"}}}],\"scatter3d\":[{\"type\":\"scatter3d\",\"line\":{\"colorbar\":{\"outlinewidth\":0,\"ticks\":\"\"}},\"marker\":{\"colorbar\":{\"outlinewidth\":0,\"ticks\":\"\"}}}],\"scattermapbox\":[{\"type\":\"scattermapbox\",\"marker\":{\"colorbar\":{\"outlinewidth\":0,\"ticks\":\"\"}}}],\"scatterternary\":[{\"type\":\"scatterternary\",\"marker\":{\"colorbar\":{\"outlinewidth\":0,\"ticks\":\"\"}}}],\"scattercarpet\":[{\"type\":\"scattercarpet\",\"marker\":{\"colorbar\":{\"outlinewidth\":0,\"ticks\":\"\"}}}],\"carpet\":[{\"aaxis\":{\"endlinecolor\":\"#2a3f5f\",\"gridcolor\":\"white\",\"linecolor\":\"white\",\"minorgridcolor\":\"white\",\"startlinecolor\":\"#2a3f5f\"},\"baxis\":{\"endlinecolor\":\"#2a3f5f\",\"gridcolor\":\"white\",\"linecolor\":\"white\",\"minorgridcolor\":\"white\",\"startlinecolor\":\"#2a3f5f\"},\"type\":\"carpet\"}],\"table\":[{\"cells\":{\"fill\":{\"color\":\"#EBF0F8\"},\"line\":{\"color\":\"white\"}},\"header\":{\"fill\":{\"color\":\"#C8D4E3\"},\"line\":{\"color\":\"white\"}},\"type\":\"table\"}],\"barpolar\":[{\"marker\":{\"line\":{\"color\":\"#E5ECF6\",\"width\":0.5},\"pattern\":{\"fillmode\":\"overlay\",\"size\":10,\"solidity\":0.2}},\"type\":\"barpolar\"}],\"pie\":[{\"automargin\":true,\"type\":\"pie\"}]},\"layout\":{\"autotypenumbers\":\"strict\",\"colorway\":[\"#636efa\",\"#EF553B\",\"#00cc96\",\"#ab63fa\",\"#FFA15A\",\"#19d3f3\",\"#FF6692\",\"#B6E880\",\"#FF97FF\",\"#FECB52\"],\"font\":{\"color\":\"#2a3f5f\"},\"hovermode\":\"closest\",\"hoverlabel\":{\"align\":\"left\"},\"paper_bgcolor\":\"white\",\"plot_bgcolor\":\"#E5ECF6\",\"polar\":{\"bgcolor\":\"#E5ECF6\",\"angularaxis\":{\"gridcolor\":\"white\",\"linecolor\":\"white\",\"ticks\":\"\"},\"radialaxis\":{\"gridcolor\":\"white\",\"linecolor\":\"white\",\"ticks\":\"\"}},\"ternary\":{\"bgcolor\":\"#E5ECF6\",\"aaxis\":{\"gridcolor\":\"white\",\"linecolor\":\"white\",\"ticks\":\"\"},\"baxis\":{\"gridcolor\":\"white\",\"linecolor\":\"white\",\"ticks\":\"\"},\"caxis\":{\"gridcolor\":\"white\",\"linecolor\":\"white\",\"ticks\":\"\"}},\"coloraxis\":{\"colorbar\":{\"outlinewidth\":0,\"ticks\":\"\"}},\"colorscale\":{\"sequential\":[[0.0,\"#0d0887\"],[0.1111111111111111,\"#46039f\"],[0.2222222222222222,\"#7201a8\"],[0.3333333333333333,\"#9c179e\"],[0.4444444444444444,\"#bd3786\"],[0.5555555555555556,\"#d8576b\"],[0.6666666666666666,\"#ed7953\"],[0.7777777777777778,\"#fb9f3a\"],[0.8888888888888888,\"#fdca26\"],[1.0,\"#f0f921\"]],\"sequentialminus\":[[0.0,\"#0d0887\"],[0.1111111111111111,\"#46039f\"],[0.2222222222222222,\"#7201a8\"],[0.3333333333333333,\"#9c179e\"],[0.4444444444444444,\"#bd3786\"],[0.5555555555555556,\"#d8576b\"],[0.6666666666666666,\"#ed7953\"],[0.7777777777777778,\"#fb9f3a\"],[0.8888888888888888,\"#fdca26\"],[1.0,\"#f0f921\"]],\"diverging\":[[0,\"#8e0152\"],[0.1,\"#c51b7d\"],[0.2,\"#de77ae\"],[0.3,\"#f1b6da\"],[0.4,\"#fde0ef\"],[0.5,\"#f7f7f7\"],[0.6,\"#e6f5d0\"],[0.7,\"#b8e186\"],[0.8,\"#7fbc41\"],[0.9,\"#4d9221\"],[1,\"#276419\"]]},\"xaxis\":{\"gridcolor\":\"white\",\"linecolor\":\"white\",\"ticks\":\"\",\"title\":{\"standoff\":15},\"zerolinecolor\":\"white\",\"automargin\":true,\"zerolinewidth\":2},\"yaxis\":{\"gridcolor\":\"white\",\"linecolor\":\"white\",\"ticks\":\"\",\"title\":{\"standoff\":15},\"zerolinecolor\":\"white\",\"automargin\":true,\"zerolinewidth\":2},\"scene\":{\"xaxis\":{\"backgroundcolor\":\"#E5ECF6\",\"gridcolor\":\"white\",\"linecolor\":\"white\",\"showbackground\":true,\"ticks\":\"\",\"zerolinecolor\":\"white\",\"gridwidth\":2},\"yaxis\":{\"backgroundcolor\":\"#E5ECF6\",\"gridcolor\":\"white\",\"linecolor\":\"white\",\"showbackground\":true,\"ticks\":\"\",\"zerolinecolor\":\"white\",\"gridwidth\":2},\"zaxis\":{\"backgroundcolor\":\"#E5ECF6\",\"gridcolor\":\"white\",\"linecolor\":\"white\",\"showbackground\":true,\"ticks\":\"\",\"zerolinecolor\":\"white\",\"gridwidth\":2}},\"shapedefaults\":{\"line\":{\"color\":\"#2a3f5f\"}},\"annotationdefaults\":{\"arrowcolor\":\"#2a3f5f\",\"arrowhead\":0,\"arrowwidth\":1},\"geo\":{\"bgcolor\":\"white\",\"landcolor\":\"#E5ECF6\",\"subunitcolor\":\"white\",\"showland\":true,\"showlakes\":true,\"lakecolor\":\"white\"},\"title\":{\"x\":0.05},\"mapbox\":{\"style\":\"light\"}}},\"xaxis\":{\"anchor\":\"y\",\"domain\":[0.0,1.0],\"title\":{\"text\":\"State\"}},\"yaxis\":{\"anchor\":\"x\",\"domain\":[0.0,1.0],\"title\":{\"text\":\"Average Petrol Price (INR)\"}},\"legend\":{\"tracegroupgap\":0},\"title\":{\"text\":\"Average Petrol Price Over the Last 4 Years\"},\"barmode\":\"relative\",\"annotations\":[{\"arrowhead\":5,\"ax\":0,\"ay\":-60,\"font\":{\"color\":\"red\",\"size\":18},\"showarrow\":true,\"text\":\"Highest Avg (Maharashtra)\",\"x\":\"Maharashtra\",\"y\":89.09402985074628}]},                        {\"responsive\": true}                    ).then(function(){\n",
       "                            \n",
       "var gd = document.getElementById('569f2bae-9839-4394-934b-f553616aabf3');\n",
       "var x = new MutationObserver(function (mutations, observer) {{\n",
       "        var display = window.getComputedStyle(gd).display;\n",
       "        if (!display || display === 'none') {{\n",
       "            console.log([gd, 'removed!']);\n",
       "            Plotly.purge(gd);\n",
       "            observer.disconnect();\n",
       "        }}\n",
       "}});\n",
       "\n",
       "// Listen for the removal of the full notebook cells\n",
       "var notebookContainer = gd.closest('#notebook-container');\n",
       "if (notebookContainer) {{\n",
       "    x.observe(notebookContainer, {childList: true});\n",
       "}}\n",
       "\n",
       "// Listen for the clearing of the current output cell\n",
       "var outputEl = gd.closest('.output');\n",
       "if (outputEl) {{\n",
       "    x.observe(outputEl, {childList: true});\n",
       "}}\n",
       "\n",
       "                        })                };                });            </script>        </div>"
      ]
     },
     "metadata": {},
     "output_type": "display_data"
    }
   ],
   "source": [
    "average_prices = df.drop('date', axis=1).mean(axis=0).reset_index()\n",
    "average_prices.columns = ['State', 'Average Petrol Price']\n",
    "\n",
    "highest_avg_state = average_prices.loc[average_prices['Average Petrol Price'].idxmax(), 'State']\n",
    "\n",
    "# Plot the graph\n",
    "fig = px.bar(average_prices, x='State', y='Average Petrol Price', title='Average Petrol Price Over the Last 4 Years',\n",
    "             labels={'Average Petrol Price': 'Average Petrol Price (INR)'})\n",
    "fig.update_layout(annotations=[dict(x=highest_avg_state, y=average_prices['Average Petrol Price'].max(),\n",
    "                                     text=f'Highest Avg ({highest_avg_state})', showarrow=True, arrowhead=5,\n",
    "                                     ax=0, ay=-60, font=dict(size=18,color='red'))])\n",
    "fig.show()"
   ]
  },
  {
   "cell_type": "code",
   "execution_count": 7,
   "id": "3f11f759",
   "metadata": {
    "execution": {
     "iopub.execute_input": "2024-01-08T05:39:42.225213Z",
     "iopub.status.busy": "2024-01-08T05:39:42.224744Z",
     "iopub.status.idle": "2024-01-08T05:39:42.353862Z",
     "shell.execute_reply": "2024-01-08T05:39:42.352666Z"
    },
    "papermill": {
     "duration": 0.140454,
     "end_time": "2024-01-08T05:39:42.356352",
     "exception": false,
     "start_time": "2024-01-08T05:39:42.215898",
     "status": "completed"
    },
    "tags": []
   },
   "outputs": [
    {
     "data": {
      "text/html": [
       "<div>                            <div id=\"bac5eebf-0e12-496a-adc1-0e1563112d34\" class=\"plotly-graph-div\" style=\"height:525px; width:100%;\"></div>            <script type=\"text/javascript\">                require([\"plotly\"], function(Plotly) {                    window.PLOTLYENV=window.PLOTLYENV || {};                                    if (document.getElementById(\"bac5eebf-0e12-496a-adc1-0e1563112d34\")) {                    Plotly.newPlot(                        \"bac5eebf-0e12-496a-adc1-0e1563112d34\",                        [{\"hovertemplate\":\"State=Maharashtra\\u003cbr\\u003eMonth=%{x}\\u003cbr\\u003ePetrol Price (INR)=%{y}\\u003cextra\\u003e\\u003c\\u002fextra\\u003e\",\"legendgroup\":\"Maharashtra\",\"line\":{\"color\":\"#636efa\",\"dash\":\"solid\"},\"marker\":{\"symbol\":\"circle\"},\"mode\":\"lines\",\"name\":\"Maharashtra\",\"orientation\":\"v\",\"showlegend\":true,\"x\":[\"2017_Aug\",\"2017_Dec\",\"2017_Jul\",\"2017_Jun\",\"2017_May\",\"2017_Nov\",\"2017_Oct\",\"2017_Sep\",\"2018_Apr\",\"2018_Aug\",\"2018_Dec\",\"2018_Feb\",\"2018_Jan\",\"2018_Jul\",\"2018_Jun\",\"2018_Mar\",\"2018_May\",\"2018_Nov\",\"2018_Oct\",\"2018_Sep\",\"2019_Apr\",\"2019_Aug\",\"2019_Dec\",\"2019_Feb\",\"2019_Jan\",\"2019_Jul\",\"2019_Jun\",\"2019_Mar\",\"2019_May\",\"2019_Nov\",\"2019_Oct\",\"2019_Sep\",\"2020_Apr\",\"2020_Aug\",\"2020_Dec\",\"2020_Feb\",\"2020_Jan\",\"2020_Jul\",\"2020_Jun\",\"2020_Mar\",\"2020_May\",\"2020_Nov\",\"2020_Oct\",\"2020_Sep\",\"2021_Apr\",\"2021_Aug\",\"2021_Dec\",\"2021_Feb\",\"2021_Jan\",\"2021_Jul\",\"2021_Jun\",\"2021_Mar\",\"2021_May\",\"2021_Nov\",\"2021_Oct\",\"2021_Sep\",\"2022_Apr\",\"2022_Aug\",\"2022_Dec\",\"2022_Feb\",\"2022_Jan\",\"2022_Jul\",\"2022_Jun\",\"2022_Mar\",\"2022_May\",\"2022_Oct\",\"2022_Sep\"],\"xaxis\":\"x\",\"y\":[74.56,76.52,74.3,78.44,77.46,76.25,79.87,78.38,81.59,83.76,78.09,80.91,77.87,82.99,86.1,79.45,82.48,84.86,91.08,86.09,78.43,78.42,80.59,76.57,74.3,76.11,77.28,77.44,78.7,78.51,80.21,77.46,75.3,87.19,89.02,78.83,80.79,87.19,78.32,77.18,76.31,87.74,87.74,88.73,96.98,107.83,109.98,92.86,90.34,104.9,100.72,97.57,96.83,115.5,107.95,107.39,116.72,106.31,106.31,109.98,109.98,111.35,97.28,109.98,120.51,106.31,106.31],\"yaxis\":\"y\",\"type\":\"scatter\"},{\"hovertemplate\":\"State=Delhi\\u003cbr\\u003eMonth=%{x}\\u003cbr\\u003ePetrol Price (INR)=%{y}\\u003cextra\\u003e\\u003c\\u002fextra\\u003e\",\"legendgroup\":\"Delhi\",\"line\":{\"color\":\"#EF553B\",\"dash\":\"solid\"},\"marker\":{\"symbol\":\"circle\"},\"mode\":\"lines\",\"name\":\"Delhi\",\"orientation\":\"v\",\"showlegend\":true,\"x\":[\"2017_Aug\",\"2017_Dec\",\"2017_Jul\",\"2017_Jun\",\"2017_May\",\"2017_Nov\",\"2017_Oct\",\"2017_Sep\",\"2018_Apr\",\"2018_Aug\",\"2018_Dec\",\"2018_Feb\",\"2018_Jan\",\"2018_Jul\",\"2018_Jun\",\"2018_Mar\",\"2018_May\",\"2018_Nov\",\"2018_Oct\",\"2018_Sep\",\"2019_Apr\",\"2019_Aug\",\"2019_Dec\",\"2019_Feb\",\"2019_Jan\",\"2019_Jul\",\"2019_Jun\",\"2019_Mar\",\"2019_May\",\"2019_Nov\",\"2019_Oct\",\"2019_Sep\",\"2020_Apr\",\"2020_Aug\",\"2020_Dec\",\"2020_Feb\",\"2020_Jan\",\"2020_Jul\",\"2020_Jun\",\"2020_Mar\",\"2020_May\",\"2020_Nov\",\"2020_Oct\",\"2020_Sep\",\"2021_Apr\",\"2021_Aug\",\"2021_Dec\",\"2021_Feb\",\"2021_Jan\",\"2021_Jul\",\"2021_Jun\",\"2021_Mar\",\"2021_May\",\"2021_Nov\",\"2021_Oct\",\"2021_Sep\",\"2022_Apr\",\"2022_Aug\",\"2022_Dec\",\"2022_Feb\",\"2022_Jan\",\"2022_Jul\",\"2022_Jun\",\"2022_Mar\",\"2022_May\",\"2022_Oct\",\"2022_Sep\"],\"xaxis\":\"x\",\"y\":[65.4,69.22,63.09,66.91,68.09,69.14,70.76,69.26,73.73,76.31,72.53,73.05,69.97,75.55,78.29,71.57,74.63,79.39,83.73,78.68,72.86,72.8,74.91,70.94,68.65,70.44,71.62,71.81,73.13,72.86,74.61,71.77,69.59,80.43,82.34,73.19,75.14,80.43,71.26,71.49,69.59,81.06,81.06,82.08,90.56,101.84,95.41,86.3,83.71,98.81,94.49,91.17,90.4,109.69,101.89,101.34,101.81,96.72,96.72,95.41,95.41,96.72,89.62,95.41,105.41,96.72,96.72],\"yaxis\":\"y\",\"type\":\"scatter\"}],                        {\"template\":{\"data\":{\"histogram2dcontour\":[{\"type\":\"histogram2dcontour\",\"colorbar\":{\"outlinewidth\":0,\"ticks\":\"\"},\"colorscale\":[[0.0,\"#0d0887\"],[0.1111111111111111,\"#46039f\"],[0.2222222222222222,\"#7201a8\"],[0.3333333333333333,\"#9c179e\"],[0.4444444444444444,\"#bd3786\"],[0.5555555555555556,\"#d8576b\"],[0.6666666666666666,\"#ed7953\"],[0.7777777777777778,\"#fb9f3a\"],[0.8888888888888888,\"#fdca26\"],[1.0,\"#f0f921\"]]}],\"choropleth\":[{\"type\":\"choropleth\",\"colorbar\":{\"outlinewidth\":0,\"ticks\":\"\"}}],\"histogram2d\":[{\"type\":\"histogram2d\",\"colorbar\":{\"outlinewidth\":0,\"ticks\":\"\"},\"colorscale\":[[0.0,\"#0d0887\"],[0.1111111111111111,\"#46039f\"],[0.2222222222222222,\"#7201a8\"],[0.3333333333333333,\"#9c179e\"],[0.4444444444444444,\"#bd3786\"],[0.5555555555555556,\"#d8576b\"],[0.6666666666666666,\"#ed7953\"],[0.7777777777777778,\"#fb9f3a\"],[0.8888888888888888,\"#fdca26\"],[1.0,\"#f0f921\"]]}],\"heatmap\":[{\"type\":\"heatmap\",\"colorbar\":{\"outlinewidth\":0,\"ticks\":\"\"},\"colorscale\":[[0.0,\"#0d0887\"],[0.1111111111111111,\"#46039f\"],[0.2222222222222222,\"#7201a8\"],[0.3333333333333333,\"#9c179e\"],[0.4444444444444444,\"#bd3786\"],[0.5555555555555556,\"#d8576b\"],[0.6666666666666666,\"#ed7953\"],[0.7777777777777778,\"#fb9f3a\"],[0.8888888888888888,\"#fdca26\"],[1.0,\"#f0f921\"]]}],\"heatmapgl\":[{\"type\":\"heatmapgl\",\"colorbar\":{\"outlinewidth\":0,\"ticks\":\"\"},\"colorscale\":[[0.0,\"#0d0887\"],[0.1111111111111111,\"#46039f\"],[0.2222222222222222,\"#7201a8\"],[0.3333333333333333,\"#9c179e\"],[0.4444444444444444,\"#bd3786\"],[0.5555555555555556,\"#d8576b\"],[0.6666666666666666,\"#ed7953\"],[0.7777777777777778,\"#fb9f3a\"],[0.8888888888888888,\"#fdca26\"],[1.0,\"#f0f921\"]]}],\"contourcarpet\":[{\"type\":\"contourcarpet\",\"colorbar\":{\"outlinewidth\":0,\"ticks\":\"\"}}],\"contour\":[{\"type\":\"contour\",\"colorbar\":{\"outlinewidth\":0,\"ticks\":\"\"},\"colorscale\":[[0.0,\"#0d0887\"],[0.1111111111111111,\"#46039f\"],[0.2222222222222222,\"#7201a8\"],[0.3333333333333333,\"#9c179e\"],[0.4444444444444444,\"#bd3786\"],[0.5555555555555556,\"#d8576b\"],[0.6666666666666666,\"#ed7953\"],[0.7777777777777778,\"#fb9f3a\"],[0.8888888888888888,\"#fdca26\"],[1.0,\"#f0f921\"]]}],\"surface\":[{\"type\":\"surface\",\"colorbar\":{\"outlinewidth\":0,\"ticks\":\"\"},\"colorscale\":[[0.0,\"#0d0887\"],[0.1111111111111111,\"#46039f\"],[0.2222222222222222,\"#7201a8\"],[0.3333333333333333,\"#9c179e\"],[0.4444444444444444,\"#bd3786\"],[0.5555555555555556,\"#d8576b\"],[0.6666666666666666,\"#ed7953\"],[0.7777777777777778,\"#fb9f3a\"],[0.8888888888888888,\"#fdca26\"],[1.0,\"#f0f921\"]]}],\"mesh3d\":[{\"type\":\"mesh3d\",\"colorbar\":{\"outlinewidth\":0,\"ticks\":\"\"}}],\"scatter\":[{\"fillpattern\":{\"fillmode\":\"overlay\",\"size\":10,\"solidity\":0.2},\"type\":\"scatter\"}],\"parcoords\":[{\"type\":\"parcoords\",\"line\":{\"colorbar\":{\"outlinewidth\":0,\"ticks\":\"\"}}}],\"scatterpolargl\":[{\"type\":\"scatterpolargl\",\"marker\":{\"colorbar\":{\"outlinewidth\":0,\"ticks\":\"\"}}}],\"bar\":[{\"error_x\":{\"color\":\"#2a3f5f\"},\"error_y\":{\"color\":\"#2a3f5f\"},\"marker\":{\"line\":{\"color\":\"#E5ECF6\",\"width\":0.5},\"pattern\":{\"fillmode\":\"overlay\",\"size\":10,\"solidity\":0.2}},\"type\":\"bar\"}],\"scattergeo\":[{\"type\":\"scattergeo\",\"marker\":{\"colorbar\":{\"outlinewidth\":0,\"ticks\":\"\"}}}],\"scatterpolar\":[{\"type\":\"scatterpolar\",\"marker\":{\"colorbar\":{\"outlinewidth\":0,\"ticks\":\"\"}}}],\"histogram\":[{\"marker\":{\"pattern\":{\"fillmode\":\"overlay\",\"size\":10,\"solidity\":0.2}},\"type\":\"histogram\"}],\"scattergl\":[{\"type\":\"scattergl\",\"marker\":{\"colorbar\":{\"outlinewidth\":0,\"ticks\":\"\"}}}],\"scatter3d\":[{\"type\":\"scatter3d\",\"line\":{\"colorbar\":{\"outlinewidth\":0,\"ticks\":\"\"}},\"marker\":{\"colorbar\":{\"outlinewidth\":0,\"ticks\":\"\"}}}],\"scattermapbox\":[{\"type\":\"scattermapbox\",\"marker\":{\"colorbar\":{\"outlinewidth\":0,\"ticks\":\"\"}}}],\"scatterternary\":[{\"type\":\"scatterternary\",\"marker\":{\"colorbar\":{\"outlinewidth\":0,\"ticks\":\"\"}}}],\"scattercarpet\":[{\"type\":\"scattercarpet\",\"marker\":{\"colorbar\":{\"outlinewidth\":0,\"ticks\":\"\"}}}],\"carpet\":[{\"aaxis\":{\"endlinecolor\":\"#2a3f5f\",\"gridcolor\":\"white\",\"linecolor\":\"white\",\"minorgridcolor\":\"white\",\"startlinecolor\":\"#2a3f5f\"},\"baxis\":{\"endlinecolor\":\"#2a3f5f\",\"gridcolor\":\"white\",\"linecolor\":\"white\",\"minorgridcolor\":\"white\",\"startlinecolor\":\"#2a3f5f\"},\"type\":\"carpet\"}],\"table\":[{\"cells\":{\"fill\":{\"color\":\"#EBF0F8\"},\"line\":{\"color\":\"white\"}},\"header\":{\"fill\":{\"color\":\"#C8D4E3\"},\"line\":{\"color\":\"white\"}},\"type\":\"table\"}],\"barpolar\":[{\"marker\":{\"line\":{\"color\":\"#E5ECF6\",\"width\":0.5},\"pattern\":{\"fillmode\":\"overlay\",\"size\":10,\"solidity\":0.2}},\"type\":\"barpolar\"}],\"pie\":[{\"automargin\":true,\"type\":\"pie\"}]},\"layout\":{\"autotypenumbers\":\"strict\",\"colorway\":[\"#636efa\",\"#EF553B\",\"#00cc96\",\"#ab63fa\",\"#FFA15A\",\"#19d3f3\",\"#FF6692\",\"#B6E880\",\"#FF97FF\",\"#FECB52\"],\"font\":{\"color\":\"#2a3f5f\"},\"hovermode\":\"closest\",\"hoverlabel\":{\"align\":\"left\"},\"paper_bgcolor\":\"white\",\"plot_bgcolor\":\"#E5ECF6\",\"polar\":{\"bgcolor\":\"#E5ECF6\",\"angularaxis\":{\"gridcolor\":\"white\",\"linecolor\":\"white\",\"ticks\":\"\"},\"radialaxis\":{\"gridcolor\":\"white\",\"linecolor\":\"white\",\"ticks\":\"\"}},\"ternary\":{\"bgcolor\":\"#E5ECF6\",\"aaxis\":{\"gridcolor\":\"white\",\"linecolor\":\"white\",\"ticks\":\"\"},\"baxis\":{\"gridcolor\":\"white\",\"linecolor\":\"white\",\"ticks\":\"\"},\"caxis\":{\"gridcolor\":\"white\",\"linecolor\":\"white\",\"ticks\":\"\"}},\"coloraxis\":{\"colorbar\":{\"outlinewidth\":0,\"ticks\":\"\"}},\"colorscale\":{\"sequential\":[[0.0,\"#0d0887\"],[0.1111111111111111,\"#46039f\"],[0.2222222222222222,\"#7201a8\"],[0.3333333333333333,\"#9c179e\"],[0.4444444444444444,\"#bd3786\"],[0.5555555555555556,\"#d8576b\"],[0.6666666666666666,\"#ed7953\"],[0.7777777777777778,\"#fb9f3a\"],[0.8888888888888888,\"#fdca26\"],[1.0,\"#f0f921\"]],\"sequentialminus\":[[0.0,\"#0d0887\"],[0.1111111111111111,\"#46039f\"],[0.2222222222222222,\"#7201a8\"],[0.3333333333333333,\"#9c179e\"],[0.4444444444444444,\"#bd3786\"],[0.5555555555555556,\"#d8576b\"],[0.6666666666666666,\"#ed7953\"],[0.7777777777777778,\"#fb9f3a\"],[0.8888888888888888,\"#fdca26\"],[1.0,\"#f0f921\"]],\"diverging\":[[0,\"#8e0152\"],[0.1,\"#c51b7d\"],[0.2,\"#de77ae\"],[0.3,\"#f1b6da\"],[0.4,\"#fde0ef\"],[0.5,\"#f7f7f7\"],[0.6,\"#e6f5d0\"],[0.7,\"#b8e186\"],[0.8,\"#7fbc41\"],[0.9,\"#4d9221\"],[1,\"#276419\"]]},\"xaxis\":{\"gridcolor\":\"white\",\"linecolor\":\"white\",\"ticks\":\"\",\"title\":{\"standoff\":15},\"zerolinecolor\":\"white\",\"automargin\":true,\"zerolinewidth\":2},\"yaxis\":{\"gridcolor\":\"white\",\"linecolor\":\"white\",\"ticks\":\"\",\"title\":{\"standoff\":15},\"zerolinecolor\":\"white\",\"automargin\":true,\"zerolinewidth\":2},\"scene\":{\"xaxis\":{\"backgroundcolor\":\"#E5ECF6\",\"gridcolor\":\"white\",\"linecolor\":\"white\",\"showbackground\":true,\"ticks\":\"\",\"zerolinecolor\":\"white\",\"gridwidth\":2},\"yaxis\":{\"backgroundcolor\":\"#E5ECF6\",\"gridcolor\":\"white\",\"linecolor\":\"white\",\"showbackground\":true,\"ticks\":\"\",\"zerolinecolor\":\"white\",\"gridwidth\":2},\"zaxis\":{\"backgroundcolor\":\"#E5ECF6\",\"gridcolor\":\"white\",\"linecolor\":\"white\",\"showbackground\":true,\"ticks\":\"\",\"zerolinecolor\":\"white\",\"gridwidth\":2}},\"shapedefaults\":{\"line\":{\"color\":\"#2a3f5f\"}},\"annotationdefaults\":{\"arrowcolor\":\"#2a3f5f\",\"arrowhead\":0,\"arrowwidth\":1},\"geo\":{\"bgcolor\":\"white\",\"landcolor\":\"#E5ECF6\",\"subunitcolor\":\"white\",\"showland\":true,\"showlakes\":true,\"lakecolor\":\"white\"},\"title\":{\"x\":0.05},\"mapbox\":{\"style\":\"light\"}}},\"xaxis\":{\"anchor\":\"y\",\"domain\":[0.0,1.0],\"title\":{\"text\":\"Month\"}},\"yaxis\":{\"anchor\":\"x\",\"domain\":[0.0,1.0],\"title\":{\"text\":\"Petrol Price (INR)\"}},\"legend\":{\"title\":{\"text\":\"State\"},\"tracegroupgap\":0},\"title\":{\"text\":\"Petrol Prices Comparison Between Maharashtra and Delhi\"}},                        {\"responsive\": true}                    ).then(function(){\n",
       "                            \n",
       "var gd = document.getElementById('bac5eebf-0e12-496a-adc1-0e1563112d34');\n",
       "var x = new MutationObserver(function (mutations, observer) {{\n",
       "        var display = window.getComputedStyle(gd).display;\n",
       "        if (!display || display === 'none') {{\n",
       "            console.log([gd, 'removed!']);\n",
       "            Plotly.purge(gd);\n",
       "            observer.disconnect();\n",
       "        }}\n",
       "}});\n",
       "\n",
       "// Listen for the removal of the full notebook cells\n",
       "var notebookContainer = gd.closest('#notebook-container');\n",
       "if (notebookContainer) {{\n",
       "    x.observe(notebookContainer, {childList: true});\n",
       "}}\n",
       "\n",
       "// Listen for the clearing of the current output cell\n",
       "var outputEl = gd.closest('.output');\n",
       "if (outputEl) {{\n",
       "    x.observe(outputEl, {childList: true});\n",
       "}}\n",
       "\n",
       "                        })                };                });            </script>        </div>"
      ]
     },
     "metadata": {},
     "output_type": "display_data"
    }
   ],
   "source": [
    "df_maharashtra_delhi = df[['date', 'Maharashtra', 'Delhi']]\n",
    "\n",
    "df_maharashtra_delhi = pd.melt(df_maharashtra_delhi, id_vars='date', var_name='State', value_name='Petrol Price')\n",
    "\n",
    "fig = px.line(df_maharashtra_delhi, x='date', y='Petrol Price', color='State',\n",
    "              title='Petrol Prices Comparison Between Maharashtra and Delhi',\n",
    "              labels={'Petrol Price': 'Petrol Price (INR)', 'date': 'Month'})\n",
    "fig.show()"
   ]
  },
  {
   "cell_type": "code",
   "execution_count": 8,
   "id": "90864258",
   "metadata": {
    "execution": {
     "iopub.execute_input": "2024-01-08T05:39:42.374518Z",
     "iopub.status.busy": "2024-01-08T05:39:42.373874Z",
     "iopub.status.idle": "2024-01-08T05:39:42.543155Z",
     "shell.execute_reply": "2024-01-08T05:39:42.541957Z"
    },
    "papermill": {
     "duration": 0.181382,
     "end_time": "2024-01-08T05:39:42.545720",
     "exception": false,
     "start_time": "2024-01-08T05:39:42.364338",
     "status": "completed"
    },
    "tags": []
   },
   "outputs": [
    {
     "data": {
      "text/html": [
       "<div>                            <div id=\"e62f9879-062f-4cd6-9eab-88a761b74c04\" class=\"plotly-graph-div\" style=\"height:525px; width:100%;\"></div>            <script type=\"text/javascript\">                require([\"plotly\"], function(Plotly) {                    window.PLOTLYENV=window.PLOTLYENV || {};                                    if (document.getElementById(\"e62f9879-062f-4cd6-9eab-88a761b74c04\")) {                    Plotly.newPlot(                        \"e62f9879-062f-4cd6-9eab-88a761b74c04\",                        [{\"hovertemplate\":\"variable=Maharashtra\\u003cbr\\u003edate=%{x}\\u003cbr\\u003evalue=%{y}\\u003cextra\\u003e\\u003c\\u002fextra\\u003e\",\"legendgroup\":\"Maharashtra\",\"line\":{\"color\":\"#636efa\",\"dash\":\"solid\"},\"marker\":{\"symbol\":\"circle\"},\"mode\":\"lines\",\"name\":\"Maharashtra\",\"showlegend\":true,\"x\":[\"2017_Aug\",\"2017_Dec\",\"2017_Jul\",\"2017_Jun\",\"2017_May\",\"2017_Nov\",\"2017_Oct\",\"2017_Sep\",\"2018_Apr\",\"2018_Aug\",\"2018_Dec\",\"2018_Feb\",\"2018_Jan\",\"2018_Jul\",\"2018_Jun\",\"2018_Mar\",\"2018_May\",\"2018_Nov\",\"2018_Oct\",\"2018_Sep\",\"2019_Apr\",\"2019_Aug\",\"2019_Dec\",\"2019_Feb\",\"2019_Jan\",\"2019_Jul\",\"2019_Jun\",\"2019_Mar\",\"2019_May\",\"2019_Nov\",\"2019_Oct\",\"2019_Sep\",\"2020_Apr\",\"2020_Aug\",\"2020_Dec\",\"2020_Feb\",\"2020_Jan\",\"2020_Jul\",\"2020_Jun\",\"2020_Mar\",\"2020_May\",\"2020_Nov\",\"2020_Oct\",\"2020_Sep\",\"2021_Apr\",\"2021_Aug\",\"2021_Dec\",\"2021_Feb\",\"2021_Jan\",\"2021_Jul\",\"2021_Jun\",\"2021_Mar\",\"2021_May\",\"2021_Nov\",\"2021_Oct\",\"2021_Sep\",\"2022_Apr\",\"2022_Aug\",\"2022_Dec\",\"2022_Feb\",\"2022_Jan\",\"2022_Jul\",\"2022_Jun\",\"2022_Mar\",\"2022_May\",\"2022_Oct\",\"2022_Sep\"],\"xaxis\":\"x\",\"y\":[74.56,76.52,74.3,78.44,77.46,76.25,79.87,78.38,81.59,83.76,78.09,80.91,77.87,82.99,86.1,79.45,82.48,84.86,91.08,86.09,78.43,78.42,80.59,76.57,74.3,76.11,77.28,77.44,78.7,78.51,80.21,77.46,75.3,87.19,89.02,78.83,80.79,87.19,78.32,77.18,76.31,87.74,87.74,88.73,96.98,107.83,109.98,92.86,90.34,104.9,100.72,97.57,96.83,115.5,107.95,107.39,116.72,106.31,106.31,109.98,109.98,111.35,97.28,109.98,120.51,106.31,106.31],\"yaxis\":\"y\",\"type\":\"scattergl\"},{\"hovertemplate\":\"variable= Haryana\\u003cbr\\u003edate=%{x}\\u003cbr\\u003evalue=%{y}\\u003cextra\\u003e\\u003c\\u002fextra\\u003e\",\"legendgroup\":\" Haryana\",\"line\":{\"color\":\"#EF553B\",\"dash\":\"solid\"},\"marker\":{\"symbol\":\"circle\"},\"mode\":\"lines\",\"name\":\" Haryana\",\"showlegend\":true,\"x\":[\"2017_Aug\",\"2017_Dec\",\"2017_Jul\",\"2017_Jun\",\"2017_May\",\"2017_Nov\",\"2017_Oct\",\"2017_Sep\",\"2018_Apr\",\"2018_Aug\",\"2018_Dec\",\"2018_Feb\",\"2018_Jan\",\"2018_Jul\",\"2018_Jun\",\"2018_Mar\",\"2018_May\",\"2018_Nov\",\"2018_Oct\",\"2018_Sep\",\"2019_Apr\",\"2019_Aug\",\"2019_Dec\",\"2019_Feb\",\"2019_Jan\",\"2019_Jul\",\"2019_Jun\",\"2019_Mar\",\"2019_May\",\"2019_Nov\",\"2019_Oct\",\"2019_Sep\",\"2020_Apr\",\"2020_Aug\",\"2020_Dec\",\"2020_Feb\",\"2020_Jan\",\"2020_Jul\",\"2020_Jun\",\"2020_Mar\",\"2020_May\",\"2020_Nov\",\"2020_Oct\",\"2020_Sep\",\"2021_Apr\",\"2021_Aug\",\"2021_Dec\",\"2021_Feb\",\"2021_Jan\",\"2021_Jul\",\"2021_Jun\",\"2021_Mar\",\"2021_May\",\"2021_Nov\",\"2021_Oct\",\"2021_Sep\",\"2022_Apr\",\"2022_Aug\",\"2022_Dec\",\"2022_Feb\",\"2022_Jan\",\"2022_Jul\",\"2022_Jun\",\"2022_Mar\",\"2022_May\",\"2022_Oct\",\"2022_Sep\"],\"xaxis\":\"x\",\"y\":[64.98,68.78,62.68,66.7,67.84,68.7,70.31,68.82,73.86,76.52,71.06,73.18,69.72,75.67,78.39,71.71,74.75,77.7,83.87,78.86,72.36,72.32,74.04,71.37,69.56,70.48,71.41,71.74,72.58,72.39,73.74,71.55,69.84,78.18,79.99,72.64,74.2,78.16,70.85,71.33,69.84,78.77,78.74,79.73,88.02,98.92,95.27,83.89,81.35,95.97,91.78,88.61,87.86,106.62,99.04,98.48,102.51,97.43,97.43,95.27,95.27,97.43,90.27,95.27,106.15,97.43,97.43],\"yaxis\":\"y\",\"type\":\"scattergl\"},{\"hovertemplate\":\"variable=Delhi\\u003cbr\\u003edate=%{x}\\u003cbr\\u003evalue=%{y}\\u003cextra\\u003e\\u003c\\u002fextra\\u003e\",\"legendgroup\":\"Delhi\",\"line\":{\"color\":\"#00cc96\",\"dash\":\"solid\"},\"marker\":{\"symbol\":\"circle\"},\"mode\":\"lines\",\"name\":\"Delhi\",\"showlegend\":true,\"x\":[\"2017_Aug\",\"2017_Dec\",\"2017_Jul\",\"2017_Jun\",\"2017_May\",\"2017_Nov\",\"2017_Oct\",\"2017_Sep\",\"2018_Apr\",\"2018_Aug\",\"2018_Dec\",\"2018_Feb\",\"2018_Jan\",\"2018_Jul\",\"2018_Jun\",\"2018_Mar\",\"2018_May\",\"2018_Nov\",\"2018_Oct\",\"2018_Sep\",\"2019_Apr\",\"2019_Aug\",\"2019_Dec\",\"2019_Feb\",\"2019_Jan\",\"2019_Jul\",\"2019_Jun\",\"2019_Mar\",\"2019_May\",\"2019_Nov\",\"2019_Oct\",\"2019_Sep\",\"2020_Apr\",\"2020_Aug\",\"2020_Dec\",\"2020_Feb\",\"2020_Jan\",\"2020_Jul\",\"2020_Jun\",\"2020_Mar\",\"2020_May\",\"2020_Nov\",\"2020_Oct\",\"2020_Sep\",\"2021_Apr\",\"2021_Aug\",\"2021_Dec\",\"2021_Feb\",\"2021_Jan\",\"2021_Jul\",\"2021_Jun\",\"2021_Mar\",\"2021_May\",\"2021_Nov\",\"2021_Oct\",\"2021_Sep\",\"2022_Apr\",\"2022_Aug\",\"2022_Dec\",\"2022_Feb\",\"2022_Jan\",\"2022_Jul\",\"2022_Jun\",\"2022_Mar\",\"2022_May\",\"2022_Oct\",\"2022_Sep\"],\"xaxis\":\"x\",\"y\":[65.4,69.22,63.09,66.91,68.09,69.14,70.76,69.26,73.73,76.31,72.53,73.05,69.97,75.55,78.29,71.57,74.63,79.39,83.73,78.68,72.86,72.8,74.91,70.94,68.65,70.44,71.62,71.81,73.13,72.86,74.61,71.77,69.59,80.43,82.34,73.19,75.14,80.43,71.26,71.49,69.59,81.06,81.06,82.08,90.56,101.84,95.41,86.3,83.71,98.81,94.49,91.17,90.4,109.69,101.89,101.34,101.81,96.72,96.72,95.41,95.41,96.72,89.62,95.41,105.41,96.72,96.72],\"yaxis\":\"y\",\"type\":\"scattergl\"},{\"hovertemplate\":\"variable=Gujarat\\u003cbr\\u003edate=%{x}\\u003cbr\\u003evalue=%{y}\\u003cextra\\u003e\\u003c\\u002fextra\\u003e\",\"legendgroup\":\"Gujarat\",\"line\":{\"color\":\"#ab63fa\",\"dash\":\"solid\"},\"marker\":{\"symbol\":\"circle\"},\"mode\":\"lines\",\"name\":\"Gujarat\",\"showlegend\":true,\"x\":[\"2017_Aug\",\"2017_Dec\",\"2017_Jul\",\"2017_Jun\",\"2017_May\",\"2017_Nov\",\"2017_Oct\",\"2017_Sep\",\"2018_Apr\",\"2018_Aug\",\"2018_Dec\",\"2018_Feb\",\"2018_Jan\",\"2018_Jul\",\"2018_Jun\",\"2018_Mar\",\"2018_May\",\"2018_Nov\",\"2018_Oct\",\"2018_Sep\",\"2019_Apr\",\"2019_Aug\",\"2019_Dec\",\"2019_Feb\",\"2019_Jan\",\"2019_Jul\",\"2019_Jun\",\"2019_Mar\",\"2019_May\",\"2019_Nov\",\"2019_Oct\",\"2019_Sep\",\"2020_Apr\",\"2020_Aug\",\"2020_Dec\",\"2020_Feb\",\"2020_Jan\",\"2020_Jul\",\"2020_Jun\",\"2020_Mar\",\"2020_May\",\"2020_Nov\",\"2020_Oct\",\"2020_Sep\",\"2021_Apr\",\"2021_Aug\",\"2021_Dec\",\"2021_Feb\",\"2021_Jan\",\"2021_Jul\",\"2021_Jun\",\"2021_Mar\",\"2021_May\",\"2021_Nov\",\"2021_Oct\",\"2021_Sep\",\"2022_Apr\",\"2022_Aug\",\"2022_Dec\",\"2022_Feb\",\"2022_Jan\",\"2022_Jul\",\"2022_Jun\",\"2022_Mar\",\"2022_May\",\"2022_Oct\",\"2022_Sep\"],\"xaxis\":\"x\",\"y\":[67.09,68.06,64.77,68.91,71.15,68.37,72.58,71.05,73.05,75.68,70.06,72.65,69.38,74.87,77.58,71.18,73.94,76.63,83.01,78.03,70.39,70.36,72.49,68.58,66.36,68.11,69.25,69.42,70.65,70.47,72.12,69.44,67.33,78.08,79.96,70.78,72.69,78.08,67.33,69.16,67.33,78.66,78.66,79.64,87.9,98.79,95.35,83.81,81.29,95.86,91.68,88.49,87.75,106.53,98.95,98.39,101.7,96.63,96.63,95.35,95.35,96.63,92.38,95.35,105.29,96.63,96.63],\"yaxis\":\"y\",\"type\":\"scattergl\"},{\"hovertemplate\":\"variable=Karnataka\\u003cbr\\u003edate=%{x}\\u003cbr\\u003evalue=%{y}\\u003cextra\\u003e\\u003c\\u002fextra\\u003e\",\"legendgroup\":\"Karnataka\",\"line\":{\"color\":\"#FFA15A\",\"dash\":\"solid\"},\"marker\":{\"symbol\":\"circle\"},\"mode\":\"lines\",\"name\":\"Karnataka\",\"showlegend\":true,\"x\":[\"2017_Aug\",\"2017_Dec\",\"2017_Jul\",\"2017_Jun\",\"2017_May\",\"2017_Nov\",\"2017_Oct\",\"2017_Sep\",\"2018_Apr\",\"2018_Aug\",\"2018_Dec\",\"2018_Feb\",\"2018_Jan\",\"2018_Jul\",\"2018_Jun\",\"2018_Mar\",\"2018_May\",\"2018_Nov\",\"2018_Oct\",\"2018_Sep\",\"2019_Apr\",\"2019_Aug\",\"2019_Dec\",\"2019_Feb\",\"2019_Jan\",\"2019_Jul\",\"2019_Jun\",\"2019_Mar\",\"2019_May\",\"2019_Nov\",\"2019_Oct\",\"2019_Sep\",\"2020_Apr\",\"2020_Aug\",\"2020_Dec\",\"2020_Feb\",\"2020_Jan\",\"2020_Jul\",\"2020_Jun\",\"2020_Mar\",\"2020_May\",\"2020_Nov\",\"2020_Oct\",\"2020_Sep\",\"2021_Apr\",\"2021_Aug\",\"2021_Dec\",\"2021_Feb\",\"2021_Jan\",\"2021_Jul\",\"2021_Jun\",\"2021_Mar\",\"2021_May\",\"2021_Nov\",\"2021_Oct\",\"2021_Sep\",\"2022_Apr\",\"2022_Aug\",\"2022_Dec\",\"2022_Feb\",\"2022_Jan\",\"2022_Jul\",\"2022_Jun\",\"2022_Mar\",\"2022_May\",\"2022_Oct\",\"2022_Sep\"],\"xaxis\":\"x\",\"y\":[66.39,70.29,64.24,71.59,73.01,70.21,71.87,70.34,74.9,78.77,73.09,74.2,71.06,76.77,79.57,72.69,75.82,79.99,84.4,81.24,75.23,75.21,77.5,73.28,69.21,72.79,74.01,74.2,75.51,75.32,77.1,74.22,73.55,83.04,85.09,75.66,77.71,83.04,73.55,73.94,73.55,83.69,83.69,84.75,93.59,105.25,100.58,89.21,86.51,102.11,97.64,94.22,93.43,113.56,105.44,104.84,107.3,101.94,101.94,100.58,100.58,101.94,87.89,100.58,111.09,101.94,101.94],\"yaxis\":\"y\",\"type\":\"scattergl\"},{\"hovertemplate\":\"variable=Telangana\\u003cbr\\u003edate=%{x}\\u003cbr\\u003evalue=%{y}\\u003cextra\\u003e\\u003c\\u002fextra\\u003e\",\"legendgroup\":\"Telangana\",\"line\":{\"color\":\"#19d3f3\",\"dash\":\"solid\"},\"marker\":{\"symbol\":\"circle\"},\"mode\":\"lines\",\"name\":\"Telangana\",\"showlegend\":true,\"x\":[\"2017_Aug\",\"2017_Dec\",\"2017_Jul\",\"2017_Jun\",\"2017_May\",\"2017_Nov\",\"2017_Oct\",\"2017_Sep\",\"2018_Apr\",\"2018_Aug\",\"2018_Dec\",\"2018_Feb\",\"2018_Jan\",\"2018_Jul\",\"2018_Jun\",\"2018_Mar\",\"2018_May\",\"2018_Nov\",\"2018_Oct\",\"2018_Sep\",\"2019_Apr\",\"2019_Aug\",\"2019_Dec\",\"2019_Feb\",\"2019_Jan\",\"2019_Jul\",\"2019_Jun\",\"2019_Mar\",\"2019_May\",\"2019_Nov\",\"2019_Oct\",\"2019_Sep\",\"2020_Apr\",\"2020_Aug\",\"2020_Dec\",\"2020_Feb\",\"2020_Jan\",\"2020_Jul\",\"2020_Jun\",\"2020_Mar\",\"2020_May\",\"2020_Nov\",\"2020_Oct\",\"2020_Sep\",\"2021_Apr\",\"2021_Aug\",\"2021_Dec\",\"2021_Feb\",\"2021_Jan\",\"2021_Jul\",\"2021_Jun\",\"2021_Mar\",\"2021_May\",\"2021_Nov\",\"2021_Oct\",\"2021_Sep\",\"2022_Apr\",\"2022_Aug\",\"2022_Dec\",\"2022_Feb\",\"2022_Jan\",\"2022_Jul\",\"2022_Jun\",\"2022_Mar\",\"2022_May\",\"2022_Oct\",\"2022_Sep\"],\"xaxis\":\"x\",\"y\":[69.24,73.29,67.02,71.49,72.68,73.2,74.93,73.34,78.08,80.9,76.89,77.36,74.09,80.03,82.94,75.79,79.04,84.14,88.77,83.42,77.26,77.31,79.74,75.26,72.82,74.83,76.05,76.2,77.55,77.51,79.25,76.3,73.97,83.49,85.64,77.85,79.96,83.49,73.97,75.99,73.97,84.25,84.25,85.3,94.16,105.83,108.2,89.77,87.06,102.69,98.2,94.79,93.99,114.12,106.0,105.4,115.42,109.66,109.66,108.2,108.2,109.66,97.82,108.2,119.49,109.66,109.66],\"yaxis\":\"y\",\"type\":\"scattergl\"},{\"hovertemplate\":\"variable=Rajasthan\\u003cbr\\u003edate=%{x}\\u003cbr\\u003evalue=%{y}\\u003cextra\\u003e\\u003c\\u002fextra\\u003e\",\"legendgroup\":\"Rajasthan\",\"line\":{\"color\":\"#FF6692\",\"dash\":\"solid\"},\"marker\":{\"symbol\":\"circle\"},\"mode\":\"lines\",\"name\":\"Rajasthan\",\"showlegend\":true,\"x\":[\"2017_Aug\",\"2017_Dec\",\"2017_Jul\",\"2017_Jun\",\"2017_May\",\"2017_Nov\",\"2017_Oct\",\"2017_Sep\",\"2018_Apr\",\"2018_Aug\",\"2018_Dec\",\"2018_Feb\",\"2018_Jan\",\"2018_Jul\",\"2018_Jun\",\"2018_Mar\",\"2018_May\",\"2018_Nov\",\"2018_Oct\",\"2018_Sep\",\"2019_Apr\",\"2019_Aug\",\"2019_Dec\",\"2019_Feb\",\"2019_Jan\",\"2019_Jul\",\"2019_Jun\",\"2019_Mar\",\"2019_May\",\"2019_Nov\",\"2019_Oct\",\"2019_Sep\",\"2020_Apr\",\"2020_Aug\",\"2020_Dec\",\"2020_Feb\",\"2020_Jan\",\"2020_Jul\",\"2020_Jun\",\"2020_Mar\",\"2020_May\",\"2020_Nov\",\"2020_Oct\",\"2020_Sep\",\"2021_Apr\",\"2021_Aug\",\"2021_Dec\",\"2021_Feb\",\"2021_Jan\",\"2021_Jul\",\"2021_Jun\",\"2021_Mar\",\"2021_May\",\"2021_Nov\",\"2021_Oct\",\"2021_Sep\",\"2022_Apr\",\"2022_Aug\",\"2022_Dec\",\"2022_Feb\",\"2022_Jan\",\"2022_Jul\",\"2022_Jun\",\"2022_Mar\",\"2022_May\",\"2022_Oct\",\"2022_Sep\"],\"xaxis\":\"x\",\"y\":[67.93,71.83,65.77,69.88,71.12,71.61,73.41,71.88,76.44,79.26,73.22,76.02,72.74,78.27,81.07,74.51,77.32,79.97,84.28,81.68,73.56,76.72,78.86,71.7,69.42,71.22,72.39,72.58,73.83,76.71,78.47,75.75,75.59,87.57,89.63,77.04,79.07,87.57,77.82,75.3,76.7,88.21,88.21,89.29,97.08,108.71,107.06,93.86,91.09,105.54,101.02,97.72,96.77,117.08,108.88,108.27,114.07,108.48,108.48,107.06,107.06,108.48,93.72,107.06,118.03,108.48,108.48],\"yaxis\":\"y\",\"type\":\"scattergl\"},{\"hovertemplate\":\"variable=Punjab\\u003cbr\\u003edate=%{x}\\u003cbr\\u003evalue=%{y}\\u003cextra\\u003e\\u003c\\u002fextra\\u003e\",\"legendgroup\":\"Punjab\",\"line\":{\"color\":\"#B6E880\",\"dash\":\"solid\"},\"marker\":{\"symbol\":\"circle\"},\"mode\":\"lines\",\"name\":\"Punjab\",\"showlegend\":true,\"x\":[\"2017_Aug\",\"2017_Dec\",\"2017_Jul\",\"2017_Jun\",\"2017_May\",\"2017_Nov\",\"2017_Oct\",\"2017_Sep\",\"2018_Apr\",\"2018_Aug\",\"2018_Dec\",\"2018_Feb\",\"2018_Jan\",\"2018_Jul\",\"2018_Jun\",\"2018_Mar\",\"2018_May\",\"2018_Nov\",\"2018_Oct\",\"2018_Sep\",\"2019_Apr\",\"2019_Aug\",\"2019_Dec\",\"2019_Feb\",\"2019_Jan\",\"2019_Jul\",\"2019_Jun\",\"2019_Mar\",\"2019_May\",\"2019_Nov\",\"2019_Oct\",\"2019_Sep\",\"2020_Apr\",\"2020_Aug\",\"2020_Dec\",\"2020_Feb\",\"2020_Jan\",\"2020_Jul\",\"2020_Jun\",\"2020_Mar\",\"2020_May\",\"2020_Nov\",\"2020_Oct\",\"2020_Sep\",\"2021_Apr\",\"2021_Aug\",\"2021_Dec\",\"2021_Feb\",\"2021_Jan\",\"2021_Jul\",\"2021_Jun\",\"2021_Mar\",\"2021_May\",\"2021_Nov\",\"2021_Oct\",\"2021_Sep\",\"2022_Apr\",\"2022_Aug\",\"2022_Dec\",\"2022_Feb\",\"2022_Jan\",\"2022_Jul\",\"2022_Jun\",\"2022_Mar\",\"2022_May\",\"2022_Oct\",\"2022_Sep\"],\"xaxis\":\"x\",\"y\":[70.32,74.21,67.93,72.51,73.41,74.13,75.8,74.25,78.91,81.49,77.57,78.16,74.98,80.73,83.55,76.63,79.83,84.62,89.11,83.92,72.68,72.59,74.82,75.98,73.61,70.35,71.48,71.73,72.94,72.8,74.45,71.66,69.68,81.63,83.48,73.11,75.02,81.63,71.71,71.51,69.68,82.19,82.19,83.18,91.54,102.85,94.94,87.37,84.82,99.88,95.65,92.14,91.71,110.61,102.97,102.4,101.09,96.18,96.18,94.94,94.94,96.18,86.55,94.94,104.56,96.18,96.18],\"yaxis\":\"y\",\"type\":\"scattergl\"},{\"hovertemplate\":\"variable=West_bengal\\u003cbr\\u003edate=%{x}\\u003cbr\\u003evalue=%{y}\\u003cextra\\u003e\\u003c\\u002fextra\\u003e\",\"legendgroup\":\"West_bengal\",\"line\":{\"color\":\"#FF97FF\",\"dash\":\"solid\"},\"marker\":{\"symbol\":\"circle\"},\"mode\":\"lines\",\"name\":\"West_bengal\",\"showlegend\":true,\"x\":[\"2017_Aug\",\"2017_Dec\",\"2017_Jul\",\"2017_Jun\",\"2017_May\",\"2017_Nov\",\"2017_Oct\",\"2017_Sep\",\"2018_Apr\",\"2018_Aug\",\"2018_Dec\",\"2018_Feb\",\"2018_Jan\",\"2018_Jul\",\"2018_Jun\",\"2018_Mar\",\"2018_May\",\"2018_Nov\",\"2018_Oct\",\"2018_Sep\",\"2019_Apr\",\"2019_Aug\",\"2019_Dec\",\"2019_Feb\",\"2019_Jan\",\"2019_Jul\",\"2019_Jun\",\"2019_Mar\",\"2019_May\",\"2019_Nov\",\"2019_Oct\",\"2019_Sep\",\"2020_Apr\",\"2020_Aug\",\"2020_Dec\",\"2020_Feb\",\"2020_Jan\",\"2020_Jul\",\"2020_Jun\",\"2020_Mar\",\"2020_May\",\"2020_Nov\",\"2020_Oct\",\"2020_Sep\",\"2021_Apr\",\"2021_Aug\",\"2021_Dec\",\"2021_Feb\",\"2021_Jan\",\"2021_Jul\",\"2021_Jun\",\"2021_Mar\",\"2021_May\",\"2021_Nov\",\"2021_Oct\",\"2021_Sep\",\"2022_Apr\",\"2022_Aug\",\"2022_Dec\",\"2022_Feb\",\"2022_Jan\",\"2022_Jul\",\"2022_Jun\",\"2022_Mar\",\"2022_May\",\"2022_Oct\",\"2022_Sep\"],\"xaxis\":\"x\",\"y\":[68.56,71.98,66.14,69.52,70.68,71.9,73.5,72.02,76.44,79.2,74.55,75.74,72.72,78.23,80.92,74.32,77.32,81.25,85.53,81.6,74.88,75.44,77.61,73.04,70.78,72.67,73.74,73.9,75.15,75.55,77.23,74.5,73.3,82.1,83.87,75.85,77.79,82.1,73.3,74.16,73.3,82.59,82.59,83.57,90.77,102.08,104.67,87.69,85.19,98.64,94.5,91.35,90.62,110.15,102.47,101.72,111.35,106.03,106.03,104.67,104.67,106.03,92.76,104.67,115.12,106.03,106.03],\"yaxis\":\"y\",\"type\":\"scattergl\"},{\"hovertemplate\":\"variable=Tamil Nadu\\u003cbr\\u003edate=%{x}\\u003cbr\\u003evalue=%{y}\\u003cextra\\u003e\\u003c\\u002fextra\\u003e\",\"legendgroup\":\"Tamil Nadu\",\"line\":{\"color\":\"#FECB52\",\"dash\":\"solid\"},\"marker\":{\"symbol\":\"circle\"},\"mode\":\"lines\",\"name\":\"Tamil Nadu\",\"showlegend\":true,\"x\":[\"2017_Aug\",\"2017_Dec\",\"2017_Jul\",\"2017_Jun\",\"2017_May\",\"2017_Nov\",\"2017_Oct\",\"2017_Sep\",\"2018_Apr\",\"2018_Aug\",\"2018_Dec\",\"2018_Feb\",\"2018_Jan\",\"2018_Jul\",\"2018_Jun\",\"2018_Mar\",\"2018_May\",\"2018_Nov\",\"2018_Oct\",\"2018_Sep\",\"2019_Apr\",\"2019_Aug\",\"2019_Dec\",\"2019_Feb\",\"2019_Jan\",\"2019_Jul\",\"2019_Jun\",\"2019_Mar\",\"2019_May\",\"2019_Nov\",\"2019_Oct\",\"2019_Sep\",\"2020_Apr\",\"2020_Aug\",\"2020_Dec\",\"2020_Feb\",\"2020_Jan\",\"2020_Jul\",\"2020_Jun\",\"2020_Mar\",\"2020_May\",\"2020_Nov\",\"2020_Oct\",\"2020_Sep\",\"2021_Apr\",\"2021_Aug\",\"2021_Dec\",\"2021_Feb\",\"2021_Jan\",\"2021_Jul\",\"2021_Jun\",\"2021_Mar\",\"2021_May\",\"2021_Nov\",\"2021_Oct\",\"2021_Sep\",\"2022_Apr\",\"2022_Aug\",\"2022_Dec\",\"2022_Feb\",\"2022_Jan\",\"2022_Jul\",\"2022_Jun\",\"2022_Mar\",\"2022_May\",\"2022_Oct\",\"2022_Sep\"],\"xaxis\":\"x\",\"y\":[67.71,71.74,65.46,69.93,71.17,71.65,73.36,71.78,76.48,79.26,75.26,75.77,72.53,78.4,81.28,74.21,77.43,82.46,87.05,81.75,75.62,75.6,77.91,73.64,71.22,73.15,74.39,74.57,75.9,75.69,77.5,74.57,72.28,83.63,85.31,76.03,78.12,83.63,75.54,74.28,72.28,84.14,84.14,85.04,92.58,102.49,101.4,88.82,86.51,99.8,95.99,93.11,92.43,106.35,99.58,99.08,107.45,102.63,102.63,101.4,101.4,102.63,94.24,101.4,110.85,102.63,102.63],\"yaxis\":\"y\",\"type\":\"scattergl\"},{\"hovertemplate\":\"variable= Uttar Pradesh\\u003cbr\\u003edate=%{x}\\u003cbr\\u003evalue=%{y}\\u003cextra\\u003e\\u003c\\u002fextra\\u003e\",\"legendgroup\":\" Uttar Pradesh\",\"line\":{\"color\":\"#636efa\",\"dash\":\"solid\"},\"marker\":{\"symbol\":\"circle\"},\"mode\":\"lines\",\"name\":\" Uttar Pradesh\",\"showlegend\":true,\"x\":[\"2017_Aug\",\"2017_Dec\",\"2017_Jul\",\"2017_Jun\",\"2017_May\",\"2017_Nov\",\"2017_Oct\",\"2017_Sep\",\"2018_Apr\",\"2018_Aug\",\"2018_Dec\",\"2018_Feb\",\"2018_Jan\",\"2018_Jul\",\"2018_Jun\",\"2018_Mar\",\"2018_May\",\"2018_Nov\",\"2018_Oct\",\"2018_Sep\",\"2019_Apr\",\"2019_Aug\",\"2019_Dec\",\"2019_Feb\",\"2019_Jan\",\"2019_Jul\",\"2019_Jun\",\"2019_Mar\",\"2019_May\",\"2019_Nov\",\"2019_Oct\",\"2019_Sep\",\"2020_Apr\",\"2020_Aug\",\"2020_Dec\",\"2020_Feb\",\"2020_Jan\",\"2020_Jul\",\"2020_Jun\",\"2020_Mar\",\"2020_May\",\"2020_Nov\",\"2020_Oct\",\"2020_Sep\",\"2021_Apr\",\"2021_Aug\",\"2021_Dec\",\"2021_Feb\",\"2021_Jan\",\"2021_Jul\",\"2021_Jun\",\"2021_Mar\",\"2021_May\",\"2021_Nov\",\"2021_Oct\",\"2021_Sep\",\"2022_Apr\",\"2022_Aug\",\"2022_Dec\",\"2022_Feb\",\"2022_Jan\",\"2022_Jul\",\"2022_Jun\",\"2022_Mar\",\"2022_May\",\"2022_Oct\",\"2022_Sep\"],\"xaxis\":\"x\",\"y\":[68.63,71.58,66.53,69.86,70.74,71.51,72.79,71.61,75.12,77.11,72.13,74.59,72.17,76.56,78.71,73.42,75.83,77.15,83.03,78.97,72.05,72.04,76.11,70.58,68.77,70.2,71.13,71.27,72.24,74.46,75.81,73.63,71.92,80.98,82.54,74.72,76.28,80.86,73.82,73.42,71.92,81.34,81.34,82.26,88.68,98.92,95.28,85.41,83.41,95.74,91.65,89.15,88.56,106.61,98.99,98.43,101.66,96.57,96.57,95.28,95.28,96.57,89.76,95.28,105.25,96.57,96.57],\"yaxis\":\"y\",\"type\":\"scattergl\"},{\"hovertemplate\":\"variable=Madhya Pradesh\\u003cbr\\u003edate=%{x}\\u003cbr\\u003evalue=%{y}\\u003cextra\\u003e\\u003c\\u002fextra\\u003e\",\"legendgroup\":\"Madhya Pradesh\",\"line\":{\"color\":\"#EF553B\",\"dash\":\"solid\"},\"marker\":{\"symbol\":\"circle\"},\"mode\":\"lines\",\"name\":\"Madhya Pradesh\",\"showlegend\":true,\"x\":[\"2017_Aug\",\"2017_Dec\",\"2017_Jul\",\"2017_Jun\",\"2017_May\",\"2017_Nov\",\"2017_Oct\",\"2017_Sep\",\"2018_Apr\",\"2018_Aug\",\"2018_Dec\",\"2018_Feb\",\"2018_Jan\",\"2018_Jul\",\"2018_Jun\",\"2018_Mar\",\"2018_May\",\"2018_Nov\",\"2018_Oct\",\"2018_Sep\",\"2019_Apr\",\"2019_Aug\",\"2019_Dec\",\"2019_Feb\",\"2019_Jan\",\"2019_Jul\",\"2019_Jun\",\"2019_Mar\",\"2019_May\",\"2019_Nov\",\"2019_Oct\",\"2019_Sep\",\"2020_Apr\",\"2020_Aug\",\"2020_Dec\",\"2020_Feb\",\"2020_Jan\",\"2020_Jul\",\"2020_Jun\",\"2020_Mar\",\"2020_May\",\"2020_Nov\",\"2020_Oct\",\"2020_Sep\",\"2021_Apr\",\"2021_Aug\",\"2021_Dec\",\"2021_Feb\",\"2021_Jan\",\"2021_Jul\",\"2021_Jun\",\"2021_Mar\",\"2021_May\",\"2021_Nov\",\"2021_Oct\",\"2021_Sep\",\"2022_Apr\",\"2022_Aug\",\"2022_Dec\",\"2022_Feb\",\"2022_Jan\",\"2022_Jul\",\"2022_Jun\",\"2022_Mar\",\"2022_May\",\"2022_Oct\",\"2022_Sep\"],\"xaxis\":\"x\",\"y\":[71.99,73.93,69.62,74.65,75.87,73.71,77.18,75.63,79.27,81.97,75.57,78.85,74.82,81.14,83.92,77.34,80.18,82.52,89.51,84.39,75.91,77.95,83.22,74.01,71.67,73.53,74.73,74.9,76.19,80.99,82.81,76.96,77.58,88.08,90.09,81.34,83.43,88.08,77.58,79.59,77.58,88.7,88.7,89.75,98.58,110.2,107.23,94.2,91.5,107.07,102.61,99.21,98.41,118.46,110.37,109.77,114.21,108.65,108.65,107.23,107.23,108.65,93.9,107.23,118.14,108.65,108.65],\"yaxis\":\"y\",\"type\":\"scattergl\"},{\"hovertemplate\":\"variable=Kerala\\u003cbr\\u003edate=%{x}\\u003cbr\\u003evalue=%{y}\\u003cextra\\u003e\\u003c\\u002fextra\\u003e\",\"legendgroup\":\"Kerala\",\"line\":{\"color\":\"#00cc96\",\"dash\":\"solid\"},\"marker\":{\"symbol\":\"circle\"},\"mode\":\"lines\",\"name\":\"Kerala\",\"showlegend\":true,\"x\":[\"2017_Aug\",\"2017_Dec\",\"2017_Jul\",\"2017_Jun\",\"2017_May\",\"2017_Nov\",\"2017_Oct\",\"2017_Sep\",\"2018_Apr\",\"2018_Aug\",\"2018_Dec\",\"2018_Feb\",\"2018_Jan\",\"2018_Jul\",\"2018_Jun\",\"2018_Mar\",\"2018_May\",\"2018_Nov\",\"2018_Oct\",\"2018_Sep\",\"2019_Apr\",\"2019_Aug\",\"2019_Dec\",\"2019_Feb\",\"2019_Jan\",\"2019_Jul\",\"2019_Jun\",\"2019_Mar\",\"2019_May\",\"2019_Nov\",\"2019_Oct\",\"2019_Sep\",\"2020_Apr\",\"2020_Aug\",\"2020_Dec\",\"2020_Feb\",\"2020_Jan\",\"2020_Jul\",\"2020_Jun\",\"2020_Mar\",\"2020_May\",\"2020_Nov\",\"2020_Oct\",\"2020_Sep\",\"2021_Apr\",\"2021_Aug\",\"2021_Dec\",\"2021_Feb\",\"2021_Jan\",\"2021_Jul\",\"2021_Jun\",\"2021_Mar\",\"2021_May\",\"2021_Nov\",\"2021_Oct\",\"2021_Sep\",\"2022_Apr\",\"2022_Aug\",\"2022_Dec\",\"2022_Feb\",\"2022_Jan\",\"2022_Jul\",\"2022_Jun\",\"2022_Mar\",\"2022_May\",\"2022_Oct\",\"2022_Sep\"],\"xaxis\":\"x\",\"y\":[69.06,72.99,66.93,71.27,72.43,72.91,74.62,73.07,77.67,79.47,75.75,76.97,73.77,78.63,81.44,75.43,78.61,82.65,87.12,81.96,76.13,76.06,78.38,74.21,71.82,73.67,74.88,75.11,76.42,76.22,77.99,75.14,72.99,82.15,84.34,76.56,78.59,82.15,72.99,74.94,72.99,82.89,82.89,83.91,92.44,103.82,106.36,88.33,85.72,100.79,96.47,93.05,92.28,112.07,104.13,103.56,113.27,107.71,107.71,106.36,106.36,107.71,96.52,106.36,117.19,107.71,107.71],\"yaxis\":\"y\",\"type\":\"scattergl\"},{\"hovertemplate\":\"variable=Assam\\u003cbr\\u003edate=%{x}\\u003cbr\\u003evalue=%{y}\\u003cextra\\u003e\\u003c\\u002fextra\\u003e\",\"legendgroup\":\"Assam\",\"line\":{\"color\":\"#ab63fa\",\"dash\":\"solid\"},\"marker\":{\"symbol\":\"circle\"},\"mode\":\"lines\",\"name\":\"Assam\",\"showlegend\":true,\"x\":[\"2017_Aug\",\"2017_Dec\",\"2017_Jul\",\"2017_Jun\",\"2017_May\",\"2017_Nov\",\"2017_Oct\",\"2017_Sep\",\"2018_Apr\",\"2018_Aug\",\"2018_Dec\",\"2018_Feb\",\"2018_Jan\",\"2018_Jul\",\"2018_Jun\",\"2018_Mar\",\"2018_May\",\"2018_Nov\",\"2018_Oct\",\"2018_Sep\",\"2019_Apr\",\"2019_Aug\",\"2019_Dec\",\"2019_Feb\",\"2019_Jan\",\"2019_Jul\",\"2019_Jun\",\"2019_Mar\",\"2019_May\",\"2019_Nov\",\"2019_Oct\",\"2019_Sep\",\"2020_Apr\",\"2020_Aug\",\"2020_Dec\",\"2020_Feb\",\"2020_Jan\",\"2020_Jul\",\"2020_Jun\",\"2020_Mar\",\"2020_May\",\"2020_Nov\",\"2020_Oct\",\"2020_Sep\",\"2021_Apr\",\"2021_Aug\",\"2021_Dec\",\"2021_Feb\",\"2021_Jan\",\"2021_Jul\",\"2021_Jun\",\"2021_Mar\",\"2021_May\",\"2021_Nov\",\"2021_Oct\",\"2021_Sep\",\"2022_Apr\",\"2022_Aug\",\"2022_Dec\",\"2022_Feb\",\"2022_Jan\",\"2022_Jul\",\"2022_Jun\",\"2022_Mar\",\"2022_May\",\"2022_Oct\",\"2022_Sep\"],\"xaxis\":\"x\",\"y\":[68.03,71.13,65.83,70.52,71.41,71.04,72.73,71.17,75.8,78.51,72.03,75.09,71.91,77.66,80.51,73.54,76.73,79.16,86.22,80.97,72.39,72.37,77.18,70.43,68.03,69.94,71.17,71.35,72.67,74.99,76.78,73.88,71.61,84.5,85.95,75.33,77.39,84.5,77.46,73.59,77.46,84.93,84.93,85.72,87.23,97.64,94.58,89.0,87.0,94.56,90.2,87.69,87.1,105.74,97.77,97.18,101.67,96.01,96.01,94.58,94.58,96.01,83.94,94.58,105.66,96.01,96.01],\"yaxis\":\"y\",\"type\":\"scattergl\"},{\"hovertemplate\":\"variable=Bihar\\u003cbr\\u003edate=%{x}\\u003cbr\\u003evalue=%{y}\\u003cextra\\u003e\\u003c\\u002fextra\\u003e\",\"legendgroup\":\"Bihar\",\"line\":{\"color\":\"#FFA15A\",\"dash\":\"solid\"},\"marker\":{\"symbol\":\"circle\"},\"mode\":\"lines\",\"name\":\"Bihar\",\"showlegend\":true,\"x\":[\"2017_Aug\",\"2017_Dec\",\"2017_Jul\",\"2017_Jun\",\"2017_May\",\"2017_Nov\",\"2017_Oct\",\"2017_Sep\",\"2018_Apr\",\"2018_Aug\",\"2018_Dec\",\"2018_Feb\",\"2018_Jan\",\"2018_Jul\",\"2018_Jun\",\"2018_Mar\",\"2018_May\",\"2018_Nov\",\"2018_Oct\",\"2018_Sep\",\"2019_Apr\",\"2019_Aug\",\"2019_Dec\",\"2019_Feb\",\"2019_Jan\",\"2019_Jul\",\"2019_Jun\",\"2019_Mar\",\"2019_May\",\"2019_Nov\",\"2019_Oct\",\"2019_Sep\",\"2020_Apr\",\"2020_Aug\",\"2020_Dec\",\"2020_Feb\",\"2020_Jan\",\"2020_Jul\",\"2020_Jun\",\"2020_Mar\",\"2020_May\",\"2020_Nov\",\"2020_Oct\",\"2020_Sep\",\"2021_Apr\",\"2021_Aug\",\"2021_Dec\",\"2021_Feb\",\"2021_Jan\",\"2021_Jul\",\"2021_Jun\",\"2021_Mar\",\"2021_May\",\"2021_Nov\",\"2021_Oct\",\"2021_Sep\",\"2022_Apr\",\"2022_Aug\",\"2022_Dec\",\"2022_Feb\",\"2022_Jan\",\"2022_Jul\",\"2022_Jun\",\"2022_Mar\",\"2022_May\",\"2022_Oct\",\"2022_Sep\"],\"xaxis\":\"x\",\"y\":[69.78,73.57,65.93,69.85,71.16,73.49,75.09,73.61,79.24,82.05,76.49,77.38,74.31,81.04,83.76,76.84,80.13,83.06,89.87,84.89,76.82,76.37,80.71,75.02,72.81,74.63,75.73,75.86,77.08,78.75,78.11,75.44,74.25,83.31,84.93,77.87,79.83,83.31,76.27,76.13,74.25,83.73,83.73,84.64,92.89,104.25,105.9,88.78,86.25,100.81,96.64,93.48,92.74,113.45,104.64,103.89,112.51,107.24,107.24,105.9,105.9,107.24,94.04,105.9,116.23,107.24,107.24],\"yaxis\":\"y\",\"type\":\"scattergl\"}],                        {\"template\":{\"data\":{\"histogram2dcontour\":[{\"type\":\"histogram2dcontour\",\"colorbar\":{\"outlinewidth\":0,\"ticks\":\"\"},\"colorscale\":[[0.0,\"#0d0887\"],[0.1111111111111111,\"#46039f\"],[0.2222222222222222,\"#7201a8\"],[0.3333333333333333,\"#9c179e\"],[0.4444444444444444,\"#bd3786\"],[0.5555555555555556,\"#d8576b\"],[0.6666666666666666,\"#ed7953\"],[0.7777777777777778,\"#fb9f3a\"],[0.8888888888888888,\"#fdca26\"],[1.0,\"#f0f921\"]]}],\"choropleth\":[{\"type\":\"choropleth\",\"colorbar\":{\"outlinewidth\":0,\"ticks\":\"\"}}],\"histogram2d\":[{\"type\":\"histogram2d\",\"colorbar\":{\"outlinewidth\":0,\"ticks\":\"\"},\"colorscale\":[[0.0,\"#0d0887\"],[0.1111111111111111,\"#46039f\"],[0.2222222222222222,\"#7201a8\"],[0.3333333333333333,\"#9c179e\"],[0.4444444444444444,\"#bd3786\"],[0.5555555555555556,\"#d8576b\"],[0.6666666666666666,\"#ed7953\"],[0.7777777777777778,\"#fb9f3a\"],[0.8888888888888888,\"#fdca26\"],[1.0,\"#f0f921\"]]}],\"heatmap\":[{\"type\":\"heatmap\",\"colorbar\":{\"outlinewidth\":0,\"ticks\":\"\"},\"colorscale\":[[0.0,\"#0d0887\"],[0.1111111111111111,\"#46039f\"],[0.2222222222222222,\"#7201a8\"],[0.3333333333333333,\"#9c179e\"],[0.4444444444444444,\"#bd3786\"],[0.5555555555555556,\"#d8576b\"],[0.6666666666666666,\"#ed7953\"],[0.7777777777777778,\"#fb9f3a\"],[0.8888888888888888,\"#fdca26\"],[1.0,\"#f0f921\"]]}],\"heatmapgl\":[{\"type\":\"heatmapgl\",\"colorbar\":{\"outlinewidth\":0,\"ticks\":\"\"},\"colorscale\":[[0.0,\"#0d0887\"],[0.1111111111111111,\"#46039f\"],[0.2222222222222222,\"#7201a8\"],[0.3333333333333333,\"#9c179e\"],[0.4444444444444444,\"#bd3786\"],[0.5555555555555556,\"#d8576b\"],[0.6666666666666666,\"#ed7953\"],[0.7777777777777778,\"#fb9f3a\"],[0.8888888888888888,\"#fdca26\"],[1.0,\"#f0f921\"]]}],\"contourcarpet\":[{\"type\":\"contourcarpet\",\"colorbar\":{\"outlinewidth\":0,\"ticks\":\"\"}}],\"contour\":[{\"type\":\"contour\",\"colorbar\":{\"outlinewidth\":0,\"ticks\":\"\"},\"colorscale\":[[0.0,\"#0d0887\"],[0.1111111111111111,\"#46039f\"],[0.2222222222222222,\"#7201a8\"],[0.3333333333333333,\"#9c179e\"],[0.4444444444444444,\"#bd3786\"],[0.5555555555555556,\"#d8576b\"],[0.6666666666666666,\"#ed7953\"],[0.7777777777777778,\"#fb9f3a\"],[0.8888888888888888,\"#fdca26\"],[1.0,\"#f0f921\"]]}],\"surface\":[{\"type\":\"surface\",\"colorbar\":{\"outlinewidth\":0,\"ticks\":\"\"},\"colorscale\":[[0.0,\"#0d0887\"],[0.1111111111111111,\"#46039f\"],[0.2222222222222222,\"#7201a8\"],[0.3333333333333333,\"#9c179e\"],[0.4444444444444444,\"#bd3786\"],[0.5555555555555556,\"#d8576b\"],[0.6666666666666666,\"#ed7953\"],[0.7777777777777778,\"#fb9f3a\"],[0.8888888888888888,\"#fdca26\"],[1.0,\"#f0f921\"]]}],\"mesh3d\":[{\"type\":\"mesh3d\",\"colorbar\":{\"outlinewidth\":0,\"ticks\":\"\"}}],\"scatter\":[{\"fillpattern\":{\"fillmode\":\"overlay\",\"size\":10,\"solidity\":0.2},\"type\":\"scatter\"}],\"parcoords\":[{\"type\":\"parcoords\",\"line\":{\"colorbar\":{\"outlinewidth\":0,\"ticks\":\"\"}}}],\"scatterpolargl\":[{\"type\":\"scatterpolargl\",\"marker\":{\"colorbar\":{\"outlinewidth\":0,\"ticks\":\"\"}}}],\"bar\":[{\"error_x\":{\"color\":\"#2a3f5f\"},\"error_y\":{\"color\":\"#2a3f5f\"},\"marker\":{\"line\":{\"color\":\"#E5ECF6\",\"width\":0.5},\"pattern\":{\"fillmode\":\"overlay\",\"size\":10,\"solidity\":0.2}},\"type\":\"bar\"}],\"scattergeo\":[{\"type\":\"scattergeo\",\"marker\":{\"colorbar\":{\"outlinewidth\":0,\"ticks\":\"\"}}}],\"scatterpolar\":[{\"type\":\"scatterpolar\",\"marker\":{\"colorbar\":{\"outlinewidth\":0,\"ticks\":\"\"}}}],\"histogram\":[{\"marker\":{\"pattern\":{\"fillmode\":\"overlay\",\"size\":10,\"solidity\":0.2}},\"type\":\"histogram\"}],\"scattergl\":[{\"type\":\"scattergl\",\"marker\":{\"colorbar\":{\"outlinewidth\":0,\"ticks\":\"\"}}}],\"scatter3d\":[{\"type\":\"scatter3d\",\"line\":{\"colorbar\":{\"outlinewidth\":0,\"ticks\":\"\"}},\"marker\":{\"colorbar\":{\"outlinewidth\":0,\"ticks\":\"\"}}}],\"scattermapbox\":[{\"type\":\"scattermapbox\",\"marker\":{\"colorbar\":{\"outlinewidth\":0,\"ticks\":\"\"}}}],\"scatterternary\":[{\"type\":\"scatterternary\",\"marker\":{\"colorbar\":{\"outlinewidth\":0,\"ticks\":\"\"}}}],\"scattercarpet\":[{\"type\":\"scattercarpet\",\"marker\":{\"colorbar\":{\"outlinewidth\":0,\"ticks\":\"\"}}}],\"carpet\":[{\"aaxis\":{\"endlinecolor\":\"#2a3f5f\",\"gridcolor\":\"white\",\"linecolor\":\"white\",\"minorgridcolor\":\"white\",\"startlinecolor\":\"#2a3f5f\"},\"baxis\":{\"endlinecolor\":\"#2a3f5f\",\"gridcolor\":\"white\",\"linecolor\":\"white\",\"minorgridcolor\":\"white\",\"startlinecolor\":\"#2a3f5f\"},\"type\":\"carpet\"}],\"table\":[{\"cells\":{\"fill\":{\"color\":\"#EBF0F8\"},\"line\":{\"color\":\"white\"}},\"header\":{\"fill\":{\"color\":\"#C8D4E3\"},\"line\":{\"color\":\"white\"}},\"type\":\"table\"}],\"barpolar\":[{\"marker\":{\"line\":{\"color\":\"#E5ECF6\",\"width\":0.5},\"pattern\":{\"fillmode\":\"overlay\",\"size\":10,\"solidity\":0.2}},\"type\":\"barpolar\"}],\"pie\":[{\"automargin\":true,\"type\":\"pie\"}]},\"layout\":{\"autotypenumbers\":\"strict\",\"colorway\":[\"#636efa\",\"#EF553B\",\"#00cc96\",\"#ab63fa\",\"#FFA15A\",\"#19d3f3\",\"#FF6692\",\"#B6E880\",\"#FF97FF\",\"#FECB52\"],\"font\":{\"color\":\"#2a3f5f\"},\"hovermode\":\"closest\",\"hoverlabel\":{\"align\":\"left\"},\"paper_bgcolor\":\"white\",\"plot_bgcolor\":\"#E5ECF6\",\"polar\":{\"bgcolor\":\"#E5ECF6\",\"angularaxis\":{\"gridcolor\":\"white\",\"linecolor\":\"white\",\"ticks\":\"\"},\"radialaxis\":{\"gridcolor\":\"white\",\"linecolor\":\"white\",\"ticks\":\"\"}},\"ternary\":{\"bgcolor\":\"#E5ECF6\",\"aaxis\":{\"gridcolor\":\"white\",\"linecolor\":\"white\",\"ticks\":\"\"},\"baxis\":{\"gridcolor\":\"white\",\"linecolor\":\"white\",\"ticks\":\"\"},\"caxis\":{\"gridcolor\":\"white\",\"linecolor\":\"white\",\"ticks\":\"\"}},\"coloraxis\":{\"colorbar\":{\"outlinewidth\":0,\"ticks\":\"\"}},\"colorscale\":{\"sequential\":[[0.0,\"#0d0887\"],[0.1111111111111111,\"#46039f\"],[0.2222222222222222,\"#7201a8\"],[0.3333333333333333,\"#9c179e\"],[0.4444444444444444,\"#bd3786\"],[0.5555555555555556,\"#d8576b\"],[0.6666666666666666,\"#ed7953\"],[0.7777777777777778,\"#fb9f3a\"],[0.8888888888888888,\"#fdca26\"],[1.0,\"#f0f921\"]],\"sequentialminus\":[[0.0,\"#0d0887\"],[0.1111111111111111,\"#46039f\"],[0.2222222222222222,\"#7201a8\"],[0.3333333333333333,\"#9c179e\"],[0.4444444444444444,\"#bd3786\"],[0.5555555555555556,\"#d8576b\"],[0.6666666666666666,\"#ed7953\"],[0.7777777777777778,\"#fb9f3a\"],[0.8888888888888888,\"#fdca26\"],[1.0,\"#f0f921\"]],\"diverging\":[[0,\"#8e0152\"],[0.1,\"#c51b7d\"],[0.2,\"#de77ae\"],[0.3,\"#f1b6da\"],[0.4,\"#fde0ef\"],[0.5,\"#f7f7f7\"],[0.6,\"#e6f5d0\"],[0.7,\"#b8e186\"],[0.8,\"#7fbc41\"],[0.9,\"#4d9221\"],[1,\"#276419\"]]},\"xaxis\":{\"gridcolor\":\"white\",\"linecolor\":\"white\",\"ticks\":\"\",\"title\":{\"standoff\":15},\"zerolinecolor\":\"white\",\"automargin\":true,\"zerolinewidth\":2},\"yaxis\":{\"gridcolor\":\"white\",\"linecolor\":\"white\",\"ticks\":\"\",\"title\":{\"standoff\":15},\"zerolinecolor\":\"white\",\"automargin\":true,\"zerolinewidth\":2},\"scene\":{\"xaxis\":{\"backgroundcolor\":\"#E5ECF6\",\"gridcolor\":\"white\",\"linecolor\":\"white\",\"showbackground\":true,\"ticks\":\"\",\"zerolinecolor\":\"white\",\"gridwidth\":2},\"yaxis\":{\"backgroundcolor\":\"#E5ECF6\",\"gridcolor\":\"white\",\"linecolor\":\"white\",\"showbackground\":true,\"ticks\":\"\",\"zerolinecolor\":\"white\",\"gridwidth\":2},\"zaxis\":{\"backgroundcolor\":\"#E5ECF6\",\"gridcolor\":\"white\",\"linecolor\":\"white\",\"showbackground\":true,\"ticks\":\"\",\"zerolinecolor\":\"white\",\"gridwidth\":2}},\"shapedefaults\":{\"line\":{\"color\":\"#2a3f5f\"}},\"annotationdefaults\":{\"arrowcolor\":\"#2a3f5f\",\"arrowhead\":0,\"arrowwidth\":1},\"geo\":{\"bgcolor\":\"white\",\"landcolor\":\"#E5ECF6\",\"subunitcolor\":\"white\",\"showland\":true,\"showlakes\":true,\"lakecolor\":\"white\"},\"title\":{\"x\":0.05},\"mapbox\":{\"style\":\"light\"}}},\"xaxis\":{\"anchor\":\"y\",\"domain\":[0.0,1.0],\"title\":{\"text\":\"date\"}},\"yaxis\":{\"anchor\":\"x\",\"domain\":[0.0,1.0],\"title\":{\"text\":\"value\"}},\"legend\":{\"title\":{\"text\":\"variable\"},\"tracegroupgap\":0},\"title\":{\"text\":\"Petrol Prices Trend Over 5 Years\"}},                        {\"responsive\": true}                    ).then(function(){\n",
       "                            \n",
       "var gd = document.getElementById('e62f9879-062f-4cd6-9eab-88a761b74c04');\n",
       "var x = new MutationObserver(function (mutations, observer) {{\n",
       "        var display = window.getComputedStyle(gd).display;\n",
       "        if (!display || display === 'none') {{\n",
       "            console.log([gd, 'removed!']);\n",
       "            Plotly.purge(gd);\n",
       "            observer.disconnect();\n",
       "        }}\n",
       "}});\n",
       "\n",
       "// Listen for the removal of the full notebook cells\n",
       "var notebookContainer = gd.closest('#notebook-container');\n",
       "if (notebookContainer) {{\n",
       "    x.observe(notebookContainer, {childList: true});\n",
       "}}\n",
       "\n",
       "// Listen for the clearing of the current output cell\n",
       "var outputEl = gd.closest('.output');\n",
       "if (outputEl) {{\n",
       "    x.observe(outputEl, {childList: true});\n",
       "}}\n",
       "\n",
       "                        })                };                });            </script>        </div>"
      ]
     },
     "metadata": {},
     "output_type": "display_data"
    }
   ],
   "source": [
    "fig1 = px.line(df, x='date', y=df.columns[1:], title='Petrol Prices Trend Over 5 Years')\n",
    "fig1.show()"
   ]
  },
  {
   "cell_type": "code",
   "execution_count": 9,
   "id": "d7a28631",
   "metadata": {
    "execution": {
     "iopub.execute_input": "2024-01-08T05:39:42.565148Z",
     "iopub.status.busy": "2024-01-08T05:39:42.564700Z",
     "iopub.status.idle": "2024-01-08T05:39:42.687202Z",
     "shell.execute_reply": "2024-01-08T05:39:42.686306Z"
    },
    "papermill": {
     "duration": 0.136345,
     "end_time": "2024-01-08T05:39:42.690881",
     "exception": false,
     "start_time": "2024-01-08T05:39:42.554536",
     "status": "completed"
    },
    "tags": []
   },
   "outputs": [
    {
     "data": {
      "text/html": [
       "<div>                            <div id=\"7ca36400-ac1d-4cec-a3c6-9c8330373e38\" class=\"plotly-graph-div\" style=\"height:525px; width:100%;\"></div>            <script type=\"text/javascript\">                require([\"plotly\"], function(Plotly) {                    window.PLOTLYENV=window.PLOTLYENV || {};                                    if (document.getElementById(\"7ca36400-ac1d-4cec-a3c6-9c8330373e38\")) {                    Plotly.newPlot(                        \"7ca36400-ac1d-4cec-a3c6-9c8330373e38\",                        [{\"alignmentgroup\":\"True\",\"hovertemplate\":\"date=%{x}\\u003cbr\\u003evalue=%{y}\\u003cextra\\u003e\\u003c\\u002fextra\\u003e\",\"legendgroup\":\"\",\"marker\":{\"color\":\"#636efa\"},\"name\":\"\",\"notched\":false,\"offsetgroup\":\"\",\"orientation\":\"v\",\"showlegend\":false,\"x\":[\"2017_Aug\",\"2017_Dec\",\"2017_Jul\",\"2017_Jun\",\"2017_May\",\"2017_Nov\",\"2017_Oct\",\"2017_Sep\",\"2018_Apr\",\"2018_Aug\",\"2018_Dec\",\"2018_Feb\",\"2018_Jan\",\"2018_Jul\",\"2018_Jun\",\"2018_Mar\",\"2018_May\",\"2018_Nov\",\"2018_Oct\",\"2018_Sep\",\"2019_Apr\",\"2019_Aug\",\"2019_Dec\",\"2019_Feb\",\"2019_Jan\",\"2019_Jul\",\"2019_Jun\",\"2019_Mar\",\"2019_May\",\"2019_Nov\",\"2019_Oct\",\"2019_Sep\",\"2020_Apr\",\"2020_Aug\",\"2020_Dec\",\"2020_Feb\",\"2020_Jan\",\"2020_Jul\",\"2020_Jun\",\"2020_Mar\",\"2020_May\",\"2020_Nov\",\"2020_Oct\",\"2020_Sep\",\"2021_Apr\",\"2021_Aug\",\"2021_Dec\",\"2021_Feb\",\"2021_Jan\",\"2021_Jul\",\"2021_Jun\",\"2021_Mar\",\"2021_May\",\"2021_Nov\",\"2021_Oct\",\"2021_Sep\",\"2022_Apr\",\"2022_Aug\",\"2022_Dec\",\"2022_Feb\",\"2022_Jan\",\"2022_Jul\",\"2022_Jun\",\"2022_Mar\",\"2022_May\",\"2022_Oct\",\"2022_Sep\",\"2017_Aug\",\"2017_Dec\",\"2017_Jul\",\"2017_Jun\",\"2017_May\",\"2017_Nov\",\"2017_Oct\",\"2017_Sep\",\"2018_Apr\",\"2018_Aug\",\"2018_Dec\",\"2018_Feb\",\"2018_Jan\",\"2018_Jul\",\"2018_Jun\",\"2018_Mar\",\"2018_May\",\"2018_Nov\",\"2018_Oct\",\"2018_Sep\",\"2019_Apr\",\"2019_Aug\",\"2019_Dec\",\"2019_Feb\",\"2019_Jan\",\"2019_Jul\",\"2019_Jun\",\"2019_Mar\",\"2019_May\",\"2019_Nov\",\"2019_Oct\",\"2019_Sep\",\"2020_Apr\",\"2020_Aug\",\"2020_Dec\",\"2020_Feb\",\"2020_Jan\",\"2020_Jul\",\"2020_Jun\",\"2020_Mar\",\"2020_May\",\"2020_Nov\",\"2020_Oct\",\"2020_Sep\",\"2021_Apr\",\"2021_Aug\",\"2021_Dec\",\"2021_Feb\",\"2021_Jan\",\"2021_Jul\",\"2021_Jun\",\"2021_Mar\",\"2021_May\",\"2021_Nov\",\"2021_Oct\",\"2021_Sep\",\"2022_Apr\",\"2022_Aug\",\"2022_Dec\",\"2022_Feb\",\"2022_Jan\",\"2022_Jul\",\"2022_Jun\",\"2022_Mar\",\"2022_May\",\"2022_Oct\",\"2022_Sep\",\"2017_Aug\",\"2017_Dec\",\"2017_Jul\",\"2017_Jun\",\"2017_May\",\"2017_Nov\",\"2017_Oct\",\"2017_Sep\",\"2018_Apr\",\"2018_Aug\",\"2018_Dec\",\"2018_Feb\",\"2018_Jan\",\"2018_Jul\",\"2018_Jun\",\"2018_Mar\",\"2018_May\",\"2018_Nov\",\"2018_Oct\",\"2018_Sep\",\"2019_Apr\",\"2019_Aug\",\"2019_Dec\",\"2019_Feb\",\"2019_Jan\",\"2019_Jul\",\"2019_Jun\",\"2019_Mar\",\"2019_May\",\"2019_Nov\",\"2019_Oct\",\"2019_Sep\",\"2020_Apr\",\"2020_Aug\",\"2020_Dec\",\"2020_Feb\",\"2020_Jan\",\"2020_Jul\",\"2020_Jun\",\"2020_Mar\",\"2020_May\",\"2020_Nov\",\"2020_Oct\",\"2020_Sep\",\"2021_Apr\",\"2021_Aug\",\"2021_Dec\",\"2021_Feb\",\"2021_Jan\",\"2021_Jul\",\"2021_Jun\",\"2021_Mar\",\"2021_May\",\"2021_Nov\",\"2021_Oct\",\"2021_Sep\",\"2022_Apr\",\"2022_Aug\",\"2022_Dec\",\"2022_Feb\",\"2022_Jan\",\"2022_Jul\",\"2022_Jun\",\"2022_Mar\",\"2022_May\",\"2022_Oct\",\"2022_Sep\",\"2017_Aug\",\"2017_Dec\",\"2017_Jul\",\"2017_Jun\",\"2017_May\",\"2017_Nov\",\"2017_Oct\",\"2017_Sep\",\"2018_Apr\",\"2018_Aug\",\"2018_Dec\",\"2018_Feb\",\"2018_Jan\",\"2018_Jul\",\"2018_Jun\",\"2018_Mar\",\"2018_May\",\"2018_Nov\",\"2018_Oct\",\"2018_Sep\",\"2019_Apr\",\"2019_Aug\",\"2019_Dec\",\"2019_Feb\",\"2019_Jan\",\"2019_Jul\",\"2019_Jun\",\"2019_Mar\",\"2019_May\",\"2019_Nov\",\"2019_Oct\",\"2019_Sep\",\"2020_Apr\",\"2020_Aug\",\"2020_Dec\",\"2020_Feb\",\"2020_Jan\",\"2020_Jul\",\"2020_Jun\",\"2020_Mar\",\"2020_May\",\"2020_Nov\",\"2020_Oct\",\"2020_Sep\",\"2021_Apr\",\"2021_Aug\",\"2021_Dec\",\"2021_Feb\",\"2021_Jan\",\"2021_Jul\",\"2021_Jun\",\"2021_Mar\",\"2021_May\",\"2021_Nov\",\"2021_Oct\",\"2021_Sep\",\"2022_Apr\",\"2022_Aug\",\"2022_Dec\",\"2022_Feb\",\"2022_Jan\",\"2022_Jul\",\"2022_Jun\",\"2022_Mar\",\"2022_May\",\"2022_Oct\",\"2022_Sep\",\"2017_Aug\",\"2017_Dec\",\"2017_Jul\",\"2017_Jun\",\"2017_May\",\"2017_Nov\",\"2017_Oct\",\"2017_Sep\",\"2018_Apr\",\"2018_Aug\",\"2018_Dec\",\"2018_Feb\",\"2018_Jan\",\"2018_Jul\",\"2018_Jun\",\"2018_Mar\",\"2018_May\",\"2018_Nov\",\"2018_Oct\",\"2018_Sep\",\"2019_Apr\",\"2019_Aug\",\"2019_Dec\",\"2019_Feb\",\"2019_Jan\",\"2019_Jul\",\"2019_Jun\",\"2019_Mar\",\"2019_May\",\"2019_Nov\",\"2019_Oct\",\"2019_Sep\",\"2020_Apr\",\"2020_Aug\",\"2020_Dec\",\"2020_Feb\",\"2020_Jan\",\"2020_Jul\",\"2020_Jun\",\"2020_Mar\",\"2020_May\",\"2020_Nov\",\"2020_Oct\",\"2020_Sep\",\"2021_Apr\",\"2021_Aug\",\"2021_Dec\",\"2021_Feb\",\"2021_Jan\",\"2021_Jul\",\"2021_Jun\",\"2021_Mar\",\"2021_May\",\"2021_Nov\",\"2021_Oct\",\"2021_Sep\",\"2022_Apr\",\"2022_Aug\",\"2022_Dec\",\"2022_Feb\",\"2022_Jan\",\"2022_Jul\",\"2022_Jun\",\"2022_Mar\",\"2022_May\",\"2022_Oct\",\"2022_Sep\",\"2017_Aug\",\"2017_Dec\",\"2017_Jul\",\"2017_Jun\",\"2017_May\",\"2017_Nov\",\"2017_Oct\",\"2017_Sep\",\"2018_Apr\",\"2018_Aug\",\"2018_Dec\",\"2018_Feb\",\"2018_Jan\",\"2018_Jul\",\"2018_Jun\",\"2018_Mar\",\"2018_May\",\"2018_Nov\",\"2018_Oct\",\"2018_Sep\",\"2019_Apr\",\"2019_Aug\",\"2019_Dec\",\"2019_Feb\",\"2019_Jan\",\"2019_Jul\",\"2019_Jun\",\"2019_Mar\",\"2019_May\",\"2019_Nov\",\"2019_Oct\",\"2019_Sep\",\"2020_Apr\",\"2020_Aug\",\"2020_Dec\",\"2020_Feb\",\"2020_Jan\",\"2020_Jul\",\"2020_Jun\",\"2020_Mar\",\"2020_May\",\"2020_Nov\",\"2020_Oct\",\"2020_Sep\",\"2021_Apr\",\"2021_Aug\",\"2021_Dec\",\"2021_Feb\",\"2021_Jan\",\"2021_Jul\",\"2021_Jun\",\"2021_Mar\",\"2021_May\",\"2021_Nov\",\"2021_Oct\",\"2021_Sep\",\"2022_Apr\",\"2022_Aug\",\"2022_Dec\",\"2022_Feb\",\"2022_Jan\",\"2022_Jul\",\"2022_Jun\",\"2022_Mar\",\"2022_May\",\"2022_Oct\",\"2022_Sep\",\"2017_Aug\",\"2017_Dec\",\"2017_Jul\",\"2017_Jun\",\"2017_May\",\"2017_Nov\",\"2017_Oct\",\"2017_Sep\",\"2018_Apr\",\"2018_Aug\",\"2018_Dec\",\"2018_Feb\",\"2018_Jan\",\"2018_Jul\",\"2018_Jun\",\"2018_Mar\",\"2018_May\",\"2018_Nov\",\"2018_Oct\",\"2018_Sep\",\"2019_Apr\",\"2019_Aug\",\"2019_Dec\",\"2019_Feb\",\"2019_Jan\",\"2019_Jul\",\"2019_Jun\",\"2019_Mar\",\"2019_May\",\"2019_Nov\",\"2019_Oct\",\"2019_Sep\",\"2020_Apr\",\"2020_Aug\",\"2020_Dec\",\"2020_Feb\",\"2020_Jan\",\"2020_Jul\",\"2020_Jun\",\"2020_Mar\",\"2020_May\",\"2020_Nov\",\"2020_Oct\",\"2020_Sep\",\"2021_Apr\",\"2021_Aug\",\"2021_Dec\",\"2021_Feb\",\"2021_Jan\",\"2021_Jul\",\"2021_Jun\",\"2021_Mar\",\"2021_May\",\"2021_Nov\",\"2021_Oct\",\"2021_Sep\",\"2022_Apr\",\"2022_Aug\",\"2022_Dec\",\"2022_Feb\",\"2022_Jan\",\"2022_Jul\",\"2022_Jun\",\"2022_Mar\",\"2022_May\",\"2022_Oct\",\"2022_Sep\",\"2017_Aug\",\"2017_Dec\",\"2017_Jul\",\"2017_Jun\",\"2017_May\",\"2017_Nov\",\"2017_Oct\",\"2017_Sep\",\"2018_Apr\",\"2018_Aug\",\"2018_Dec\",\"2018_Feb\",\"2018_Jan\",\"2018_Jul\",\"2018_Jun\",\"2018_Mar\",\"2018_May\",\"2018_Nov\",\"2018_Oct\",\"2018_Sep\",\"2019_Apr\",\"2019_Aug\",\"2019_Dec\",\"2019_Feb\",\"2019_Jan\",\"2019_Jul\",\"2019_Jun\",\"2019_Mar\",\"2019_May\",\"2019_Nov\",\"2019_Oct\",\"2019_Sep\",\"2020_Apr\",\"2020_Aug\",\"2020_Dec\",\"2020_Feb\",\"2020_Jan\",\"2020_Jul\",\"2020_Jun\",\"2020_Mar\",\"2020_May\",\"2020_Nov\",\"2020_Oct\",\"2020_Sep\",\"2021_Apr\",\"2021_Aug\",\"2021_Dec\",\"2021_Feb\",\"2021_Jan\",\"2021_Jul\",\"2021_Jun\",\"2021_Mar\",\"2021_May\",\"2021_Nov\",\"2021_Oct\",\"2021_Sep\",\"2022_Apr\",\"2022_Aug\",\"2022_Dec\",\"2022_Feb\",\"2022_Jan\",\"2022_Jul\",\"2022_Jun\",\"2022_Mar\",\"2022_May\",\"2022_Oct\",\"2022_Sep\",\"2017_Aug\",\"2017_Dec\",\"2017_Jul\",\"2017_Jun\",\"2017_May\",\"2017_Nov\",\"2017_Oct\",\"2017_Sep\",\"2018_Apr\",\"2018_Aug\",\"2018_Dec\",\"2018_Feb\",\"2018_Jan\",\"2018_Jul\",\"2018_Jun\",\"2018_Mar\",\"2018_May\",\"2018_Nov\",\"2018_Oct\",\"2018_Sep\",\"2019_Apr\",\"2019_Aug\",\"2019_Dec\",\"2019_Feb\",\"2019_Jan\",\"2019_Jul\",\"2019_Jun\",\"2019_Mar\",\"2019_May\",\"2019_Nov\",\"2019_Oct\",\"2019_Sep\",\"2020_Apr\",\"2020_Aug\",\"2020_Dec\",\"2020_Feb\",\"2020_Jan\",\"2020_Jul\",\"2020_Jun\",\"2020_Mar\",\"2020_May\",\"2020_Nov\",\"2020_Oct\",\"2020_Sep\",\"2021_Apr\",\"2021_Aug\",\"2021_Dec\",\"2021_Feb\",\"2021_Jan\",\"2021_Jul\",\"2021_Jun\",\"2021_Mar\",\"2021_May\",\"2021_Nov\",\"2021_Oct\",\"2021_Sep\",\"2022_Apr\",\"2022_Aug\",\"2022_Dec\",\"2022_Feb\",\"2022_Jan\",\"2022_Jul\",\"2022_Jun\",\"2022_Mar\",\"2022_May\",\"2022_Oct\",\"2022_Sep\",\"2017_Aug\",\"2017_Dec\",\"2017_Jul\",\"2017_Jun\",\"2017_May\",\"2017_Nov\",\"2017_Oct\",\"2017_Sep\",\"2018_Apr\",\"2018_Aug\",\"2018_Dec\",\"2018_Feb\",\"2018_Jan\",\"2018_Jul\",\"2018_Jun\",\"2018_Mar\",\"2018_May\",\"2018_Nov\",\"2018_Oct\",\"2018_Sep\",\"2019_Apr\",\"2019_Aug\",\"2019_Dec\",\"2019_Feb\",\"2019_Jan\",\"2019_Jul\",\"2019_Jun\",\"2019_Mar\",\"2019_May\",\"2019_Nov\",\"2019_Oct\",\"2019_Sep\",\"2020_Apr\",\"2020_Aug\",\"2020_Dec\",\"2020_Feb\",\"2020_Jan\",\"2020_Jul\",\"2020_Jun\",\"2020_Mar\",\"2020_May\",\"2020_Nov\",\"2020_Oct\",\"2020_Sep\",\"2021_Apr\",\"2021_Aug\",\"2021_Dec\",\"2021_Feb\",\"2021_Jan\",\"2021_Jul\",\"2021_Jun\",\"2021_Mar\",\"2021_May\",\"2021_Nov\",\"2021_Oct\",\"2021_Sep\",\"2022_Apr\",\"2022_Aug\",\"2022_Dec\",\"2022_Feb\",\"2022_Jan\",\"2022_Jul\",\"2022_Jun\",\"2022_Mar\",\"2022_May\",\"2022_Oct\",\"2022_Sep\",\"2017_Aug\",\"2017_Dec\",\"2017_Jul\",\"2017_Jun\",\"2017_May\",\"2017_Nov\",\"2017_Oct\",\"2017_Sep\",\"2018_Apr\",\"2018_Aug\",\"2018_Dec\",\"2018_Feb\",\"2018_Jan\",\"2018_Jul\",\"2018_Jun\",\"2018_Mar\",\"2018_May\",\"2018_Nov\",\"2018_Oct\",\"2018_Sep\",\"2019_Apr\",\"2019_Aug\",\"2019_Dec\",\"2019_Feb\",\"2019_Jan\",\"2019_Jul\",\"2019_Jun\",\"2019_Mar\",\"2019_May\",\"2019_Nov\",\"2019_Oct\",\"2019_Sep\",\"2020_Apr\",\"2020_Aug\",\"2020_Dec\",\"2020_Feb\",\"2020_Jan\",\"2020_Jul\",\"2020_Jun\",\"2020_Mar\",\"2020_May\",\"2020_Nov\",\"2020_Oct\",\"2020_Sep\",\"2021_Apr\",\"2021_Aug\",\"2021_Dec\",\"2021_Feb\",\"2021_Jan\",\"2021_Jul\",\"2021_Jun\",\"2021_Mar\",\"2021_May\",\"2021_Nov\",\"2021_Oct\",\"2021_Sep\",\"2022_Apr\",\"2022_Aug\",\"2022_Dec\",\"2022_Feb\",\"2022_Jan\",\"2022_Jul\",\"2022_Jun\",\"2022_Mar\",\"2022_May\",\"2022_Oct\",\"2022_Sep\",\"2017_Aug\",\"2017_Dec\",\"2017_Jul\",\"2017_Jun\",\"2017_May\",\"2017_Nov\",\"2017_Oct\",\"2017_Sep\",\"2018_Apr\",\"2018_Aug\",\"2018_Dec\",\"2018_Feb\",\"2018_Jan\",\"2018_Jul\",\"2018_Jun\",\"2018_Mar\",\"2018_May\",\"2018_Nov\",\"2018_Oct\",\"2018_Sep\",\"2019_Apr\",\"2019_Aug\",\"2019_Dec\",\"2019_Feb\",\"2019_Jan\",\"2019_Jul\",\"2019_Jun\",\"2019_Mar\",\"2019_May\",\"2019_Nov\",\"2019_Oct\",\"2019_Sep\",\"2020_Apr\",\"2020_Aug\",\"2020_Dec\",\"2020_Feb\",\"2020_Jan\",\"2020_Jul\",\"2020_Jun\",\"2020_Mar\",\"2020_May\",\"2020_Nov\",\"2020_Oct\",\"2020_Sep\",\"2021_Apr\",\"2021_Aug\",\"2021_Dec\",\"2021_Feb\",\"2021_Jan\",\"2021_Jul\",\"2021_Jun\",\"2021_Mar\",\"2021_May\",\"2021_Nov\",\"2021_Oct\",\"2021_Sep\",\"2022_Apr\",\"2022_Aug\",\"2022_Dec\",\"2022_Feb\",\"2022_Jan\",\"2022_Jul\",\"2022_Jun\",\"2022_Mar\",\"2022_May\",\"2022_Oct\",\"2022_Sep\",\"2017_Aug\",\"2017_Dec\",\"2017_Jul\",\"2017_Jun\",\"2017_May\",\"2017_Nov\",\"2017_Oct\",\"2017_Sep\",\"2018_Apr\",\"2018_Aug\",\"2018_Dec\",\"2018_Feb\",\"2018_Jan\",\"2018_Jul\",\"2018_Jun\",\"2018_Mar\",\"2018_May\",\"2018_Nov\",\"2018_Oct\",\"2018_Sep\",\"2019_Apr\",\"2019_Aug\",\"2019_Dec\",\"2019_Feb\",\"2019_Jan\",\"2019_Jul\",\"2019_Jun\",\"2019_Mar\",\"2019_May\",\"2019_Nov\",\"2019_Oct\",\"2019_Sep\",\"2020_Apr\",\"2020_Aug\",\"2020_Dec\",\"2020_Feb\",\"2020_Jan\",\"2020_Jul\",\"2020_Jun\",\"2020_Mar\",\"2020_May\",\"2020_Nov\",\"2020_Oct\",\"2020_Sep\",\"2021_Apr\",\"2021_Aug\",\"2021_Dec\",\"2021_Feb\",\"2021_Jan\",\"2021_Jul\",\"2021_Jun\",\"2021_Mar\",\"2021_May\",\"2021_Nov\",\"2021_Oct\",\"2021_Sep\",\"2022_Apr\",\"2022_Aug\",\"2022_Dec\",\"2022_Feb\",\"2022_Jan\",\"2022_Jul\",\"2022_Jun\",\"2022_Mar\",\"2022_May\",\"2022_Oct\",\"2022_Sep\",\"2017_Aug\",\"2017_Dec\",\"2017_Jul\",\"2017_Jun\",\"2017_May\",\"2017_Nov\",\"2017_Oct\",\"2017_Sep\",\"2018_Apr\",\"2018_Aug\",\"2018_Dec\",\"2018_Feb\",\"2018_Jan\",\"2018_Jul\",\"2018_Jun\",\"2018_Mar\",\"2018_May\",\"2018_Nov\",\"2018_Oct\",\"2018_Sep\",\"2019_Apr\",\"2019_Aug\",\"2019_Dec\",\"2019_Feb\",\"2019_Jan\",\"2019_Jul\",\"2019_Jun\",\"2019_Mar\",\"2019_May\",\"2019_Nov\",\"2019_Oct\",\"2019_Sep\",\"2020_Apr\",\"2020_Aug\",\"2020_Dec\",\"2020_Feb\",\"2020_Jan\",\"2020_Jul\",\"2020_Jun\",\"2020_Mar\",\"2020_May\",\"2020_Nov\",\"2020_Oct\",\"2020_Sep\",\"2021_Apr\",\"2021_Aug\",\"2021_Dec\",\"2021_Feb\",\"2021_Jan\",\"2021_Jul\",\"2021_Jun\",\"2021_Mar\",\"2021_May\",\"2021_Nov\",\"2021_Oct\",\"2021_Sep\",\"2022_Apr\",\"2022_Aug\",\"2022_Dec\",\"2022_Feb\",\"2022_Jan\",\"2022_Jul\",\"2022_Jun\",\"2022_Mar\",\"2022_May\",\"2022_Oct\",\"2022_Sep\",\"2017_Aug\",\"2017_Dec\",\"2017_Jul\",\"2017_Jun\",\"2017_May\",\"2017_Nov\",\"2017_Oct\",\"2017_Sep\",\"2018_Apr\",\"2018_Aug\",\"2018_Dec\",\"2018_Feb\",\"2018_Jan\",\"2018_Jul\",\"2018_Jun\",\"2018_Mar\",\"2018_May\",\"2018_Nov\",\"2018_Oct\",\"2018_Sep\",\"2019_Apr\",\"2019_Aug\",\"2019_Dec\",\"2019_Feb\",\"2019_Jan\",\"2019_Jul\",\"2019_Jun\",\"2019_Mar\",\"2019_May\",\"2019_Nov\",\"2019_Oct\",\"2019_Sep\",\"2020_Apr\",\"2020_Aug\",\"2020_Dec\",\"2020_Feb\",\"2020_Jan\",\"2020_Jul\",\"2020_Jun\",\"2020_Mar\",\"2020_May\",\"2020_Nov\",\"2020_Oct\",\"2020_Sep\",\"2021_Apr\",\"2021_Aug\",\"2021_Dec\",\"2021_Feb\",\"2021_Jan\",\"2021_Jul\",\"2021_Jun\",\"2021_Mar\",\"2021_May\",\"2021_Nov\",\"2021_Oct\",\"2021_Sep\",\"2022_Apr\",\"2022_Aug\",\"2022_Dec\",\"2022_Feb\",\"2022_Jan\",\"2022_Jul\",\"2022_Jun\",\"2022_Mar\",\"2022_May\",\"2022_Oct\",\"2022_Sep\"],\"x0\":\" \",\"xaxis\":\"x\",\"y\":[74.56,76.52,74.3,78.44,77.46,76.25,79.87,78.38,81.59,83.76,78.09,80.91,77.87,82.99,86.1,79.45,82.48,84.86,91.08,86.09,78.43,78.42,80.59,76.57,74.3,76.11,77.28,77.44,78.7,78.51,80.21,77.46,75.3,87.19,89.02,78.83,80.79,87.19,78.32,77.18,76.31,87.74,87.74,88.73,96.98,107.83,109.98,92.86,90.34,104.9,100.72,97.57,96.83,115.5,107.95,107.39,116.72,106.31,106.31,109.98,109.98,111.35,97.28,109.98,120.51,106.31,106.31,64.98,68.78,62.68,66.7,67.84,68.7,70.31,68.82,73.86,76.52,71.06,73.18,69.72,75.67,78.39,71.71,74.75,77.7,83.87,78.86,72.36,72.32,74.04,71.37,69.56,70.48,71.41,71.74,72.58,72.39,73.74,71.55,69.84,78.18,79.99,72.64,74.2,78.16,70.85,71.33,69.84,78.77,78.74,79.73,88.02,98.92,95.27,83.89,81.35,95.97,91.78,88.61,87.86,106.62,99.04,98.48,102.51,97.43,97.43,95.27,95.27,97.43,90.27,95.27,106.15,97.43,97.43,65.4,69.22,63.09,66.91,68.09,69.14,70.76,69.26,73.73,76.31,72.53,73.05,69.97,75.55,78.29,71.57,74.63,79.39,83.73,78.68,72.86,72.8,74.91,70.94,68.65,70.44,71.62,71.81,73.13,72.86,74.61,71.77,69.59,80.43,82.34,73.19,75.14,80.43,71.26,71.49,69.59,81.06,81.06,82.08,90.56,101.84,95.41,86.3,83.71,98.81,94.49,91.17,90.4,109.69,101.89,101.34,101.81,96.72,96.72,95.41,95.41,96.72,89.62,95.41,105.41,96.72,96.72,67.09,68.06,64.77,68.91,71.15,68.37,72.58,71.05,73.05,75.68,70.06,72.65,69.38,74.87,77.58,71.18,73.94,76.63,83.01,78.03,70.39,70.36,72.49,68.58,66.36,68.11,69.25,69.42,70.65,70.47,72.12,69.44,67.33,78.08,79.96,70.78,72.69,78.08,67.33,69.16,67.33,78.66,78.66,79.64,87.9,98.79,95.35,83.81,81.29,95.86,91.68,88.49,87.75,106.53,98.95,98.39,101.7,96.63,96.63,95.35,95.35,96.63,92.38,95.35,105.29,96.63,96.63,66.39,70.29,64.24,71.59,73.01,70.21,71.87,70.34,74.9,78.77,73.09,74.2,71.06,76.77,79.57,72.69,75.82,79.99,84.4,81.24,75.23,75.21,77.5,73.28,69.21,72.79,74.01,74.2,75.51,75.32,77.1,74.22,73.55,83.04,85.09,75.66,77.71,83.04,73.55,73.94,73.55,83.69,83.69,84.75,93.59,105.25,100.58,89.21,86.51,102.11,97.64,94.22,93.43,113.56,105.44,104.84,107.3,101.94,101.94,100.58,100.58,101.94,87.89,100.58,111.09,101.94,101.94,69.24,73.29,67.02,71.49,72.68,73.2,74.93,73.34,78.08,80.9,76.89,77.36,74.09,80.03,82.94,75.79,79.04,84.14,88.77,83.42,77.26,77.31,79.74,75.26,72.82,74.83,76.05,76.2,77.55,77.51,79.25,76.3,73.97,83.49,85.64,77.85,79.96,83.49,73.97,75.99,73.97,84.25,84.25,85.3,94.16,105.83,108.2,89.77,87.06,102.69,98.2,94.79,93.99,114.12,106.0,105.4,115.42,109.66,109.66,108.2,108.2,109.66,97.82,108.2,119.49,109.66,109.66,67.93,71.83,65.77,69.88,71.12,71.61,73.41,71.88,76.44,79.26,73.22,76.02,72.74,78.27,81.07,74.51,77.32,79.97,84.28,81.68,73.56,76.72,78.86,71.7,69.42,71.22,72.39,72.58,73.83,76.71,78.47,75.75,75.59,87.57,89.63,77.04,79.07,87.57,77.82,75.3,76.7,88.21,88.21,89.29,97.08,108.71,107.06,93.86,91.09,105.54,101.02,97.72,96.77,117.08,108.88,108.27,114.07,108.48,108.48,107.06,107.06,108.48,93.72,107.06,118.03,108.48,108.48,70.32,74.21,67.93,72.51,73.41,74.13,75.8,74.25,78.91,81.49,77.57,78.16,74.98,80.73,83.55,76.63,79.83,84.62,89.11,83.92,72.68,72.59,74.82,75.98,73.61,70.35,71.48,71.73,72.94,72.8,74.45,71.66,69.68,81.63,83.48,73.11,75.02,81.63,71.71,71.51,69.68,82.19,82.19,83.18,91.54,102.85,94.94,87.37,84.82,99.88,95.65,92.14,91.71,110.61,102.97,102.4,101.09,96.18,96.18,94.94,94.94,96.18,86.55,94.94,104.56,96.18,96.18,68.56,71.98,66.14,69.52,70.68,71.9,73.5,72.02,76.44,79.2,74.55,75.74,72.72,78.23,80.92,74.32,77.32,81.25,85.53,81.6,74.88,75.44,77.61,73.04,70.78,72.67,73.74,73.9,75.15,75.55,77.23,74.5,73.3,82.1,83.87,75.85,77.79,82.1,73.3,74.16,73.3,82.59,82.59,83.57,90.77,102.08,104.67,87.69,85.19,98.64,94.5,91.35,90.62,110.15,102.47,101.72,111.35,106.03,106.03,104.67,104.67,106.03,92.76,104.67,115.12,106.03,106.03,67.71,71.74,65.46,69.93,71.17,71.65,73.36,71.78,76.48,79.26,75.26,75.77,72.53,78.4,81.28,74.21,77.43,82.46,87.05,81.75,75.62,75.6,77.91,73.64,71.22,73.15,74.39,74.57,75.9,75.69,77.5,74.57,72.28,83.63,85.31,76.03,78.12,83.63,75.54,74.28,72.28,84.14,84.14,85.04,92.58,102.49,101.4,88.82,86.51,99.8,95.99,93.11,92.43,106.35,99.58,99.08,107.45,102.63,102.63,101.4,101.4,102.63,94.24,101.4,110.85,102.63,102.63,68.63,71.58,66.53,69.86,70.74,71.51,72.79,71.61,75.12,77.11,72.13,74.59,72.17,76.56,78.71,73.42,75.83,77.15,83.03,78.97,72.05,72.04,76.11,70.58,68.77,70.2,71.13,71.27,72.24,74.46,75.81,73.63,71.92,80.98,82.54,74.72,76.28,80.86,73.82,73.42,71.92,81.34,81.34,82.26,88.68,98.92,95.28,85.41,83.41,95.74,91.65,89.15,88.56,106.61,98.99,98.43,101.66,96.57,96.57,95.28,95.28,96.57,89.76,95.28,105.25,96.57,96.57,71.99,73.93,69.62,74.65,75.87,73.71,77.18,75.63,79.27,81.97,75.57,78.85,74.82,81.14,83.92,77.34,80.18,82.52,89.51,84.39,75.91,77.95,83.22,74.01,71.67,73.53,74.73,74.9,76.19,80.99,82.81,76.96,77.58,88.08,90.09,81.34,83.43,88.08,77.58,79.59,77.58,88.7,88.7,89.75,98.58,110.2,107.23,94.2,91.5,107.07,102.61,99.21,98.41,118.46,110.37,109.77,114.21,108.65,108.65,107.23,107.23,108.65,93.9,107.23,118.14,108.65,108.65,69.06,72.99,66.93,71.27,72.43,72.91,74.62,73.07,77.67,79.47,75.75,76.97,73.77,78.63,81.44,75.43,78.61,82.65,87.12,81.96,76.13,76.06,78.38,74.21,71.82,73.67,74.88,75.11,76.42,76.22,77.99,75.14,72.99,82.15,84.34,76.56,78.59,82.15,72.99,74.94,72.99,82.89,82.89,83.91,92.44,103.82,106.36,88.33,85.72,100.79,96.47,93.05,92.28,112.07,104.13,103.56,113.27,107.71,107.71,106.36,106.36,107.71,96.52,106.36,117.19,107.71,107.71,68.03,71.13,65.83,70.52,71.41,71.04,72.73,71.17,75.8,78.51,72.03,75.09,71.91,77.66,80.51,73.54,76.73,79.16,86.22,80.97,72.39,72.37,77.18,70.43,68.03,69.94,71.17,71.35,72.67,74.99,76.78,73.88,71.61,84.5,85.95,75.33,77.39,84.5,77.46,73.59,77.46,84.93,84.93,85.72,87.23,97.64,94.58,89.0,87.0,94.56,90.2,87.69,87.1,105.74,97.77,97.18,101.67,96.01,96.01,94.58,94.58,96.01,83.94,94.58,105.66,96.01,96.01,69.78,73.57,65.93,69.85,71.16,73.49,75.09,73.61,79.24,82.05,76.49,77.38,74.31,81.04,83.76,76.84,80.13,83.06,89.87,84.89,76.82,76.37,80.71,75.02,72.81,74.63,75.73,75.86,77.08,78.75,78.11,75.44,74.25,83.31,84.93,77.87,79.83,83.31,76.27,76.13,74.25,83.73,83.73,84.64,92.89,104.25,105.9,88.78,86.25,100.81,96.64,93.48,92.74,113.45,104.64,103.89,112.51,107.24,107.24,105.9,105.9,107.24,94.04,105.9,116.23,107.24,107.24],\"y0\":\" \",\"yaxis\":\"y\",\"type\":\"box\"}],                        {\"template\":{\"data\":{\"histogram2dcontour\":[{\"type\":\"histogram2dcontour\",\"colorbar\":{\"outlinewidth\":0,\"ticks\":\"\"},\"colorscale\":[[0.0,\"#0d0887\"],[0.1111111111111111,\"#46039f\"],[0.2222222222222222,\"#7201a8\"],[0.3333333333333333,\"#9c179e\"],[0.4444444444444444,\"#bd3786\"],[0.5555555555555556,\"#d8576b\"],[0.6666666666666666,\"#ed7953\"],[0.7777777777777778,\"#fb9f3a\"],[0.8888888888888888,\"#fdca26\"],[1.0,\"#f0f921\"]]}],\"choropleth\":[{\"type\":\"choropleth\",\"colorbar\":{\"outlinewidth\":0,\"ticks\":\"\"}}],\"histogram2d\":[{\"type\":\"histogram2d\",\"colorbar\":{\"outlinewidth\":0,\"ticks\":\"\"},\"colorscale\":[[0.0,\"#0d0887\"],[0.1111111111111111,\"#46039f\"],[0.2222222222222222,\"#7201a8\"],[0.3333333333333333,\"#9c179e\"],[0.4444444444444444,\"#bd3786\"],[0.5555555555555556,\"#d8576b\"],[0.6666666666666666,\"#ed7953\"],[0.7777777777777778,\"#fb9f3a\"],[0.8888888888888888,\"#fdca26\"],[1.0,\"#f0f921\"]]}],\"heatmap\":[{\"type\":\"heatmap\",\"colorbar\":{\"outlinewidth\":0,\"ticks\":\"\"},\"colorscale\":[[0.0,\"#0d0887\"],[0.1111111111111111,\"#46039f\"],[0.2222222222222222,\"#7201a8\"],[0.3333333333333333,\"#9c179e\"],[0.4444444444444444,\"#bd3786\"],[0.5555555555555556,\"#d8576b\"],[0.6666666666666666,\"#ed7953\"],[0.7777777777777778,\"#fb9f3a\"],[0.8888888888888888,\"#fdca26\"],[1.0,\"#f0f921\"]]}],\"heatmapgl\":[{\"type\":\"heatmapgl\",\"colorbar\":{\"outlinewidth\":0,\"ticks\":\"\"},\"colorscale\":[[0.0,\"#0d0887\"],[0.1111111111111111,\"#46039f\"],[0.2222222222222222,\"#7201a8\"],[0.3333333333333333,\"#9c179e\"],[0.4444444444444444,\"#bd3786\"],[0.5555555555555556,\"#d8576b\"],[0.6666666666666666,\"#ed7953\"],[0.7777777777777778,\"#fb9f3a\"],[0.8888888888888888,\"#fdca26\"],[1.0,\"#f0f921\"]]}],\"contourcarpet\":[{\"type\":\"contourcarpet\",\"colorbar\":{\"outlinewidth\":0,\"ticks\":\"\"}}],\"contour\":[{\"type\":\"contour\",\"colorbar\":{\"outlinewidth\":0,\"ticks\":\"\"},\"colorscale\":[[0.0,\"#0d0887\"],[0.1111111111111111,\"#46039f\"],[0.2222222222222222,\"#7201a8\"],[0.3333333333333333,\"#9c179e\"],[0.4444444444444444,\"#bd3786\"],[0.5555555555555556,\"#d8576b\"],[0.6666666666666666,\"#ed7953\"],[0.7777777777777778,\"#fb9f3a\"],[0.8888888888888888,\"#fdca26\"],[1.0,\"#f0f921\"]]}],\"surface\":[{\"type\":\"surface\",\"colorbar\":{\"outlinewidth\":0,\"ticks\":\"\"},\"colorscale\":[[0.0,\"#0d0887\"],[0.1111111111111111,\"#46039f\"],[0.2222222222222222,\"#7201a8\"],[0.3333333333333333,\"#9c179e\"],[0.4444444444444444,\"#bd3786\"],[0.5555555555555556,\"#d8576b\"],[0.6666666666666666,\"#ed7953\"],[0.7777777777777778,\"#fb9f3a\"],[0.8888888888888888,\"#fdca26\"],[1.0,\"#f0f921\"]]}],\"mesh3d\":[{\"type\":\"mesh3d\",\"colorbar\":{\"outlinewidth\":0,\"ticks\":\"\"}}],\"scatter\":[{\"fillpattern\":{\"fillmode\":\"overlay\",\"size\":10,\"solidity\":0.2},\"type\":\"scatter\"}],\"parcoords\":[{\"type\":\"parcoords\",\"line\":{\"colorbar\":{\"outlinewidth\":0,\"ticks\":\"\"}}}],\"scatterpolargl\":[{\"type\":\"scatterpolargl\",\"marker\":{\"colorbar\":{\"outlinewidth\":0,\"ticks\":\"\"}}}],\"bar\":[{\"error_x\":{\"color\":\"#2a3f5f\"},\"error_y\":{\"color\":\"#2a3f5f\"},\"marker\":{\"line\":{\"color\":\"#E5ECF6\",\"width\":0.5},\"pattern\":{\"fillmode\":\"overlay\",\"size\":10,\"solidity\":0.2}},\"type\":\"bar\"}],\"scattergeo\":[{\"type\":\"scattergeo\",\"marker\":{\"colorbar\":{\"outlinewidth\":0,\"ticks\":\"\"}}}],\"scatterpolar\":[{\"type\":\"scatterpolar\",\"marker\":{\"colorbar\":{\"outlinewidth\":0,\"ticks\":\"\"}}}],\"histogram\":[{\"marker\":{\"pattern\":{\"fillmode\":\"overlay\",\"size\":10,\"solidity\":0.2}},\"type\":\"histogram\"}],\"scattergl\":[{\"type\":\"scattergl\",\"marker\":{\"colorbar\":{\"outlinewidth\":0,\"ticks\":\"\"}}}],\"scatter3d\":[{\"type\":\"scatter3d\",\"line\":{\"colorbar\":{\"outlinewidth\":0,\"ticks\":\"\"}},\"marker\":{\"colorbar\":{\"outlinewidth\":0,\"ticks\":\"\"}}}],\"scattermapbox\":[{\"type\":\"scattermapbox\",\"marker\":{\"colorbar\":{\"outlinewidth\":0,\"ticks\":\"\"}}}],\"scatterternary\":[{\"type\":\"scatterternary\",\"marker\":{\"colorbar\":{\"outlinewidth\":0,\"ticks\":\"\"}}}],\"scattercarpet\":[{\"type\":\"scattercarpet\",\"marker\":{\"colorbar\":{\"outlinewidth\":0,\"ticks\":\"\"}}}],\"carpet\":[{\"aaxis\":{\"endlinecolor\":\"#2a3f5f\",\"gridcolor\":\"white\",\"linecolor\":\"white\",\"minorgridcolor\":\"white\",\"startlinecolor\":\"#2a3f5f\"},\"baxis\":{\"endlinecolor\":\"#2a3f5f\",\"gridcolor\":\"white\",\"linecolor\":\"white\",\"minorgridcolor\":\"white\",\"startlinecolor\":\"#2a3f5f\"},\"type\":\"carpet\"}],\"table\":[{\"cells\":{\"fill\":{\"color\":\"#EBF0F8\"},\"line\":{\"color\":\"white\"}},\"header\":{\"fill\":{\"color\":\"#C8D4E3\"},\"line\":{\"color\":\"white\"}},\"type\":\"table\"}],\"barpolar\":[{\"marker\":{\"line\":{\"color\":\"#E5ECF6\",\"width\":0.5},\"pattern\":{\"fillmode\":\"overlay\",\"size\":10,\"solidity\":0.2}},\"type\":\"barpolar\"}],\"pie\":[{\"automargin\":true,\"type\":\"pie\"}]},\"layout\":{\"autotypenumbers\":\"strict\",\"colorway\":[\"#636efa\",\"#EF553B\",\"#00cc96\",\"#ab63fa\",\"#FFA15A\",\"#19d3f3\",\"#FF6692\",\"#B6E880\",\"#FF97FF\",\"#FECB52\"],\"font\":{\"color\":\"#2a3f5f\"},\"hovermode\":\"closest\",\"hoverlabel\":{\"align\":\"left\"},\"paper_bgcolor\":\"white\",\"plot_bgcolor\":\"#E5ECF6\",\"polar\":{\"bgcolor\":\"#E5ECF6\",\"angularaxis\":{\"gridcolor\":\"white\",\"linecolor\":\"white\",\"ticks\":\"\"},\"radialaxis\":{\"gridcolor\":\"white\",\"linecolor\":\"white\",\"ticks\":\"\"}},\"ternary\":{\"bgcolor\":\"#E5ECF6\",\"aaxis\":{\"gridcolor\":\"white\",\"linecolor\":\"white\",\"ticks\":\"\"},\"baxis\":{\"gridcolor\":\"white\",\"linecolor\":\"white\",\"ticks\":\"\"},\"caxis\":{\"gridcolor\":\"white\",\"linecolor\":\"white\",\"ticks\":\"\"}},\"coloraxis\":{\"colorbar\":{\"outlinewidth\":0,\"ticks\":\"\"}},\"colorscale\":{\"sequential\":[[0.0,\"#0d0887\"],[0.1111111111111111,\"#46039f\"],[0.2222222222222222,\"#7201a8\"],[0.3333333333333333,\"#9c179e\"],[0.4444444444444444,\"#bd3786\"],[0.5555555555555556,\"#d8576b\"],[0.6666666666666666,\"#ed7953\"],[0.7777777777777778,\"#fb9f3a\"],[0.8888888888888888,\"#fdca26\"],[1.0,\"#f0f921\"]],\"sequentialminus\":[[0.0,\"#0d0887\"],[0.1111111111111111,\"#46039f\"],[0.2222222222222222,\"#7201a8\"],[0.3333333333333333,\"#9c179e\"],[0.4444444444444444,\"#bd3786\"],[0.5555555555555556,\"#d8576b\"],[0.6666666666666666,\"#ed7953\"],[0.7777777777777778,\"#fb9f3a\"],[0.8888888888888888,\"#fdca26\"],[1.0,\"#f0f921\"]],\"diverging\":[[0,\"#8e0152\"],[0.1,\"#c51b7d\"],[0.2,\"#de77ae\"],[0.3,\"#f1b6da\"],[0.4,\"#fde0ef\"],[0.5,\"#f7f7f7\"],[0.6,\"#e6f5d0\"],[0.7,\"#b8e186\"],[0.8,\"#7fbc41\"],[0.9,\"#4d9221\"],[1,\"#276419\"]]},\"xaxis\":{\"gridcolor\":\"white\",\"linecolor\":\"white\",\"ticks\":\"\",\"title\":{\"standoff\":15},\"zerolinecolor\":\"white\",\"automargin\":true,\"zerolinewidth\":2},\"yaxis\":{\"gridcolor\":\"white\",\"linecolor\":\"white\",\"ticks\":\"\",\"title\":{\"standoff\":15},\"zerolinecolor\":\"white\",\"automargin\":true,\"zerolinewidth\":2},\"scene\":{\"xaxis\":{\"backgroundcolor\":\"#E5ECF6\",\"gridcolor\":\"white\",\"linecolor\":\"white\",\"showbackground\":true,\"ticks\":\"\",\"zerolinecolor\":\"white\",\"gridwidth\":2},\"yaxis\":{\"backgroundcolor\":\"#E5ECF6\",\"gridcolor\":\"white\",\"linecolor\":\"white\",\"showbackground\":true,\"ticks\":\"\",\"zerolinecolor\":\"white\",\"gridwidth\":2},\"zaxis\":{\"backgroundcolor\":\"#E5ECF6\",\"gridcolor\":\"white\",\"linecolor\":\"white\",\"showbackground\":true,\"ticks\":\"\",\"zerolinecolor\":\"white\",\"gridwidth\":2}},\"shapedefaults\":{\"line\":{\"color\":\"#2a3f5f\"}},\"annotationdefaults\":{\"arrowcolor\":\"#2a3f5f\",\"arrowhead\":0,\"arrowwidth\":1},\"geo\":{\"bgcolor\":\"white\",\"landcolor\":\"#E5ECF6\",\"subunitcolor\":\"white\",\"showland\":true,\"showlakes\":true,\"lakecolor\":\"white\"},\"title\":{\"x\":0.05},\"mapbox\":{\"style\":\"light\"}}},\"xaxis\":{\"anchor\":\"y\",\"domain\":[0.0,1.0],\"title\":{\"text\":\"date\"}},\"yaxis\":{\"anchor\":\"x\",\"domain\":[0.0,1.0],\"title\":{\"text\":\"value\"}},\"legend\":{\"tracegroupgap\":0},\"title\":{\"text\":\"Petrol Prices Comparison Among States\"},\"boxmode\":\"group\"},                        {\"responsive\": true}                    ).then(function(){\n",
       "                            \n",
       "var gd = document.getElementById('7ca36400-ac1d-4cec-a3c6-9c8330373e38');\n",
       "var x = new MutationObserver(function (mutations, observer) {{\n",
       "        var display = window.getComputedStyle(gd).display;\n",
       "        if (!display || display === 'none') {{\n",
       "            console.log([gd, 'removed!']);\n",
       "            Plotly.purge(gd);\n",
       "            observer.disconnect();\n",
       "        }}\n",
       "}});\n",
       "\n",
       "// Listen for the removal of the full notebook cells\n",
       "var notebookContainer = gd.closest('#notebook-container');\n",
       "if (notebookContainer) {{\n",
       "    x.observe(notebookContainer, {childList: true});\n",
       "}}\n",
       "\n",
       "// Listen for the clearing of the current output cell\n",
       "var outputEl = gd.closest('.output');\n",
       "if (outputEl) {{\n",
       "    x.observe(outputEl, {childList: true});\n",
       "}}\n",
       "\n",
       "                        })                };                });            </script>        </div>"
      ]
     },
     "metadata": {},
     "output_type": "display_data"
    }
   ],
   "source": [
    "fig2 = px.box(df, x='date', y=df.columns[1:], title='Petrol Prices Comparison Among States')\n",
    "fig2.show()"
   ]
  },
  {
   "cell_type": "code",
   "execution_count": 10,
   "id": "66d7679e",
   "metadata": {
    "execution": {
     "iopub.execute_input": "2024-01-08T05:39:42.717945Z",
     "iopub.status.busy": "2024-01-08T05:39:42.716439Z",
     "iopub.status.idle": "2024-01-08T05:39:42.887166Z",
     "shell.execute_reply": "2024-01-08T05:39:42.885988Z"
    },
    "papermill": {
     "duration": 0.187684,
     "end_time": "2024-01-08T05:39:42.889644",
     "exception": false,
     "start_time": "2024-01-08T05:39:42.701960",
     "status": "completed"
    },
    "tags": []
   },
   "outputs": [
    {
     "data": {
      "text/html": [
       "<div>                            <div id=\"295d7bac-91de-4fa1-8251-990f2466ba63\" class=\"plotly-graph-div\" style=\"height:525px; width:100%;\"></div>            <script type=\"text/javascript\">                require([\"plotly\"], function(Plotly) {                    window.PLOTLYENV=window.PLOTLYENV || {};                                    if (document.getElementById(\"295d7bac-91de-4fa1-8251-990f2466ba63\")) {                    Plotly.newPlot(                        \"295d7bac-91de-4fa1-8251-990f2466ba63\",                        [{\"hovertemplate\":\"variable=Maharashtra\\u003cbr\\u003eMonth=%{x}\\u003cbr\\u003ePetrol Price=%{y}\\u003cextra\\u003e\\u003c\\u002fextra\\u003e\",\"legendgroup\":\"Maharashtra\",\"marker\":{\"color\":\"#636efa\",\"symbol\":\"circle\"},\"mode\":\"markers\",\"name\":\"Maharashtra\",\"showlegend\":true,\"x\":[\"2017_Aug\",\"2017_Dec\",\"2017_Jul\",\"2017_Jun\",\"2017_May\",\"2017_Nov\",\"2017_Oct\",\"2017_Sep\",\"2018_Apr\",\"2018_Aug\",\"2018_Dec\",\"2018_Feb\",\"2018_Jan\",\"2018_Jul\",\"2018_Jun\",\"2018_Mar\",\"2018_May\",\"2018_Nov\",\"2018_Oct\",\"2018_Sep\",\"2019_Apr\",\"2019_Aug\",\"2019_Dec\",\"2019_Feb\",\"2019_Jan\",\"2019_Jul\",\"2019_Jun\",\"2019_Mar\",\"2019_May\",\"2019_Nov\",\"2019_Oct\",\"2019_Sep\",\"2020_Apr\",\"2020_Aug\",\"2020_Dec\",\"2020_Feb\",\"2020_Jan\",\"2020_Jul\",\"2020_Jun\",\"2020_Mar\",\"2020_May\",\"2020_Nov\",\"2020_Oct\",\"2020_Sep\",\"2021_Apr\",\"2021_Aug\",\"2021_Dec\",\"2021_Feb\",\"2021_Jan\",\"2021_Jul\",\"2021_Jun\",\"2021_Mar\",\"2021_May\",\"2021_Nov\",\"2021_Oct\",\"2021_Sep\",\"2022_Apr\",\"2022_Aug\",\"2022_Dec\",\"2022_Feb\",\"2022_Jan\",\"2022_Jul\",\"2022_Jun\",\"2022_Mar\",\"2022_May\",\"2022_Oct\",\"2022_Sep\"],\"xaxis\":\"x\",\"y\":[74.56,76.52,74.3,78.44,77.46,76.25,79.87,78.38,81.59,83.76,78.09,80.91,77.87,82.99,86.1,79.45,82.48,84.86,91.08,86.09,78.43,78.42,80.59,76.57,74.3,76.11,77.28,77.44,78.7,78.51,80.21,77.46,75.3,87.19,89.02,78.83,80.79,87.19,78.32,77.18,76.31,87.74,87.74,88.73,96.98,107.83,109.98,92.86,90.34,104.9,100.72,97.57,96.83,115.5,107.95,107.39,116.72,106.31,106.31,109.98,109.98,111.35,97.28,109.98,120.51,106.31,106.31],\"yaxis\":\"y\",\"type\":\"scattergl\"},{\"hovertemplate\":\"variable= Haryana\\u003cbr\\u003eMonth=%{x}\\u003cbr\\u003ePetrol Price=%{y}\\u003cextra\\u003e\\u003c\\u002fextra\\u003e\",\"legendgroup\":\" Haryana\",\"marker\":{\"color\":\"#EF553B\",\"symbol\":\"circle\"},\"mode\":\"markers\",\"name\":\" Haryana\",\"showlegend\":true,\"x\":[\"2017_Aug\",\"2017_Dec\",\"2017_Jul\",\"2017_Jun\",\"2017_May\",\"2017_Nov\",\"2017_Oct\",\"2017_Sep\",\"2018_Apr\",\"2018_Aug\",\"2018_Dec\",\"2018_Feb\",\"2018_Jan\",\"2018_Jul\",\"2018_Jun\",\"2018_Mar\",\"2018_May\",\"2018_Nov\",\"2018_Oct\",\"2018_Sep\",\"2019_Apr\",\"2019_Aug\",\"2019_Dec\",\"2019_Feb\",\"2019_Jan\",\"2019_Jul\",\"2019_Jun\",\"2019_Mar\",\"2019_May\",\"2019_Nov\",\"2019_Oct\",\"2019_Sep\",\"2020_Apr\",\"2020_Aug\",\"2020_Dec\",\"2020_Feb\",\"2020_Jan\",\"2020_Jul\",\"2020_Jun\",\"2020_Mar\",\"2020_May\",\"2020_Nov\",\"2020_Oct\",\"2020_Sep\",\"2021_Apr\",\"2021_Aug\",\"2021_Dec\",\"2021_Feb\",\"2021_Jan\",\"2021_Jul\",\"2021_Jun\",\"2021_Mar\",\"2021_May\",\"2021_Nov\",\"2021_Oct\",\"2021_Sep\",\"2022_Apr\",\"2022_Aug\",\"2022_Dec\",\"2022_Feb\",\"2022_Jan\",\"2022_Jul\",\"2022_Jun\",\"2022_Mar\",\"2022_May\",\"2022_Oct\",\"2022_Sep\"],\"xaxis\":\"x\",\"y\":[64.98,68.78,62.68,66.7,67.84,68.7,70.31,68.82,73.86,76.52,71.06,73.18,69.72,75.67,78.39,71.71,74.75,77.7,83.87,78.86,72.36,72.32,74.04,71.37,69.56,70.48,71.41,71.74,72.58,72.39,73.74,71.55,69.84,78.18,79.99,72.64,74.2,78.16,70.85,71.33,69.84,78.77,78.74,79.73,88.02,98.92,95.27,83.89,81.35,95.97,91.78,88.61,87.86,106.62,99.04,98.48,102.51,97.43,97.43,95.27,95.27,97.43,90.27,95.27,106.15,97.43,97.43],\"yaxis\":\"y\",\"type\":\"scattergl\"},{\"hovertemplate\":\"variable=Delhi\\u003cbr\\u003eMonth=%{x}\\u003cbr\\u003ePetrol Price=%{y}\\u003cextra\\u003e\\u003c\\u002fextra\\u003e\",\"legendgroup\":\"Delhi\",\"marker\":{\"color\":\"#00cc96\",\"symbol\":\"circle\"},\"mode\":\"markers\",\"name\":\"Delhi\",\"showlegend\":true,\"x\":[\"2017_Aug\",\"2017_Dec\",\"2017_Jul\",\"2017_Jun\",\"2017_May\",\"2017_Nov\",\"2017_Oct\",\"2017_Sep\",\"2018_Apr\",\"2018_Aug\",\"2018_Dec\",\"2018_Feb\",\"2018_Jan\",\"2018_Jul\",\"2018_Jun\",\"2018_Mar\",\"2018_May\",\"2018_Nov\",\"2018_Oct\",\"2018_Sep\",\"2019_Apr\",\"2019_Aug\",\"2019_Dec\",\"2019_Feb\",\"2019_Jan\",\"2019_Jul\",\"2019_Jun\",\"2019_Mar\",\"2019_May\",\"2019_Nov\",\"2019_Oct\",\"2019_Sep\",\"2020_Apr\",\"2020_Aug\",\"2020_Dec\",\"2020_Feb\",\"2020_Jan\",\"2020_Jul\",\"2020_Jun\",\"2020_Mar\",\"2020_May\",\"2020_Nov\",\"2020_Oct\",\"2020_Sep\",\"2021_Apr\",\"2021_Aug\",\"2021_Dec\",\"2021_Feb\",\"2021_Jan\",\"2021_Jul\",\"2021_Jun\",\"2021_Mar\",\"2021_May\",\"2021_Nov\",\"2021_Oct\",\"2021_Sep\",\"2022_Apr\",\"2022_Aug\",\"2022_Dec\",\"2022_Feb\",\"2022_Jan\",\"2022_Jul\",\"2022_Jun\",\"2022_Mar\",\"2022_May\",\"2022_Oct\",\"2022_Sep\"],\"xaxis\":\"x\",\"y\":[65.4,69.22,63.09,66.91,68.09,69.14,70.76,69.26,73.73,76.31,72.53,73.05,69.97,75.55,78.29,71.57,74.63,79.39,83.73,78.68,72.86,72.8,74.91,70.94,68.65,70.44,71.62,71.81,73.13,72.86,74.61,71.77,69.59,80.43,82.34,73.19,75.14,80.43,71.26,71.49,69.59,81.06,81.06,82.08,90.56,101.84,95.41,86.3,83.71,98.81,94.49,91.17,90.4,109.69,101.89,101.34,101.81,96.72,96.72,95.41,95.41,96.72,89.62,95.41,105.41,96.72,96.72],\"yaxis\":\"y\",\"type\":\"scattergl\"},{\"hovertemplate\":\"variable=Gujarat\\u003cbr\\u003eMonth=%{x}\\u003cbr\\u003ePetrol Price=%{y}\\u003cextra\\u003e\\u003c\\u002fextra\\u003e\",\"legendgroup\":\"Gujarat\",\"marker\":{\"color\":\"#ab63fa\",\"symbol\":\"circle\"},\"mode\":\"markers\",\"name\":\"Gujarat\",\"showlegend\":true,\"x\":[\"2017_Aug\",\"2017_Dec\",\"2017_Jul\",\"2017_Jun\",\"2017_May\",\"2017_Nov\",\"2017_Oct\",\"2017_Sep\",\"2018_Apr\",\"2018_Aug\",\"2018_Dec\",\"2018_Feb\",\"2018_Jan\",\"2018_Jul\",\"2018_Jun\",\"2018_Mar\",\"2018_May\",\"2018_Nov\",\"2018_Oct\",\"2018_Sep\",\"2019_Apr\",\"2019_Aug\",\"2019_Dec\",\"2019_Feb\",\"2019_Jan\",\"2019_Jul\",\"2019_Jun\",\"2019_Mar\",\"2019_May\",\"2019_Nov\",\"2019_Oct\",\"2019_Sep\",\"2020_Apr\",\"2020_Aug\",\"2020_Dec\",\"2020_Feb\",\"2020_Jan\",\"2020_Jul\",\"2020_Jun\",\"2020_Mar\",\"2020_May\",\"2020_Nov\",\"2020_Oct\",\"2020_Sep\",\"2021_Apr\",\"2021_Aug\",\"2021_Dec\",\"2021_Feb\",\"2021_Jan\",\"2021_Jul\",\"2021_Jun\",\"2021_Mar\",\"2021_May\",\"2021_Nov\",\"2021_Oct\",\"2021_Sep\",\"2022_Apr\",\"2022_Aug\",\"2022_Dec\",\"2022_Feb\",\"2022_Jan\",\"2022_Jul\",\"2022_Jun\",\"2022_Mar\",\"2022_May\",\"2022_Oct\",\"2022_Sep\"],\"xaxis\":\"x\",\"y\":[67.09,68.06,64.77,68.91,71.15,68.37,72.58,71.05,73.05,75.68,70.06,72.65,69.38,74.87,77.58,71.18,73.94,76.63,83.01,78.03,70.39,70.36,72.49,68.58,66.36,68.11,69.25,69.42,70.65,70.47,72.12,69.44,67.33,78.08,79.96,70.78,72.69,78.08,67.33,69.16,67.33,78.66,78.66,79.64,87.9,98.79,95.35,83.81,81.29,95.86,91.68,88.49,87.75,106.53,98.95,98.39,101.7,96.63,96.63,95.35,95.35,96.63,92.38,95.35,105.29,96.63,96.63],\"yaxis\":\"y\",\"type\":\"scattergl\"},{\"hovertemplate\":\"variable=Karnataka\\u003cbr\\u003eMonth=%{x}\\u003cbr\\u003ePetrol Price=%{y}\\u003cextra\\u003e\\u003c\\u002fextra\\u003e\",\"legendgroup\":\"Karnataka\",\"marker\":{\"color\":\"#FFA15A\",\"symbol\":\"circle\"},\"mode\":\"markers\",\"name\":\"Karnataka\",\"showlegend\":true,\"x\":[\"2017_Aug\",\"2017_Dec\",\"2017_Jul\",\"2017_Jun\",\"2017_May\",\"2017_Nov\",\"2017_Oct\",\"2017_Sep\",\"2018_Apr\",\"2018_Aug\",\"2018_Dec\",\"2018_Feb\",\"2018_Jan\",\"2018_Jul\",\"2018_Jun\",\"2018_Mar\",\"2018_May\",\"2018_Nov\",\"2018_Oct\",\"2018_Sep\",\"2019_Apr\",\"2019_Aug\",\"2019_Dec\",\"2019_Feb\",\"2019_Jan\",\"2019_Jul\",\"2019_Jun\",\"2019_Mar\",\"2019_May\",\"2019_Nov\",\"2019_Oct\",\"2019_Sep\",\"2020_Apr\",\"2020_Aug\",\"2020_Dec\",\"2020_Feb\",\"2020_Jan\",\"2020_Jul\",\"2020_Jun\",\"2020_Mar\",\"2020_May\",\"2020_Nov\",\"2020_Oct\",\"2020_Sep\",\"2021_Apr\",\"2021_Aug\",\"2021_Dec\",\"2021_Feb\",\"2021_Jan\",\"2021_Jul\",\"2021_Jun\",\"2021_Mar\",\"2021_May\",\"2021_Nov\",\"2021_Oct\",\"2021_Sep\",\"2022_Apr\",\"2022_Aug\",\"2022_Dec\",\"2022_Feb\",\"2022_Jan\",\"2022_Jul\",\"2022_Jun\",\"2022_Mar\",\"2022_May\",\"2022_Oct\",\"2022_Sep\"],\"xaxis\":\"x\",\"y\":[66.39,70.29,64.24,71.59,73.01,70.21,71.87,70.34,74.9,78.77,73.09,74.2,71.06,76.77,79.57,72.69,75.82,79.99,84.4,81.24,75.23,75.21,77.5,73.28,69.21,72.79,74.01,74.2,75.51,75.32,77.1,74.22,73.55,83.04,85.09,75.66,77.71,83.04,73.55,73.94,73.55,83.69,83.69,84.75,93.59,105.25,100.58,89.21,86.51,102.11,97.64,94.22,93.43,113.56,105.44,104.84,107.3,101.94,101.94,100.58,100.58,101.94,87.89,100.58,111.09,101.94,101.94],\"yaxis\":\"y\",\"type\":\"scattergl\"},{\"hovertemplate\":\"variable=Telangana\\u003cbr\\u003eMonth=%{x}\\u003cbr\\u003ePetrol Price=%{y}\\u003cextra\\u003e\\u003c\\u002fextra\\u003e\",\"legendgroup\":\"Telangana\",\"marker\":{\"color\":\"#19d3f3\",\"symbol\":\"circle\"},\"mode\":\"markers\",\"name\":\"Telangana\",\"showlegend\":true,\"x\":[\"2017_Aug\",\"2017_Dec\",\"2017_Jul\",\"2017_Jun\",\"2017_May\",\"2017_Nov\",\"2017_Oct\",\"2017_Sep\",\"2018_Apr\",\"2018_Aug\",\"2018_Dec\",\"2018_Feb\",\"2018_Jan\",\"2018_Jul\",\"2018_Jun\",\"2018_Mar\",\"2018_May\",\"2018_Nov\",\"2018_Oct\",\"2018_Sep\",\"2019_Apr\",\"2019_Aug\",\"2019_Dec\",\"2019_Feb\",\"2019_Jan\",\"2019_Jul\",\"2019_Jun\",\"2019_Mar\",\"2019_May\",\"2019_Nov\",\"2019_Oct\",\"2019_Sep\",\"2020_Apr\",\"2020_Aug\",\"2020_Dec\",\"2020_Feb\",\"2020_Jan\",\"2020_Jul\",\"2020_Jun\",\"2020_Mar\",\"2020_May\",\"2020_Nov\",\"2020_Oct\",\"2020_Sep\",\"2021_Apr\",\"2021_Aug\",\"2021_Dec\",\"2021_Feb\",\"2021_Jan\",\"2021_Jul\",\"2021_Jun\",\"2021_Mar\",\"2021_May\",\"2021_Nov\",\"2021_Oct\",\"2021_Sep\",\"2022_Apr\",\"2022_Aug\",\"2022_Dec\",\"2022_Feb\",\"2022_Jan\",\"2022_Jul\",\"2022_Jun\",\"2022_Mar\",\"2022_May\",\"2022_Oct\",\"2022_Sep\"],\"xaxis\":\"x\",\"y\":[69.24,73.29,67.02,71.49,72.68,73.2,74.93,73.34,78.08,80.9,76.89,77.36,74.09,80.03,82.94,75.79,79.04,84.14,88.77,83.42,77.26,77.31,79.74,75.26,72.82,74.83,76.05,76.2,77.55,77.51,79.25,76.3,73.97,83.49,85.64,77.85,79.96,83.49,73.97,75.99,73.97,84.25,84.25,85.3,94.16,105.83,108.2,89.77,87.06,102.69,98.2,94.79,93.99,114.12,106.0,105.4,115.42,109.66,109.66,108.2,108.2,109.66,97.82,108.2,119.49,109.66,109.66],\"yaxis\":\"y\",\"type\":\"scattergl\"},{\"hovertemplate\":\"variable=Rajasthan\\u003cbr\\u003eMonth=%{x}\\u003cbr\\u003ePetrol Price=%{y}\\u003cextra\\u003e\\u003c\\u002fextra\\u003e\",\"legendgroup\":\"Rajasthan\",\"marker\":{\"color\":\"#FF6692\",\"symbol\":\"circle\"},\"mode\":\"markers\",\"name\":\"Rajasthan\",\"showlegend\":true,\"x\":[\"2017_Aug\",\"2017_Dec\",\"2017_Jul\",\"2017_Jun\",\"2017_May\",\"2017_Nov\",\"2017_Oct\",\"2017_Sep\",\"2018_Apr\",\"2018_Aug\",\"2018_Dec\",\"2018_Feb\",\"2018_Jan\",\"2018_Jul\",\"2018_Jun\",\"2018_Mar\",\"2018_May\",\"2018_Nov\",\"2018_Oct\",\"2018_Sep\",\"2019_Apr\",\"2019_Aug\",\"2019_Dec\",\"2019_Feb\",\"2019_Jan\",\"2019_Jul\",\"2019_Jun\",\"2019_Mar\",\"2019_May\",\"2019_Nov\",\"2019_Oct\",\"2019_Sep\",\"2020_Apr\",\"2020_Aug\",\"2020_Dec\",\"2020_Feb\",\"2020_Jan\",\"2020_Jul\",\"2020_Jun\",\"2020_Mar\",\"2020_May\",\"2020_Nov\",\"2020_Oct\",\"2020_Sep\",\"2021_Apr\",\"2021_Aug\",\"2021_Dec\",\"2021_Feb\",\"2021_Jan\",\"2021_Jul\",\"2021_Jun\",\"2021_Mar\",\"2021_May\",\"2021_Nov\",\"2021_Oct\",\"2021_Sep\",\"2022_Apr\",\"2022_Aug\",\"2022_Dec\",\"2022_Feb\",\"2022_Jan\",\"2022_Jul\",\"2022_Jun\",\"2022_Mar\",\"2022_May\",\"2022_Oct\",\"2022_Sep\"],\"xaxis\":\"x\",\"y\":[67.93,71.83,65.77,69.88,71.12,71.61,73.41,71.88,76.44,79.26,73.22,76.02,72.74,78.27,81.07,74.51,77.32,79.97,84.28,81.68,73.56,76.72,78.86,71.7,69.42,71.22,72.39,72.58,73.83,76.71,78.47,75.75,75.59,87.57,89.63,77.04,79.07,87.57,77.82,75.3,76.7,88.21,88.21,89.29,97.08,108.71,107.06,93.86,91.09,105.54,101.02,97.72,96.77,117.08,108.88,108.27,114.07,108.48,108.48,107.06,107.06,108.48,93.72,107.06,118.03,108.48,108.48],\"yaxis\":\"y\",\"type\":\"scattergl\"},{\"hovertemplate\":\"variable=Punjab\\u003cbr\\u003eMonth=%{x}\\u003cbr\\u003ePetrol Price=%{y}\\u003cextra\\u003e\\u003c\\u002fextra\\u003e\",\"legendgroup\":\"Punjab\",\"marker\":{\"color\":\"#B6E880\",\"symbol\":\"circle\"},\"mode\":\"markers\",\"name\":\"Punjab\",\"showlegend\":true,\"x\":[\"2017_Aug\",\"2017_Dec\",\"2017_Jul\",\"2017_Jun\",\"2017_May\",\"2017_Nov\",\"2017_Oct\",\"2017_Sep\",\"2018_Apr\",\"2018_Aug\",\"2018_Dec\",\"2018_Feb\",\"2018_Jan\",\"2018_Jul\",\"2018_Jun\",\"2018_Mar\",\"2018_May\",\"2018_Nov\",\"2018_Oct\",\"2018_Sep\",\"2019_Apr\",\"2019_Aug\",\"2019_Dec\",\"2019_Feb\",\"2019_Jan\",\"2019_Jul\",\"2019_Jun\",\"2019_Mar\",\"2019_May\",\"2019_Nov\",\"2019_Oct\",\"2019_Sep\",\"2020_Apr\",\"2020_Aug\",\"2020_Dec\",\"2020_Feb\",\"2020_Jan\",\"2020_Jul\",\"2020_Jun\",\"2020_Mar\",\"2020_May\",\"2020_Nov\",\"2020_Oct\",\"2020_Sep\",\"2021_Apr\",\"2021_Aug\",\"2021_Dec\",\"2021_Feb\",\"2021_Jan\",\"2021_Jul\",\"2021_Jun\",\"2021_Mar\",\"2021_May\",\"2021_Nov\",\"2021_Oct\",\"2021_Sep\",\"2022_Apr\",\"2022_Aug\",\"2022_Dec\",\"2022_Feb\",\"2022_Jan\",\"2022_Jul\",\"2022_Jun\",\"2022_Mar\",\"2022_May\",\"2022_Oct\",\"2022_Sep\"],\"xaxis\":\"x\",\"y\":[70.32,74.21,67.93,72.51,73.41,74.13,75.8,74.25,78.91,81.49,77.57,78.16,74.98,80.73,83.55,76.63,79.83,84.62,89.11,83.92,72.68,72.59,74.82,75.98,73.61,70.35,71.48,71.73,72.94,72.8,74.45,71.66,69.68,81.63,83.48,73.11,75.02,81.63,71.71,71.51,69.68,82.19,82.19,83.18,91.54,102.85,94.94,87.37,84.82,99.88,95.65,92.14,91.71,110.61,102.97,102.4,101.09,96.18,96.18,94.94,94.94,96.18,86.55,94.94,104.56,96.18,96.18],\"yaxis\":\"y\",\"type\":\"scattergl\"},{\"hovertemplate\":\"variable=West_bengal\\u003cbr\\u003eMonth=%{x}\\u003cbr\\u003ePetrol Price=%{y}\\u003cextra\\u003e\\u003c\\u002fextra\\u003e\",\"legendgroup\":\"West_bengal\",\"marker\":{\"color\":\"#FF97FF\",\"symbol\":\"circle\"},\"mode\":\"markers\",\"name\":\"West_bengal\",\"showlegend\":true,\"x\":[\"2017_Aug\",\"2017_Dec\",\"2017_Jul\",\"2017_Jun\",\"2017_May\",\"2017_Nov\",\"2017_Oct\",\"2017_Sep\",\"2018_Apr\",\"2018_Aug\",\"2018_Dec\",\"2018_Feb\",\"2018_Jan\",\"2018_Jul\",\"2018_Jun\",\"2018_Mar\",\"2018_May\",\"2018_Nov\",\"2018_Oct\",\"2018_Sep\",\"2019_Apr\",\"2019_Aug\",\"2019_Dec\",\"2019_Feb\",\"2019_Jan\",\"2019_Jul\",\"2019_Jun\",\"2019_Mar\",\"2019_May\",\"2019_Nov\",\"2019_Oct\",\"2019_Sep\",\"2020_Apr\",\"2020_Aug\",\"2020_Dec\",\"2020_Feb\",\"2020_Jan\",\"2020_Jul\",\"2020_Jun\",\"2020_Mar\",\"2020_May\",\"2020_Nov\",\"2020_Oct\",\"2020_Sep\",\"2021_Apr\",\"2021_Aug\",\"2021_Dec\",\"2021_Feb\",\"2021_Jan\",\"2021_Jul\",\"2021_Jun\",\"2021_Mar\",\"2021_May\",\"2021_Nov\",\"2021_Oct\",\"2021_Sep\",\"2022_Apr\",\"2022_Aug\",\"2022_Dec\",\"2022_Feb\",\"2022_Jan\",\"2022_Jul\",\"2022_Jun\",\"2022_Mar\",\"2022_May\",\"2022_Oct\",\"2022_Sep\"],\"xaxis\":\"x\",\"y\":[68.56,71.98,66.14,69.52,70.68,71.9,73.5,72.02,76.44,79.2,74.55,75.74,72.72,78.23,80.92,74.32,77.32,81.25,85.53,81.6,74.88,75.44,77.61,73.04,70.78,72.67,73.74,73.9,75.15,75.55,77.23,74.5,73.3,82.1,83.87,75.85,77.79,82.1,73.3,74.16,73.3,82.59,82.59,83.57,90.77,102.08,104.67,87.69,85.19,98.64,94.5,91.35,90.62,110.15,102.47,101.72,111.35,106.03,106.03,104.67,104.67,106.03,92.76,104.67,115.12,106.03,106.03],\"yaxis\":\"y\",\"type\":\"scattergl\"},{\"hovertemplate\":\"variable=Tamil Nadu\\u003cbr\\u003eMonth=%{x}\\u003cbr\\u003ePetrol Price=%{y}\\u003cextra\\u003e\\u003c\\u002fextra\\u003e\",\"legendgroup\":\"Tamil Nadu\",\"marker\":{\"color\":\"#FECB52\",\"symbol\":\"circle\"},\"mode\":\"markers\",\"name\":\"Tamil Nadu\",\"showlegend\":true,\"x\":[\"2017_Aug\",\"2017_Dec\",\"2017_Jul\",\"2017_Jun\",\"2017_May\",\"2017_Nov\",\"2017_Oct\",\"2017_Sep\",\"2018_Apr\",\"2018_Aug\",\"2018_Dec\",\"2018_Feb\",\"2018_Jan\",\"2018_Jul\",\"2018_Jun\",\"2018_Mar\",\"2018_May\",\"2018_Nov\",\"2018_Oct\",\"2018_Sep\",\"2019_Apr\",\"2019_Aug\",\"2019_Dec\",\"2019_Feb\",\"2019_Jan\",\"2019_Jul\",\"2019_Jun\",\"2019_Mar\",\"2019_May\",\"2019_Nov\",\"2019_Oct\",\"2019_Sep\",\"2020_Apr\",\"2020_Aug\",\"2020_Dec\",\"2020_Feb\",\"2020_Jan\",\"2020_Jul\",\"2020_Jun\",\"2020_Mar\",\"2020_May\",\"2020_Nov\",\"2020_Oct\",\"2020_Sep\",\"2021_Apr\",\"2021_Aug\",\"2021_Dec\",\"2021_Feb\",\"2021_Jan\",\"2021_Jul\",\"2021_Jun\",\"2021_Mar\",\"2021_May\",\"2021_Nov\",\"2021_Oct\",\"2021_Sep\",\"2022_Apr\",\"2022_Aug\",\"2022_Dec\",\"2022_Feb\",\"2022_Jan\",\"2022_Jul\",\"2022_Jun\",\"2022_Mar\",\"2022_May\",\"2022_Oct\",\"2022_Sep\"],\"xaxis\":\"x\",\"y\":[67.71,71.74,65.46,69.93,71.17,71.65,73.36,71.78,76.48,79.26,75.26,75.77,72.53,78.4,81.28,74.21,77.43,82.46,87.05,81.75,75.62,75.6,77.91,73.64,71.22,73.15,74.39,74.57,75.9,75.69,77.5,74.57,72.28,83.63,85.31,76.03,78.12,83.63,75.54,74.28,72.28,84.14,84.14,85.04,92.58,102.49,101.4,88.82,86.51,99.8,95.99,93.11,92.43,106.35,99.58,99.08,107.45,102.63,102.63,101.4,101.4,102.63,94.24,101.4,110.85,102.63,102.63],\"yaxis\":\"y\",\"type\":\"scattergl\"},{\"hovertemplate\":\"variable= Uttar Pradesh\\u003cbr\\u003eMonth=%{x}\\u003cbr\\u003ePetrol Price=%{y}\\u003cextra\\u003e\\u003c\\u002fextra\\u003e\",\"legendgroup\":\" Uttar Pradesh\",\"marker\":{\"color\":\"#636efa\",\"symbol\":\"circle\"},\"mode\":\"markers\",\"name\":\" Uttar Pradesh\",\"showlegend\":true,\"x\":[\"2017_Aug\",\"2017_Dec\",\"2017_Jul\",\"2017_Jun\",\"2017_May\",\"2017_Nov\",\"2017_Oct\",\"2017_Sep\",\"2018_Apr\",\"2018_Aug\",\"2018_Dec\",\"2018_Feb\",\"2018_Jan\",\"2018_Jul\",\"2018_Jun\",\"2018_Mar\",\"2018_May\",\"2018_Nov\",\"2018_Oct\",\"2018_Sep\",\"2019_Apr\",\"2019_Aug\",\"2019_Dec\",\"2019_Feb\",\"2019_Jan\",\"2019_Jul\",\"2019_Jun\",\"2019_Mar\",\"2019_May\",\"2019_Nov\",\"2019_Oct\",\"2019_Sep\",\"2020_Apr\",\"2020_Aug\",\"2020_Dec\",\"2020_Feb\",\"2020_Jan\",\"2020_Jul\",\"2020_Jun\",\"2020_Mar\",\"2020_May\",\"2020_Nov\",\"2020_Oct\",\"2020_Sep\",\"2021_Apr\",\"2021_Aug\",\"2021_Dec\",\"2021_Feb\",\"2021_Jan\",\"2021_Jul\",\"2021_Jun\",\"2021_Mar\",\"2021_May\",\"2021_Nov\",\"2021_Oct\",\"2021_Sep\",\"2022_Apr\",\"2022_Aug\",\"2022_Dec\",\"2022_Feb\",\"2022_Jan\",\"2022_Jul\",\"2022_Jun\",\"2022_Mar\",\"2022_May\",\"2022_Oct\",\"2022_Sep\"],\"xaxis\":\"x\",\"y\":[68.63,71.58,66.53,69.86,70.74,71.51,72.79,71.61,75.12,77.11,72.13,74.59,72.17,76.56,78.71,73.42,75.83,77.15,83.03,78.97,72.05,72.04,76.11,70.58,68.77,70.2,71.13,71.27,72.24,74.46,75.81,73.63,71.92,80.98,82.54,74.72,76.28,80.86,73.82,73.42,71.92,81.34,81.34,82.26,88.68,98.92,95.28,85.41,83.41,95.74,91.65,89.15,88.56,106.61,98.99,98.43,101.66,96.57,96.57,95.28,95.28,96.57,89.76,95.28,105.25,96.57,96.57],\"yaxis\":\"y\",\"type\":\"scattergl\"},{\"hovertemplate\":\"variable=Madhya Pradesh\\u003cbr\\u003eMonth=%{x}\\u003cbr\\u003ePetrol Price=%{y}\\u003cextra\\u003e\\u003c\\u002fextra\\u003e\",\"legendgroup\":\"Madhya Pradesh\",\"marker\":{\"color\":\"#EF553B\",\"symbol\":\"circle\"},\"mode\":\"markers\",\"name\":\"Madhya Pradesh\",\"showlegend\":true,\"x\":[\"2017_Aug\",\"2017_Dec\",\"2017_Jul\",\"2017_Jun\",\"2017_May\",\"2017_Nov\",\"2017_Oct\",\"2017_Sep\",\"2018_Apr\",\"2018_Aug\",\"2018_Dec\",\"2018_Feb\",\"2018_Jan\",\"2018_Jul\",\"2018_Jun\",\"2018_Mar\",\"2018_May\",\"2018_Nov\",\"2018_Oct\",\"2018_Sep\",\"2019_Apr\",\"2019_Aug\",\"2019_Dec\",\"2019_Feb\",\"2019_Jan\",\"2019_Jul\",\"2019_Jun\",\"2019_Mar\",\"2019_May\",\"2019_Nov\",\"2019_Oct\",\"2019_Sep\",\"2020_Apr\",\"2020_Aug\",\"2020_Dec\",\"2020_Feb\",\"2020_Jan\",\"2020_Jul\",\"2020_Jun\",\"2020_Mar\",\"2020_May\",\"2020_Nov\",\"2020_Oct\",\"2020_Sep\",\"2021_Apr\",\"2021_Aug\",\"2021_Dec\",\"2021_Feb\",\"2021_Jan\",\"2021_Jul\",\"2021_Jun\",\"2021_Mar\",\"2021_May\",\"2021_Nov\",\"2021_Oct\",\"2021_Sep\",\"2022_Apr\",\"2022_Aug\",\"2022_Dec\",\"2022_Feb\",\"2022_Jan\",\"2022_Jul\",\"2022_Jun\",\"2022_Mar\",\"2022_May\",\"2022_Oct\",\"2022_Sep\"],\"xaxis\":\"x\",\"y\":[71.99,73.93,69.62,74.65,75.87,73.71,77.18,75.63,79.27,81.97,75.57,78.85,74.82,81.14,83.92,77.34,80.18,82.52,89.51,84.39,75.91,77.95,83.22,74.01,71.67,73.53,74.73,74.9,76.19,80.99,82.81,76.96,77.58,88.08,90.09,81.34,83.43,88.08,77.58,79.59,77.58,88.7,88.7,89.75,98.58,110.2,107.23,94.2,91.5,107.07,102.61,99.21,98.41,118.46,110.37,109.77,114.21,108.65,108.65,107.23,107.23,108.65,93.9,107.23,118.14,108.65,108.65],\"yaxis\":\"y\",\"type\":\"scattergl\"},{\"hovertemplate\":\"variable=Kerala\\u003cbr\\u003eMonth=%{x}\\u003cbr\\u003ePetrol Price=%{y}\\u003cextra\\u003e\\u003c\\u002fextra\\u003e\",\"legendgroup\":\"Kerala\",\"marker\":{\"color\":\"#00cc96\",\"symbol\":\"circle\"},\"mode\":\"markers\",\"name\":\"Kerala\",\"showlegend\":true,\"x\":[\"2017_Aug\",\"2017_Dec\",\"2017_Jul\",\"2017_Jun\",\"2017_May\",\"2017_Nov\",\"2017_Oct\",\"2017_Sep\",\"2018_Apr\",\"2018_Aug\",\"2018_Dec\",\"2018_Feb\",\"2018_Jan\",\"2018_Jul\",\"2018_Jun\",\"2018_Mar\",\"2018_May\",\"2018_Nov\",\"2018_Oct\",\"2018_Sep\",\"2019_Apr\",\"2019_Aug\",\"2019_Dec\",\"2019_Feb\",\"2019_Jan\",\"2019_Jul\",\"2019_Jun\",\"2019_Mar\",\"2019_May\",\"2019_Nov\",\"2019_Oct\",\"2019_Sep\",\"2020_Apr\",\"2020_Aug\",\"2020_Dec\",\"2020_Feb\",\"2020_Jan\",\"2020_Jul\",\"2020_Jun\",\"2020_Mar\",\"2020_May\",\"2020_Nov\",\"2020_Oct\",\"2020_Sep\",\"2021_Apr\",\"2021_Aug\",\"2021_Dec\",\"2021_Feb\",\"2021_Jan\",\"2021_Jul\",\"2021_Jun\",\"2021_Mar\",\"2021_May\",\"2021_Nov\",\"2021_Oct\",\"2021_Sep\",\"2022_Apr\",\"2022_Aug\",\"2022_Dec\",\"2022_Feb\",\"2022_Jan\",\"2022_Jul\",\"2022_Jun\",\"2022_Mar\",\"2022_May\",\"2022_Oct\",\"2022_Sep\"],\"xaxis\":\"x\",\"y\":[69.06,72.99,66.93,71.27,72.43,72.91,74.62,73.07,77.67,79.47,75.75,76.97,73.77,78.63,81.44,75.43,78.61,82.65,87.12,81.96,76.13,76.06,78.38,74.21,71.82,73.67,74.88,75.11,76.42,76.22,77.99,75.14,72.99,82.15,84.34,76.56,78.59,82.15,72.99,74.94,72.99,82.89,82.89,83.91,92.44,103.82,106.36,88.33,85.72,100.79,96.47,93.05,92.28,112.07,104.13,103.56,113.27,107.71,107.71,106.36,106.36,107.71,96.52,106.36,117.19,107.71,107.71],\"yaxis\":\"y\",\"type\":\"scattergl\"},{\"hovertemplate\":\"variable=Assam\\u003cbr\\u003eMonth=%{x}\\u003cbr\\u003ePetrol Price=%{y}\\u003cextra\\u003e\\u003c\\u002fextra\\u003e\",\"legendgroup\":\"Assam\",\"marker\":{\"color\":\"#ab63fa\",\"symbol\":\"circle\"},\"mode\":\"markers\",\"name\":\"Assam\",\"showlegend\":true,\"x\":[\"2017_Aug\",\"2017_Dec\",\"2017_Jul\",\"2017_Jun\",\"2017_May\",\"2017_Nov\",\"2017_Oct\",\"2017_Sep\",\"2018_Apr\",\"2018_Aug\",\"2018_Dec\",\"2018_Feb\",\"2018_Jan\",\"2018_Jul\",\"2018_Jun\",\"2018_Mar\",\"2018_May\",\"2018_Nov\",\"2018_Oct\",\"2018_Sep\",\"2019_Apr\",\"2019_Aug\",\"2019_Dec\",\"2019_Feb\",\"2019_Jan\",\"2019_Jul\",\"2019_Jun\",\"2019_Mar\",\"2019_May\",\"2019_Nov\",\"2019_Oct\",\"2019_Sep\",\"2020_Apr\",\"2020_Aug\",\"2020_Dec\",\"2020_Feb\",\"2020_Jan\",\"2020_Jul\",\"2020_Jun\",\"2020_Mar\",\"2020_May\",\"2020_Nov\",\"2020_Oct\",\"2020_Sep\",\"2021_Apr\",\"2021_Aug\",\"2021_Dec\",\"2021_Feb\",\"2021_Jan\",\"2021_Jul\",\"2021_Jun\",\"2021_Mar\",\"2021_May\",\"2021_Nov\",\"2021_Oct\",\"2021_Sep\",\"2022_Apr\",\"2022_Aug\",\"2022_Dec\",\"2022_Feb\",\"2022_Jan\",\"2022_Jul\",\"2022_Jun\",\"2022_Mar\",\"2022_May\",\"2022_Oct\",\"2022_Sep\"],\"xaxis\":\"x\",\"y\":[68.03,71.13,65.83,70.52,71.41,71.04,72.73,71.17,75.8,78.51,72.03,75.09,71.91,77.66,80.51,73.54,76.73,79.16,86.22,80.97,72.39,72.37,77.18,70.43,68.03,69.94,71.17,71.35,72.67,74.99,76.78,73.88,71.61,84.5,85.95,75.33,77.39,84.5,77.46,73.59,77.46,84.93,84.93,85.72,87.23,97.64,94.58,89.0,87.0,94.56,90.2,87.69,87.1,105.74,97.77,97.18,101.67,96.01,96.01,94.58,94.58,96.01,83.94,94.58,105.66,96.01,96.01],\"yaxis\":\"y\",\"type\":\"scattergl\"},{\"hovertemplate\":\"variable=Bihar\\u003cbr\\u003eMonth=%{x}\\u003cbr\\u003ePetrol Price=%{y}\\u003cextra\\u003e\\u003c\\u002fextra\\u003e\",\"legendgroup\":\"Bihar\",\"marker\":{\"color\":\"#FFA15A\",\"symbol\":\"circle\"},\"mode\":\"markers\",\"name\":\"Bihar\",\"showlegend\":true,\"x\":[\"2017_Aug\",\"2017_Dec\",\"2017_Jul\",\"2017_Jun\",\"2017_May\",\"2017_Nov\",\"2017_Oct\",\"2017_Sep\",\"2018_Apr\",\"2018_Aug\",\"2018_Dec\",\"2018_Feb\",\"2018_Jan\",\"2018_Jul\",\"2018_Jun\",\"2018_Mar\",\"2018_May\",\"2018_Nov\",\"2018_Oct\",\"2018_Sep\",\"2019_Apr\",\"2019_Aug\",\"2019_Dec\",\"2019_Feb\",\"2019_Jan\",\"2019_Jul\",\"2019_Jun\",\"2019_Mar\",\"2019_May\",\"2019_Nov\",\"2019_Oct\",\"2019_Sep\",\"2020_Apr\",\"2020_Aug\",\"2020_Dec\",\"2020_Feb\",\"2020_Jan\",\"2020_Jul\",\"2020_Jun\",\"2020_Mar\",\"2020_May\",\"2020_Nov\",\"2020_Oct\",\"2020_Sep\",\"2021_Apr\",\"2021_Aug\",\"2021_Dec\",\"2021_Feb\",\"2021_Jan\",\"2021_Jul\",\"2021_Jun\",\"2021_Mar\",\"2021_May\",\"2021_Nov\",\"2021_Oct\",\"2021_Sep\",\"2022_Apr\",\"2022_Aug\",\"2022_Dec\",\"2022_Feb\",\"2022_Jan\",\"2022_Jul\",\"2022_Jun\",\"2022_Mar\",\"2022_May\",\"2022_Oct\",\"2022_Sep\"],\"xaxis\":\"x\",\"y\":[69.78,73.57,65.93,69.85,71.16,73.49,75.09,73.61,79.24,82.05,76.49,77.38,74.31,81.04,83.76,76.84,80.13,83.06,89.87,84.89,76.82,76.37,80.71,75.02,72.81,74.63,75.73,75.86,77.08,78.75,78.11,75.44,74.25,83.31,84.93,77.87,79.83,83.31,76.27,76.13,74.25,83.73,83.73,84.64,92.89,104.25,105.9,88.78,86.25,100.81,96.64,93.48,92.74,113.45,104.64,103.89,112.51,107.24,107.24,105.9,105.9,107.24,94.04,105.9,116.23,107.24,107.24],\"yaxis\":\"y\",\"type\":\"scattergl\"}],                        {\"template\":{\"data\":{\"histogram2dcontour\":[{\"type\":\"histogram2dcontour\",\"colorbar\":{\"outlinewidth\":0,\"ticks\":\"\"},\"colorscale\":[[0.0,\"#0d0887\"],[0.1111111111111111,\"#46039f\"],[0.2222222222222222,\"#7201a8\"],[0.3333333333333333,\"#9c179e\"],[0.4444444444444444,\"#bd3786\"],[0.5555555555555556,\"#d8576b\"],[0.6666666666666666,\"#ed7953\"],[0.7777777777777778,\"#fb9f3a\"],[0.8888888888888888,\"#fdca26\"],[1.0,\"#f0f921\"]]}],\"choropleth\":[{\"type\":\"choropleth\",\"colorbar\":{\"outlinewidth\":0,\"ticks\":\"\"}}],\"histogram2d\":[{\"type\":\"histogram2d\",\"colorbar\":{\"outlinewidth\":0,\"ticks\":\"\"},\"colorscale\":[[0.0,\"#0d0887\"],[0.1111111111111111,\"#46039f\"],[0.2222222222222222,\"#7201a8\"],[0.3333333333333333,\"#9c179e\"],[0.4444444444444444,\"#bd3786\"],[0.5555555555555556,\"#d8576b\"],[0.6666666666666666,\"#ed7953\"],[0.7777777777777778,\"#fb9f3a\"],[0.8888888888888888,\"#fdca26\"],[1.0,\"#f0f921\"]]}],\"heatmap\":[{\"type\":\"heatmap\",\"colorbar\":{\"outlinewidth\":0,\"ticks\":\"\"},\"colorscale\":[[0.0,\"#0d0887\"],[0.1111111111111111,\"#46039f\"],[0.2222222222222222,\"#7201a8\"],[0.3333333333333333,\"#9c179e\"],[0.4444444444444444,\"#bd3786\"],[0.5555555555555556,\"#d8576b\"],[0.6666666666666666,\"#ed7953\"],[0.7777777777777778,\"#fb9f3a\"],[0.8888888888888888,\"#fdca26\"],[1.0,\"#f0f921\"]]}],\"heatmapgl\":[{\"type\":\"heatmapgl\",\"colorbar\":{\"outlinewidth\":0,\"ticks\":\"\"},\"colorscale\":[[0.0,\"#0d0887\"],[0.1111111111111111,\"#46039f\"],[0.2222222222222222,\"#7201a8\"],[0.3333333333333333,\"#9c179e\"],[0.4444444444444444,\"#bd3786\"],[0.5555555555555556,\"#d8576b\"],[0.6666666666666666,\"#ed7953\"],[0.7777777777777778,\"#fb9f3a\"],[0.8888888888888888,\"#fdca26\"],[1.0,\"#f0f921\"]]}],\"contourcarpet\":[{\"type\":\"contourcarpet\",\"colorbar\":{\"outlinewidth\":0,\"ticks\":\"\"}}],\"contour\":[{\"type\":\"contour\",\"colorbar\":{\"outlinewidth\":0,\"ticks\":\"\"},\"colorscale\":[[0.0,\"#0d0887\"],[0.1111111111111111,\"#46039f\"],[0.2222222222222222,\"#7201a8\"],[0.3333333333333333,\"#9c179e\"],[0.4444444444444444,\"#bd3786\"],[0.5555555555555556,\"#d8576b\"],[0.6666666666666666,\"#ed7953\"],[0.7777777777777778,\"#fb9f3a\"],[0.8888888888888888,\"#fdca26\"],[1.0,\"#f0f921\"]]}],\"surface\":[{\"type\":\"surface\",\"colorbar\":{\"outlinewidth\":0,\"ticks\":\"\"},\"colorscale\":[[0.0,\"#0d0887\"],[0.1111111111111111,\"#46039f\"],[0.2222222222222222,\"#7201a8\"],[0.3333333333333333,\"#9c179e\"],[0.4444444444444444,\"#bd3786\"],[0.5555555555555556,\"#d8576b\"],[0.6666666666666666,\"#ed7953\"],[0.7777777777777778,\"#fb9f3a\"],[0.8888888888888888,\"#fdca26\"],[1.0,\"#f0f921\"]]}],\"mesh3d\":[{\"type\":\"mesh3d\",\"colorbar\":{\"outlinewidth\":0,\"ticks\":\"\"}}],\"scatter\":[{\"fillpattern\":{\"fillmode\":\"overlay\",\"size\":10,\"solidity\":0.2},\"type\":\"scatter\"}],\"parcoords\":[{\"type\":\"parcoords\",\"line\":{\"colorbar\":{\"outlinewidth\":0,\"ticks\":\"\"}}}],\"scatterpolargl\":[{\"type\":\"scatterpolargl\",\"marker\":{\"colorbar\":{\"outlinewidth\":0,\"ticks\":\"\"}}}],\"bar\":[{\"error_x\":{\"color\":\"#2a3f5f\"},\"error_y\":{\"color\":\"#2a3f5f\"},\"marker\":{\"line\":{\"color\":\"#E5ECF6\",\"width\":0.5},\"pattern\":{\"fillmode\":\"overlay\",\"size\":10,\"solidity\":0.2}},\"type\":\"bar\"}],\"scattergeo\":[{\"type\":\"scattergeo\",\"marker\":{\"colorbar\":{\"outlinewidth\":0,\"ticks\":\"\"}}}],\"scatterpolar\":[{\"type\":\"scatterpolar\",\"marker\":{\"colorbar\":{\"outlinewidth\":0,\"ticks\":\"\"}}}],\"histogram\":[{\"marker\":{\"pattern\":{\"fillmode\":\"overlay\",\"size\":10,\"solidity\":0.2}},\"type\":\"histogram\"}],\"scattergl\":[{\"type\":\"scattergl\",\"marker\":{\"colorbar\":{\"outlinewidth\":0,\"ticks\":\"\"}}}],\"scatter3d\":[{\"type\":\"scatter3d\",\"line\":{\"colorbar\":{\"outlinewidth\":0,\"ticks\":\"\"}},\"marker\":{\"colorbar\":{\"outlinewidth\":0,\"ticks\":\"\"}}}],\"scattermapbox\":[{\"type\":\"scattermapbox\",\"marker\":{\"colorbar\":{\"outlinewidth\":0,\"ticks\":\"\"}}}],\"scatterternary\":[{\"type\":\"scatterternary\",\"marker\":{\"colorbar\":{\"outlinewidth\":0,\"ticks\":\"\"}}}],\"scattercarpet\":[{\"type\":\"scattercarpet\",\"marker\":{\"colorbar\":{\"outlinewidth\":0,\"ticks\":\"\"}}}],\"carpet\":[{\"aaxis\":{\"endlinecolor\":\"#2a3f5f\",\"gridcolor\":\"white\",\"linecolor\":\"white\",\"minorgridcolor\":\"white\",\"startlinecolor\":\"#2a3f5f\"},\"baxis\":{\"endlinecolor\":\"#2a3f5f\",\"gridcolor\":\"white\",\"linecolor\":\"white\",\"minorgridcolor\":\"white\",\"startlinecolor\":\"#2a3f5f\"},\"type\":\"carpet\"}],\"table\":[{\"cells\":{\"fill\":{\"color\":\"#EBF0F8\"},\"line\":{\"color\":\"white\"}},\"header\":{\"fill\":{\"color\":\"#C8D4E3\"},\"line\":{\"color\":\"white\"}},\"type\":\"table\"}],\"barpolar\":[{\"marker\":{\"line\":{\"color\":\"#E5ECF6\",\"width\":0.5},\"pattern\":{\"fillmode\":\"overlay\",\"size\":10,\"solidity\":0.2}},\"type\":\"barpolar\"}],\"pie\":[{\"automargin\":true,\"type\":\"pie\"}]},\"layout\":{\"autotypenumbers\":\"strict\",\"colorway\":[\"#636efa\",\"#EF553B\",\"#00cc96\",\"#ab63fa\",\"#FFA15A\",\"#19d3f3\",\"#FF6692\",\"#B6E880\",\"#FF97FF\",\"#FECB52\"],\"font\":{\"color\":\"#2a3f5f\"},\"hovermode\":\"closest\",\"hoverlabel\":{\"align\":\"left\"},\"paper_bgcolor\":\"white\",\"plot_bgcolor\":\"#E5ECF6\",\"polar\":{\"bgcolor\":\"#E5ECF6\",\"angularaxis\":{\"gridcolor\":\"white\",\"linecolor\":\"white\",\"ticks\":\"\"},\"radialaxis\":{\"gridcolor\":\"white\",\"linecolor\":\"white\",\"ticks\":\"\"}},\"ternary\":{\"bgcolor\":\"#E5ECF6\",\"aaxis\":{\"gridcolor\":\"white\",\"linecolor\":\"white\",\"ticks\":\"\"},\"baxis\":{\"gridcolor\":\"white\",\"linecolor\":\"white\",\"ticks\":\"\"},\"caxis\":{\"gridcolor\":\"white\",\"linecolor\":\"white\",\"ticks\":\"\"}},\"coloraxis\":{\"colorbar\":{\"outlinewidth\":0,\"ticks\":\"\"}},\"colorscale\":{\"sequential\":[[0.0,\"#0d0887\"],[0.1111111111111111,\"#46039f\"],[0.2222222222222222,\"#7201a8\"],[0.3333333333333333,\"#9c179e\"],[0.4444444444444444,\"#bd3786\"],[0.5555555555555556,\"#d8576b\"],[0.6666666666666666,\"#ed7953\"],[0.7777777777777778,\"#fb9f3a\"],[0.8888888888888888,\"#fdca26\"],[1.0,\"#f0f921\"]],\"sequentialminus\":[[0.0,\"#0d0887\"],[0.1111111111111111,\"#46039f\"],[0.2222222222222222,\"#7201a8\"],[0.3333333333333333,\"#9c179e\"],[0.4444444444444444,\"#bd3786\"],[0.5555555555555556,\"#d8576b\"],[0.6666666666666666,\"#ed7953\"],[0.7777777777777778,\"#fb9f3a\"],[0.8888888888888888,\"#fdca26\"],[1.0,\"#f0f921\"]],\"diverging\":[[0,\"#8e0152\"],[0.1,\"#c51b7d\"],[0.2,\"#de77ae\"],[0.3,\"#f1b6da\"],[0.4,\"#fde0ef\"],[0.5,\"#f7f7f7\"],[0.6,\"#e6f5d0\"],[0.7,\"#b8e186\"],[0.8,\"#7fbc41\"],[0.9,\"#4d9221\"],[1,\"#276419\"]]},\"xaxis\":{\"gridcolor\":\"white\",\"linecolor\":\"white\",\"ticks\":\"\",\"title\":{\"standoff\":15},\"zerolinecolor\":\"white\",\"automargin\":true,\"zerolinewidth\":2},\"yaxis\":{\"gridcolor\":\"white\",\"linecolor\":\"white\",\"ticks\":\"\",\"title\":{\"standoff\":15},\"zerolinecolor\":\"white\",\"automargin\":true,\"zerolinewidth\":2},\"scene\":{\"xaxis\":{\"backgroundcolor\":\"#E5ECF6\",\"gridcolor\":\"white\",\"linecolor\":\"white\",\"showbackground\":true,\"ticks\":\"\",\"zerolinecolor\":\"white\",\"gridwidth\":2},\"yaxis\":{\"backgroundcolor\":\"#E5ECF6\",\"gridcolor\":\"white\",\"linecolor\":\"white\",\"showbackground\":true,\"ticks\":\"\",\"zerolinecolor\":\"white\",\"gridwidth\":2},\"zaxis\":{\"backgroundcolor\":\"#E5ECF6\",\"gridcolor\":\"white\",\"linecolor\":\"white\",\"showbackground\":true,\"ticks\":\"\",\"zerolinecolor\":\"white\",\"gridwidth\":2}},\"shapedefaults\":{\"line\":{\"color\":\"#2a3f5f\"}},\"annotationdefaults\":{\"arrowcolor\":\"#2a3f5f\",\"arrowhead\":0,\"arrowwidth\":1},\"geo\":{\"bgcolor\":\"white\",\"landcolor\":\"#E5ECF6\",\"subunitcolor\":\"white\",\"showland\":true,\"showlakes\":true,\"lakecolor\":\"white\"},\"title\":{\"x\":0.05},\"mapbox\":{\"style\":\"light\"}}},\"xaxis\":{\"anchor\":\"y\",\"domain\":[0.0,1.0],\"title\":{\"text\":\"Month\"}},\"yaxis\":{\"anchor\":\"x\",\"domain\":[0.0,1.0],\"title\":{\"text\":\"Petrol Price\"}},\"legend\":{\"title\":{\"text\":\"variable\"},\"tracegroupgap\":0},\"title\":{\"text\":\"State-specific Fluctuations in Petrol Prices\"}},                        {\"responsive\": true}                    ).then(function(){\n",
       "                            \n",
       "var gd = document.getElementById('295d7bac-91de-4fa1-8251-990f2466ba63');\n",
       "var x = new MutationObserver(function (mutations, observer) {{\n",
       "        var display = window.getComputedStyle(gd).display;\n",
       "        if (!display || display === 'none') {{\n",
       "            console.log([gd, 'removed!']);\n",
       "            Plotly.purge(gd);\n",
       "            observer.disconnect();\n",
       "        }}\n",
       "}});\n",
       "\n",
       "// Listen for the removal of the full notebook cells\n",
       "var notebookContainer = gd.closest('#notebook-container');\n",
       "if (notebookContainer) {{\n",
       "    x.observe(notebookContainer, {childList: true});\n",
       "}}\n",
       "\n",
       "// Listen for the clearing of the current output cell\n",
       "var outputEl = gd.closest('.output');\n",
       "if (outputEl) {{\n",
       "    x.observe(outputEl, {childList: true});\n",
       "}}\n",
       "\n",
       "                        })                };                });            </script>        </div>"
      ]
     },
     "metadata": {},
     "output_type": "display_data"
    }
   ],
   "source": [
    "fig5 = px.scatter(df, x='date', y=df.columns[1:], title='State-specific Fluctuations in Petrol Prices',\n",
    "                  labels={'value': 'Petrol Price', 'date': 'Month'})\n",
    "fig5.show()"
   ]
  },
  {
   "cell_type": "code",
   "execution_count": 11,
   "id": "feed1077",
   "metadata": {
    "execution": {
     "iopub.execute_input": "2024-01-08T05:39:42.911678Z",
     "iopub.status.busy": "2024-01-08T05:39:42.910394Z",
     "iopub.status.idle": "2024-01-08T05:39:43.004955Z",
     "shell.execute_reply": "2024-01-08T05:39:43.003619Z"
    },
    "papermill": {
     "duration": 0.108245,
     "end_time": "2024-01-08T05:39:43.007615",
     "exception": false,
     "start_time": "2024-01-08T05:39:42.899370",
     "status": "completed"
    },
    "tags": []
   },
   "outputs": [
    {
     "data": {
      "text/html": [
       "<div>                            <div id=\"ae41eb36-583f-4dc8-aa62-f4c08081fcda\" class=\"plotly-graph-div\" style=\"height:525px; width:100%;\"></div>            <script type=\"text/javascript\">                require([\"plotly\"], function(Plotly) {                    window.PLOTLYENV=window.PLOTLYENV || {};                                    if (document.getElementById(\"ae41eb36-583f-4dc8-aa62-f4c08081fcda\")) {                    Plotly.newPlot(                        \"ae41eb36-583f-4dc8-aa62-f4c08081fcda\",                        [{\"coloraxis\":\"coloraxis\",\"name\":\"0\",\"x\":[\"Maharashtra\",\" Haryana\",\"Delhi\",\"Gujarat\",\"Karnataka\",\"Telangana\",\"Rajasthan\",\"Punjab\",\"West_bengal\",\"Tamil Nadu\",\" Uttar Pradesh\",\"Madhya Pradesh\",\"Kerala\",\"Assam\",\"Bihar\"],\"y\":[\"Maharashtra\",\" Haryana\",\"Delhi\",\"Gujarat\",\"Karnataka\",\"Telangana\",\"Rajasthan\",\"Punjab\",\"West_bengal\",\"Tamil Nadu\",\" Uttar Pradesh\",\"Madhya Pradesh\",\"Kerala\",\"Assam\",\"Bihar\"],\"z\":[[1.0,0.9881210924515664,0.9815683894517048,0.9917166762237875,0.9849423213702515,0.9915565737940205,0.9865900526811577,0.9672495792110068,0.9921220793787849,0.9897249321791883,0.9900551558536117,0.9878274586578827,0.9924305611974951,0.9733041904037842,0.99002752538858],[0.9881210924515664,1.0,0.9952778627890874,0.993696631436661,0.9932225409036286,0.9929307891956743,0.9881447569879591,0.9754211554989783,0.991565863017808,0.9943245317200176,0.9950013803008654,0.989878323974008,0.9920362928282158,0.9763105607518346,0.9940807708772851],[0.9815683894517048,0.9952778627890874,1.0,0.9912146816350307,0.9954424540335396,0.9812500396341836,0.9886402818649461,0.9814778060466736,0.9800575877727653,0.9893905361630937,0.9947050866702489,0.9905172778524176,0.9798840406702315,0.9799694154854253,0.9828401717578562],[0.9917166762237875,0.993696631436661,0.9912146816350307,1.0,0.9880025713231448,0.9876299426097764,0.9846787234768691,0.9801162775228843,0.986199361603852,0.9891826177871277,0.9944727383350465,0.988561519877621,0.9883016091284935,0.9724567230570427,0.9862795991877842],[0.9849423213702515,0.9932225409036286,0.9954424540335396,0.9880025713231448,1.0,0.9853457880927656,0.9935986523783381,0.9714046437538016,0.9855002751124676,0.9901130139665545,0.9938101811057662,0.9951834482327746,0.9839690507662318,0.9828023745318221,0.9857214441768953],[0.9915565737940205,0.9929307891956743,0.9812500396341836,0.9876299426097764,0.9853457880927656,1.0,0.9857469808366998,0.9553504757714688,0.9992812300246534,0.9946066119112823,0.9876715684036398,0.9861026757769867,0.9997556644239336,0.9672938848376887,0.9979321025490425],[0.9865900526811577,0.9881447569879591,0.9886402818649461,0.9846787234768691,0.9935986523783381,0.9857469808366998,1.0,0.9596926274323786,0.988397713734252,0.9918356706010019,0.9946053451239273,0.9968864673558111,0.9849855398469688,0.9879087462113789,0.9856500797020599],[0.9672495792110068,0.9754211554989783,0.9814778060466736,0.9801162775228843,0.9714046437538016,0.9553504757714688,0.9596926274323786,1.0,0.9545189853969468,0.9634450419530617,0.9754055465401226,0.9662025348703619,0.9556088043116013,0.961151697475689,0.9606793122715368],[0.9921220793787849,0.991565863017808,0.9800575877727653,0.986199361603852,0.9855002751124676,0.9992812300246534,0.988397713734252,0.9545189853969468,1.0,0.9940649670306706,0.9884391676418742,0.9877263514564617,0.9991361370309645,0.9719151058619454,0.9981716235565539],[0.9897249321791883,0.9943245317200176,0.9893905361630937,0.9891826177871277,0.9901130139665545,0.9946066119112823,0.9918356706010019,0.9634450419530617,0.9940649670306706,1.0,0.9917362008171908,0.9902422791897004,0.9934464666763094,0.9789634172378615,0.9938416847457936],[0.9900551558536117,0.9950013803008654,0.9947050866702489,0.9944727383350465,0.9938101811057662,0.9876715684036398,0.9946053451239273,0.9754055465401226,0.9884391676418742,0.9917362008171908,1.0,0.9964025203523863,0.9874914103673145,0.9862918427408071,0.9890129187988352],[0.9878274586578827,0.989878323974008,0.9905172778524176,0.988561519877621,0.9951834482327746,0.9861026757769867,0.9968864673558111,0.9662025348703619,0.9877263514564617,0.9902422791897004,0.9964025203523863,1.0,0.985429429648756,0.9866708548538767,0.986785521538973],[0.9924305611974951,0.9920362928282158,0.9798840406702315,0.9883016091284935,0.9839690507662318,0.9997556644239336,0.9849855398469688,0.9556088043116013,0.9991361370309645,0.9934464666763094,0.9874914103673145,0.985429429648756,1.0,0.9658533588655144,0.9973688986454821],[0.9733041904037842,0.9763105607518346,0.9799694154854253,0.9724567230570427,0.9828023745318221,0.9672938848376887,0.9879087462113789,0.961151697475689,0.9719151058619454,0.9789634172378615,0.9862918427408071,0.9866708548538767,0.9658533588655144,1.0,0.9726566148859122],[0.99002752538858,0.9940807708772851,0.9828401717578562,0.9862795991877842,0.9857214441768953,0.9979321025490425,0.9856500797020599,0.9606793122715368,0.9981716235565539,0.9938416847457936,0.9890129187988352,0.986785521538973,0.9973688986454821,0.9726566148859122,1.0]],\"type\":\"heatmap\",\"xaxis\":\"x\",\"yaxis\":\"y\",\"hovertemplate\":\"x: %{x}\\u003cbr\\u003ey: %{y}\\u003cbr\\u003ecolor: %{z}\\u003cextra\\u003e\\u003c\\u002fextra\\u003e\"}],                        {\"template\":{\"data\":{\"histogram2dcontour\":[{\"type\":\"histogram2dcontour\",\"colorbar\":{\"outlinewidth\":0,\"ticks\":\"\"},\"colorscale\":[[0.0,\"#0d0887\"],[0.1111111111111111,\"#46039f\"],[0.2222222222222222,\"#7201a8\"],[0.3333333333333333,\"#9c179e\"],[0.4444444444444444,\"#bd3786\"],[0.5555555555555556,\"#d8576b\"],[0.6666666666666666,\"#ed7953\"],[0.7777777777777778,\"#fb9f3a\"],[0.8888888888888888,\"#fdca26\"],[1.0,\"#f0f921\"]]}],\"choropleth\":[{\"type\":\"choropleth\",\"colorbar\":{\"outlinewidth\":0,\"ticks\":\"\"}}],\"histogram2d\":[{\"type\":\"histogram2d\",\"colorbar\":{\"outlinewidth\":0,\"ticks\":\"\"},\"colorscale\":[[0.0,\"#0d0887\"],[0.1111111111111111,\"#46039f\"],[0.2222222222222222,\"#7201a8\"],[0.3333333333333333,\"#9c179e\"],[0.4444444444444444,\"#bd3786\"],[0.5555555555555556,\"#d8576b\"],[0.6666666666666666,\"#ed7953\"],[0.7777777777777778,\"#fb9f3a\"],[0.8888888888888888,\"#fdca26\"],[1.0,\"#f0f921\"]]}],\"heatmap\":[{\"type\":\"heatmap\",\"colorbar\":{\"outlinewidth\":0,\"ticks\":\"\"},\"colorscale\":[[0.0,\"#0d0887\"],[0.1111111111111111,\"#46039f\"],[0.2222222222222222,\"#7201a8\"],[0.3333333333333333,\"#9c179e\"],[0.4444444444444444,\"#bd3786\"],[0.5555555555555556,\"#d8576b\"],[0.6666666666666666,\"#ed7953\"],[0.7777777777777778,\"#fb9f3a\"],[0.8888888888888888,\"#fdca26\"],[1.0,\"#f0f921\"]]}],\"heatmapgl\":[{\"type\":\"heatmapgl\",\"colorbar\":{\"outlinewidth\":0,\"ticks\":\"\"},\"colorscale\":[[0.0,\"#0d0887\"],[0.1111111111111111,\"#46039f\"],[0.2222222222222222,\"#7201a8\"],[0.3333333333333333,\"#9c179e\"],[0.4444444444444444,\"#bd3786\"],[0.5555555555555556,\"#d8576b\"],[0.6666666666666666,\"#ed7953\"],[0.7777777777777778,\"#fb9f3a\"],[0.8888888888888888,\"#fdca26\"],[1.0,\"#f0f921\"]]}],\"contourcarpet\":[{\"type\":\"contourcarpet\",\"colorbar\":{\"outlinewidth\":0,\"ticks\":\"\"}}],\"contour\":[{\"type\":\"contour\",\"colorbar\":{\"outlinewidth\":0,\"ticks\":\"\"},\"colorscale\":[[0.0,\"#0d0887\"],[0.1111111111111111,\"#46039f\"],[0.2222222222222222,\"#7201a8\"],[0.3333333333333333,\"#9c179e\"],[0.4444444444444444,\"#bd3786\"],[0.5555555555555556,\"#d8576b\"],[0.6666666666666666,\"#ed7953\"],[0.7777777777777778,\"#fb9f3a\"],[0.8888888888888888,\"#fdca26\"],[1.0,\"#f0f921\"]]}],\"surface\":[{\"type\":\"surface\",\"colorbar\":{\"outlinewidth\":0,\"ticks\":\"\"},\"colorscale\":[[0.0,\"#0d0887\"],[0.1111111111111111,\"#46039f\"],[0.2222222222222222,\"#7201a8\"],[0.3333333333333333,\"#9c179e\"],[0.4444444444444444,\"#bd3786\"],[0.5555555555555556,\"#d8576b\"],[0.6666666666666666,\"#ed7953\"],[0.7777777777777778,\"#fb9f3a\"],[0.8888888888888888,\"#fdca26\"],[1.0,\"#f0f921\"]]}],\"mesh3d\":[{\"type\":\"mesh3d\",\"colorbar\":{\"outlinewidth\":0,\"ticks\":\"\"}}],\"scatter\":[{\"fillpattern\":{\"fillmode\":\"overlay\",\"size\":10,\"solidity\":0.2},\"type\":\"scatter\"}],\"parcoords\":[{\"type\":\"parcoords\",\"line\":{\"colorbar\":{\"outlinewidth\":0,\"ticks\":\"\"}}}],\"scatterpolargl\":[{\"type\":\"scatterpolargl\",\"marker\":{\"colorbar\":{\"outlinewidth\":0,\"ticks\":\"\"}}}],\"bar\":[{\"error_x\":{\"color\":\"#2a3f5f\"},\"error_y\":{\"color\":\"#2a3f5f\"},\"marker\":{\"line\":{\"color\":\"#E5ECF6\",\"width\":0.5},\"pattern\":{\"fillmode\":\"overlay\",\"size\":10,\"solidity\":0.2}},\"type\":\"bar\"}],\"scattergeo\":[{\"type\":\"scattergeo\",\"marker\":{\"colorbar\":{\"outlinewidth\":0,\"ticks\":\"\"}}}],\"scatterpolar\":[{\"type\":\"scatterpolar\",\"marker\":{\"colorbar\":{\"outlinewidth\":0,\"ticks\":\"\"}}}],\"histogram\":[{\"marker\":{\"pattern\":{\"fillmode\":\"overlay\",\"size\":10,\"solidity\":0.2}},\"type\":\"histogram\"}],\"scattergl\":[{\"type\":\"scattergl\",\"marker\":{\"colorbar\":{\"outlinewidth\":0,\"ticks\":\"\"}}}],\"scatter3d\":[{\"type\":\"scatter3d\",\"line\":{\"colorbar\":{\"outlinewidth\":0,\"ticks\":\"\"}},\"marker\":{\"colorbar\":{\"outlinewidth\":0,\"ticks\":\"\"}}}],\"scattermapbox\":[{\"type\":\"scattermapbox\",\"marker\":{\"colorbar\":{\"outlinewidth\":0,\"ticks\":\"\"}}}],\"scatterternary\":[{\"type\":\"scatterternary\",\"marker\":{\"colorbar\":{\"outlinewidth\":0,\"ticks\":\"\"}}}],\"scattercarpet\":[{\"type\":\"scattercarpet\",\"marker\":{\"colorbar\":{\"outlinewidth\":0,\"ticks\":\"\"}}}],\"carpet\":[{\"aaxis\":{\"endlinecolor\":\"#2a3f5f\",\"gridcolor\":\"white\",\"linecolor\":\"white\",\"minorgridcolor\":\"white\",\"startlinecolor\":\"#2a3f5f\"},\"baxis\":{\"endlinecolor\":\"#2a3f5f\",\"gridcolor\":\"white\",\"linecolor\":\"white\",\"minorgridcolor\":\"white\",\"startlinecolor\":\"#2a3f5f\"},\"type\":\"carpet\"}],\"table\":[{\"cells\":{\"fill\":{\"color\":\"#EBF0F8\"},\"line\":{\"color\":\"white\"}},\"header\":{\"fill\":{\"color\":\"#C8D4E3\"},\"line\":{\"color\":\"white\"}},\"type\":\"table\"}],\"barpolar\":[{\"marker\":{\"line\":{\"color\":\"#E5ECF6\",\"width\":0.5},\"pattern\":{\"fillmode\":\"overlay\",\"size\":10,\"solidity\":0.2}},\"type\":\"barpolar\"}],\"pie\":[{\"automargin\":true,\"type\":\"pie\"}]},\"layout\":{\"autotypenumbers\":\"strict\",\"colorway\":[\"#636efa\",\"#EF553B\",\"#00cc96\",\"#ab63fa\",\"#FFA15A\",\"#19d3f3\",\"#FF6692\",\"#B6E880\",\"#FF97FF\",\"#FECB52\"],\"font\":{\"color\":\"#2a3f5f\"},\"hovermode\":\"closest\",\"hoverlabel\":{\"align\":\"left\"},\"paper_bgcolor\":\"white\",\"plot_bgcolor\":\"#E5ECF6\",\"polar\":{\"bgcolor\":\"#E5ECF6\",\"angularaxis\":{\"gridcolor\":\"white\",\"linecolor\":\"white\",\"ticks\":\"\"},\"radialaxis\":{\"gridcolor\":\"white\",\"linecolor\":\"white\",\"ticks\":\"\"}},\"ternary\":{\"bgcolor\":\"#E5ECF6\",\"aaxis\":{\"gridcolor\":\"white\",\"linecolor\":\"white\",\"ticks\":\"\"},\"baxis\":{\"gridcolor\":\"white\",\"linecolor\":\"white\",\"ticks\":\"\"},\"caxis\":{\"gridcolor\":\"white\",\"linecolor\":\"white\",\"ticks\":\"\"}},\"coloraxis\":{\"colorbar\":{\"outlinewidth\":0,\"ticks\":\"\"}},\"colorscale\":{\"sequential\":[[0.0,\"#0d0887\"],[0.1111111111111111,\"#46039f\"],[0.2222222222222222,\"#7201a8\"],[0.3333333333333333,\"#9c179e\"],[0.4444444444444444,\"#bd3786\"],[0.5555555555555556,\"#d8576b\"],[0.6666666666666666,\"#ed7953\"],[0.7777777777777778,\"#fb9f3a\"],[0.8888888888888888,\"#fdca26\"],[1.0,\"#f0f921\"]],\"sequentialminus\":[[0.0,\"#0d0887\"],[0.1111111111111111,\"#46039f\"],[0.2222222222222222,\"#7201a8\"],[0.3333333333333333,\"#9c179e\"],[0.4444444444444444,\"#bd3786\"],[0.5555555555555556,\"#d8576b\"],[0.6666666666666666,\"#ed7953\"],[0.7777777777777778,\"#fb9f3a\"],[0.8888888888888888,\"#fdca26\"],[1.0,\"#f0f921\"]],\"diverging\":[[0,\"#8e0152\"],[0.1,\"#c51b7d\"],[0.2,\"#de77ae\"],[0.3,\"#f1b6da\"],[0.4,\"#fde0ef\"],[0.5,\"#f7f7f7\"],[0.6,\"#e6f5d0\"],[0.7,\"#b8e186\"],[0.8,\"#7fbc41\"],[0.9,\"#4d9221\"],[1,\"#276419\"]]},\"xaxis\":{\"gridcolor\":\"white\",\"linecolor\":\"white\",\"ticks\":\"\",\"title\":{\"standoff\":15},\"zerolinecolor\":\"white\",\"automargin\":true,\"zerolinewidth\":2},\"yaxis\":{\"gridcolor\":\"white\",\"linecolor\":\"white\",\"ticks\":\"\",\"title\":{\"standoff\":15},\"zerolinecolor\":\"white\",\"automargin\":true,\"zerolinewidth\":2},\"scene\":{\"xaxis\":{\"backgroundcolor\":\"#E5ECF6\",\"gridcolor\":\"white\",\"linecolor\":\"white\",\"showbackground\":true,\"ticks\":\"\",\"zerolinecolor\":\"white\",\"gridwidth\":2},\"yaxis\":{\"backgroundcolor\":\"#E5ECF6\",\"gridcolor\":\"white\",\"linecolor\":\"white\",\"showbackground\":true,\"ticks\":\"\",\"zerolinecolor\":\"white\",\"gridwidth\":2},\"zaxis\":{\"backgroundcolor\":\"#E5ECF6\",\"gridcolor\":\"white\",\"linecolor\":\"white\",\"showbackground\":true,\"ticks\":\"\",\"zerolinecolor\":\"white\",\"gridwidth\":2}},\"shapedefaults\":{\"line\":{\"color\":\"#2a3f5f\"}},\"annotationdefaults\":{\"arrowcolor\":\"#2a3f5f\",\"arrowhead\":0,\"arrowwidth\":1},\"geo\":{\"bgcolor\":\"white\",\"landcolor\":\"#E5ECF6\",\"subunitcolor\":\"white\",\"showland\":true,\"showlakes\":true,\"lakecolor\":\"white\"},\"title\":{\"x\":0.05},\"mapbox\":{\"style\":\"light\"}}},\"xaxis\":{\"anchor\":\"y\",\"domain\":[0.0,1.0],\"scaleanchor\":\"y\",\"constrain\":\"domain\"},\"yaxis\":{\"anchor\":\"x\",\"domain\":[0.0,1.0],\"autorange\":\"reversed\",\"constrain\":\"domain\"},\"coloraxis\":{\"colorscale\":[[0.0,\"#440154\"],[0.1111111111111111,\"#482878\"],[0.2222222222222222,\"#3e4989\"],[0.3333333333333333,\"#31688e\"],[0.4444444444444444,\"#26828e\"],[0.5555555555555556,\"#1f9e89\"],[0.6666666666666666,\"#35b779\"],[0.7777777777777778,\"#6ece58\"],[0.8888888888888888,\"#b5de2b\"],[1.0,\"#fde725\"]]},\"title\":{\"text\":\"Correlation Matrix of Petrol Prices Across States\"}},                        {\"responsive\": true}                    ).then(function(){\n",
       "                            \n",
       "var gd = document.getElementById('ae41eb36-583f-4dc8-aa62-f4c08081fcda');\n",
       "var x = new MutationObserver(function (mutations, observer) {{\n",
       "        var display = window.getComputedStyle(gd).display;\n",
       "        if (!display || display === 'none') {{\n",
       "            console.log([gd, 'removed!']);\n",
       "            Plotly.purge(gd);\n",
       "            observer.disconnect();\n",
       "        }}\n",
       "}});\n",
       "\n",
       "// Listen for the removal of the full notebook cells\n",
       "var notebookContainer = gd.closest('#notebook-container');\n",
       "if (notebookContainer) {{\n",
       "    x.observe(notebookContainer, {childList: true});\n",
       "}}\n",
       "\n",
       "// Listen for the clearing of the current output cell\n",
       "var outputEl = gd.closest('.output');\n",
       "if (outputEl) {{\n",
       "    x.observe(outputEl, {childList: true});\n",
       "}}\n",
       "\n",
       "                        })                };                });            </script>        </div>"
      ]
     },
     "metadata": {},
     "output_type": "display_data"
    }
   ],
   "source": [
    "numeric_columns = df.drop('date', axis=1)\n",
    "\n",
    "correlation_matrix = numeric_columns.corr()\n",
    "fig4 = px.imshow(correlation_matrix, x=numeric_columns.columns, y=numeric_columns.columns,\n",
    "                 color_continuous_scale='Viridis', title='Correlation Matrix of Petrol Prices Across States')\n",
    "fig4.show()"
   ]
  },
  {
   "cell_type": "code",
   "execution_count": 12,
   "id": "e82e36b0",
   "metadata": {
    "execution": {
     "iopub.execute_input": "2024-01-08T05:39:43.030336Z",
     "iopub.status.busy": "2024-01-08T05:39:43.029537Z",
     "iopub.status.idle": "2024-01-08T05:39:43.108449Z",
     "shell.execute_reply": "2024-01-08T05:39:43.107184Z"
    },
    "papermill": {
     "duration": 0.093546,
     "end_time": "2024-01-08T05:39:43.111453",
     "exception": false,
     "start_time": "2024-01-08T05:39:43.017907",
     "status": "completed"
    },
    "tags": []
   },
   "outputs": [
    {
     "data": {
      "text/html": [
       "<div>                            <div id=\"ce3b3d37-c82c-482f-92fb-369900344e4e\" class=\"plotly-graph-div\" style=\"height:525px; width:100%;\"></div>            <script type=\"text/javascript\">                require([\"plotly\"], function(Plotly) {                    window.PLOTLYENV=window.PLOTLYENV || {};                                    if (document.getElementById(\"ce3b3d37-c82c-482f-92fb-369900344e4e\")) {                    Plotly.newPlot(                        \"ce3b3d37-c82c-482f-92fb-369900344e4e\",                        [{\"alignmentgroup\":\"True\",\"hovertemplate\":\"State=%{x}\\u003cbr\\u003ePetrol Price Variance (INR^2)=%{y}\\u003cextra\\u003e\\u003c\\u002fextra\\u003e\",\"legendgroup\":\"\",\"marker\":{\"color\":\"#636efa\",\"pattern\":{\"shape\":\"\"}},\"name\":\"\",\"offsetgroup\":\"\",\"orientation\":\"v\",\"showlegend\":false,\"textposition\":\"auto\",\"x\":[\"Maharashtra\",\" Haryana\",\"Delhi\",\"Gujarat\",\"Karnataka\",\"Telangana\",\"Rajasthan\",\"Punjab\",\"West_bengal\",\"Tamil Nadu\",\" Uttar Pradesh\",\"Madhya Pradesh\",\"Kerala\",\"Assam\",\"Bihar\"],\"xaxis\":\"x\",\"y\":[177.90654563545908,137.99567544097698,144.87157553143376,143.7230996834012,169.807220850294,203.48447340569874,226.10135857078245,121.34246707372235,178.47534183627317,150.3108704206241,118.7816549525102,198.26666933514247,189.83564816824963,110.81112822252376,178.29905422885577],\"yaxis\":\"y\",\"type\":\"bar\"}],                        {\"template\":{\"data\":{\"histogram2dcontour\":[{\"type\":\"histogram2dcontour\",\"colorbar\":{\"outlinewidth\":0,\"ticks\":\"\"},\"colorscale\":[[0.0,\"#0d0887\"],[0.1111111111111111,\"#46039f\"],[0.2222222222222222,\"#7201a8\"],[0.3333333333333333,\"#9c179e\"],[0.4444444444444444,\"#bd3786\"],[0.5555555555555556,\"#d8576b\"],[0.6666666666666666,\"#ed7953\"],[0.7777777777777778,\"#fb9f3a\"],[0.8888888888888888,\"#fdca26\"],[1.0,\"#f0f921\"]]}],\"choropleth\":[{\"type\":\"choropleth\",\"colorbar\":{\"outlinewidth\":0,\"ticks\":\"\"}}],\"histogram2d\":[{\"type\":\"histogram2d\",\"colorbar\":{\"outlinewidth\":0,\"ticks\":\"\"},\"colorscale\":[[0.0,\"#0d0887\"],[0.1111111111111111,\"#46039f\"],[0.2222222222222222,\"#7201a8\"],[0.3333333333333333,\"#9c179e\"],[0.4444444444444444,\"#bd3786\"],[0.5555555555555556,\"#d8576b\"],[0.6666666666666666,\"#ed7953\"],[0.7777777777777778,\"#fb9f3a\"],[0.8888888888888888,\"#fdca26\"],[1.0,\"#f0f921\"]]}],\"heatmap\":[{\"type\":\"heatmap\",\"colorbar\":{\"outlinewidth\":0,\"ticks\":\"\"},\"colorscale\":[[0.0,\"#0d0887\"],[0.1111111111111111,\"#46039f\"],[0.2222222222222222,\"#7201a8\"],[0.3333333333333333,\"#9c179e\"],[0.4444444444444444,\"#bd3786\"],[0.5555555555555556,\"#d8576b\"],[0.6666666666666666,\"#ed7953\"],[0.7777777777777778,\"#fb9f3a\"],[0.8888888888888888,\"#fdca26\"],[1.0,\"#f0f921\"]]}],\"heatmapgl\":[{\"type\":\"heatmapgl\",\"colorbar\":{\"outlinewidth\":0,\"ticks\":\"\"},\"colorscale\":[[0.0,\"#0d0887\"],[0.1111111111111111,\"#46039f\"],[0.2222222222222222,\"#7201a8\"],[0.3333333333333333,\"#9c179e\"],[0.4444444444444444,\"#bd3786\"],[0.5555555555555556,\"#d8576b\"],[0.6666666666666666,\"#ed7953\"],[0.7777777777777778,\"#fb9f3a\"],[0.8888888888888888,\"#fdca26\"],[1.0,\"#f0f921\"]]}],\"contourcarpet\":[{\"type\":\"contourcarpet\",\"colorbar\":{\"outlinewidth\":0,\"ticks\":\"\"}}],\"contour\":[{\"type\":\"contour\",\"colorbar\":{\"outlinewidth\":0,\"ticks\":\"\"},\"colorscale\":[[0.0,\"#0d0887\"],[0.1111111111111111,\"#46039f\"],[0.2222222222222222,\"#7201a8\"],[0.3333333333333333,\"#9c179e\"],[0.4444444444444444,\"#bd3786\"],[0.5555555555555556,\"#d8576b\"],[0.6666666666666666,\"#ed7953\"],[0.7777777777777778,\"#fb9f3a\"],[0.8888888888888888,\"#fdca26\"],[1.0,\"#f0f921\"]]}],\"surface\":[{\"type\":\"surface\",\"colorbar\":{\"outlinewidth\":0,\"ticks\":\"\"},\"colorscale\":[[0.0,\"#0d0887\"],[0.1111111111111111,\"#46039f\"],[0.2222222222222222,\"#7201a8\"],[0.3333333333333333,\"#9c179e\"],[0.4444444444444444,\"#bd3786\"],[0.5555555555555556,\"#d8576b\"],[0.6666666666666666,\"#ed7953\"],[0.7777777777777778,\"#fb9f3a\"],[0.8888888888888888,\"#fdca26\"],[1.0,\"#f0f921\"]]}],\"mesh3d\":[{\"type\":\"mesh3d\",\"colorbar\":{\"outlinewidth\":0,\"ticks\":\"\"}}],\"scatter\":[{\"fillpattern\":{\"fillmode\":\"overlay\",\"size\":10,\"solidity\":0.2},\"type\":\"scatter\"}],\"parcoords\":[{\"type\":\"parcoords\",\"line\":{\"colorbar\":{\"outlinewidth\":0,\"ticks\":\"\"}}}],\"scatterpolargl\":[{\"type\":\"scatterpolargl\",\"marker\":{\"colorbar\":{\"outlinewidth\":0,\"ticks\":\"\"}}}],\"bar\":[{\"error_x\":{\"color\":\"#2a3f5f\"},\"error_y\":{\"color\":\"#2a3f5f\"},\"marker\":{\"line\":{\"color\":\"#E5ECF6\",\"width\":0.5},\"pattern\":{\"fillmode\":\"overlay\",\"size\":10,\"solidity\":0.2}},\"type\":\"bar\"}],\"scattergeo\":[{\"type\":\"scattergeo\",\"marker\":{\"colorbar\":{\"outlinewidth\":0,\"ticks\":\"\"}}}],\"scatterpolar\":[{\"type\":\"scatterpolar\",\"marker\":{\"colorbar\":{\"outlinewidth\":0,\"ticks\":\"\"}}}],\"histogram\":[{\"marker\":{\"pattern\":{\"fillmode\":\"overlay\",\"size\":10,\"solidity\":0.2}},\"type\":\"histogram\"}],\"scattergl\":[{\"type\":\"scattergl\",\"marker\":{\"colorbar\":{\"outlinewidth\":0,\"ticks\":\"\"}}}],\"scatter3d\":[{\"type\":\"scatter3d\",\"line\":{\"colorbar\":{\"outlinewidth\":0,\"ticks\":\"\"}},\"marker\":{\"colorbar\":{\"outlinewidth\":0,\"ticks\":\"\"}}}],\"scattermapbox\":[{\"type\":\"scattermapbox\",\"marker\":{\"colorbar\":{\"outlinewidth\":0,\"ticks\":\"\"}}}],\"scatterternary\":[{\"type\":\"scatterternary\",\"marker\":{\"colorbar\":{\"outlinewidth\":0,\"ticks\":\"\"}}}],\"scattercarpet\":[{\"type\":\"scattercarpet\",\"marker\":{\"colorbar\":{\"outlinewidth\":0,\"ticks\":\"\"}}}],\"carpet\":[{\"aaxis\":{\"endlinecolor\":\"#2a3f5f\",\"gridcolor\":\"white\",\"linecolor\":\"white\",\"minorgridcolor\":\"white\",\"startlinecolor\":\"#2a3f5f\"},\"baxis\":{\"endlinecolor\":\"#2a3f5f\",\"gridcolor\":\"white\",\"linecolor\":\"white\",\"minorgridcolor\":\"white\",\"startlinecolor\":\"#2a3f5f\"},\"type\":\"carpet\"}],\"table\":[{\"cells\":{\"fill\":{\"color\":\"#EBF0F8\"},\"line\":{\"color\":\"white\"}},\"header\":{\"fill\":{\"color\":\"#C8D4E3\"},\"line\":{\"color\":\"white\"}},\"type\":\"table\"}],\"barpolar\":[{\"marker\":{\"line\":{\"color\":\"#E5ECF6\",\"width\":0.5},\"pattern\":{\"fillmode\":\"overlay\",\"size\":10,\"solidity\":0.2}},\"type\":\"barpolar\"}],\"pie\":[{\"automargin\":true,\"type\":\"pie\"}]},\"layout\":{\"autotypenumbers\":\"strict\",\"colorway\":[\"#636efa\",\"#EF553B\",\"#00cc96\",\"#ab63fa\",\"#FFA15A\",\"#19d3f3\",\"#FF6692\",\"#B6E880\",\"#FF97FF\",\"#FECB52\"],\"font\":{\"color\":\"#2a3f5f\"},\"hovermode\":\"closest\",\"hoverlabel\":{\"align\":\"left\"},\"paper_bgcolor\":\"white\",\"plot_bgcolor\":\"#E5ECF6\",\"polar\":{\"bgcolor\":\"#E5ECF6\",\"angularaxis\":{\"gridcolor\":\"white\",\"linecolor\":\"white\",\"ticks\":\"\"},\"radialaxis\":{\"gridcolor\":\"white\",\"linecolor\":\"white\",\"ticks\":\"\"}},\"ternary\":{\"bgcolor\":\"#E5ECF6\",\"aaxis\":{\"gridcolor\":\"white\",\"linecolor\":\"white\",\"ticks\":\"\"},\"baxis\":{\"gridcolor\":\"white\",\"linecolor\":\"white\",\"ticks\":\"\"},\"caxis\":{\"gridcolor\":\"white\",\"linecolor\":\"white\",\"ticks\":\"\"}},\"coloraxis\":{\"colorbar\":{\"outlinewidth\":0,\"ticks\":\"\"}},\"colorscale\":{\"sequential\":[[0.0,\"#0d0887\"],[0.1111111111111111,\"#46039f\"],[0.2222222222222222,\"#7201a8\"],[0.3333333333333333,\"#9c179e\"],[0.4444444444444444,\"#bd3786\"],[0.5555555555555556,\"#d8576b\"],[0.6666666666666666,\"#ed7953\"],[0.7777777777777778,\"#fb9f3a\"],[0.8888888888888888,\"#fdca26\"],[1.0,\"#f0f921\"]],\"sequentialminus\":[[0.0,\"#0d0887\"],[0.1111111111111111,\"#46039f\"],[0.2222222222222222,\"#7201a8\"],[0.3333333333333333,\"#9c179e\"],[0.4444444444444444,\"#bd3786\"],[0.5555555555555556,\"#d8576b\"],[0.6666666666666666,\"#ed7953\"],[0.7777777777777778,\"#fb9f3a\"],[0.8888888888888888,\"#fdca26\"],[1.0,\"#f0f921\"]],\"diverging\":[[0,\"#8e0152\"],[0.1,\"#c51b7d\"],[0.2,\"#de77ae\"],[0.3,\"#f1b6da\"],[0.4,\"#fde0ef\"],[0.5,\"#f7f7f7\"],[0.6,\"#e6f5d0\"],[0.7,\"#b8e186\"],[0.8,\"#7fbc41\"],[0.9,\"#4d9221\"],[1,\"#276419\"]]},\"xaxis\":{\"gridcolor\":\"white\",\"linecolor\":\"white\",\"ticks\":\"\",\"title\":{\"standoff\":15},\"zerolinecolor\":\"white\",\"automargin\":true,\"zerolinewidth\":2},\"yaxis\":{\"gridcolor\":\"white\",\"linecolor\":\"white\",\"ticks\":\"\",\"title\":{\"standoff\":15},\"zerolinecolor\":\"white\",\"automargin\":true,\"zerolinewidth\":2},\"scene\":{\"xaxis\":{\"backgroundcolor\":\"#E5ECF6\",\"gridcolor\":\"white\",\"linecolor\":\"white\",\"showbackground\":true,\"ticks\":\"\",\"zerolinecolor\":\"white\",\"gridwidth\":2},\"yaxis\":{\"backgroundcolor\":\"#E5ECF6\",\"gridcolor\":\"white\",\"linecolor\":\"white\",\"showbackground\":true,\"ticks\":\"\",\"zerolinecolor\":\"white\",\"gridwidth\":2},\"zaxis\":{\"backgroundcolor\":\"#E5ECF6\",\"gridcolor\":\"white\",\"linecolor\":\"white\",\"showbackground\":true,\"ticks\":\"\",\"zerolinecolor\":\"white\",\"gridwidth\":2}},\"shapedefaults\":{\"line\":{\"color\":\"#2a3f5f\"}},\"annotationdefaults\":{\"arrowcolor\":\"#2a3f5f\",\"arrowhead\":0,\"arrowwidth\":1},\"geo\":{\"bgcolor\":\"white\",\"landcolor\":\"#E5ECF6\",\"subunitcolor\":\"white\",\"showland\":true,\"showlakes\":true,\"lakecolor\":\"white\"},\"title\":{\"x\":0.05},\"mapbox\":{\"style\":\"light\"}}},\"xaxis\":{\"anchor\":\"y\",\"domain\":[0.0,1.0],\"title\":{\"text\":\"State\"}},\"yaxis\":{\"anchor\":\"x\",\"domain\":[0.0,1.0],\"title\":{\"text\":\"Petrol Price Variance (INR^2)\"}},\"legend\":{\"tracegroupgap\":0},\"title\":{\"text\":\"Petrol Price Variance Over the Last 4 Years\"},\"barmode\":\"relative\",\"annotations\":[{\"arrowhead\":4,\"ax\":0,\"ay\":-60,\"font\":{\"color\":\"red\",\"size\":18},\"showarrow\":true,\"text\":\"Highest Variance (Rajasthan)\",\"x\":\"Rajasthan\",\"y\":226.10135857078245}],\"showlegend\":false},                        {\"responsive\": true}                    ).then(function(){\n",
       "                            \n",
       "var gd = document.getElementById('ce3b3d37-c82c-482f-92fb-369900344e4e');\n",
       "var x = new MutationObserver(function (mutations, observer) {{\n",
       "        var display = window.getComputedStyle(gd).display;\n",
       "        if (!display || display === 'none') {{\n",
       "            console.log([gd, 'removed!']);\n",
       "            Plotly.purge(gd);\n",
       "            observer.disconnect();\n",
       "        }}\n",
       "}});\n",
       "\n",
       "// Listen for the removal of the full notebook cells\n",
       "var notebookContainer = gd.closest('#notebook-container');\n",
       "if (notebookContainer) {{\n",
       "    x.observe(notebookContainer, {childList: true});\n",
       "}}\n",
       "\n",
       "// Listen for the clearing of the current output cell\n",
       "var outputEl = gd.closest('.output');\n",
       "if (outputEl) {{\n",
       "    x.observe(outputEl, {childList: true});\n",
       "}}\n",
       "\n",
       "                        })                };                });            </script>        </div>"
      ]
     },
     "metadata": {},
     "output_type": "display_data"
    }
   ],
   "source": [
    "variance_prices = df.drop('date', axis=1).var(axis=0).reset_index()\n",
    "variance_prices.columns = ['State', 'Petrol Price Variance']\n",
    "\n",
    "highest_var_state = variance_prices.loc[variance_prices['Petrol Price Variance'].idxmax(), 'State']\n",
    "\n",
    "fig = px.bar(variance_prices, x='State', y='Petrol Price Variance',\n",
    "             title='Petrol Price Variance Over the Last 4 Years',\n",
    "             labels={'Petrol Price Variance': 'Petrol Price Variance (INR^2)'})\n",
    "fig.update_layout(annotations=[dict(x=highest_var_state, y=variance_prices['Petrol Price Variance'].max(),\n",
    "                                    text=f'Highest Variance ({highest_var_state})', showarrow=True, arrowhead=4,\n",
    "                                    ax=0, ay=-60, font=dict(size=18, color='red')),\n",
    "                               ],\n",
    "                  showlegend=False) \n",
    "fig.show()"
   ]
  },
  {
   "cell_type": "code",
   "execution_count": 13,
   "id": "b74c15ef",
   "metadata": {
    "execution": {
     "iopub.execute_input": "2024-01-08T05:39:43.137372Z",
     "iopub.status.busy": "2024-01-08T05:39:43.136835Z",
     "iopub.status.idle": "2024-01-08T05:39:43.204267Z",
     "shell.execute_reply": "2024-01-08T05:39:43.203151Z"
    },
    "papermill": {
     "duration": 0.084029,
     "end_time": "2024-01-08T05:39:43.206712",
     "exception": false,
     "start_time": "2024-01-08T05:39:43.122683",
     "status": "completed"
    },
    "tags": []
   },
   "outputs": [
    {
     "data": {
      "text/html": [
       "<div>                            <div id=\"19ce32cf-a165-46b3-93e8-b6a49b852cd1\" class=\"plotly-graph-div\" style=\"height:525px; width:100%;\"></div>            <script type=\"text/javascript\">                require([\"plotly\"], function(Plotly) {                    window.PLOTLYENV=window.PLOTLYENV || {};                                    if (document.getElementById(\"19ce32cf-a165-46b3-93e8-b6a49b852cd1\")) {                    Plotly.newPlot(                        \"19ce32cf-a165-46b3-93e8-b6a49b852cd1\",                        [{\"coloraxis\":\"coloraxis\",\"name\":\"0\",\"x\":[\"Maharashtra\",\"Delhi\"],\"y\":[\"Maharashtra\",\"Delhi\"],\"z\":[[1.0,0.9815683894517048],[0.9815683894517048,1.0]],\"type\":\"heatmap\",\"xaxis\":\"x\",\"yaxis\":\"y\",\"hovertemplate\":\"x: %{x}\\u003cbr\\u003ey: %{y}\\u003cbr\\u003ecolor: %{z}\\u003cextra\\u003e\\u003c\\u002fextra\\u003e\"}],                        {\"template\":{\"data\":{\"histogram2dcontour\":[{\"type\":\"histogram2dcontour\",\"colorbar\":{\"outlinewidth\":0,\"ticks\":\"\"},\"colorscale\":[[0.0,\"#0d0887\"],[0.1111111111111111,\"#46039f\"],[0.2222222222222222,\"#7201a8\"],[0.3333333333333333,\"#9c179e\"],[0.4444444444444444,\"#bd3786\"],[0.5555555555555556,\"#d8576b\"],[0.6666666666666666,\"#ed7953\"],[0.7777777777777778,\"#fb9f3a\"],[0.8888888888888888,\"#fdca26\"],[1.0,\"#f0f921\"]]}],\"choropleth\":[{\"type\":\"choropleth\",\"colorbar\":{\"outlinewidth\":0,\"ticks\":\"\"}}],\"histogram2d\":[{\"type\":\"histogram2d\",\"colorbar\":{\"outlinewidth\":0,\"ticks\":\"\"},\"colorscale\":[[0.0,\"#0d0887\"],[0.1111111111111111,\"#46039f\"],[0.2222222222222222,\"#7201a8\"],[0.3333333333333333,\"#9c179e\"],[0.4444444444444444,\"#bd3786\"],[0.5555555555555556,\"#d8576b\"],[0.6666666666666666,\"#ed7953\"],[0.7777777777777778,\"#fb9f3a\"],[0.8888888888888888,\"#fdca26\"],[1.0,\"#f0f921\"]]}],\"heatmap\":[{\"type\":\"heatmap\",\"colorbar\":{\"outlinewidth\":0,\"ticks\":\"\"},\"colorscale\":[[0.0,\"#0d0887\"],[0.1111111111111111,\"#46039f\"],[0.2222222222222222,\"#7201a8\"],[0.3333333333333333,\"#9c179e\"],[0.4444444444444444,\"#bd3786\"],[0.5555555555555556,\"#d8576b\"],[0.6666666666666666,\"#ed7953\"],[0.7777777777777778,\"#fb9f3a\"],[0.8888888888888888,\"#fdca26\"],[1.0,\"#f0f921\"]]}],\"heatmapgl\":[{\"type\":\"heatmapgl\",\"colorbar\":{\"outlinewidth\":0,\"ticks\":\"\"},\"colorscale\":[[0.0,\"#0d0887\"],[0.1111111111111111,\"#46039f\"],[0.2222222222222222,\"#7201a8\"],[0.3333333333333333,\"#9c179e\"],[0.4444444444444444,\"#bd3786\"],[0.5555555555555556,\"#d8576b\"],[0.6666666666666666,\"#ed7953\"],[0.7777777777777778,\"#fb9f3a\"],[0.8888888888888888,\"#fdca26\"],[1.0,\"#f0f921\"]]}],\"contourcarpet\":[{\"type\":\"contourcarpet\",\"colorbar\":{\"outlinewidth\":0,\"ticks\":\"\"}}],\"contour\":[{\"type\":\"contour\",\"colorbar\":{\"outlinewidth\":0,\"ticks\":\"\"},\"colorscale\":[[0.0,\"#0d0887\"],[0.1111111111111111,\"#46039f\"],[0.2222222222222222,\"#7201a8\"],[0.3333333333333333,\"#9c179e\"],[0.4444444444444444,\"#bd3786\"],[0.5555555555555556,\"#d8576b\"],[0.6666666666666666,\"#ed7953\"],[0.7777777777777778,\"#fb9f3a\"],[0.8888888888888888,\"#fdca26\"],[1.0,\"#f0f921\"]]}],\"surface\":[{\"type\":\"surface\",\"colorbar\":{\"outlinewidth\":0,\"ticks\":\"\"},\"colorscale\":[[0.0,\"#0d0887\"],[0.1111111111111111,\"#46039f\"],[0.2222222222222222,\"#7201a8\"],[0.3333333333333333,\"#9c179e\"],[0.4444444444444444,\"#bd3786\"],[0.5555555555555556,\"#d8576b\"],[0.6666666666666666,\"#ed7953\"],[0.7777777777777778,\"#fb9f3a\"],[0.8888888888888888,\"#fdca26\"],[1.0,\"#f0f921\"]]}],\"mesh3d\":[{\"type\":\"mesh3d\",\"colorbar\":{\"outlinewidth\":0,\"ticks\":\"\"}}],\"scatter\":[{\"fillpattern\":{\"fillmode\":\"overlay\",\"size\":10,\"solidity\":0.2},\"type\":\"scatter\"}],\"parcoords\":[{\"type\":\"parcoords\",\"line\":{\"colorbar\":{\"outlinewidth\":0,\"ticks\":\"\"}}}],\"scatterpolargl\":[{\"type\":\"scatterpolargl\",\"marker\":{\"colorbar\":{\"outlinewidth\":0,\"ticks\":\"\"}}}],\"bar\":[{\"error_x\":{\"color\":\"#2a3f5f\"},\"error_y\":{\"color\":\"#2a3f5f\"},\"marker\":{\"line\":{\"color\":\"#E5ECF6\",\"width\":0.5},\"pattern\":{\"fillmode\":\"overlay\",\"size\":10,\"solidity\":0.2}},\"type\":\"bar\"}],\"scattergeo\":[{\"type\":\"scattergeo\",\"marker\":{\"colorbar\":{\"outlinewidth\":0,\"ticks\":\"\"}}}],\"scatterpolar\":[{\"type\":\"scatterpolar\",\"marker\":{\"colorbar\":{\"outlinewidth\":0,\"ticks\":\"\"}}}],\"histogram\":[{\"marker\":{\"pattern\":{\"fillmode\":\"overlay\",\"size\":10,\"solidity\":0.2}},\"type\":\"histogram\"}],\"scattergl\":[{\"type\":\"scattergl\",\"marker\":{\"colorbar\":{\"outlinewidth\":0,\"ticks\":\"\"}}}],\"scatter3d\":[{\"type\":\"scatter3d\",\"line\":{\"colorbar\":{\"outlinewidth\":0,\"ticks\":\"\"}},\"marker\":{\"colorbar\":{\"outlinewidth\":0,\"ticks\":\"\"}}}],\"scattermapbox\":[{\"type\":\"scattermapbox\",\"marker\":{\"colorbar\":{\"outlinewidth\":0,\"ticks\":\"\"}}}],\"scatterternary\":[{\"type\":\"scatterternary\",\"marker\":{\"colorbar\":{\"outlinewidth\":0,\"ticks\":\"\"}}}],\"scattercarpet\":[{\"type\":\"scattercarpet\",\"marker\":{\"colorbar\":{\"outlinewidth\":0,\"ticks\":\"\"}}}],\"carpet\":[{\"aaxis\":{\"endlinecolor\":\"#2a3f5f\",\"gridcolor\":\"white\",\"linecolor\":\"white\",\"minorgridcolor\":\"white\",\"startlinecolor\":\"#2a3f5f\"},\"baxis\":{\"endlinecolor\":\"#2a3f5f\",\"gridcolor\":\"white\",\"linecolor\":\"white\",\"minorgridcolor\":\"white\",\"startlinecolor\":\"#2a3f5f\"},\"type\":\"carpet\"}],\"table\":[{\"cells\":{\"fill\":{\"color\":\"#EBF0F8\"},\"line\":{\"color\":\"white\"}},\"header\":{\"fill\":{\"color\":\"#C8D4E3\"},\"line\":{\"color\":\"white\"}},\"type\":\"table\"}],\"barpolar\":[{\"marker\":{\"line\":{\"color\":\"#E5ECF6\",\"width\":0.5},\"pattern\":{\"fillmode\":\"overlay\",\"size\":10,\"solidity\":0.2}},\"type\":\"barpolar\"}],\"pie\":[{\"automargin\":true,\"type\":\"pie\"}]},\"layout\":{\"autotypenumbers\":\"strict\",\"colorway\":[\"#636efa\",\"#EF553B\",\"#00cc96\",\"#ab63fa\",\"#FFA15A\",\"#19d3f3\",\"#FF6692\",\"#B6E880\",\"#FF97FF\",\"#FECB52\"],\"font\":{\"color\":\"#2a3f5f\"},\"hovermode\":\"closest\",\"hoverlabel\":{\"align\":\"left\"},\"paper_bgcolor\":\"white\",\"plot_bgcolor\":\"#E5ECF6\",\"polar\":{\"bgcolor\":\"#E5ECF6\",\"angularaxis\":{\"gridcolor\":\"white\",\"linecolor\":\"white\",\"ticks\":\"\"},\"radialaxis\":{\"gridcolor\":\"white\",\"linecolor\":\"white\",\"ticks\":\"\"}},\"ternary\":{\"bgcolor\":\"#E5ECF6\",\"aaxis\":{\"gridcolor\":\"white\",\"linecolor\":\"white\",\"ticks\":\"\"},\"baxis\":{\"gridcolor\":\"white\",\"linecolor\":\"white\",\"ticks\":\"\"},\"caxis\":{\"gridcolor\":\"white\",\"linecolor\":\"white\",\"ticks\":\"\"}},\"coloraxis\":{\"colorbar\":{\"outlinewidth\":0,\"ticks\":\"\"}},\"colorscale\":{\"sequential\":[[0.0,\"#0d0887\"],[0.1111111111111111,\"#46039f\"],[0.2222222222222222,\"#7201a8\"],[0.3333333333333333,\"#9c179e\"],[0.4444444444444444,\"#bd3786\"],[0.5555555555555556,\"#d8576b\"],[0.6666666666666666,\"#ed7953\"],[0.7777777777777778,\"#fb9f3a\"],[0.8888888888888888,\"#fdca26\"],[1.0,\"#f0f921\"]],\"sequentialminus\":[[0.0,\"#0d0887\"],[0.1111111111111111,\"#46039f\"],[0.2222222222222222,\"#7201a8\"],[0.3333333333333333,\"#9c179e\"],[0.4444444444444444,\"#bd3786\"],[0.5555555555555556,\"#d8576b\"],[0.6666666666666666,\"#ed7953\"],[0.7777777777777778,\"#fb9f3a\"],[0.8888888888888888,\"#fdca26\"],[1.0,\"#f0f921\"]],\"diverging\":[[0,\"#8e0152\"],[0.1,\"#c51b7d\"],[0.2,\"#de77ae\"],[0.3,\"#f1b6da\"],[0.4,\"#fde0ef\"],[0.5,\"#f7f7f7\"],[0.6,\"#e6f5d0\"],[0.7,\"#b8e186\"],[0.8,\"#7fbc41\"],[0.9,\"#4d9221\"],[1,\"#276419\"]]},\"xaxis\":{\"gridcolor\":\"white\",\"linecolor\":\"white\",\"ticks\":\"\",\"title\":{\"standoff\":15},\"zerolinecolor\":\"white\",\"automargin\":true,\"zerolinewidth\":2},\"yaxis\":{\"gridcolor\":\"white\",\"linecolor\":\"white\",\"ticks\":\"\",\"title\":{\"standoff\":15},\"zerolinecolor\":\"white\",\"automargin\":true,\"zerolinewidth\":2},\"scene\":{\"xaxis\":{\"backgroundcolor\":\"#E5ECF6\",\"gridcolor\":\"white\",\"linecolor\":\"white\",\"showbackground\":true,\"ticks\":\"\",\"zerolinecolor\":\"white\",\"gridwidth\":2},\"yaxis\":{\"backgroundcolor\":\"#E5ECF6\",\"gridcolor\":\"white\",\"linecolor\":\"white\",\"showbackground\":true,\"ticks\":\"\",\"zerolinecolor\":\"white\",\"gridwidth\":2},\"zaxis\":{\"backgroundcolor\":\"#E5ECF6\",\"gridcolor\":\"white\",\"linecolor\":\"white\",\"showbackground\":true,\"ticks\":\"\",\"zerolinecolor\":\"white\",\"gridwidth\":2}},\"shapedefaults\":{\"line\":{\"color\":\"#2a3f5f\"}},\"annotationdefaults\":{\"arrowcolor\":\"#2a3f5f\",\"arrowhead\":0,\"arrowwidth\":1},\"geo\":{\"bgcolor\":\"white\",\"landcolor\":\"#E5ECF6\",\"subunitcolor\":\"white\",\"showland\":true,\"showlakes\":true,\"lakecolor\":\"white\"},\"title\":{\"x\":0.05},\"mapbox\":{\"style\":\"light\"}}},\"xaxis\":{\"anchor\":\"y\",\"domain\":[0.0,1.0],\"scaleanchor\":\"y\",\"constrain\":\"domain\"},\"yaxis\":{\"anchor\":\"x\",\"domain\":[0.0,1.0],\"autorange\":\"reversed\",\"constrain\":\"domain\"},\"coloraxis\":{\"colorscale\":[[0.0,\"#440154\"],[0.1111111111111111,\"#482878\"],[0.2222222222222222,\"#3e4989\"],[0.3333333333333333,\"#31688e\"],[0.4444444444444444,\"#26828e\"],[0.5555555555555556,\"#1f9e89\"],[0.6666666666666666,\"#35b779\"],[0.7777777777777778,\"#6ece58\"],[0.8888888888888888,\"#b5de2b\"],[1.0,\"#fde725\"]]},\"title\":{\"text\":\"Correlation Between Petrol Prices in Maharashtra and Delhi\"}},                        {\"responsive\": true}                    ).then(function(){\n",
       "                            \n",
       "var gd = document.getElementById('19ce32cf-a165-46b3-93e8-b6a49b852cd1');\n",
       "var x = new MutationObserver(function (mutations, observer) {{\n",
       "        var display = window.getComputedStyle(gd).display;\n",
       "        if (!display || display === 'none') {{\n",
       "            console.log([gd, 'removed!']);\n",
       "            Plotly.purge(gd);\n",
       "            observer.disconnect();\n",
       "        }}\n",
       "}});\n",
       "\n",
       "// Listen for the removal of the full notebook cells\n",
       "var notebookContainer = gd.closest('#notebook-container');\n",
       "if (notebookContainer) {{\n",
       "    x.observe(notebookContainer, {childList: true});\n",
       "}}\n",
       "\n",
       "// Listen for the clearing of the current output cell\n",
       "var outputEl = gd.closest('.output');\n",
       "if (outputEl) {{\n",
       "    x.observe(outputEl, {childList: true});\n",
       "}}\n",
       "\n",
       "                        })                };                });            </script>        </div>"
      ]
     },
     "metadata": {},
     "output_type": "display_data"
    }
   ],
   "source": [
    "correlation_data = df[['Maharashtra', 'Delhi']]\n",
    "\n",
    "correlation_matrix = correlation_data.corr()\n",
    "\n",
    "fig = px.imshow(correlation_matrix, x=correlation_data.columns, y=correlation_data.columns,\n",
    "                color_continuous_scale='Viridis', title='Correlation Between Petrol Prices in Maharashtra and Delhi')\n",
    "fig.show()"
   ]
  },
  {
   "cell_type": "markdown",
   "id": "2639b16d",
   "metadata": {
    "papermill": {
     "duration": 0.010559,
     "end_time": "2024-01-08T05:39:43.228387",
     "exception": false,
     "start_time": "2024-01-08T05:39:43.217828",
     "status": "completed"
    },
    "tags": []
   },
   "source": [
    "<div style=\"background-color: #3498db; padding: 30px; border-radius: 10px; box-shadow: 0 8px 12px rgba(0, 0, 0, 0.3); margin-top: 30px; text-align: center;\">\n",
    "    <h2 style=\"color: #ffffff; text-shadow: 2px 2px 4px rgba(0, 0, 0, 0.4); font-size: 1.5em; margin-bottom: 25px;\"><strong>Thank You for Exploring This Notebook! 😊If you enjoyed it and found value in the content, please consider giving it an Upvote.</strong></h2>\n",
    "</div>\n"
   ]
  }
 ],
 "metadata": {
  "kaggle": {
   "accelerator": "none",
   "dataSources": [
    {
     "datasetId": 4271543,
     "sourceId": 7354827,
     "sourceType": "datasetVersion"
    }
   ],
   "dockerImageVersionId": 30626,
   "isGpuEnabled": false,
   "isInternetEnabled": true,
   "language": "python",
   "sourceType": "notebook"
  },
  "kernelspec": {
   "display_name": "Python 3 (ipykernel)",
   "language": "python",
   "name": "python3"
  },
  "language_info": {
   "codemirror_mode": {
    "name": "ipython",
    "version": 3
   },
   "file_extension": ".py",
   "mimetype": "text/x-python",
   "name": "python",
   "nbconvert_exporter": "python",
   "pygments_lexer": "ipython3",
   "version": "3.11.4"
  },
  "papermill": {
   "default_parameters": {},
   "duration": 9.694975,
   "end_time": "2024-01-08T05:39:43.860163",
   "environment_variables": {},
   "exception": null,
   "input_path": "__notebook__.ipynb",
   "output_path": "__notebook__.ipynb",
   "parameters": {},
   "start_time": "2024-01-08T05:39:34.165188",
   "version": "2.4.0"
  }
 },
 "nbformat": 4,
 "nbformat_minor": 5
}
