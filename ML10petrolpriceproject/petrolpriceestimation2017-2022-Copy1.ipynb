{
 "cells": [
  {
   "cell_type": "code",
   "execution_count": null,
   "id": "d62b8674",
   "metadata": {},
   "outputs": [],
   "source": [
    "import pandas as pd \n",
    "import plotly.express as px"
   ]
  },
  {
   "cell_type": "code",
   "execution_count": null,
   "id": "12a8f3a6",
   "metadata": {},
   "outputs": [],
   "source": [
    "df = pd.read_csv('petrol_price.csv')"
   ]
  },
  {
   "cell_type": "code",
   "execution_count": null,
   "id": "e4d2337c",
   "metadata": {},
   "outputs": [],
   "source": [
    "df.sample(5)"
   ]
  },
  {
   "cell_type": "code",
   "execution_count": null,
   "id": "00d725c4",
   "metadata": {},
   "outputs": [],
   "source": [
    "df.info()"
   ]
  },
  {
   "cell_type": "code",
   "execution_count": null,
   "id": "ef050b4b",
   "metadata": {},
   "outputs": [],
   "source": [
    "df.describe()"
   ]
  },
  {
   "cell_type": "code",
   "execution_count": null,
   "id": "fc86b6f2",
   "metadata": {},
   "outputs": [],
   "source": [
    "average_prices = df.drop('date', axis=1).mean(axis=0).reset_index()\n",
    "average_prices.columns = ['State', 'Average Petrol Price']\n",
    "\n",
    "highest_avg_state = average_prices.loc[average_prices['Average Petrol Price'].idxmax(), 'State']\n",
    "\n",
    "# Plot the graph\n",
    "fig = px.bar(average_prices, x='State', y='Average Petrol Price', title='Average Petrol Price Over the Last 4 Years',\n",
    "             labels={'Average Petrol Price': 'Average Petrol Price (INR)'})\n",
    "fig.update_layout(annotations=[dict(x=highest_avg_state, y=average_prices['Average Petrol Price'].max(),\n",
    "                                     text=f'Highest Avg ({highest_avg_state})', showarrow=True, arrowhead=5,\n",
    "                                     ax=0, ay=-60, font=dict(size=18,color='red'))])\n",
    "fig.show()"
   ]
  },
  {
   "cell_type": "code",
   "execution_count": null,
   "id": "2cded8a8",
   "metadata": {},
   "outputs": [],
   "source": [
    "df_maharashtra_delhi = df[['date', 'Maharashtra', 'Delhi']]\n",
    "\n",
    "df_maharashtra_delhi = pd.melt(df_maharashtra_delhi, id_vars='date', var_name='State', value_name='Petrol Price')\n",
    "\n",
    "fig = px.line(df_maharashtra_delhi, x='date', y='Petrol Price', color='State',\n",
    "              title='Petrol Prices Comparison Between Maharashtra and Delhi',\n",
    "              labels={'Petrol Price': 'Petrol Price (INR)', 'date': 'Month'})\n",
    "fig.show()"
   ]
  },
  {
   "cell_type": "code",
   "execution_count": null,
   "id": "dfda8659",
   "metadata": {},
   "outputs": [],
   "source": [
    "fig1 = px.line(df, x='date', y=df.columns[1:], title='Petrol Prices Trend Over 5 Years')\n",
    "fig1.show()"
   ]
  },
  {
   "cell_type": "code",
   "execution_count": null,
   "id": "45263adc",
   "metadata": {},
   "outputs": [],
   "source": [
    "fig2 = px.box(df, x='date', y=df.columns[1:], title='Petrol Prices Comparison Among States')\n",
    "fig2.show()"
   ]
  },
  {
   "cell_type": "code",
   "execution_count": null,
   "id": "f5a79eba",
   "metadata": {},
   "outputs": [],
   "source": [
    "fig5 = px.scatter(df, x='date', y=df.columns[1:], title='State-specific Fluctuations in Petrol Prices',\n",
    "                  labels={'value': 'Petrol Price', 'date': 'Month'})\n",
    "fig5.show()"
   ]
  },
  {
   "cell_type": "code",
   "execution_count": null,
   "id": "2590d325",
   "metadata": {},
   "outputs": [],
   "source": [
    "numeric_columns = df.drop('date', axis=1)\n",
    "\n",
    "correlation_matrix = numeric_columns.corr()\n",
    "fig4 = px.imshow(correlation_matrix, x=numeric_columns.columns, y=numeric_columns.columns,\n",
    "                 color_continuous_scale='Viridis', title='Correlation Matrix of Petrol Prices Across States')\n",
    "fig4.show()"
   ]
  },
  {
   "cell_type": "code",
   "execution_count": null,
   "id": "95d17825",
   "metadata": {},
   "outputs": [],
   "source": [
    "variance_prices = df.drop('date', axis=1).var(axis=0).reset_index()\n",
    "variance_prices.columns = ['State', 'Petrol Price Variance']\n",
    "\n",
    "highest_var_state = variance_prices.loc[variance_prices['Petrol Price Variance'].idxmax(), 'State']\n",
    "\n",
    "fig = px.bar(variance_prices, x='State', y='Petrol Price Variance',\n",
    "             title='Petrol Price Variance Over the Last 4 Years',\n",
    "             labels={'Petrol Price Variance': 'Petrol Price Variance (INR^2)'})\n",
    "fig.update_layout(annotations=[dict(x=highest_var_state, y=variance_prices['Petrol Price Variance'].max(),\n",
    "                                    text=f'Highest Variance ({highest_var_state})', showarrow=True, arrowhead=4,\n",
    "                                    ax=0, ay=-60, font=dict(size=18, color='red')),\n",
    "                               ],\n",
    "                  showlegend=False) \n",
    "fig.show()"
   ]
  },
  {
   "cell_type": "code",
   "execution_count": null,
   "id": "36e317d9",
   "metadata": {},
   "outputs": [],
   "source": [
    "correlation_data = df[['Maharashtra', 'Delhi']]\n",
    "\n",
    "correlation_matrix = correlation_data.corr()\n",
    "\n",
    "fig = px.imshow(correlation_matrix, x=correlation_data.columns, y=correlation_data.columns,\n",
    "                color_continuous_scale='Viridis', title='Correlation Between Petrol Prices in Maharashtra and Delhi')\n",
    "fig.show()"
   ]
  },
  {
   "cell_type": "code",
   "execution_count": null,
   "id": "4519d1af",
   "metadata": {},
   "outputs": [],
   "source": []
  }
 ],
 "metadata": {
  "kernelspec": {
   "display_name": "cv2",
   "language": "python",
   "name": "cv"
  },
  "language_info": {
   "codemirror_mode": {
    "name": "ipython",
    "version": 3
   },
   "file_extension": ".py",
   "mimetype": "text/x-python",
   "name": "python",
   "nbconvert_exporter": "python",
   "pygments_lexer": "ipython3",
   "version": "3.10.13"
  }
 },
 "nbformat": 4,
 "nbformat_minor": 5
}
